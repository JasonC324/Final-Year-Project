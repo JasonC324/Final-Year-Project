{
 "cells": [
  {
   "cell_type": "markdown",
   "metadata": {},
   "source": [
    "# Training a reflectorch model"
   ]
  },
  {
   "cell_type": "markdown",
   "metadata": {},
   "source": [
    "First, we import the necessary methods from the `reflectorch` package, as well as other basic Python packages:"
   ]
  },
  {
   "cell_type": "code",
   "execution_count": 1,
   "metadata": {
    "tags": []
   },
   "outputs": [
    {
     "name": "stdout",
     "output_type": "stream",
     "text": [
      "['C:/Users/Owner/Desktop/cw/COMP60660/reflectorch', 'C:\\\\Program Files\\\\WindowsApps\\\\PythonSoftwareFoundation.Python.3.12_3.12.2544.0_x64__qbz5n2kfra8p0\\\\python312.zip', 'C:\\\\Program Files\\\\WindowsApps\\\\PythonSoftwareFoundation.Python.3.12_3.12.2544.0_x64__qbz5n2kfra8p0\\\\DLLs', 'C:\\\\Program Files\\\\WindowsApps\\\\PythonSoftwareFoundation.Python.3.12_3.12.2544.0_x64__qbz5n2kfra8p0\\\\Lib', 'C:\\\\Program Files\\\\WindowsApps\\\\PythonSoftwareFoundation.Python.3.12_3.12.2544.0_x64__qbz5n2kfra8p0', '', 'C:\\\\Users\\\\Owner\\\\AppData\\\\Local\\\\Packages\\\\PythonSoftwareFoundation.Python.3.12_qbz5n2kfra8p0\\\\LocalCache\\\\local-packages\\\\Python312\\\\site-packages', 'C:\\\\Users\\\\Owner\\\\AppData\\\\Local\\\\Packages\\\\PythonSoftwareFoundation.Python.3.12_qbz5n2kfra8p0\\\\LocalCache\\\\local-packages\\\\Python312\\\\site-packages\\\\win32', 'C:\\\\Users\\\\Owner\\\\AppData\\\\Local\\\\Packages\\\\PythonSoftwareFoundation.Python.3.12_qbz5n2kfra8p0\\\\LocalCache\\\\local-packages\\\\Python312\\\\site-packages\\\\win32\\\\lib', 'C:\\\\Users\\\\Owner\\\\AppData\\\\Local\\\\Packages\\\\PythonSoftwareFoundation.Python.3.12_qbz5n2kfra8p0\\\\LocalCache\\\\local-packages\\\\Python312\\\\site-packages\\\\Pythonwin', 'C:\\\\Program Files\\\\WindowsApps\\\\PythonSoftwareFoundation.Python.3.12_3.12.2544.0_x64__qbz5n2kfra8p0\\\\Lib\\\\site-packages']\n",
      "C:\\Users/Owner/Desktop/cw/COMP60660/reflectorch\\reflectorch\\__init__.py\n"
     ]
    }
   ],
   "source": [
    "import matplotlib.pyplot as plt\n",
    "import numpy as np\n",
    "import torch\n",
    "\n",
    "import sys\n",
    "sys.path.insert(0, r'C:/Users/Owner/Desktop/cw/COMP60660/reflectorch')\n",
    "print(sys.path)\n",
    "\n",
    "import reflectorch as reflectorch\n",
    "print(reflectorch.__file__)\n"
   ]
  },
  {
   "cell_type": "markdown",
   "metadata": {},
   "source": [
    ":::{tip}\n",
    ":class: dropdown\n",
    "\n",
    "Alternatively, we can import everything from reflectorch with\n",
    "`from reflectorch import *`\n",
    ":::"
   ]
  },
  {
   "cell_type": "markdown",
   "metadata": {
    "tags": []
   },
   "source": [
    "## The training loop"
   ]
  },
  {
   "cell_type": "markdown",
   "metadata": {},
   "source": [
    "### Loading the trainer"
   ]
  },
  {
   "cell_type": "markdown",
   "metadata": {},
   "source": [
    "For training a model we use the `Trainer` class, which contains all the components necessary for the training process such as the data generator, the neural network and the optimizer.\n",
    "\n",
    " We can initialize the trainer according to the specifications defined in a YAML configuration file using the `get_trainer_by_name` method which takes as input the name of the configuration file. If the package was installed in editable model, the configuration files are read from the `configs` directory located inside the repository, otherwise the path to the directory containing the configuration file should also be specified using the `config_dir` argument. The `load_weights` argument should be set to `False` since we want the neural network weights to be randomly initialized for a fresh training."
   ]
  },
  {
   "cell_type": "code",
   "execution_count": 4,
   "metadata": {
    "tags": []
   },
   "outputs": [
    {
     "name": "stdout",
     "output_type": "stream",
     "text": [
      "Model Test_v1 loaded. Number of parameters: 7.60 M\n"
     ]
    }
   ],
   "source": [
    "config_name = 'Test_v1'\n",
    "config_dir = \"./reflectorch/configs\"\n",
    "trainer = reflectorch.get_trainer_by_name(config_name,config_dir, load_weights=False)"
   ]
  },
  {
   "cell_type": "code",
   "execution_count": 5,
   "metadata": {},
   "outputs": [
    {
     "data": {
      "text/plain": [
       "ReflectivityDataLoader()"
      ]
     },
     "execution_count": 5,
     "metadata": {},
     "output_type": "execute_result"
    }
   ],
   "source": [
    "trainer.loader"
   ]
  },
  {
   "cell_type": "markdown",
   "metadata": {
    "tags": []
   },
   "source": [
    "The trainer contains several important attributes we can inspect:"
   ]
  },
  {
   "cell_type": "markdown",
   "metadata": {},
   "source": [
    "  1. The Pytorch optimizer. We can observe that the optimizer specified in the configuration is `AdamW`:"
   ]
  },
  {
   "cell_type": "code",
   "execution_count": 6,
   "metadata": {
    "tags": []
   },
   "outputs": [
    {
     "data": {
      "text/plain": [
       "AdamW (\n",
       "Parameter Group 0\n",
       "    amsgrad: False\n",
       "    betas: [0.9, 0.999]\n",
       "    capturable: False\n",
       "    differentiable: False\n",
       "    eps: 1e-08\n",
       "    foreach: None\n",
       "    fused: None\n",
       "    lr: 0.0005\n",
       "    maximize: False\n",
       "    weight_decay: 0.0005\n",
       ")"
      ]
     },
     "execution_count": 6,
     "metadata": {},
     "output_type": "execute_result"
    }
   ],
   "source": [
    "trainer.optim"
   ]
  },
  {
   "cell_type": "markdown",
   "metadata": {
    "tags": []
   },
   "source": [
    ":::{note}\n",
    "The learning rate can be easily changed using `trainer.set_lr(new_lr)`\n",
    ":::"
   ]
  },
  {
   "cell_type": "markdown",
   "metadata": {
    "tags": []
   },
   "source": [
    "  2. The batch size"
   ]
  },
  {
   "cell_type": "code",
   "execution_count": 7,
   "metadata": {
    "tags": []
   },
   "outputs": [
    {
     "data": {
      "text/plain": [
       "4096"
      ]
     },
     "execution_count": 7,
     "metadata": {},
     "output_type": "execute_result"
    }
   ],
   "source": [
    "trainer.batch_size"
   ]
  },
  {
   "cell_type": "markdown",
   "metadata": {},
   "source": [
    "  3. The Pytorch neural network module. We can see that the network is an instance of the class `NetworkWithPriors`. This architecture consists of a multilayer perceptron (MLP) with residual connections, batch normalization layers and GELU activations (`trainer.model.mlp`). An embedding network, here a 1D CNN (`trainer.model.embedding_net`), produces a latent embedding of the input batch of reflectivity curves which is concatenated with the prior bounds for the thin film parameters."
   ]
  },
  {
   "cell_type": "code",
   "execution_count": 8,
   "metadata": {
    "tags": [
     "scroll-output"
    ]
   },
   "outputs": [
    {
     "data": {
      "text/plain": [
       "NetworkWithPriorsConvEmb(\n",
       "  (embedding_net): ConvEncoder(\n",
       "    (core): Sequential(\n",
       "      (0): Sequential(\n",
       "        (0): Conv1d(1, 32, kernel_size=(3,), stride=(2,), padding=(1,))\n",
       "        (1): BatchNorm1d(32, eps=1e-05, momentum=0.1, affine=True, track_running_stats=True)\n",
       "        (2): GELU(approximate='none')\n",
       "      )\n",
       "      (1): Sequential(\n",
       "        (0): Conv1d(32, 64, kernel_size=(3,), stride=(2,), padding=(1,))\n",
       "        (1): BatchNorm1d(64, eps=1e-05, momentum=0.1, affine=True, track_running_stats=True)\n",
       "        (2): GELU(approximate='none')\n",
       "      )\n",
       "      (2): Sequential(\n",
       "        (0): Conv1d(64, 128, kernel_size=(3,), stride=(2,), padding=(1,))\n",
       "        (1): BatchNorm1d(128, eps=1e-05, momentum=0.1, affine=True, track_running_stats=True)\n",
       "        (2): GELU(approximate='none')\n",
       "      )\n",
       "      (3): Sequential(\n",
       "        (0): Conv1d(128, 256, kernel_size=(3,), stride=(2,), padding=(1,))\n",
       "        (1): BatchNorm1d(256, eps=1e-05, momentum=0.1, affine=True, track_running_stats=True)\n",
       "        (2): GELU(approximate='none')\n",
       "      )\n",
       "      (4): Sequential(\n",
       "        (0): Conv1d(256, 512, kernel_size=(3,), stride=(2,), padding=(1,))\n",
       "        (1): BatchNorm1d(512, eps=1e-05, momentum=0.1, affine=True, track_running_stats=True)\n",
       "        (2): GELU(approximate='none')\n",
       "      )\n",
       "      (5): Sequential(\n",
       "        (0): Conv1d(512, 1024, kernel_size=(3,), stride=(2,), padding=(1,))\n",
       "        (1): BatchNorm1d(1024, eps=1e-05, momentum=0.1, affine=True, track_running_stats=True)\n",
       "        (2): GELU(approximate='none')\n",
       "      )\n",
       "    )\n",
       "    (avpool): AdaptiveAvgPool1d(output_size=1)\n",
       "    (fc): Linear(in_features=1024, out_features=128, bias=True)\n",
       "  )\n",
       "  (mlp): ResidualMLP(\n",
       "    (first_layer): Linear(in_features=162, out_features=512, bias=True)\n",
       "    (blocks): ModuleList(\n",
       "      (0-9): 10 x ResidualBlock(\n",
       "        (activation): GELU(approximate='none')\n",
       "        (batch_norm_layers): ModuleList(\n",
       "          (0-1): 2 x BatchNorm1d(512, eps=0.001, momentum=0.1, affine=True, track_running_stats=True)\n",
       "        )\n",
       "        (linear_layers): ModuleList(\n",
       "          (0-1): 2 x Linear(in_features=512, out_features=512, bias=True)\n",
       "        )\n",
       "      )\n",
       "    )\n",
       "    (last_layer): Linear(in_features=512, out_features=17, bias=True)\n",
       "  )\n",
       ")"
      ]
     },
     "execution_count": 8,
     "metadata": {},
     "output_type": "execute_result"
    }
   ],
   "source": [
    "trainer.model"
   ]
  },
  {
   "cell_type": "code",
   "execution_count": 9,
   "metadata": {},
   "outputs": [],
   "source": [
    "simulated_data = trainer.loader.get_batch(batch_size=64)"
   ]
  },
  {
   "cell_type": "markdown",
   "metadata": {},
   "source": [
    "### Defining callbacks"
   ]
  },
  {
   "cell_type": "markdown",
   "metadata": {},
   "source": [
    "We can control the training process using callback objects, such as:"
   ]
  },
  {
   "cell_type": "markdown",
   "metadata": {},
   "source": [
    "  1. `JPlotLoss` - allows the interactive visualization of the loss curve when training inside a Jupyter Notebook, the `frequency` argument setting the refresh rate of the interactive widget"
   ]
  },
  {
   "cell_type": "markdown",
   "metadata": {},
   "source": [
    "  2. `StepLR` - implements a learning rate scheduler which decreases the learning rate in steps (after a number of iterations defined by `step_size` the learning rate is multiplied by the factor `gamma`). Other types of learning rate schedulers can alternatively be used, such as `CosineAnnealingWithWarmup`, `LogCyclicLR`, `OneCycleLR` or `ReduceLROnPlateau`."
   ]
  },
  {
   "cell_type": "markdown",
   "metadata": {},
   "source": [
    "  3. `SaveBestModel` - it enables the periodic saving of the weights of the neural network during training. After a number of iterations defined by the `freq` argument, the weights of the neural network are saved at the specified `path` if the current average loss (computed over the last `average` iterations) is lower than the loss for the previous save. The history of the losses and learning rate values is also saved."
   ]
  },
  {
   "cell_type": "markdown",
   "metadata": {},
   "source": [
    "When the package is installed in editable mode, the default save path is relative to the repository directory (defined by the global variable `SAVED_MODELS_DIR`). "
   ]
  },
  {
   "cell_type": "code",
   "execution_count": 11,
   "metadata": {
    "tags": []
   },
   "outputs": [
    {
     "name": "stdout",
     "output_type": "stream",
     "text": [
      "C:/Users/Owner/Desktop/cw/COMP60660/reflectorch/model_Test_v1.pt\n"
     ]
    }
   ],
   "source": [
    "save_model_name = 'model_' + config_name + '.pt'\n",
    "#save_path = str(SAVED_MODELS_DIR / save_model_name)\n",
    "save_path = 'C:/Users/Owner/Desktop/cw/COMP60660/reflectorch/'+save_model_name\n",
    "print(save_path)"
   ]
  },
  {
   "cell_type": "code",
   "execution_count": 10,
   "metadata": {},
   "outputs": [],
   "source": [
    "callbacks = reflectorch.get_callbacks_by_name(config_name)"
   ]
  },
  {
   "cell_type": "markdown",
   "metadata": {},
   "source": [
    "We group the callback objects together in a touple:"
   ]
  },
  {
   "cell_type": "code",
   "execution_count": 135,
   "metadata": {
    "tags": []
   },
   "outputs": [
    {
     "ename": "NameError",
     "evalue": "name 'JPlotLoss' is not defined",
     "output_type": "error",
     "traceback": [
      "\u001b[1;31m---------------------------------------------------------------------------\u001b[0m",
      "\u001b[1;31mNameError\u001b[0m                                 Traceback (most recent call last)",
      "Cell \u001b[1;32mIn[135], line 2\u001b[0m\n\u001b[0;32m      1\u001b[0m callbacks \u001b[38;5;241m=\u001b[39m (\n\u001b[1;32m----> 2\u001b[0m     \u001b[43mJPlotLoss\u001b[49m(frequency\u001b[38;5;241m=\u001b[39m\u001b[38;5;241m10\u001b[39m), \n\u001b[0;32m      3\u001b[0m     StepLR(step_size\u001b[38;5;241m=\u001b[39m\u001b[38;5;241m5000\u001b[39m, gamma\u001b[38;5;241m=\u001b[39m\u001b[38;5;241m0.5\u001b[39m), \n\u001b[0;32m      4\u001b[0m     SaveBestModel(path\u001b[38;5;241m=\u001b[39msave_path, freq\u001b[38;5;241m=\u001b[39m\u001b[38;5;241m100\u001b[39m, average\u001b[38;5;241m=\u001b[39m\u001b[38;5;241m10\u001b[39m),\n\u001b[0;32m      5\u001b[0m )\n",
      "\u001b[1;31mNameError\u001b[0m: name 'JPlotLoss' is not defined"
     ]
    }
   ],
   "source": [
    "callbacks = (\n",
    "    JPlotLoss(frequency=10), \n",
    "    StepLR(step_size=5000, gamma=0.5), \n",
    "    SaveBestModel(path=save_path, freq=100, average=10),\n",
    ")"
   ]
  },
  {
   "cell_type": "markdown",
   "metadata": {},
   "source": [
    ":::{note}\n",
    "The callbacks can also be initialized directly from the configuration file:\n",
    "`callbacks = get_callbacks_by_name(config_name)`\n",
    ":::"
   ]
  },
  {
   "cell_type": "markdown",
   "metadata": {},
   "source": [
    "### Run the training"
   ]
  },
  {
   "cell_type": "markdown",
   "metadata": {
    "tags": []
   },
   "source": [
    "The training process is initiated by calling the `train` method of the trainer. This method accepts as arguments the previously defined tuple of callbacks, as well as the number of iterations (batches). Notably, a new batch of data is generated at each iteration, the training taking place in a \"one-epoch regime\"."
   ]
  },
  {
   "cell_type": "markdown",
   "metadata": {},
   "source": [
    "```python\n",
    "trainer.train(num_batches=1000, callbacks=callbacks)\n",
    "```"
   ]
  },
  {
   "cell_type": "markdown",
   "metadata": {},
   "source": [
    "After training, the history of the losses and learning rates can be accessed via `trainer.losses` and `trainer.lrs`. We can also find them together with the model state_dict in the saved dictionary:"
   ]
  },
  {
   "cell_type": "code",
   "execution_count": 12,
   "metadata": {},
   "outputs": [
    {
     "name": "stderr",
     "output_type": "stream",
     "text": [
      "Loss = 1.40e-01: 100%|█████████████████████████████████| 3000/3000 [5:18:39<00:00,  6.37s/it, loss=0.1403, lr=3.13e-05]\n"
     ]
    }
   ],
   "source": [
    "trainer.train(num_batches=3000, callbacks=callbacks)"
   ]
  },
  {
   "cell_type": "code",
   "execution_count": 14,
   "metadata": {},
   "outputs": [],
   "source": [
    "from safetensors.torch import save_file\n",
    "\n",
    "torch.save(trainer.model.state_dict(), \"C:/Users/Owner/Desktop/cw/COMP60660/reflectorch/saved_models/Test_v1_model.pt\")\n",
    "save_file(trainer.model.state_dict(), \"C:/Users/Owner/Desktop/cw/COMP60660/reflectorch/saved_models/Test_v1_model.safetensors\")"
   ]
  },
  {
   "cell_type": "code",
   "execution_count": 6,
   "metadata": {},
   "outputs": [],
   "source": [
    "batch_size = 64\n",
    "simulated_data = trainer.loader.get_batch(batch_size=batch_size)"
   ]
  },
  {
   "cell_type": "code",
   "execution_count": 20,
   "metadata": {},
   "outputs": [
    {
     "name": "stdout",
     "output_type": "stream",
     "text": [
      "Model b_mc_point_xray_conv_standard_L2_InputQ loaded. Number of parameters: 5.02 M\n"
     ]
    },
    {
     "name": "stderr",
     "output_type": "stream",
     "text": [
      "Loss = 7.54e-02: 100%|███████████████████████████████████| 1000/1000 [03:44<00:00,  4.46it/s, loss=0.0750, lr=1.00e-03]\n"
     ]
    }
   ],
   "source": [
    "config_name = 'b_mc_point_xray_conv_standard_L2_InputQ'\n",
    "config_dir = \"./reflectorch/configs\"\n",
    "trainer = reflectorch.get_trainer_by_name(config_name,config_dir, load_weights=False)\n",
    "simulated_data = trainer.loader.get_batch(batch_size=64)\n",
    "callbacks = reflectorch.get_callbacks_by_name(config_name)\n",
    "trainer.train(num_batches=1000, callbacks=callbacks)"
   ]
  },
  {
   "cell_type": "code",
   "execution_count": 28,
   "metadata": {},
   "outputs": [
    {
     "name": "stdout",
     "output_type": "stream",
     "text": [
      "Model b_mc_point_xray_conv_standard_L2_InputQ loaded. Number of parameters: 5.02 M\n"
     ]
    }
   ],
   "source": [
    "config_name = 'b_mc_point_xray_conv_standard_L2_InputQ'\n",
    "config_dir = \"./reflectorch/configs\"\n",
    "trainer = reflectorch.get_trainer_by_name(config_name,config_dir, load_weights=False)\n",
    "callbacks = reflectorch.get_callbacks_by_name(config_name)\n",
    "simulated_data = trainer.loader.get_batch(batch_size=64)"
   ]
  },
  {
   "cell_type": "code",
   "execution_count": 33,
   "metadata": {},
   "outputs": [
    {
     "name": "stdout",
     "output_type": "stream",
     "text": [
      "torch.Size([64, 2])\n",
      "torch.Size([64, 3])\n",
      "torch.Size([64, 3])\n"
     ]
    }
   ],
   "source": [
    "print(simulated_data['params'].thicknesses.shape)\n",
    "print(simulated_data['params'].roughnesses.shape)\n",
    "print(simulated_data['params'].slds.shape)"
   ]
  },
  {
   "cell_type": "markdown",
   "metadata": {},
   "source": [
    "UIOWQHIUPDUIADHUIWDHUIAWDHUIWDHIUAWIDUHHWUIDHUIAWDUHAIWDIU\n"
   ]
  },
  {
   "cell_type": "code",
   "execution_count": 2,
   "metadata": {},
   "outputs": [
    {
     "name": "stdout",
     "output_type": "stream",
     "text": [
      "C:/Users/Owner/Desktop/cw/COMP60660/reflectorch/Training_data/Pt_Co_Ta_x2_ML_training_data_500k_pickle\n",
      "Index(['Sample_structure', 'Thicknesses (Å)', 'SLDs (Å-2)', 'Roughnesses (Å)',\n",
      "       'tth (deg)', 'Q (Å-1)', 'Intensity', 'Background'],\n",
      "      dtype='string')\n",
      "Sample_structure    Si1O2/[Ta(52.498842)/Co(8.285968)/Pt(95.427489)]2\n",
      "Thicknesses (Å)     [inf, 52.4988, 8.28597, 95.4275, 52.4988, 8.28...\n",
      "SLDs (Å-2)          [(2.2723742167812018e-05+2.9357827346307825e-0...\n",
      "Roughnesses (Å)     [23.476519431308986, 7.757601461578746, 3.5128...\n",
      "tth (deg)           [[0.0], [0.01335559265442404], [0.026711185308...\n",
      "Q (Å-1)             [[0.0], [0.0009506758886771876], [0.0019013517...\n",
      "Intensity           [[1.0000078276848876], [0.9975697109330335], [...\n",
      "Background                                                   0.000008\n",
      "Name: 0, dtype: object\n",
      "0.0\n",
      "60.0\n",
      "22.723742\n",
      "170.60991\n",
      "(499500, 12)\n",
      "0.0\n",
      "60.0\n",
      "22.723742\n",
      "156.77156\n",
      "(500, 12)\n"
     ]
    }
   ],
   "source": [
    "from load_training_data import load_scale_data\n",
    "\n",
    "layer_repeats_setter = 2\n",
    "training_data,testing_data = load_scale_data(r\"C:/Users/Owner/Desktop/cw/COMP60660/reflectorch/Training_data/Pt_Co_Ta_x2_ML_training_data_500k_pickle\"\n",
    "                                            ,train_split = 0.999,layer_repeats = layer_repeats_setter)\n",
    "(curves, curves_scaled, params, params_scaled, q_values, q_values_scaled, num_layers,scaled_bounds, bounds) = training_data"
   ]
  },
  {
   "cell_type": "code",
   "execution_count": 3,
   "metadata": {},
   "outputs": [
    {
     "name": "stdout",
     "output_type": "stream",
     "text": [
      "torch.Size([499500, 600])\n",
      "torch.Size([499500, 12])\n",
      "(499500, 600)\n",
      "[-1.         -0.99665839 -0.99331678 -0.98997516 -0.98663355]\n",
      "[8.61381000e+01 2.91234000e+01 7.31671000e+00 1.79602591e+01\n",
      " 1.14303105e+01 5.44438243e+00 2.10232581e+00 2.27237415e+01\n",
      " 1.02221703e+02 6.41850891e+01 1.39996902e+02 3.45716145e-06]\n"
     ]
    }
   ],
   "source": [
    "print(curves_scaled.shape)\n",
    "print(params_scaled.shape)\n",
    "print(q_values_scaled.shape)\n",
    "print(q_values_scaled[0][:5])\n",
    "print(params[0])"
   ]
  },
  {
   "cell_type": "code",
   "execution_count": 6,
   "metadata": {},
   "outputs": [
    {
     "name": "stdout",
     "output_type": "stream",
     "text": [
      "scaled min: -1.0 scaled max: 1.0\n"
     ]
    }
   ],
   "source": [
    "print(\"scaled min:\", scaled_bounds.min().item(), \"scaled max:\", scaled_bounds.max().item())"
   ]
  },
  {
   "cell_type": "code",
   "execution_count": 7,
   "metadata": {},
   "outputs": [],
   "source": [
    "import importlib\n",
    "\n",
    "from reflectorch.data_generation.InputPreMadeDataset import InputPreMadeDataset\n",
    "importlib.reload(reflectorch.data_generation.InputPreMadeDataset)\n",
    "dataset = InputPreMadeDataset(q_values_scaled,curves, curves_scaled, params, params_scaled,scaled_bounds)\n",
    "\n",
    "\n",
    "from reflectorch.ml.dataloaders import ReflectivityDataLoader\n",
    "from reflectorch.ml.basic_trainer import DataLoader\n",
    "#from reflectorch.ml.basic_trainer import _StackedTrainerCallbacks\n",
    "\n",
    "#dataloader = ReflectivityDataLoader(dataset, DataLoader)"
   ]
  },
  {
   "cell_type": "code",
   "execution_count": 16,
   "metadata": {},
   "outputs": [
    {
     "ename": "RuntimeError",
     "evalue": "CUDA error: device-side assert triggered\nCUDA kernel errors might be asynchronously reported at some other API call, so the stacktrace below might be incorrect.\nFor debugging consider passing CUDA_LAUNCH_BLOCKING=1\nCompile with `TORCH_USE_CUDA_DSA` to enable device-side assertions.\n",
     "output_type": "error",
     "traceback": [
      "\u001b[1;31m---------------------------------------------------------------------------\u001b[0m",
      "\u001b[1;31mRuntimeError\u001b[0m                              Traceback (most recent call last)",
      "Cell \u001b[1;32mIn[16], line 3\u001b[0m\n\u001b[0;32m      1\u001b[0m config_name \u001b[38;5;241m=\u001b[39m \u001b[38;5;124m'\u001b[39m\u001b[38;5;124mTest_v1\u001b[39m\u001b[38;5;124m'\u001b[39m\n\u001b[0;32m      2\u001b[0m config_dir \u001b[38;5;241m=\u001b[39m \u001b[38;5;124m\"\u001b[39m\u001b[38;5;124m./reflectorch/configs\u001b[39m\u001b[38;5;124m\"\u001b[39m\n\u001b[1;32m----> 3\u001b[0m trainer \u001b[38;5;241m=\u001b[39m \u001b[43mreflectorch\u001b[49m\u001b[38;5;241;43m.\u001b[39;49m\u001b[43mget_trainer_by_name\u001b[49m\u001b[43m(\u001b[49m\u001b[43mconfig_name\u001b[49m\u001b[43m,\u001b[49m\u001b[43mconfig_dir\u001b[49m\u001b[43m,\u001b[49m\u001b[43m \u001b[49m\u001b[43mload_weights\u001b[49m\u001b[38;5;241;43m=\u001b[39;49m\u001b[38;5;28;43;01mFalse\u001b[39;49;00m\u001b[43m)\u001b[49m\n\u001b[0;32m      4\u001b[0m trainer\n",
      "File \u001b[1;32mC:\\Users/Owner/Desktop/cw/COMP60660/reflectorch\\reflectorch\\runs\\utils.py:207\u001b[0m, in \u001b[0;36mget_trainer_by_name\u001b[1;34m(config_name, config_dir, model_path, load_weights, inference_device)\u001b[0m\n\u001b[0;32m    204\u001b[0m config[\u001b[38;5;124m'\u001b[39m\u001b[38;5;124mdset\u001b[39m\u001b[38;5;124m'\u001b[39m][\u001b[38;5;124m'\u001b[39m\u001b[38;5;124mprior_sampler\u001b[39m\u001b[38;5;124m'\u001b[39m][\u001b[38;5;124m'\u001b[39m\u001b[38;5;124mkwargs\u001b[39m\u001b[38;5;124m'\u001b[39m][\u001b[38;5;124m'\u001b[39m\u001b[38;5;124mdevice\u001b[39m\u001b[38;5;124m'\u001b[39m] \u001b[38;5;241m=\u001b[39m inference_device\n\u001b[0;32m    205\u001b[0m config[\u001b[38;5;124m'\u001b[39m\u001b[38;5;124mdset\u001b[39m\u001b[38;5;124m'\u001b[39m][\u001b[38;5;124m'\u001b[39m\u001b[38;5;124mq_generator\u001b[39m\u001b[38;5;124m'\u001b[39m][\u001b[38;5;124m'\u001b[39m\u001b[38;5;124mkwargs\u001b[39m\u001b[38;5;124m'\u001b[39m][\u001b[38;5;124m'\u001b[39m\u001b[38;5;124mdevice\u001b[39m\u001b[38;5;124m'\u001b[39m] \u001b[38;5;241m=\u001b[39m inference_device\n\u001b[1;32m--> 207\u001b[0m trainer \u001b[38;5;241m=\u001b[39m \u001b[43mget_trainer_from_config\u001b[49m\u001b[43m(\u001b[49m\u001b[43mconfig\u001b[49m\u001b[43m)\u001b[49m\n\u001b[0;32m    209\u001b[0m num_params \u001b[38;5;241m=\u001b[39m \u001b[38;5;28msum\u001b[39m(p\u001b[38;5;241m.\u001b[39mnumel() \u001b[38;5;28;01mfor\u001b[39;00m p \u001b[38;5;129;01min\u001b[39;00m trainer\u001b[38;5;241m.\u001b[39mmodel\u001b[38;5;241m.\u001b[39mparameters())\n\u001b[0;32m    211\u001b[0m \u001b[38;5;28mprint\u001b[39m(\n\u001b[0;32m    212\u001b[0m     \u001b[38;5;124mf\u001b[39m\u001b[38;5;124m'\u001b[39m\u001b[38;5;124mModel \u001b[39m\u001b[38;5;132;01m{\u001b[39;00mconfig_name\u001b[38;5;132;01m}\u001b[39;00m\u001b[38;5;124m loaded. Number of parameters: \u001b[39m\u001b[38;5;132;01m{\u001b[39;00mnum_params\u001b[38;5;250m \u001b[39m\u001b[38;5;241m/\u001b[39m\u001b[38;5;250m \u001b[39m\u001b[38;5;241m10\u001b[39m\u001b[38;5;250m \u001b[39m\u001b[38;5;241m*\u001b[39m\u001b[38;5;241m*\u001b[39m\u001b[38;5;250m \u001b[39m\u001b[38;5;241m6\u001b[39m\u001b[38;5;132;01m:\u001b[39;00m\u001b[38;5;124m.2f\u001b[39m\u001b[38;5;132;01m}\u001b[39;00m\u001b[38;5;124m M\u001b[39m\u001b[38;5;124m'\u001b[39m,\n\u001b[0;32m    213\u001b[0m )\n",
      "File \u001b[1;32mC:\\Users/Owner/Desktop/cw/COMP60660/reflectorch\\reflectorch\\runs\\utils.py:155\u001b[0m, in \u001b[0;36mget_trainer_from_config\u001b[1;34m(config, folder_paths)\u001b[0m\n\u001b[0;32m    145\u001b[0m \u001b[38;5;28;01mdef\u001b[39;00m \u001b[38;5;21mget_trainer_from_config\u001b[39m(config: \u001b[38;5;28mdict\u001b[39m, folder_paths: \u001b[38;5;28mdict\u001b[39m \u001b[38;5;241m=\u001b[39m \u001b[38;5;28;01mNone\u001b[39;00m):\n\u001b[0;32m    146\u001b[0m \u001b[38;5;250m    \u001b[39m\u001b[38;5;124;03m\"\"\"Initializes a trainer from a configuration dictionary\u001b[39;00m\n\u001b[0;32m    147\u001b[0m \n\u001b[0;32m    148\u001b[0m \u001b[38;5;124;03m    Args:\u001b[39;00m\n\u001b[1;32m   (...)\u001b[0m\n\u001b[0;32m    153\u001b[0m \u001b[38;5;124;03m        Trainer: the trainer object\u001b[39;00m\n\u001b[0;32m    154\u001b[0m \u001b[38;5;124;03m    \"\"\"\u001b[39;00m\n\u001b[1;32m--> 155\u001b[0m     dset \u001b[38;5;241m=\u001b[39m \u001b[43minit_dset\u001b[49m\u001b[43m(\u001b[49m\u001b[43mconfig\u001b[49m\u001b[43m[\u001b[49m\u001b[38;5;124;43m'\u001b[39;49m\u001b[38;5;124;43mdset\u001b[39;49m\u001b[38;5;124;43m'\u001b[39;49m\u001b[43m]\u001b[49m\u001b[43m)\u001b[49m\n\u001b[0;32m    157\u001b[0m     folder_paths \u001b[38;5;241m=\u001b[39m folder_paths \u001b[38;5;129;01mor\u001b[39;00m get_paths_from_config(config)\n\u001b[0;32m    159\u001b[0m     model \u001b[38;5;241m=\u001b[39m init_network(config[\u001b[38;5;124m'\u001b[39m\u001b[38;5;124mmodel\u001b[39m\u001b[38;5;124m'\u001b[39m][\u001b[38;5;124m'\u001b[39m\u001b[38;5;124mnetwork\u001b[39m\u001b[38;5;124m'\u001b[39m], folder_paths[\u001b[38;5;124m'\u001b[39m\u001b[38;5;124msaved_models\u001b[39m\u001b[38;5;124m'\u001b[39m])\n",
      "File \u001b[1;32mC:\\Users/Owner/Desktop/cw/COMP60660/reflectorch\\reflectorch\\runs\\utils.py:298\u001b[0m, in \u001b[0;36minit_dset\u001b[1;34m(config)\u001b[0m\n\u001b[0;32m    296\u001b[0m \u001b[38;5;250m\u001b[39m\u001b[38;5;124;03m\"\"\"Initializes the dataset / dataloader object\"\"\"\u001b[39;00m\n\u001b[0;32m    297\u001b[0m dset_cls \u001b[38;5;241m=\u001b[39m \u001b[38;5;28mglobals\u001b[39m()\u001b[38;5;241m.\u001b[39mget(config[\u001b[38;5;124m'\u001b[39m\u001b[38;5;124mcls\u001b[39m\u001b[38;5;124m'\u001b[39m]) \u001b[38;5;28;01mif\u001b[39;00m \u001b[38;5;124m'\u001b[39m\u001b[38;5;124mcls\u001b[39m\u001b[38;5;124m'\u001b[39m \u001b[38;5;129;01min\u001b[39;00m config \u001b[38;5;28;01melse\u001b[39;00m ReflectivityDataLoader\n\u001b[1;32m--> 298\u001b[0m prior_sampler \u001b[38;5;241m=\u001b[39m \u001b[43minit_from_conf\u001b[49m\u001b[43m(\u001b[49m\u001b[43mconfig\u001b[49m\u001b[43m[\u001b[49m\u001b[38;5;124;43m'\u001b[39;49m\u001b[38;5;124;43mprior_sampler\u001b[39;49m\u001b[38;5;124;43m'\u001b[39;49m\u001b[43m]\u001b[49m\u001b[43m)\u001b[49m\n\u001b[0;32m    299\u001b[0m intensity_noise \u001b[38;5;241m=\u001b[39m init_from_conf(config[\u001b[38;5;124m'\u001b[39m\u001b[38;5;124mintensity_noise\u001b[39m\u001b[38;5;124m'\u001b[39m])\n\u001b[0;32m    300\u001b[0m q_generator \u001b[38;5;241m=\u001b[39m init_from_conf(config[\u001b[38;5;124m'\u001b[39m\u001b[38;5;124mq_generator\u001b[39m\u001b[38;5;124m'\u001b[39m])\n",
      "File \u001b[1;32mC:\\Users/Owner/Desktop/cw/COMP60660/reflectorch\\reflectorch\\runs\\utils.py:44\u001b[0m, in \u001b[0;36minit_from_conf\u001b[1;34m(conf, **kwargs)\u001b[0m\n\u001b[0;32m     42\u001b[0m conf_kwargs \u001b[38;5;241m=\u001b[39m conf\u001b[38;5;241m.\u001b[39mget(\u001b[38;5;124m'\u001b[39m\u001b[38;5;124mkwargs\u001b[39m\u001b[38;5;124m'\u001b[39m, {})\n\u001b[0;32m     43\u001b[0m conf_kwargs\u001b[38;5;241m.\u001b[39mupdate(kwargs)\n\u001b[1;32m---> 44\u001b[0m \u001b[38;5;28;01mreturn\u001b[39;00m \u001b[38;5;28;43mcls\u001b[39;49m\u001b[43m(\u001b[49m\u001b[38;5;241;43m*\u001b[39;49m\u001b[43mconf_args\u001b[49m\u001b[43m,\u001b[49m\u001b[43m \u001b[49m\u001b[38;5;241;43m*\u001b[39;49m\u001b[38;5;241;43m*\u001b[39;49m\u001b[43mconf_kwargs\u001b[49m\u001b[43m)\u001b[49m\n",
      "File \u001b[1;32mC:\\Users/Owner/Desktop/cw/COMP60660/reflectorch\\reflectorch\\data_generation\\priors\\parametric_subpriors.py:238\u001b[0m, in \u001b[0;36mSubpriorParametricSampler.__init__\u001b[1;34m(self, param_ranges, bound_width_ranges, model_name, device, dtype, max_num_layers, logdist, scale_params_by_ranges, scaled_range, **kwargs)\u001b[0m\n\u001b[0;32m    235\u001b[0m \u001b[38;5;28mself\u001b[39m\u001b[38;5;241m.\u001b[39mPARAM_CLS\u001b[38;5;241m.\u001b[39mMAX_NUM_LAYERS \u001b[38;5;241m=\u001b[39m max_num_layers\n\u001b[0;32m    237\u001b[0m \u001b[38;5;28mself\u001b[39m\u001b[38;5;241m.\u001b[39m_param_dim \u001b[38;5;241m=\u001b[39m \u001b[38;5;28mself\u001b[39m\u001b[38;5;241m.\u001b[39mparam_model\u001b[38;5;241m.\u001b[39mparam_dim\n\u001b[1;32m--> 238\u001b[0m \u001b[38;5;28mself\u001b[39m\u001b[38;5;241m.\u001b[39mmin_bounds, \u001b[38;5;28mself\u001b[39m\u001b[38;5;241m.\u001b[39mmax_bounds, \u001b[38;5;28mself\u001b[39m\u001b[38;5;241m.\u001b[39mmin_delta, \u001b[38;5;28mself\u001b[39m\u001b[38;5;241m.\u001b[39mmax_delta \u001b[38;5;241m=\u001b[39m \u001b[38;5;28;43mself\u001b[39;49m\u001b[38;5;241;43m.\u001b[39;49m\u001b[43mparam_model\u001b[49m\u001b[38;5;241;43m.\u001b[39;49m\u001b[43minit_bounds\u001b[49m\u001b[43m(\u001b[49m\n\u001b[0;32m    239\u001b[0m \u001b[43m    \u001b[49m\u001b[43mparam_ranges\u001b[49m\u001b[43m,\u001b[49m\u001b[43m \u001b[49m\u001b[43mbound_width_ranges\u001b[49m\u001b[43m,\u001b[49m\u001b[43m \u001b[49m\u001b[43mdevice\u001b[49m\u001b[38;5;241;43m=\u001b[39;49m\u001b[43mdevice\u001b[49m\u001b[43m,\u001b[49m\u001b[43m \u001b[49m\u001b[43mdtype\u001b[49m\u001b[38;5;241;43m=\u001b[39;49m\u001b[43mdtype\u001b[49m\n\u001b[0;32m    240\u001b[0m \u001b[43m\u001b[49m\u001b[43m)\u001b[49m\n\u001b[0;32m    242\u001b[0m \u001b[38;5;28mself\u001b[39m\u001b[38;5;241m.\u001b[39mparam_ranges \u001b[38;5;241m=\u001b[39m param_ranges\n\u001b[0;32m    243\u001b[0m \u001b[38;5;28mself\u001b[39m\u001b[38;5;241m.\u001b[39mbound_width_ranges \u001b[38;5;241m=\u001b[39m bound_width_ranges\n",
      "File \u001b[1;32mC:\\Users/Owner/Desktop/cw/COMP60660/reflectorch\\reflectorch\\data_generation\\priors\\parametric_models.py:103\u001b[0m, in \u001b[0;36mParametricModel.init_bounds\u001b[1;34m(self, param_ranges, bound_width_ranges, device, dtype)\u001b[0m\n\u001b[0;32m    100\u001b[0m ordered_bounds \u001b[38;5;241m=\u001b[39m [param_ranges[k] \u001b[38;5;28;01mfor\u001b[39;00m k \u001b[38;5;129;01min\u001b[39;00m \u001b[38;5;28mself\u001b[39m\u001b[38;5;241m.\u001b[39mPARAMETER_NAMES]\n\u001b[0;32m    101\u001b[0m delta_bounds \u001b[38;5;241m=\u001b[39m [bound_width_ranges[k] \u001b[38;5;28;01mfor\u001b[39;00m k \u001b[38;5;129;01min\u001b[39;00m \u001b[38;5;28mself\u001b[39m\u001b[38;5;241m.\u001b[39mPARAMETER_NAMES]\n\u001b[1;32m--> 103\u001b[0m min_bounds, max_bounds \u001b[38;5;241m=\u001b[39m \u001b[43mtorch\u001b[49m\u001b[38;5;241;43m.\u001b[39;49m\u001b[43mtensor\u001b[49m\u001b[43m(\u001b[49m\u001b[43mordered_bounds\u001b[49m\u001b[43m,\u001b[49m\u001b[43m \u001b[49m\u001b[43mdevice\u001b[49m\u001b[38;5;241;43m=\u001b[39;49m\u001b[43mdevice\u001b[49m\u001b[43m,\u001b[49m\u001b[43m \u001b[49m\u001b[43mdtype\u001b[49m\u001b[38;5;241;43m=\u001b[39;49m\u001b[43mdtype\u001b[49m\u001b[43m)\u001b[49m\u001b[38;5;241m.\u001b[39mT[:, \u001b[38;5;28;01mNone\u001b[39;00m]\n\u001b[0;32m    104\u001b[0m min_deltas, max_deltas \u001b[38;5;241m=\u001b[39m torch\u001b[38;5;241m.\u001b[39mtensor(delta_bounds, device\u001b[38;5;241m=\u001b[39mdevice, dtype\u001b[38;5;241m=\u001b[39mdtype)\u001b[38;5;241m.\u001b[39mT[:, \u001b[38;5;28;01mNone\u001b[39;00m]\n\u001b[0;32m    106\u001b[0m \u001b[38;5;28;01mreturn\u001b[39;00m min_bounds, max_bounds, min_deltas, max_deltas\n",
      "\u001b[1;31mRuntimeError\u001b[0m: CUDA error: device-side assert triggered\nCUDA kernel errors might be asynchronously reported at some other API call, so the stacktrace below might be incorrect.\nFor debugging consider passing CUDA_LAUNCH_BLOCKING=1\nCompile with `TORCH_USE_CUDA_DSA` to enable device-side assertions.\n"
     ]
    }
   ],
   "source": [
    "config_name = 'Test_v1'\n",
    "config_dir = \"./reflectorch/configs\"\n",
    "trainer = reflectorch.get_trainer_by_name(config_name,config_dir, load_weights=False)\n",
    "trainer"
   ]
  },
  {
   "cell_type": "code",
   "execution_count": 8,
   "metadata": {},
   "outputs": [
    {
     "name": "stdout",
     "output_type": "stream",
     "text": [
      "Model successfully built on cuda:\n",
      "NetworkWithPriors(\n",
      "  (embedding_net): ConvEncoder(\n",
      "    (core): Sequential(\n",
      "      (0): Sequential(\n",
      "        (0): Conv1d(2, 32, kernel_size=(3,), stride=(2,), padding=(1,))\n",
      "        (1): BatchNorm1d(32, eps=1e-05, momentum=0.1, affine=True, track_running_stats=True)\n",
      "        (2): GELU(approximate='none')\n",
      "      )\n",
      "      (1): Sequential(\n",
      "        (0): Conv1d(32, 64, kernel_size=(3,), stride=(2,), padding=(1,))\n",
      "        (1): BatchNorm1d(64, eps=1e-05, momentum=0.1, affine=True, track_running_stats=True)\n",
      "        (2): GELU(approximate='none')\n",
      "      )\n",
      "      (2): Sequential(\n",
      "        (0): Conv1d(64, 128, kernel_size=(3,), stride=(2,), padding=(1,))\n",
      "        (1): BatchNorm1d(128, eps=1e-05, momentum=0.1, affine=True, track_running_stats=True)\n",
      "        (2): GELU(approximate='none')\n",
      "      )\n",
      "      (3): Sequential(\n",
      "        (0): Conv1d(128, 256, kernel_size=(3,), stride=(2,), padding=(1,))\n",
      "        (1): BatchNorm1d(256, eps=1e-05, momentum=0.1, affine=True, track_running_stats=True)\n",
      "        (2): GELU(approximate='none')\n",
      "      )\n",
      "      (4): Sequential(\n",
      "        (0): Conv1d(256, 512, kernel_size=(3,), stride=(2,), padding=(1,))\n",
      "        (1): BatchNorm1d(512, eps=1e-05, momentum=0.1, affine=True, track_running_stats=True)\n",
      "        (2): GELU(approximate='none')\n",
      "      )\n",
      "    )\n",
      "    (avpool): AdaptiveAvgPool1d(output_size=1)\n",
      "    (fc): Linear(in_features=512, out_features=128, bias=True)\n",
      "  )\n",
      "  (mlp): ResidualMLP(\n",
      "    (first_layer): Linear(in_features=128, out_features=512, bias=True)\n",
      "    (blocks): ModuleList(\n",
      "      (0-7): 8 x ResidualBlock(\n",
      "        (activation): GELU(approximate='none')\n",
      "        (batch_norm_layers): ModuleList(\n",
      "          (0-1): 2 x BatchNorm1d(512, eps=0.001, momentum=0.1, affine=True, track_running_stats=True)\n",
      "        )\n",
      "        (condition_layer): Linear(in_features=24, out_features=1024, bias=True)\n",
      "        (linear_layers): ModuleList(\n",
      "          (0-1): 2 x Linear(in_features=512, out_features=512, bias=True)\n",
      "        )\n",
      "      )\n",
      "    )\n",
      "    (last_layer): Linear(in_features=512, out_features=12, bias=True)\n",
      "  )\n",
      ")\n"
     ]
    }
   ],
   "source": [
    "import torch\n",
    "from reflectorch.models.networks.mlp_networks import NetworkWithPriors\n",
    "\n",
    "model_cfg = {\n",
    "    \"cls\": \"NetworkWithPriors\",\n",
    "    \"device\": \"cuda\",\n",
    "    \"kwargs\": {\n",
    "        \"embedding_net_type\": \"conv\",\n",
    "        \"embedding_net_kwargs\": {\n",
    "            \"in_channels\": 2,\n",
    "            \"hidden_channels\": [32, 64, 128, 256, 512],\n",
    "            \"kernel_size\": 3,\n",
    "            \"dim_embedding\": 128,\n",
    "            \"dim_avpool\": 1,\n",
    "            \"use_batch_norm\": True,\n",
    "            \"use_se\": False,\n",
    "            \"activation\": \"gelu\",\n",
    "        },\n",
    "        \"pretrained_embedding_net\": None,\n",
    "        \"dim_out\": params_scaled.shape[1],\n",
    "        \"dim_conditioning_params\": 0,\n",
    "        \"layer_width\": 512,\n",
    "        \"num_blocks\": 8,\n",
    "        \"repeats_per_block\": 2,\n",
    "        \"residual\": True,\n",
    "        \"use_batch_norm\": True,\n",
    "        \"use_layer_norm\": False,\n",
    "        \"mlp_activation\": \"gelu\",\n",
    "        \"dropout_rate\": 0.0,\n",
    "        \"tanh_output\": False,\n",
    "        \"conditioning\": \"film\",\n",
    "        \"concat_condition_first_layer\": False,\n",
    "    }\n",
    "}\n",
    "\n",
    "# instantiate\n",
    "device = torch.device(model_cfg[\"device\"])\n",
    "net_kwargs = model_cfg[\"kwargs\"]\n",
    "\n",
    "test_model = NetworkWithPriors(\n",
    "    embedding_net_type         = net_kwargs[\"embedding_net_type\"],\n",
    "    embedding_net_kwargs       = net_kwargs[\"embedding_net_kwargs\"],\n",
    "    pretrained_embedding_net   = net_kwargs[\"pretrained_embedding_net\"],\n",
    "    dim_out                    = net_kwargs[\"dim_out\"],\n",
    "    dim_conditioning_params    = net_kwargs[\"dim_conditioning_params\"],\n",
    "    layer_width                = net_kwargs[\"layer_width\"],\n",
    "    num_blocks                 = net_kwargs[\"num_blocks\"],\n",
    "    repeats_per_block          = net_kwargs[\"repeats_per_block\"],\n",
    "    mlp_activation             = net_kwargs[\"mlp_activation\"],\n",
    "    use_batch_norm             = net_kwargs[\"use_batch_norm\"],\n",
    "    use_layer_norm             = net_kwargs[\"use_layer_norm\"],\n",
    "    dropout_rate               = net_kwargs[\"dropout_rate\"],\n",
    "    tanh_output                = net_kwargs[\"tanh_output\"],\n",
    "    residual                   = net_kwargs[\"residual\"],\n",
    "    adaptive_activation        = False,\n",
    "    conditioning                = net_kwargs[\"conditioning\"],\n",
    "    concat_condition_first_layer = net_kwargs[\"concat_condition_first_layer\"],\n",
    ").to(device)\n",
    "\n",
    "print(f\"Model successfully built on {device}:\")\n",
    "print(test_model)\n",
    "\n"
   ]
  },
  {
   "cell_type": "code",
   "execution_count": 9,
   "metadata": {},
   "outputs": [
    {
     "name": "stdout",
     "output_type": "stream",
     "text": [
      "NetworkWithPriors(\n",
      "  (embedding_net): ConvEncoder(\n",
      "    (core): Sequential(\n",
      "      (0): Sequential(\n",
      "        (0): Conv1d(2, 32, kernel_size=(3,), stride=(2,), padding=(1,))\n",
      "        (1): BatchNorm1d(32, eps=1e-05, momentum=0.1, affine=True, track_running_stats=True)\n",
      "        (2): GELU(approximate='none')\n",
      "      )\n",
      "      (1): Sequential(\n",
      "        (0): Conv1d(32, 64, kernel_size=(3,), stride=(2,), padding=(1,))\n",
      "        (1): BatchNorm1d(64, eps=1e-05, momentum=0.1, affine=True, track_running_stats=True)\n",
      "        (2): GELU(approximate='none')\n",
      "      )\n",
      "      (2): Sequential(\n",
      "        (0): Conv1d(64, 128, kernel_size=(3,), stride=(2,), padding=(1,))\n",
      "        (1): BatchNorm1d(128, eps=1e-05, momentum=0.1, affine=True, track_running_stats=True)\n",
      "        (2): GELU(approximate='none')\n",
      "      )\n",
      "      (3): Sequential(\n",
      "        (0): Conv1d(128, 256, kernel_size=(3,), stride=(2,), padding=(1,))\n",
      "        (1): BatchNorm1d(256, eps=1e-05, momentum=0.1, affine=True, track_running_stats=True)\n",
      "        (2): GELU(approximate='none')\n",
      "      )\n",
      "      (4): Sequential(\n",
      "        (0): Conv1d(256, 512, kernel_size=(3,), stride=(2,), padding=(1,))\n",
      "        (1): BatchNorm1d(512, eps=1e-05, momentum=0.1, affine=True, track_running_stats=True)\n",
      "        (2): GELU(approximate='none')\n",
      "      )\n",
      "    )\n",
      "    (avpool): AdaptiveAvgPool1d(output_size=1)\n",
      "    (fc): Linear(in_features=512, out_features=128, bias=True)\n",
      "  )\n",
      "  (mlp): ResidualMLP(\n",
      "    (first_layer): Linear(in_features=128, out_features=512, bias=True)\n",
      "    (blocks): ModuleList(\n",
      "      (0-7): 8 x ResidualBlock(\n",
      "        (activation): GELU(approximate='none')\n",
      "        (batch_norm_layers): ModuleList(\n",
      "          (0-1): 2 x BatchNorm1d(512, eps=0.001, momentum=0.1, affine=True, track_running_stats=True)\n",
      "        )\n",
      "        (condition_layer): Linear(in_features=24, out_features=1024, bias=True)\n",
      "        (linear_layers): ModuleList(\n",
      "          (0-1): 2 x Linear(in_features=512, out_features=512, bias=True)\n",
      "        )\n",
      "      )\n",
      "    )\n",
      "    (last_layer): Linear(in_features=512, out_features=12, bias=True)\n",
      "  )\n",
      ")\n"
     ]
    }
   ],
   "source": [
    "test_model\n",
    "print(test_model)"
   ]
  },
  {
   "cell_type": "code",
   "execution_count": 10,
   "metadata": {},
   "outputs": [],
   "source": [
    "import importlib\n",
    "from reflectorch.ml.RealDataTrainer import RealDataTrainer\n",
    "from torch.optim import AdamW\n",
    "from reflectorch.ml  import StepLR\n",
    "from reflectorch.ml import SaveBestModel\n",
    "\n",
    "importlib.reload(reflectorch.ml.RealDataTrainer)\n",
    "\n",
    "customtrainer = RealDataTrainer(\n",
    "    model=test_model,\n",
    "    loader=dataset,\n",
    "    lr=1.0e-4,\n",
    "    batch_size=2048,\n",
    "    optim_cls=AdamW,\n",
    "    optim_kwargs={\"weight_decay\": 0.0005}\n",
    ")\n",
    "\n",
    "save_path = \"C:/Users/Owner/Desktop/cw/COMP60660/reflectorch/saved_models/model_custom_data_3_repeat_2.pt\"\n",
    "callbacks = (\n",
    "    StepLR(step_size=600, gamma=0.5), \n",
    "    SaveBestModel(path=save_path, freq=100),\n",
    ")"
   ]
  },
  {
   "cell_type": "code",
   "execution_count": 11,
   "metadata": {},
   "outputs": [
    {
     "name": "stderr",
     "output_type": "stream",
     "text": [
      "Loss = 2.42e-03: 100%|███████████████████████████████████| 3000/3000 [02:12<00:00, 22.56it/s, loss=0.0025, lr=6.25e-06]\n"
     ]
    }
   ],
   "source": [
    "customtrainer.train(num_batches=3000, callbacks = callbacks)"
   ]
  },
  {
   "cell_type": "code",
   "execution_count": 8,
   "metadata": {},
   "outputs": [],
   "source": [
    "torch.save(test_model.state_dict(), \"model_custom_data_3_repeat_2.pt\")"
   ]
  },
  {
   "cell_type": "code",
   "execution_count": 81,
   "metadata": {},
   "outputs": [
    {
     "name": "stdout",
     "output_type": "stream",
     "text": [
      "BasicParams(batch_size=64, max_layer_num=18, device=cuda:0)\n"
     ]
    }
   ],
   "source": [
    "batch_size = 64\n",
    "\n",
    "simulated_data = trainer.loader.get_batch(batch_size=batch_size)\n",
    "print(simulated_data['params'])"
   ]
  },
  {
   "cell_type": "code",
   "execution_count": 62,
   "metadata": {},
   "outputs": [
    {
     "ename": "KeyError",
     "evalue": "'curves'",
     "output_type": "error",
     "traceback": [
      "\u001b[1;31m---------------------------------------------------------------------------\u001b[0m",
      "\u001b[1;31mKeyError\u001b[0m                                  Traceback (most recent call last)",
      "Cell \u001b[1;32mIn[62], line 4\u001b[0m\n\u001b[0;32m      1\u001b[0m q \u001b[38;5;241m=\u001b[39m simulated_data[\u001b[38;5;124m'\u001b[39m\u001b[38;5;124mq_values\u001b[39m\u001b[38;5;124m'\u001b[39m]\n\u001b[0;32m      2\u001b[0m \u001b[38;5;66;03m#scaled_noisy_curves = simulated_data['scaled_noisy_curves']\u001b[39;00m\n\u001b[0;32m      3\u001b[0m \u001b[38;5;66;03m#unscaled_noisy_curves = trainer.loader.curves_scaler.restore(scaled_noisy_curves)\u001b[39;00m\n\u001b[1;32m----> 4\u001b[0m unscaled_denoised_curve \u001b[38;5;241m=\u001b[39m \u001b[43msimulated_data\u001b[49m\u001b[43m[\u001b[49m\u001b[38;5;124;43m'\u001b[39;49m\u001b[38;5;124;43mcurves\u001b[39;49m\u001b[38;5;124;43m'\u001b[39;49m\u001b[43m]\u001b[49m\n\u001b[0;32m      6\u001b[0m \u001b[38;5;28;01mdef\u001b[39;00m \u001b[38;5;21mplot_refl_curve\u001b[39m(i\u001b[38;5;241m=\u001b[39m\u001b[38;5;241m0\u001b[39m):\n\u001b[0;32m      7\u001b[0m     fig, ax \u001b[38;5;241m=\u001b[39m plt\u001b[38;5;241m.\u001b[39msubplots(\u001b[38;5;241m1\u001b[39m,\u001b[38;5;241m1\u001b[39m,figsize\u001b[38;5;241m=\u001b[39m(\u001b[38;5;241m6\u001b[39m,\u001b[38;5;241m6\u001b[39m))\n",
      "\u001b[1;31mKeyError\u001b[0m: 'curves'"
     ]
    }
   ],
   "source": [
    "q = simulated_data['q_values']\n",
    "#scaled_noisy_curves = simulated_data['scaled_noisy_curves']\n",
    "#unscaled_noisy_curves = trainer.loader.curves_scaler.restore(scaled_noisy_curves)\n",
    "unscaled_denoised_curve = simulated_data['curves']\n",
    "\n",
    "def plot_refl_curve(i=0):\n",
    "    fig, ax = plt.subplots(1,1,figsize=(6,6))\n",
    "\n",
    "    ax.set_yscale('log')\n",
    "    ax.set_ylim(0.5e-10, 5)\n",
    "\n",
    "    ax.set_xlabel('q [$Å^{-1}$]', fontsize=20)\n",
    "    ax.set_ylabel('R(q)', fontsize=20)\n",
    "\n",
    "    ax.tick_params(axis='both', which='major', labelsize=15)\n",
    "    ax.tick_params(axis='both', which='minor', labelsize=15)\n",
    "    \n",
    "    y_tick_locations = [10**(-2*i) for i in range(6)]\n",
    "    ax.yaxis.set_major_locator(plt.FixedLocator(y_tick_locations))\n",
    "        \n",
    "    #ax.scatter(q[i].cpu().numpy(), unscaled_noisy_curves[i].cpu().numpy() + 1e-10, c='b', s=2, label='simulated curve')\n",
    "    ax.plot(q[i].cpu().numpy(), unscaled_denoised_curve[i].cpu().numpy() + 1e-10, c='g', lw=1, label='theoretical curve')\n",
    "\n",
    "    ax.legend(loc='upper right', fontsize=14)\n",
    "\n",
    "plot_refl_curve(i=0)"
   ]
  },
  {
   "cell_type": "code",
   "execution_count": 63,
   "metadata": {},
   "outputs": [
    {
     "name": "stdout",
     "output_type": "stream",
     "text": [
      "Number of layers: 18,  Number of film parameters: 17\n"
     ]
    }
   ],
   "source": [
    "n_layers = simulated_data['params'].max_layer_num\n",
    "n_params = simulated_data['params'].num_params\n",
    "\n",
    "print(f'Number of layers: {n_layers},  Number of film parameters: {n_params}')"
   ]
  },
  {
   "cell_type": "code",
   "execution_count": 25,
   "metadata": {},
   "outputs": [
    {
     "name": "stdout",
     "output_type": "stream",
     "text": [
      "tensor([-0.8465, -0.8393, -0.5448, -0.9407, -0.4826,  0.4506,  0.2021,  0.7177,\n",
      "         0.9711,  0.6466,  0.1623,  0.4544, -0.2963,  0.4934,  0.2604,  0.7315],\n",
      "       device='cuda:0', dtype=torch.float64)\n",
      "torch.Size([64, 24])\n"
     ]
    }
   ],
   "source": [
    "scaled_bounds = simulated_data['scaled_params'][..., n_params:]\n",
    "q_values = simulated_data[\"q_values\"]\n",
    "\n",
    "print(scaled_bounds[0])\n",
    "print(simulated_data['scaled_params'].shape)"
   ]
  },
  {
   "cell_type": "code",
   "execution_count": 79,
   "metadata": {},
   "outputs": [
    {
     "name": "stdout",
     "output_type": "stream",
     "text": [
      "torch.float32\n",
      "torch.Size([500, 12])\n"
     ]
    }
   ],
   "source": [
    "(testing_curves, testing_curves_scaled, testing_params, testing_params_scaled, testing_q_values, testing_q_values_valued, testing_num_layers,testing_scaled_bounds, testing_bounds) = testing_data\n",
    "\n",
    "device = next(customtrainer.model.parameters()).device\n",
    "dtype  = next(customtrainer.model.parameters()).dtype\n",
    "print(dtype)\n",
    "\n",
    "if not isinstance(testing_curves_scaled, torch.Tensor):\n",
    "    eval_curves = torch.tensor(testing_curves_scaled)\n",
    "else:\n",
    "    eval_curves = testing_curves_scaled\n",
    "\n",
    "if not isinstance(testing_q_values_valued, torch.Tensor):\n",
    "    eval_q_values = torch.tensor(testing_q_values_valued)\n",
    "else:\n",
    "    eval_q_values = testing_q_values_valued\n",
    "\n",
    "if not isinstance(testing_scaled_bounds, torch.Tensor):\n",
    "    eval_bounds = torch.tensor(testing_scaled_bounds)\n",
    "else:\n",
    "    eval_bounds = testing_scaled_bounds\n",
    "\n",
    "\n",
    "eval_curves = eval_curves.to(device=device, dtype=dtype)\n",
    "eval_q_values = eval_q_values.to(device=device, dtype=dtype)\n",
    "eval_bounds = eval_bounds.to(device=device, dtype=dtype)\n",
    "\n",
    "with torch.no_grad():\n",
    "    customtrainer.model.eval()\n",
    "\n",
    "    scaled_predicted_params = customtrainer.model(\n",
    "    curves=eval_curves,\n",
    "    bounds=eval_bounds,\n",
    "    q_values = eval_q_values,\n",
    "    )\n",
    "\n",
    "    print(scaled_predicted_params.shape)\n",
    "\n"
   ]
  },
  {
   "cell_type": "code",
   "execution_count": 80,
   "metadata": {},
   "outputs": [],
   "source": [
    "testing_num_layers = 3"
   ]
  },
  {
   "cell_type": "code",
   "execution_count": 81,
   "metadata": {},
   "outputs": [
    {
     "name": "stdout",
     "output_type": "stream",
     "text": [
      "tensor([[-1.0000, -0.9967, -0.9933,  ...,  0.9933,  0.9967,  1.0000],\n",
      "        [-1.0000, -0.9967, -0.9933,  ...,  0.9933,  0.9967,  1.0000],\n",
      "        [-1.0000, -0.9967, -0.9933,  ...,  0.9933,  0.9967,  1.0000],\n",
      "        ...,\n",
      "        [-1.0000, -0.9967, -0.9933,  ...,  0.9933,  0.9967,  1.0000],\n",
      "        [-1.0000, -0.9967, -0.9933,  ...,  0.9933,  0.9967,  1.0000],\n",
      "        [-1.0000, -0.9967, -0.9933,  ...,  0.9933,  0.9967,  1.0000]],\n",
      "       device='cuda:0')\n",
      "tensor([-0.8575, -0.8378, -1.0000, -0.6145, -0.6342, -0.4114, -1.0000, -1.0000,\n",
      "        -0.1221, -0.6676,  0.5119, -1.0000, -0.4773, -0.4999, -0.6545, -0.1449,\n",
      "        -0.2232, -0.0577, -0.8384, -0.8227,  0.4744, -0.0928,  0.8101, -0.7752])\n",
      "tensor([-0.6760, -0.7327, -0.9450], device='cuda:0')\n",
      "scaled min: -1.0 scaled max: 1.0\n",
      "scaled min: -1.024758219718933 scaled max: 0.9850131273269653\n"
     ]
    }
   ],
   "source": [
    "print(eval_q_values)\n",
    "print(testing_scaled_bounds[0])\n",
    "print(scaled_predicted_params[1,:3])\n",
    "print(\"scaled min:\", testing_scaled_bounds.min().item(), \"scaled max:\", testing_scaled_bounds.max().item())\n",
    "print(\"scaled min:\", scaled_predicted_params[:,:3].min().item(), \"scaled max:\", scaled_predicted_params.max().item())\n",
    "\n"
   ]
  },
  {
   "cell_type": "code",
   "execution_count": 82,
   "metadata": {},
   "outputs": [
    {
     "name": "stdout",
     "output_type": "stream",
     "text": [
      "torch.Size([12])\n",
      "torch.Size([12])\n",
      "torch.Size([500, 12])\n"
     ]
    }
   ],
   "source": [
    "def unscale_params(scaled, span, min_vals) -> torch.Tensor:\n",
    "\n",
    "    temp = ((scaled + 1.0) / 2.0) * span[None, :] + min_vals[None, :]\n",
    "    return temp\n",
    "\n",
    "span =testing_bounds[0].to(device)\n",
    "min_val =testing_bounds[1].to(device)\n",
    "print(span.shape)\n",
    "print(min_val.shape)\n",
    "print(scaled_predicted_params.shape)\n",
    "restored_predictions = unscale_params(scaled_predicted_params,span,min_val)\n",
    "restored_predictions = torch.real(restored_predictions)\n",
    "\n"
   ]
  },
  {
   "cell_type": "code",
   "execution_count": 83,
   "metadata": {},
   "outputs": [
    {
     "name": "stdout",
     "output_type": "stream",
     "text": [
      "tensor([8.1009e+01, 6.6837e+01, 1.3749e+01, 1.5506e+01, 2.2680e+01, 1.7924e+00,\n",
      "        2.0245e+00, 2.1967e+01, 1.0102e+02, 6.3190e+01, 1.3177e+02, 8.1088e-07],\n",
      "       device='cuda:0')\n",
      "2\n"
     ]
    }
   ],
   "source": [
    "print(restored_predictions[1])\n",
    "print(layer_repeats_setter)"
   ]
  },
  {
   "cell_type": "code",
   "execution_count": 84,
   "metadata": {},
   "outputs": [
    {
     "name": "stdout",
     "output_type": "stream",
     "text": [
      "Predicted thicknesses: tensor([[82.9842, 82.7225, 26.8316, 82.9842, 82.7225, 26.8316],\n",
      "        [81.0093, 66.8368, 13.7491, 81.0093, 66.8368, 13.7491],\n",
      "        [25.6181, 28.1213, 51.9808, 25.6181, 28.1213, 51.9808],\n",
      "        ...,\n",
      "        [43.1719, 46.8975, 85.4053, 43.1719, 46.8975, 85.4053],\n",
      "        [88.9707, 64.8494, 86.1301, 88.9707, 64.8494, 86.1301],\n",
      "        [ 4.8108, 83.1232, 58.2834,  4.8108, 83.1232, 58.2834]],\n",
      "       device='cuda:0')\n",
      "Predicted roughnesses: tensor([[18.4956, 17.3724, 22.9579,  ..., 17.3724, 22.9579,  0.5610],\n",
      "        [15.5062, 22.6798,  1.7924,  ..., 22.6798,  1.7924,  2.0245],\n",
      "        [ 4.4836,  6.5265,  5.9223,  ...,  6.5265,  5.9223, 15.9917],\n",
      "        ...,\n",
      "        [26.3343,  0.9154, 17.2921,  ...,  0.9154, 17.2921,  7.0932],\n",
      "        [ 4.0549, 20.9200, 22.2312,  ..., 20.9200, 22.2312, 20.7452],\n",
      "        [ 7.0347,  0.0000, 11.6507,  ...,  0.0000, 11.6507,  3.8092]],\n",
      "       device='cuda:0')\n",
      "Predicted layer SLDs: tensor([[ 22.6238, 101.6585,  64.2680,  ..., 101.6585,  64.2680, 133.7505],\n",
      "        [ 21.9674, 101.0186,  63.1898,  ..., 101.0186,  63.1898, 131.7684],\n",
      "        [ 22.3652, 114.5423,  61.6723,  ..., 114.5423,  61.6723, 136.5422],\n",
      "        ...,\n",
      "        [ 22.9409, 100.3036,  64.0500,  ..., 100.3036,  64.0500, 141.9669],\n",
      "        [ 23.1047, 103.7234,  65.7517,  ..., 103.7234,  65.7517, 134.4376],\n",
      "        [ 22.2980, 103.1686,  62.6953,  ..., 103.1686,  62.6953, 143.1763]],\n",
      "       device='cuda:0')\n",
      "Predicted Background: tensor([[ 3.7817e-07],\n",
      "        [ 8.1088e-07],\n",
      "        [ 3.8961e-06],\n",
      "        [ 1.5658e-06],\n",
      "        [ 2.6237e-06],\n",
      "        [ 6.1082e-07],\n",
      "        [ 7.7867e-07],\n",
      "        [ 2.5571e-06],\n",
      "        [ 7.3023e-07],\n",
      "        [ 4.2005e-07],\n",
      "        [ 2.7860e-07],\n",
      "        [ 6.3960e-08],\n",
      "        [ 3.5444e-06],\n",
      "        [ 1.7465e-06],\n",
      "        [ 4.3981e-06],\n",
      "        [ 2.9817e-07],\n",
      "        [ 6.0007e-06],\n",
      "        [ 4.7308e-06],\n",
      "        [ 7.3714e-06],\n",
      "        [ 5.1298e-07],\n",
      "        [ 4.6076e-07],\n",
      "        [ 2.0873e-07],\n",
      "        [ 7.7923e-06],\n",
      "        [ 6.3342e-06],\n",
      "        [ 6.2052e-08],\n",
      "        [ 9.4526e-06],\n",
      "        [ 2.9130e-07],\n",
      "        [ 3.7765e-07],\n",
      "        [ 4.9161e-07],\n",
      "        [-1.1060e-07],\n",
      "        [ 4.0945e-07],\n",
      "        [ 5.3374e-07],\n",
      "        [ 4.2811e-07],\n",
      "        [ 4.6029e-06],\n",
      "        [ 5.0578e-06],\n",
      "        [ 2.3308e-07],\n",
      "        [ 7.0878e-07],\n",
      "        [ 3.0543e-06],\n",
      "        [ 4.2011e-07],\n",
      "        [ 7.7491e-06],\n",
      "        [ 4.7348e-07],\n",
      "        [ 7.2356e-06],\n",
      "        [ 1.4349e-07],\n",
      "        [ 1.0871e-06],\n",
      "        [ 3.4646e-06],\n",
      "        [ 7.2286e-06],\n",
      "        [ 9.1760e-08],\n",
      "        [ 3.0969e-07],\n",
      "        [ 4.4621e-07],\n",
      "        [ 5.2222e-08],\n",
      "        [ 1.1882e-06],\n",
      "        [ 6.2060e-07],\n",
      "        [ 9.7652e-07],\n",
      "        [-2.0928e-08],\n",
      "        [ 3.7707e-06],\n",
      "        [ 1.1601e-06],\n",
      "        [ 6.7648e-06],\n",
      "        [ 6.1498e-07],\n",
      "        [ 8.1459e-06],\n",
      "        [ 5.7757e-08],\n",
      "        [ 1.8875e-06],\n",
      "        [ 1.8074e-06],\n",
      "        [ 4.2068e-06],\n",
      "        [ 1.7213e-07],\n",
      "        [ 2.1273e-07],\n",
      "        [ 5.6556e-07],\n",
      "        [ 8.4540e-07],\n",
      "        [ 2.9362e-07],\n",
      "        [ 4.5194e-07],\n",
      "        [ 3.4232e-06],\n",
      "        [ 4.3791e-07],\n",
      "        [-3.5403e-08],\n",
      "        [ 2.6600e-06],\n",
      "        [ 5.6582e-07],\n",
      "        [ 3.5232e-07],\n",
      "        [ 7.6997e-07],\n",
      "        [ 2.1246e-06],\n",
      "        [ 7.6782e-07],\n",
      "        [ 6.3348e-07],\n",
      "        [ 2.6645e-07],\n",
      "        [ 2.7820e-07],\n",
      "        [-1.7742e-08],\n",
      "        [ 4.3455e-07],\n",
      "        [ 9.1917e-07],\n",
      "        [ 9.6475e-07],\n",
      "        [ 1.7016e-08],\n",
      "        [ 4.2091e-06],\n",
      "        [ 1.2936e-06],\n",
      "        [ 3.4200e-07],\n",
      "        [ 6.7081e-07],\n",
      "        [ 9.4643e-08],\n",
      "        [ 1.4059e-06],\n",
      "        [ 7.0965e-07],\n",
      "        [ 6.3365e-06],\n",
      "        [ 4.4883e-06],\n",
      "        [ 6.3765e-07],\n",
      "        [ 7.7070e-06],\n",
      "        [-2.9062e-08],\n",
      "        [ 3.8921e-07],\n",
      "        [ 6.1280e-07],\n",
      "        [ 2.8210e-06],\n",
      "        [ 4.1367e-06],\n",
      "        [ 1.3942e-06],\n",
      "        [-3.9740e-07],\n",
      "        [ 2.3379e-06],\n",
      "        [ 8.8271e-07],\n",
      "        [ 3.6430e-06],\n",
      "        [ 2.8180e-06],\n",
      "        [ 1.7279e-07],\n",
      "        [ 8.1133e-07],\n",
      "        [ 7.8769e-08],\n",
      "        [ 2.7852e-07],\n",
      "        [ 5.4459e-07],\n",
      "        [ 3.5343e-07],\n",
      "        [ 1.2995e-06],\n",
      "        [ 2.2067e-07],\n",
      "        [ 7.1179e-06],\n",
      "        [ 1.8729e-06],\n",
      "        [ 9.1676e-06],\n",
      "        [ 5.2620e-07],\n",
      "        [ 9.2618e-06],\n",
      "        [ 4.7555e-07],\n",
      "        [ 6.7970e-06],\n",
      "        [ 7.9427e-06],\n",
      "        [ 8.9310e-07],\n",
      "        [ 2.1232e-07],\n",
      "        [ 3.2041e-06],\n",
      "        [ 4.7447e-07],\n",
      "        [ 8.6157e-06],\n",
      "        [ 6.7528e-06],\n",
      "        [ 9.5775e-06],\n",
      "        [ 9.1206e-07],\n",
      "        [ 4.8843e-06],\n",
      "        [ 1.0863e-06],\n",
      "        [-4.8021e-08],\n",
      "        [ 1.8738e-06],\n",
      "        [ 8.4448e-07],\n",
      "        [ 9.0874e-06],\n",
      "        [ 2.0010e-06],\n",
      "        [ 5.3589e-06],\n",
      "        [ 2.9451e-06],\n",
      "        [ 1.2115e-06],\n",
      "        [ 2.9100e-06],\n",
      "        [ 3.3785e-06],\n",
      "        [ 3.0645e-07],\n",
      "        [ 3.2093e-07],\n",
      "        [ 1.2152e-06],\n",
      "        [ 1.3561e-06],\n",
      "        [ 7.7581e-07],\n",
      "        [ 2.7320e-06],\n",
      "        [ 9.3988e-06],\n",
      "        [ 1.1618e-06],\n",
      "        [ 8.9631e-06],\n",
      "        [ 6.4226e-07],\n",
      "        [ 2.3046e-06],\n",
      "        [ 1.4510e-06],\n",
      "        [ 4.2998e-06],\n",
      "        [ 4.1375e-06],\n",
      "        [ 9.6117e-07],\n",
      "        [ 7.8931e-07],\n",
      "        [ 4.9886e-08],\n",
      "        [ 2.5903e-06],\n",
      "        [ 2.5436e-06],\n",
      "        [ 1.2980e-06],\n",
      "        [ 2.5865e-07],\n",
      "        [ 2.8950e-07],\n",
      "        [ 5.7298e-06],\n",
      "        [ 3.1422e-07],\n",
      "        [ 9.5732e-06],\n",
      "        [ 6.7926e-06],\n",
      "        [ 8.0982e-06],\n",
      "        [ 1.1952e-07],\n",
      "        [ 2.4411e-06],\n",
      "        [ 4.8628e-07],\n",
      "        [ 3.5454e-06],\n",
      "        [-3.5467e-08],\n",
      "        [ 8.2327e-06],\n",
      "        [ 6.0199e-06],\n",
      "        [ 2.5153e-07],\n",
      "        [ 5.9808e-07],\n",
      "        [ 3.0567e-06],\n",
      "        [ 2.6158e-07],\n",
      "        [ 2.7073e-06],\n",
      "        [ 1.3742e-06],\n",
      "        [ 8.2956e-06],\n",
      "        [ 3.4588e-06],\n",
      "        [ 3.9533e-07],\n",
      "        [ 1.8246e-07],\n",
      "        [ 9.1092e-06],\n",
      "        [ 5.2692e-06],\n",
      "        [ 1.2319e-06],\n",
      "        [ 8.7107e-07],\n",
      "        [ 7.7741e-07],\n",
      "        [ 8.8460e-06],\n",
      "        [-1.0848e-07],\n",
      "        [ 6.2893e-06],\n",
      "        [ 4.3504e-06],\n",
      "        [ 4.6703e-07],\n",
      "        [ 2.9802e-07],\n",
      "        [ 1.0357e-06],\n",
      "        [ 5.5273e-07],\n",
      "        [ 4.6254e-06],\n",
      "        [-7.9155e-08],\n",
      "        [ 3.9746e-06],\n",
      "        [ 2.6752e-06],\n",
      "        [ 7.8590e-07],\n",
      "        [-1.5668e-07],\n",
      "        [ 5.1033e-06],\n",
      "        [ 1.2657e-06],\n",
      "        [ 7.7569e-07],\n",
      "        [ 2.3740e-06],\n",
      "        [ 4.3435e-07],\n",
      "        [ 2.7502e-07],\n",
      "        [ 2.9100e-07],\n",
      "        [ 1.1787e-06],\n",
      "        [ 6.1835e-06],\n",
      "        [ 4.3020e-06],\n",
      "        [ 4.9518e-06],\n",
      "        [ 8.9786e-06],\n",
      "        [ 7.4314e-07],\n",
      "        [ 2.2648e-07],\n",
      "        [ 2.8946e-06],\n",
      "        [ 6.6383e-07],\n",
      "        [ 4.4663e-08],\n",
      "        [ 7.0220e-06],\n",
      "        [ 7.1379e-07],\n",
      "        [ 2.1646e-07],\n",
      "        [ 9.1145e-06],\n",
      "        [ 1.1348e-06],\n",
      "        [ 1.0621e-07],\n",
      "        [ 8.5582e-07],\n",
      "        [ 3.9532e-06],\n",
      "        [ 2.7278e-06],\n",
      "        [ 4.5654e-06],\n",
      "        [ 1.2011e-06],\n",
      "        [ 9.2254e-06],\n",
      "        [ 1.1865e-07],\n",
      "        [ 4.6580e-07],\n",
      "        [ 5.7454e-06],\n",
      "        [ 3.3215e-07],\n",
      "        [ 1.0600e-07],\n",
      "        [ 1.3838e-07],\n",
      "        [ 4.8781e-07],\n",
      "        [ 5.5650e-09],\n",
      "        [ 4.1016e-06],\n",
      "        [ 8.1561e-07],\n",
      "        [ 1.7579e-06],\n",
      "        [ 8.0308e-07],\n",
      "        [ 3.4958e-07],\n",
      "        [ 4.3986e-07],\n",
      "        [ 1.8614e-06],\n",
      "        [ 9.3853e-06],\n",
      "        [ 6.7606e-07],\n",
      "        [ 8.9935e-07],\n",
      "        [ 1.5373e-06],\n",
      "        [ 2.3216e-06],\n",
      "        [ 9.6449e-07],\n",
      "        [ 5.6418e-06],\n",
      "        [ 4.9210e-06],\n",
      "        [ 9.6050e-07],\n",
      "        [ 2.9710e-07],\n",
      "        [ 7.6460e-07],\n",
      "        [ 2.5889e-07],\n",
      "        [ 1.1772e-06],\n",
      "        [ 8.2201e-07],\n",
      "        [ 9.5834e-07],\n",
      "        [ 6.3539e-07],\n",
      "        [ 3.9229e-07],\n",
      "        [ 1.0209e-06],\n",
      "        [ 2.5861e-07],\n",
      "        [ 7.0624e-07],\n",
      "        [ 4.0148e-06],\n",
      "        [ 3.8596e-06],\n",
      "        [ 9.0019e-06],\n",
      "        [ 6.8428e-07],\n",
      "        [ 1.5604e-06],\n",
      "        [ 5.2932e-07],\n",
      "        [ 3.8133e-06],\n",
      "        [ 3.6171e-07],\n",
      "        [ 7.2822e-07],\n",
      "        [ 1.9109e-06],\n",
      "        [ 3.3457e-07],\n",
      "        [ 1.5860e-06],\n",
      "        [ 2.8149e-06],\n",
      "        [ 9.2932e-07],\n",
      "        [ 4.8193e-07],\n",
      "        [ 3.3971e-07],\n",
      "        [ 3.2645e-06],\n",
      "        [ 1.6552e-07],\n",
      "        [ 6.5227e-07],\n",
      "        [ 8.2071e-07],\n",
      "        [ 8.3227e-06],\n",
      "        [ 2.4163e-07],\n",
      "        [ 3.4661e-06],\n",
      "        [ 9.5920e-06],\n",
      "        [ 6.3159e-06],\n",
      "        [ 8.3972e-07],\n",
      "        [ 8.9011e-06],\n",
      "        [-2.7469e-08],\n",
      "        [ 7.8366e-06],\n",
      "        [ 1.5547e-06],\n",
      "        [ 1.7822e-07],\n",
      "        [ 2.1920e-06],\n",
      "        [ 6.7075e-07],\n",
      "        [ 9.5047e-06],\n",
      "        [ 6.0267e-06],\n",
      "        [ 1.1351e-06],\n",
      "        [ 6.5258e-06],\n",
      "        [ 5.5154e-07],\n",
      "        [ 4.7040e-07],\n",
      "        [ 7.3748e-07],\n",
      "        [ 1.0892e-06],\n",
      "        [ 4.9857e-07],\n",
      "        [ 5.7968e-06],\n",
      "        [ 2.0423e-06],\n",
      "        [ 4.8304e-07],\n",
      "        [ 8.4607e-06],\n",
      "        [ 4.1536e-06],\n",
      "        [ 2.2619e-07],\n",
      "        [ 4.2239e-07],\n",
      "        [ 4.5140e-06],\n",
      "        [ 1.7642e-07],\n",
      "        [ 3.1419e-06],\n",
      "        [ 4.7416e-07],\n",
      "        [ 1.8514e-06],\n",
      "        [ 4.2741e-07],\n",
      "        [ 1.6619e-07],\n",
      "        [ 6.4214e-07],\n",
      "        [ 5.8833e-07],\n",
      "        [ 4.2260e-06],\n",
      "        [ 2.0496e-07],\n",
      "        [ 3.6760e-06],\n",
      "        [ 8.7313e-07],\n",
      "        [ 3.1518e-07],\n",
      "        [ 1.3815e-07],\n",
      "        [ 3.1339e-07],\n",
      "        [ 4.2874e-06],\n",
      "        [ 2.3686e-06],\n",
      "        [ 1.2656e-06],\n",
      "        [ 1.0366e-06],\n",
      "        [ 1.0177e-06],\n",
      "        [ 5.9626e-06],\n",
      "        [ 7.8559e-07],\n",
      "        [ 2.4050e-07],\n",
      "        [ 4.6603e-06],\n",
      "        [ 2.7824e-06],\n",
      "        [ 1.0899e-06],\n",
      "        [ 4.9419e-07],\n",
      "        [ 9.6947e-07],\n",
      "        [ 4.3595e-07],\n",
      "        [ 3.6816e-06],\n",
      "        [ 1.8592e-07],\n",
      "        [ 9.4161e-08],\n",
      "        [ 3.0155e-07],\n",
      "        [ 8.5942e-06],\n",
      "        [ 3.6487e-07],\n",
      "        [ 6.4823e-07],\n",
      "        [ 5.3735e-07],\n",
      "        [ 9.3258e-07],\n",
      "        [ 4.9981e-07],\n",
      "        [ 6.1747e-07],\n",
      "        [ 4.9267e-06],\n",
      "        [ 8.2901e-06],\n",
      "        [ 1.2906e-06],\n",
      "        [ 1.7640e-07],\n",
      "        [ 1.0470e-06],\n",
      "        [-8.8945e-09],\n",
      "        [ 2.9179e-06],\n",
      "        [ 2.3737e-07],\n",
      "        [ 2.9166e-07],\n",
      "        [ 4.7235e-07],\n",
      "        [ 4.6472e-06],\n",
      "        [ 5.5009e-06],\n",
      "        [ 3.5177e-07],\n",
      "        [ 6.7941e-08],\n",
      "        [ 1.0933e-06],\n",
      "        [ 5.8581e-06],\n",
      "        [ 2.1517e-07],\n",
      "        [ 1.3074e-06],\n",
      "        [ 9.7904e-07],\n",
      "        [ 2.9326e-07],\n",
      "        [ 8.0907e-07],\n",
      "        [ 2.0102e-06],\n",
      "        [ 9.5617e-06],\n",
      "        [ 4.8754e-07],\n",
      "        [ 3.4756e-07],\n",
      "        [ 4.8806e-06],\n",
      "        [ 1.4329e-06],\n",
      "        [ 3.0481e-06],\n",
      "        [ 3.0904e-07],\n",
      "        [ 8.0565e-07],\n",
      "        [ 9.3561e-07],\n",
      "        [ 6.5648e-07],\n",
      "        [ 2.2766e-07],\n",
      "        [ 5.2827e-06],\n",
      "        [ 1.2320e-06],\n",
      "        [ 1.8311e-06],\n",
      "        [ 1.9280e-06],\n",
      "        [ 2.1332e-06],\n",
      "        [ 8.8527e-07],\n",
      "        [ 9.1127e-08],\n",
      "        [ 9.4543e-07],\n",
      "        [ 4.0398e-07],\n",
      "        [ 5.5592e-06],\n",
      "        [ 6.9685e-07],\n",
      "        [ 2.2464e-07],\n",
      "        [ 2.0592e-06],\n",
      "        [ 5.7750e-07],\n",
      "        [ 3.6591e-06],\n",
      "        [ 9.4036e-06],\n",
      "        [ 3.4097e-07],\n",
      "        [ 1.6884e-06],\n",
      "        [ 4.6495e-07],\n",
      "        [ 5.8529e-07],\n",
      "        [ 2.2435e-06],\n",
      "        [ 2.9780e-07],\n",
      "        [ 7.8470e-07],\n",
      "        [ 4.3095e-07],\n",
      "        [ 8.1102e-07],\n",
      "        [ 3.1565e-07],\n",
      "        [ 4.7335e-07],\n",
      "        [ 3.8940e-07],\n",
      "        [ 4.6066e-07],\n",
      "        [-1.8105e-08],\n",
      "        [ 3.0029e-06],\n",
      "        [ 6.3613e-07],\n",
      "        [ 2.7728e-06],\n",
      "        [ 9.4252e-06],\n",
      "        [ 9.0621e-06],\n",
      "        [ 1.9881e-06],\n",
      "        [ 4.5873e-07],\n",
      "        [ 8.6336e-07],\n",
      "        [ 4.6638e-07],\n",
      "        [ 2.9725e-07],\n",
      "        [ 8.5832e-07],\n",
      "        [ 3.7308e-07],\n",
      "        [ 4.1568e-07],\n",
      "        [ 1.7912e-06],\n",
      "        [ 4.3112e-06],\n",
      "        [ 4.9849e-07],\n",
      "        [ 9.2889e-07],\n",
      "        [ 7.9868e-07],\n",
      "        [ 1.2214e-06],\n",
      "        [ 1.2501e-06],\n",
      "        [ 5.2883e-06],\n",
      "        [ 2.9764e-06],\n",
      "        [ 9.4679e-07],\n",
      "        [ 6.4625e-06],\n",
      "        [ 1.2777e-06],\n",
      "        [ 5.5106e-07],\n",
      "        [ 3.1337e-06],\n",
      "        [ 3.3101e-06],\n",
      "        [ 4.1411e-07],\n",
      "        [ 2.2060e-06],\n",
      "        [ 3.6166e-07],\n",
      "        [ 9.9258e-06],\n",
      "        [ 2.9253e-06],\n",
      "        [ 6.4498e-06],\n",
      "        [ 7.6598e-07],\n",
      "        [ 3.7374e-07],\n",
      "        [ 5.1895e-07],\n",
      "        [ 1.2000e-06],\n",
      "        [ 7.1604e-07],\n",
      "        [ 5.8228e-07],\n",
      "        [ 1.0550e-06],\n",
      "        [ 3.8915e-06],\n",
      "        [ 9.1122e-06],\n",
      "        [ 4.5103e-07],\n",
      "        [ 2.0035e-07],\n",
      "        [ 5.9585e-07],\n",
      "        [ 5.6993e-06],\n",
      "        [ 4.3273e-06],\n",
      "        [ 3.1242e-06],\n",
      "        [ 8.8440e-07],\n",
      "        [ 1.4001e-06],\n",
      "        [ 2.9777e-06],\n",
      "        [ 7.6193e-07],\n",
      "        [ 2.8163e-06],\n",
      "        [ 4.6009e-06],\n",
      "        [ 5.1379e-07],\n",
      "        [ 6.8878e-07],\n",
      "        [ 3.1877e-07],\n",
      "        [ 8.4400e-07],\n",
      "        [ 5.1080e-06],\n",
      "        [ 3.7524e-06],\n",
      "        [ 3.3706e-06],\n",
      "        [-1.1850e-07],\n",
      "        [ 9.0784e-06],\n",
      "        [ 8.5170e-07],\n",
      "        [ 1.1592e-06],\n",
      "        [ 6.7364e-06],\n",
      "        [ 2.8050e-07],\n",
      "        [ 3.0672e-06],\n",
      "        [ 2.2754e-07],\n",
      "        [ 6.6274e-07],\n",
      "        [ 4.5997e-06],\n",
      "        [ 7.8880e-07],\n",
      "        [ 4.8488e-07],\n",
      "        [ 1.8017e-06],\n",
      "        [ 3.3094e-06]], device='cuda:0')\n",
      "torch.Size([500, 6])\n",
      "torch.Size([500, 4])\n",
      "torch.Size([500, 1])\n"
     ]
    }
   ],
   "source": [
    "pred_idx = restored_predictions.shape[0]\n",
    "\n",
    "restored_predictions[:,:testing_num_layers] = torch.clamp(restored_predictions[:,:testing_num_layers], min=0.0)\n",
    "restored_predictions[:,testing_num_layers:testing_num_layers*2+1] = torch.clamp(restored_predictions[:,testing_num_layers:testing_num_layers*2+1], min=0.0)\n",
    "\n",
    "eval_thicknesses = restored_predictions[:pred_idx,:testing_num_layers]\n",
    "eval_roughnesses = restored_predictions[:pred_idx,testing_num_layers:testing_num_layers*2+1]\n",
    "eval_slds = restored_predictions[:pred_idx,testing_num_layers*2+1:-1]\n",
    "eval_background = restored_predictions[:pred_idx,-1]\n",
    "eval_background = eval_background.unsqueeze(1) \n",
    "\n",
    "repeated_eval_thicknesses = eval_thicknesses.repeat(1,layer_repeats_setter)\n",
    "eval_roughnesses_after_sub = eval_roughnesses[:,1:]\n",
    "repeated_eval_roughnesses = torch.cat([eval_roughnesses[:,:1],eval_roughnesses_after_sub.repeat(1,layer_repeats_setter)], dim=1)\n",
    "eval_slds_after_sub = eval_slds[:,1:]\n",
    "repeated_eval_slds = torch.cat([eval_slds[:,:1],eval_slds_after_sub.repeat(1,layer_repeats_setter)], dim=1)\n",
    "\n",
    "restored_predictions_final = torch.cat([repeated_eval_thicknesses,repeated_eval_roughnesses,repeated_eval_slds,eval_background],dim=1)\n",
    "\n",
    "print(f'Predicted thicknesses: {repeated_eval_thicknesses}')\n",
    "print(f'Predicted roughnesses: {repeated_eval_roughnesses}')\n",
    "print(f'Predicted layer SLDs: {repeated_eval_slds}')\n",
    "print(f'Predicted Background: {eval_background}')\n",
    "\n",
    "print(repeated_eval_thicknesses.shape)\n",
    "print(eval_slds.shape)\n",
    "print(eval_background.shape)"
   ]
  },
  {
   "cell_type": "code",
   "execution_count": 85,
   "metadata": {},
   "outputs": [],
   "source": [
    "# -*- coding: utf-8 -*-\n",
    "\n",
    "import torch\n",
    "from torch import Tensor\n",
    "\n",
    "from reflectorch.data_generation.reflectivity.abeles import abeles_compiled, abeles\n",
    "from reflectorch.data_generation.reflectivity.memory_eff import abeles_memory_eff\n",
    "from reflectorch.data_generation.reflectivity.numpy_implementations import (\n",
    "    kinematical_approximation_np,\n",
    "    abeles_np,\n",
    ")\n",
    "from reflectorch.data_generation.reflectivity.smearing import abeles_constant_smearing\n",
    "from reflectorch.data_generation.reflectivity.smearing_pointwise import abeles_pointwise_smearing\n",
    "from reflectorch.data_generation.reflectivity.kinematical import kinematical_approximation\n",
    "\n",
    "\n",
    "def custom_reflectivity(\n",
    "        q: Tensor,\n",
    "        thickness: Tensor,\n",
    "        roughness: Tensor,\n",
    "        sld: Tensor,\n",
    "        dq: Tensor = None,\n",
    "        gauss_num: int = 51,\n",
    "        constant_dq: bool = False,\n",
    "        log: bool = False,\n",
    "        q_shift: Tensor = 0.0,\n",
    "        r_scale: Tensor = 1.0,\n",
    "        background: Tensor = 0.0,\n",
    "        solvent_vf = None,\n",
    "        solvent_mode = 'fronting',\n",
    "        abeles_func = None,\n",
    "        **abeles_kwargs\n",
    "):\n",
    "    \"\"\"Function which computes the reflectivity curves from thin film parameters. \n",
    "    By default it uses the fast implementation of the Abeles matrix formalism.\n",
    "\n",
    "    Args:\n",
    "        q (Tensor): tensor of momentum transfer (q) values with shape [batch_size, n_points] or [n_points]\n",
    "        thickness (Tensor): tensor containing the layer thicknesses (ordered from top to bottom) with shape [batch_size, n_layers]\n",
    "        roughness (Tensor): tensor containing the interlayer roughnesses (ordered from top to bottom) with shape [batch_size, n_layers + 1]\n",
    "        sld (Tensor): tensor containing the layer SLDs (real or complex; ordered from top to bottom) with shape \n",
    "            [batch_size, n_layers + 1] (excluding ambient SLD which is assumed to be 0)  or [batch_size, n_layers + 2] (including ambient SLD; only for the default ``abeles_func='abeles'``) \n",
    "        dq (Tensor, optional): tensor of resolutions used for curve smearing with shape [batch_size, 1].\n",
    "                            Either dq if ``constant_dq`` is ``True`` or dq/q if ``constant_dq`` is ``False``. Defaults to None.\n",
    "        gauss_num (int, optional): the number of gaussians for curve smearing. Defaults to 51.\n",
    "        constant_dq (bool, optional): if ``True`` the smearing is constant (constant dq at each point in the curve) \n",
    "                                    otherwise the smearing is linear (constant dq/q at each point in the curve). Defaults to False.\n",
    "        log (bool, optional): if True the base 10 logarithm of the reflectivity curves is returned. Defaults to False.\n",
    "        q_shift (float or Tensor, optional): misalignment in q.\n",
    "        r_scale (float or Tensor, optional): normalization factor (scales reflectivity).\n",
    "        background (float or Tensor, optional): background intensity.\n",
    "        abeles_func (Callable, optional): a function implementing the simulation of the reflectivity curves, if different than the default Abeles matrix implementation ('abeles'). Defaults to None.\n",
    "        abeles_kwargs: Additional arguments specific to the chosen `abeles_func`.\n",
    "    Returns:\n",
    "        Tensor: the computed reflectivity curves\n",
    "    \"\"\"\n",
    "    abeles_func = abeles_func or abeles\n",
    "    q = torch.atleast_2d(q) + q_shift\n",
    "    q = torch.clamp(q, min=0.0)\n",
    "    \n",
    "    if solvent_vf is not None:\n",
    "        num_layers = thickness.shape[-1]\n",
    "        if solvent_mode == 'fronting':\n",
    "            assert sld.shape[-1] == num_layers + 2\n",
    "            assert solvent_vf.shape[-1] == num_layers\n",
    "            solvent_sld = sld[..., [0]]\n",
    "            idx = slice(1, num_layers)\n",
    "            sld[..., idx] = solvent_vf * solvent_sld + (1.0 - solvent_vf) * sld[..., idx]\n",
    "        elif solvent_mode == 'backing':\n",
    "            solvent_sld = sld[..., [-1]]\n",
    "            idx = slice(1, num_layers) if sld.shape[-1] == num_layers + 2 else slice(0, num_layers)\n",
    "            sld[..., idx] = solvent_vf * solvent_sld + (1.0 - solvent_vf) * sld[..., idx]\n",
    "        else:\n",
    "            raise NotImplementedError\n",
    "\n",
    "    if dq is None:\n",
    "        reflectivity_curves = abeles_func(q, thickness, roughness, sld, **abeles_kwargs)\n",
    "    else:\n",
    "        if dq.shape[-1] > 1:\n",
    "            reflectivity_curves = abeles_pointwise_smearing(\n",
    "                    q=q, dq=dq, thickness=thickness, roughness=roughness, sld=sld, \n",
    "                    abeles_func=abeles_func, gauss_num=gauss_num,\n",
    "                    **abeles_kwargs,\n",
    "            )\n",
    "        else:\n",
    "            reflectivity_curves = abeles_constant_smearing(\n",
    "                q, thickness, roughness, sld,\n",
    "                dq=dq, gauss_num=gauss_num, constant_dq=constant_dq, abeles_func=abeles_func,\n",
    "                **abeles_kwargs,\n",
    "            )\n",
    "\n",
    "    if isinstance(r_scale, Tensor):\n",
    "        r_scale = r_scale.view(-1, *[1] * (reflectivity_curves.dim() - 1))\n",
    "    if isinstance(background, Tensor):\n",
    "        background = background.view(-1, *[1] * (reflectivity_curves.dim() - 1))\n",
    "\n",
    "    reflectivity_curves = reflectivity_curves * r_scale + background\n",
    "\n",
    "    if log:\n",
    "        reflectivity_curves = torch.log10(reflectivity_curves)\n",
    "\n",
    "    return reflectivity_curves\n",
    "\n",
    "from reflectorch.data_generation.reflectivity import abeles\n"
   ]
  },
  {
   "cell_type": "code",
   "execution_count": null,
   "metadata": {},
   "outputs": [
    {
     "name": "stdout",
     "output_type": "stream",
     "text": [
      "torch.Size([600])\n",
      "torch.Size([500, 600])\n",
      "(500, 600)\n"
     ]
    }
   ],
   "source": [
    "testing_q_values_tensor = torch.tensor(testing_q_values).float().to(\"cuda\")\n",
    "predicted_curves = custom_reflectivity(testing_q_values_tensor,repeated_eval_thicknesses , repeated_eval_roughnesses, repeated_eval_slds, abeles_func = abeles)\n",
    "predicted_curves = predicted_curves + eval_background.unsqueeze(1)\n",
    "predicted_curves = predicted_curves[0]\n",
    "\n",
    "print(predicted_curves[0].shape)\n",
    "print(predicted_curves.shape)\n",
    "print(testing_curves.shape)"
   ]
  },
  {
   "cell_type": "code",
   "execution_count": 111,
   "metadata": {},
   "outputs": [],
   "source": [
    "from reflectorch import get_param_labels, get_density_profiles\n",
    "\n",
    "#@interact(i=(0, batch_size-1, 1))\n",
    "def plot_refl_curve(testing_params,predictions,num_layers,i=0):\n",
    "     fig, ax = plt.subplots(1,2,figsize=(12,6))\n",
    "\n",
    "     ax[0].set_yscale('log')\n",
    "     ax[0].set_ylim(0.5e-10, 5)\n",
    "\n",
    "     ax[0].set_xlabel('q [$Å^{-1}$]', fontsize=20)\n",
    "     ax[0].set_ylabel('R(q)', fontsize=20)\n",
    "\n",
    "     ax[0].tick_params(axis='both', which='major', labelsize=15)\n",
    "     ax[0].tick_params(axis='both', which='minor', labelsize=15)\n",
    "\n",
    "     y_tick_locations = [10**(-2*i) for i in range(6)]\n",
    "     ax[0].yaxis.set_major_locator(plt.FixedLocator(y_tick_locations))\n",
    "          \n",
    "     ax[0].plot(eval_q_values[i].cpu().numpy(), predicted_curves[i].cpu().numpy() + 1e-10, c='r', lw=1, label='prediction')\n",
    "     ax[0].scatter(eval_q_values[i].cpu().numpy(), truth_curves[i].cpu().numpy() + 1e-10, facecolors='none', edgecolors='blue', s=8, label='input sim. curve')\n",
    "\n",
    "     ax[0].legend(loc='upper right', fontsize=14)\n",
    "\n",
    "     z_axis = torch.linspace(-200, 1000, 1000, device='cuda')\n",
    "     _, sld_profile_gt, _ = get_density_profiles(\n",
    "          testing_params[:,:num_layers], \n",
    "          testing_params[:,num_layers:num_layers*2+1],\n",
    "          testing_params[:,num_layers*2+1:-1],\n",
    "          z_axis=z_axis)\n",
    "\n",
    "     _, sld_profile_pred, _ = get_density_profiles(\n",
    "          predictions[:,:num_layers], \n",
    "          predictions[:,num_layers:num_layers*2+1],\n",
    "          predictions[:,num_layers*2+1:-1],\n",
    "          z_axis=z_axis)\n",
    "\n",
    "     ax[1].plot(z_axis.cpu().numpy(), sld_profile_pred[i].cpu().numpy(), c='r', label='prediction')\n",
    "     ax[1].plot(z_axis.cpu().numpy(), sld_profile_gt[i].cpu().numpy(), c='b', label='ground truth')\n",
    "\n",
    "     ax[1].set_xlabel('z [$Å$]', fontsize=20)\n",
    "     ax[1].set_ylabel('SLD [$10^{-6} Å^{-2}$]', fontsize=20)\n",
    "     ax[1].tick_params(axis='both', which='major', labelsize=15)\n",
    "     ax[1].tick_params(axis='both', which='minor', labelsize=15)\n",
    "\n",
    "     ax[1].legend(loc='lower right', fontsize=14)\n",
    "\n",
    "     plt.tight_layout()\n",
    "\n",
    "    #for l, t, p, min_b, max_b in zip(\n",
    "     #     get_param_labels(num_layers),\n",
    "     #     params.parameters[i], \n",
    "     #     restored_predictions.parameters[i], \n",
    "     #     restored_predictions.min_bounds[i], \n",
    "     #     restored_predictions.max_bounds[i]\n",
    "     #     ):\n",
    "     #    print(f'{l.ljust(14)} --> True: {t:.2f} Predicted: {p:.2f}  Input prior bounds: ({min_b:.2f}, {max_b:.2f})')"
   ]
  },
  {
   "cell_type": "code",
   "execution_count": 123,
   "metadata": {},
   "outputs": [
    {
     "name": "stdout",
     "output_type": "stream",
     "text": [
      "torch.Size([500, 600])\n",
      "Actual thickness  tensor([32.0917, 59.6717, 11.7856, 32.0917, 59.6717, 11.7856], device='cuda:0',\n",
      "       dtype=torch.float64)\n",
      "Prediction thickness  tensor([42.0906, 59.8761,  9.8568, 42.0906, 59.8761,  9.8568], device='cuda:0')\n",
      "Actual SLD  tensor([ 22.7237, 110.8399,  62.2589, 126.4736, 110.8399,  62.2589, 126.4736],\n",
      "       device='cuda:0', dtype=torch.float64)\n",
      "Prediction SLD  tensor([ 22.8684, 110.9567,  62.3974, 126.6044, 110.9567,  62.3974, 126.6044],\n",
      "       device='cuda:0')\n",
      "Actual background  tensor(4.0988e-06, device='cuda:0', dtype=torch.float64)\n",
      "Prediction background  tensor(4.1536e-06, device='cuda:0')\n"
     ]
    },
    {
     "data": {
      "image/png": "[encoded data removed]",
      "text/plain": [
       "<Figure size 1200x600 with 2 Axes>"
      ]
     },
     "metadata": {},
     "output_type": "display_data"
    }
   ],
   "source": [
    "testing_params_cuda = torch.tensor(testing_params).to('cuda')  # move to GPU\n",
    "testing_params_cuda = torch.real(testing_params_cuda)\n",
    "\n",
    "testing_thickness_truth = testing_params_cuda[:,:testing_num_layers]\n",
    "testing_roughness_truth = testing_params_cuda[:,testing_num_layers:testing_num_layers*2+1]\n",
    "testing_sld_truth = testing_params_cuda[:,testing_num_layers*2+1:-1]\n",
    "testing_background_truth = testing_params_cuda[:,-1].unsqueeze(1) \n",
    "\n",
    "testing_thickness_truth = testing_thickness_truth.repeat(1,layer_repeats_setter)\n",
    "roughness_not_substrate = testing_roughness_truth[:,1:]\n",
    "testing_roughness_truth = torch.cat([testing_roughness_truth[:,:1],roughness_not_substrate.repeat(1,layer_repeats_setter)], dim=1)\n",
    "sld_not_substrate = testing_sld_truth[:,1:]\n",
    "testing_sld_truth = torch.cat([testing_sld_truth[:,:1],sld_not_substrate.repeat(1,layer_repeats_setter)], dim=1)\n",
    "\n",
    "testing_params_cuda_final = torch.cat([testing_thickness_truth,testing_roughness_truth,testing_sld_truth,testing_background_truth],dim =1)\n",
    "total_layers = testing_thickness_truth.shape[1]\n",
    "\n",
    "\n",
    "#make testing curves\n",
    "truth_curves = custom_reflectivity(testing_q_values_tensor,testing_thickness_truth , testing_roughness_truth, testing_sld_truth, abeles_func = abeles)\n",
    "last_column = torch.tensor(testing_params[:, -1],device=\"cuda\")\n",
    "truth_curves = truth_curves + last_column.unsqueeze(1)\n",
    "print(truth_curves.shape)\n",
    "#predicted_curves = predicted_curves[0]\n",
    "\n",
    "\n",
    "i = 317\n",
    "plot_refl_curve(testing_params_cuda_final,restored_predictions_final,total_layers,i)\n",
    "print(\"Actual thickness \", testing_thickness_truth[i])\n",
    "print(\"Prediction thickness \", restored_predictions_final[i,:total_layers])\n",
    "print(\"Actual SLD \", testing_sld_truth[i])\n",
    "print(\"Prediction SLD \", restored_predictions_final[i,total_layers*2+1:-1])\n",
    "print(\"Actual background \", testing_params_cuda[i,-1])\n",
    "print(\"Prediction background \", restored_predictions_final[i,-1])"
   ]
  },
  {
   "cell_type": "code",
   "execution_count": 124,
   "metadata": {},
   "outputs": [
    {
     "name": "stdout",
     "output_type": "stream",
     "text": [
      "Actual thicknesses: tensor([32.0917, 59.6717, 11.7856, 32.0917, 59.6717, 11.7856], device='cuda:0',\n",
      "       dtype=torch.float64)\n",
      "Actual roughnesses: tensor([14.5388,  4.5202, 25.4979,  3.7825,  4.5202, 25.4979,  3.7825],\n",
      "       device='cuda:0', dtype=torch.float64)\n",
      "Actual layer SLDs: tensor([ 22.7237, 110.8399,  62.2589, 126.4736, 110.8399,  62.2589, 126.4736],\n",
      "       device='cuda:0', dtype=torch.float64)\n",
      "Actual Background: tensor([4.0988e-06], device='cuda:0', dtype=torch.float64)\n",
      "Predicted thicknesses: tensor([42.0906, 59.8761,  9.8568, 42.0906, 59.8761,  9.8568], device='cuda:0')\n",
      "Predicted roughnesses: tensor([14.4826,  5.0514, 25.6495,  4.2636,  5.0514, 25.6495,  4.2636],\n",
      "       device='cuda:0')\n",
      "Predicted layer SLDs: tensor([ 22.8684, 110.9567,  62.3974, 126.6044, 110.9567,  62.3974, 126.6044],\n",
      "       device='cuda:0')\n",
      "Predicted background: tensor([4.1536e-06], device='cuda:0')\n",
      "Thickness error: 15.954989%\n",
      "Roughness error: 7.216757%\n",
      "SLD error: 0.214189%\n",
      "Background error: 1.334544%\n",
      "Total parameter error: 24.720480% of 317 curve\n",
      "Curve 317 error: 3.182381%\n"
     ]
    }
   ],
   "source": [
    "pred_idx = 317\n",
    "print(f'Actual thicknesses: {testing_thickness_truth[pred_idx]}')\n",
    "print(f'Actual roughnesses: {testing_roughness_truth[pred_idx]}')\n",
    "print(f'Actual layer SLDs: {testing_sld_truth[pred_idx]}')\n",
    "print(f'Actual Background: {testing_background_truth[pred_idx]}')\n",
    "\n",
    "print(f'Predicted thicknesses: {repeated_eval_thicknesses[pred_idx]}')\n",
    "print(f'Predicted roughnesses: {repeated_eval_roughnesses[pred_idx]}')\n",
    "print(f'Predicted layer SLDs: {repeated_eval_slds[pred_idx]}')\n",
    "print(f'Predicted background: {eval_background[pred_idx]}')\n",
    "\n",
    "def loss(pred, true):\n",
    "    percentage_error = torch.abs((true - pred) / (true + 1e-8))\n",
    "    return torch.mean(percentage_error) * 100\n",
    "\n",
    "def rmsd(pred, true):\n",
    "    true = torch.as_tensor(true, dtype=torch.float32,device='cuda')\n",
    "    pred = torch.as_tensor(pred, dtype=torch.float32, device = 'cuda')\n",
    "    rmsd = torch.sqrt(torch.mean((true - pred) ** 2))\n",
    "    rmsd_percent = (rmsd / torch.mean(torch.abs(true))) * 100\n",
    "    return torch.mean(rmsd_percent)\n",
    "\n",
    "\n",
    "def evaluate_model(pred_thickness, true_thickness,\n",
    "                   pred_roughness, true_roughness,\n",
    "                   pred_sld, true_sld,\n",
    "                   pred_background, true_background,\n",
    "                   pred_curve,true_curve):\n",
    "    loss_thickness = loss(pred_thickness, true_thickness)\n",
    "    loss_roughness = loss(pred_roughness, true_roughness)\n",
    "    loss_sld = loss(pred_sld, true_sld)\n",
    "    loss_background = loss(pred_background, true_background)\n",
    "    loss_curve = rmsd(pred_curve,true_curve)\n",
    "\n",
    "    print(f\"Thickness error: {loss_thickness:.6f}%\")\n",
    "    print(f\"Roughness error: {loss_roughness:.6f}%\")\n",
    "    print(f\"SLD error: {loss_sld:.6f}%\")\n",
    "    print(f\"Background error: {loss_background:.6f}%\")\n",
    "\n",
    "    return loss_thickness, loss_roughness, loss_sld,loss_background,loss_curve\n",
    "\n",
    "loss_t, loss_r, loss_s, loss_b,loss_curve = evaluate_model(\n",
    "    repeated_eval_thicknesses[pred_idx], testing_thickness_truth[pred_idx],\n",
    "    repeated_eval_roughnesses[pred_idx], testing_roughness_truth[pred_idx],\n",
    "    repeated_eval_slds[pred_idx],testing_sld_truth[pred_idx],\n",
    "    eval_background[pred_idx], testing_background_truth[pred_idx],\n",
    "    predicted_curves[pred_idx],truth_curves[pred_idx]\n",
    ")\n",
    "\n",
    "total_loss = loss_t+ loss_r+ loss_s+loss_b\n",
    "print(f\"Total parameter error: {total_loss:.6f}% of {pred_idx} curve\")\n",
    "\n",
    "print(f\"Curve {pred_idx} error: {loss_curve:.6f}%\")"
   ]
  },
  {
   "cell_type": "code",
   "execution_count": 125,
   "metadata": {},
   "outputs": [
    {
     "name": "stdout",
     "output_type": "stream",
     "text": [
      "Thickness error: 34.183573%\n",
      "Roughness error: 55.688519%\n",
      "SLD error: 0.769057%\n",
      "Background error: 29.414421%\n",
      "Total error of paraemters: 120.055570% of each curve\n",
      "Total error of Curves: 11.892382\n"
     ]
    }
   ],
   "source": [
    "loss_t, loss_r, loss_s, loss_b,loss_curve = evaluate_model(\n",
    "    repeated_eval_thicknesses, testing_thickness_truth,\n",
    "    repeated_eval_roughnesses, testing_roughness_truth,\n",
    "    repeated_eval_slds,testing_sld_truth,\n",
    "    eval_background, testing_background_truth,\n",
    "    predicted_curves,truth_curves\n",
    ")\n",
    "\n",
    "total_loss = loss_t+ loss_r+ loss_s+loss_b\n",
    "print(f\"Total error of paraemters: {total_loss:.6f}% of each curve\")\n",
    "\n",
    "print(f\"Total error of Curves: {loss_curve:.6f}\")"
   ]
  },
  {
   "cell_type": "markdown",
   "metadata": {},
   "source": [
    ":::{tip}\n",
    ":class: dropdown\n",
    "\n",
    "The saved weights can be loaded into a compatible neural network (`net`) as:\n",
    "\n",
    "```python\n",
    "saved_dict = torch.load(save_path)\n",
    "model_state_dict = saved_dict['model']\n",
    "net.load_state_dict(model_state_dict)\n",
    "```\n",
    "\n",
    ":::"
   ]
  },
  {
   "cell_type": "markdown",
   "metadata": {},
   "source": [
    "The model state dictionaries of all the saved '.pt' files in a directory can be further converted to the '.safetensors' format for exporting to Huggingface using the `convert_pt_to_safetensors` method."
   ]
  },
  {
   "cell_type": "markdown",
   "metadata": {},
   "source": [
    "### Training from the terminal"
   ]
  },
  {
   "cell_type": "markdown",
   "metadata": {},
   "source": [
    "Above we described the workflow for training a model in a Jupyter Notebook, where we loaded the trainer from the configuration file but defined the callbacks manually. Alternatively, one can train a model from the terminal (in this case the callbacks defined in the configuration file are used):\n",
    "\n",
    "```bash\n",
    "python -m reflectorch.train config_name\n",
    "``` \n"
   ]
  },
  {
   "cell_type": "markdown",
   "metadata": {},
   "source": [
    "## Customizing the YAML configuration for training"
   ]
  },
  {
   "cell_type": "markdown",
   "metadata": {
    "tags": []
   },
   "source": [
    "In the following we show how the YAML configuration file can be customized."
   ]
  },
  {
   "cell_type": "markdown",
   "metadata": {},
   "source": [
    "```{dropdown} Sample YAML configuration\n",
    "```yaml\n",
    "\n",
    "general:\n",
    "  name: a_base_point_xray_conv_standard\n",
    "  root_dir: null\n",
    "  \n",
    "dset:\n",
    "  cls: ReflectivityDataLoader\n",
    "  prior_sampler:\n",
    "    cls: SubpriorParametricSampler\n",
    "    kwargs:\n",
    "      param_ranges:\n",
    "        thicknesses: [1., 500.]\n",
    "        roughnesses: [0., 60.]\n",
    "        slds: [0., 50.]\n",
    "      bound_width_ranges:\n",
    "        thicknesses: [1.0e-2, 500.]\n",
    "        roughnesses: [1.0e-2, 60.]\n",
    "        slds: [1.0e-2, 5.]\n",
    "      model_name: standard_model\n",
    "      max_num_layers: 2\n",
    "      constrained_roughness: true\n",
    "      max_thickness_share: 0.5\n",
    "      logdist: false\n",
    "      scale_params_by_ranges: false\n",
    "      scaled_range: [-1., 1.]\n",
    "      device: 'cuda'\n",
    "      \n",
    "  q_generator:\n",
    "    cls: ConstantQ\n",
    "    kwargs:\n",
    "      q: [0.02, 0.15, 128]\n",
    "      device: 'cuda'\n",
    "      \n",
    "  intensity_noise:\n",
    "    cls: GaussianExpIntensityNoise\n",
    "    kwargs:\n",
    "      relative_errors: [0.01, 0.3]\n",
    "      consistent_rel_err: false\n",
    "      apply_shift: true\n",
    "      shift_range: [-0.3, 0.3]\n",
    "      add_to_context: true\n",
    "\n",
    "  curves_scaler:\n",
    "    cls: LogAffineCurvesScaler\n",
    "    kwargs:\n",
    "      weight: 0.2\n",
    "      bias: 1.0\n",
    "      eps: 1.0e-10\n",
    "\n",
    "model:\n",
    "  network:\n",
    "    cls: NetworkWithPriors\n",
    "    pretrained_name: null\n",
    "    device: 'cuda'\n",
    "    kwargs:\n",
    "      embedding_net_type: 'conv'\n",
    "      embedding_net_kwargs:\n",
    "        in_channels: 1\n",
    "        hidden_channels: [32, 64, 128, 256, 512]\n",
    "        kernel_size: 3\n",
    "        dim_embedding: 128\n",
    "        dim_avpool: 1\n",
    "        use_batch_norm: true\n",
    "        use_se: false\n",
    "        activation: 'gelu'\n",
    "      pretrained_embedding_net: null\n",
    "      dim_out: 8\n",
    "      dim_conditioning_params: 0\n",
    "      layer_width: 512\n",
    "      num_blocks: 8\n",
    "      repeats_per_block: 2\n",
    "      residual: true\n",
    "      use_batch_norm: true\n",
    "      use_layer_norm: false\n",
    "      mlp_activation: 'gelu'\n",
    "      dropout_rate: 0.0 \n",
    "      conditioning: 'film'\n",
    "      concat_condition_first_layer: false\n",
    "       \n",
    "training:\n",
    "  trainer_cls: PointEstimatorTrainer\n",
    "  num_iterations: 10000\n",
    "  batch_size: 4096\n",
    "  lr: 1.0e-3\n",
    "  grad_accumulation_steps: 1\n",
    "  clip_grad_norm_max: null\n",
    "  update_tqdm_freq: 1\n",
    "  optimizer: AdamW\n",
    "  trainer_kwargs:\n",
    "    train_with_q_input: false\n",
    "    condition_on_q_resolutions: false\n",
    "    rescale_loss_interval_width: true\n",
    "    use_l1_loss: true\n",
    "    optim_kwargs:\n",
    "      betas: [0.9, 0.999]\n",
    "      weight_decay: 0.0005\n",
    "  callbacks:\n",
    "    save_best_model:\n",
    "      enable: true\n",
    "      freq: 500\n",
    "    lr_scheduler:\n",
    "      cls: CosineAnnealingWithWarmup\n",
    "      kwargs:\n",
    "        min_lr: 1.0e-6\n",
    "        warmup_iters: 500\n",
    "        total_iters: 10000\n",
    "\n",
    "  logger:\n",
    "    cls: TensorBoardLogger\n",
    "    kwargs:\n",
    "      log_dir: \"tensorboard_runs/test_1\"\n",
    "```"
   ]
  },
  {
   "cell_type": "markdown",
   "metadata": {},
   "source": [
    "The `general` key, contains the following subkeys:\n",
    "\n",
    "- `name` - name used for saving the model\n",
    "- `root` - path to the root directory, defaults to the package directory"
   ]
  },
  {
   "cell_type": "markdown",
   "metadata": {
    "tags": []
   },
   "source": [
    "```yaml\n",
    "general:\n",
    "  name: a_base_point_xray_conv_standard\n",
    "  root_dir: null\n",
    "```"
   ]
  },
  {
   "cell_type": "markdown",
   "metadata": {},
   "source": [
    "The `dset` key defines the settings pertaining to the data generation (i.e. the SLD profile parameterization, the ranges of the thin film parameters, the q values, the noise added to the reflectivity curves and the scaling of the reflectivity curves). It has the following subkeys:"
   ]
  },
  {
   "cell_type": "markdown",
   "metadata": {},
   "source": [
    "1. `cls` (*optional*) - the class of the data loader. If not provided, the default class `ReflectivityDataLoader` is used."
   ]
  },
  {
   "cell_type": "markdown",
   "metadata": {},
   "source": [
    "2. `prior_sampler` - responsible for defining the type of SLD parameterization, the ranges from which the thin film parameters are sampled and the ranges from which the widths of the prior bounds are sampled. The `SubpriorParametricSampler` class first samples a center (**C**) from the parameter ranges and a width (**W**) from the bound width ranges. This defines a subinterval delimited by the minimum prior bound **B_min** = **C** - **W**/2 and the maximum prior bound **B_max** = **C** + **W**/2. Then, the values of the parameters (to be used for simulating the reflectivity curves and as ground truth) are uniformly sampled within the interval [**B_min**, **B_max**]. It has the following keyword arguments:\n",
    "- `model_name` - name associated with the type of SLD parameterization. Here, `standard_model` represents the standard box model parameterization of the SLD with the parameters thickness, roughness and real layer SLD.\n",
    "- `max_num_layers` - the number of layers in the thin film (in addition to the substrate)\n",
    "- `param_ranges` - the ranges from which the values of each type of thin film parameter are uniformly sampled (for the standard model `thicknesses`, `roughnesses` and `slds`) \n",
    "- `bound_width_ranges` - the ranges from which the prior bound widths of each type of thin film parameter are uniformly sampled. If the argument `logdist` is set to `true`, the prior bound widths are sampled uniformly on a logarithmic scale instead, biasing the training towards smaller prior bound widths.\n",
    "- `constrained_roughness` - if `true` the sampling of the roughness parameters is constrained such that the roughness of an interface between two layers does not exceed a fraction (defined by the argument `max_thickness_share`) of the thickness of either one of those layers.\n",
    "- `max_total_thickness` (optional) - if provided, the sampling is performed such that the sum of the sampled layer thicknesses does not exceed this value\n",
    "- `scale_params_by_ranges` - if `true` the parameters are scaled with respect to their ranges, otherwise they are scaled with respect to their subprior bound interval. The default is `false`.\n",
    "- `scaled_range` - the ML-friendly range to which the parameters (and prior bounds) are scaled to, the default is [-1, 1]\n",
    "- `device` - default is `'cuda'` for GPU use, can be changed to `'cpu'` for CPU use"
   ]
  },
  {
   "cell_type": "markdown",
   "metadata": {},
   "source": [
    "```{figure} FigureReflectometryNetwork.png\n",
    ":scale: 25\n",
    ":align: center\n",
    ":name: figure_reflectometry_network\n",
    "(a) Parameter sampling process (b) Neural network architecture\n",
    "```"
   ]
  },
  {
   "cell_type": "markdown",
   "metadata": {},
   "source": [
    "```yaml\n",
    "dset:\n",
    "  cls: ReflectivityDataLoader\n",
    "  prior_sampler:\n",
    "    cls: SubpriorParametricSampler\n",
    "    kwargs:\n",
    "      param_ranges:\n",
    "        thicknesses: [1., 500.]\n",
    "        roughnesses: [0., 60.]\n",
    "        slds: [0., 50.]\n",
    "      bound_width_ranges:\n",
    "        thicknesses: [1.0e-2, 500.]\n",
    "        roughnesses: [1.0e-2, 60.]\n",
    "        slds: [1.0e-2, 5.]\n",
    "      model_name: standard_model\n",
    "      max_num_layers: 2\n",
    "      constrained_roughness: true\n",
    "      max_thickness_share: 0.5\n",
    "      logdist: false\n",
    "      scale_params_by_ranges: false\n",
    "      scaled_range: [-1., 1.]\n",
    "      device: 'cuda'\n",
    "```"
   ]
  },
  {
   "cell_type": "markdown",
   "metadata": {},
   "source": [
    "3. `q_generator` - responsible for generating the transfer vector (q) values at which the reflectivity is to be simulated. We must first specifiy its class. The `ConstantQ` class generates a fixed discretization for all the reflectivity curves in the batch. Its `q` keyword argument is a tuple formatted as *[q_min, q_max, num_q_points]*, which defines the minimum q value, the maximum q value as well as the number of points (including the interval boundaries) to be equidistantly sampled. Other q generator classes are available such as `VariableQ` (equidistant grid with variable *q_min*, *q_max* and *num_q_points*, further described in the *Advanced functionality* section) and `ConstantAngle` which generates the grid of q values based on equidistantlly sampled scattering angles and the wavelength of the beam. The `device` argument can be changed to `'cpu'` for CPU use (default is `'cuda'` for GPU use)."
   ]
  },
  {
   "cell_type": "markdown",
   "metadata": {},
   "source": [
    "```yaml\n",
    "\n",
    "dset:\n",
    "  q_generator:\n",
    "    cls: ConstantQ\n",
    "    kwargs:\n",
    "      q: [0.02, 0.15, 128]\n",
    "      device: 'cuda'\n",
    "      \n",
    "```      "
   ]
  },
  {
   "cell_type": "markdown",
   "metadata": {},
   "source": [
    "4. `q_noise` (*optional*) - responsible for adding noise to the generated q values, which emulates possible measurement errors due to sample misalignment. The `BasicQNoiseGenerator` class can add both systematic q shifts (the same change applied to all q points of a curve) and random noise (different changes applied to each q point of a curve) to the q values of the batch of curves, it has the following arguments:\n",
    "- `shift_std` - the standard deviation of the normal distribution for sampling the systematic q shifts (one value sampled per curve in the batch)\n",
    "- `noise_std` - the standard deviation of the normal distribution for sampling the random q noise (one value sampled per point in the curve). The standard deviation is the same for all curves in the batch if provided as a float, or uniformly sampled from a range for each curve in the batch if provided as a tuple."
   ]
  },
  {
   "cell_type": "markdown",
   "metadata": {},
   "source": [
    "```yaml\n",
    "dset:\n",
    "  q_noise:\n",
    "    cls: BasicQNoiseGenerator\n",
    "    kwargs:\n",
    "      shift_std: 1.0e-3\n",
    "      noise_std: [0., 1.0e-3]\n",
    "```"
   ]
  },
  {
   "cell_type": "markdown",
   "metadata": {},
   "source": [
    "5. `intensity_noise` - responsible for adding noise to the intensity values of the reflectivity curves.\n",
    "\n",
    "    The `GaussianExpIntensityNoise` combines three types of noise:\n",
    "    - Gaussian noise: Applies Gaussian noise to account for count-based Poisson noise as well as other sources of error.\n",
    "    - Shift noise: Applies a multiplicative scaling to the curves, equivalent to a vertical shift in logarithmic space.\n",
    "    - Background noise: Adds a constant background to the curves.\n",
    "\n",
    "    It has the following arguments:\n",
    "    - `relative_errors` - range of relative errors for Gaussian noise.\n",
    "    - `consistent_rel_err` - if `true`, uses a consistent relative error for Gaussian noise across all points in a curve.\n",
    "    - `apply_shift` - if `true`, applies shift noise to the curves.\n",
    "    - `shift_range` - range of shift factors for shift noise.\n",
    "    - `apply_background` - if `true`, applies background noise to the curves.\n",
    "    - `background_range` - range for background values."
   ]
  },
  {
   "cell_type": "markdown",
   "metadata": {},
   "source": [
    "```yaml\n",
    "intensity_noise:\n",
    "  cls: GaussianExpIntensityNoise\n",
    "  kwargs:\n",
    "    relative_errors: [0.01, 0.3]\n",
    "    consistent_rel_err: false\n",
    "    apply_shift: true\n",
    "    shift_range: [-0.3, 0.3]\n",
    "    apply_background: false\n",
    "    background_range: [1.0e-10, 1.0e-4]\n",
    "    add_to_context: true\n",
    "```"
   ]
  },
  {
   "cell_type": "markdown",
   "metadata": {},
   "source": [
    "6. `smearing` (*optional*) - responsible for adding resolution smearing to the curves (which can occur in neutron experiments due to uncertainties in incident angle  or wavelength). The intensity at a q point will be the average of the intensities of neighbouring q points, weighted by a gaussian profile. The arguments of the `Smearing` class are:\n",
    "- `sigma_range` - the range for sampling the resolutions\n",
    "- `constant_dq` - if `True` the smearing is constant (the resolution is given by the constant dq at each point in the curve, i.e. x-ray variant), otherwise the smearing is linear (the resolution is given by the constant dq/q at each point in the curve, i.e. neutron variant)\n",
    "- `gauss_num` - the number of points used to define the Gaussian smearing kernel. A higher number increases precision at the cost of computational efficiency.\n",
    "- `share_smeared` - the share of curves in the batch for which the resolution smearing is applied"
   ]
  },
  {
   "cell_type": "markdown",
   "metadata": {},
   "source": [
    "```yaml\n",
    "dset:   \n",
    "  smearing:\n",
    "    cls: Smearing\n",
    "    kwargs:\n",
    "      sigma_range: [0.01, 0.08]\n",
    "      constant_dq: False\n",
    "      gauss_num: 17\n",
    "      share_smeared: 0.8\n",
    "```"
   ]
  },
  {
   "cell_type": "markdown",
   "metadata": {},
   "source": [
    "7. `curves_scaler` - responsible for scaling the reflectivity curves to a ML-friendly range. The `LogAffineCurvesScaler` class scales the reflectivity curves (R) accoring to the formula: \n",
    "\n",
    "$R_{scaled} = log_{10}(R + eps) \\times weight + bias$\n",
    "\n",
    "The argument `eps` sets the minimum intensity value of the reflectivity curves which is considered. The default values of 1.0e-10 for `eps`, 0.2 for `weight` and 1.0 for `bias` results in the interval [-1, 1] for the scaled reflectivity curves. "
   ]
  },
  {
   "cell_type": "markdown",
   "metadata": {},
   "source": [
    "```yaml\n",
    "dset:    \n",
    "  curves_scaler:\n",
    "    cls: LogAffineCurvesScaler\n",
    "    kwargs:\n",
    "      weight: 0.2\n",
    "      bias: 1.0\n",
    "      eps: 1.0e-10\n",
    "```"
   ]
  },
  {
   "cell_type": "markdown",
   "metadata": {},
   "source": [
    "The `model` key defines the neural network architecture. Its `network` subkey contains the following subkeys:\n",
    "\n",
    "- `cls` - the class of the neural network\n",
    "- `pretrained_name` - the name of a pretrained model used to initialize the weights (optional)\n",
    "- `device` - the Pytorch device (either `cuda` or `cpu`)\n",
    "- `kwargs` - the keyword arguments for the provided class"
   ]
  },
  {
   "cell_type": "markdown",
   "metadata": {},
   "source": [
    "The `NetworkWithPriors` class has the following keyword arguments:\n",
    "- `embedding_net_type` - the type of embedding network (e.g. `'conv'` for a 1D CNN, `'fno'` for a FNO)\n",
    "- `embedding_net_kwargs` - the keyword arguments corresponding to the chosen embedding network (e.g. for the 1D CNN: `in_channels` - the number of input channels of the 1D CNN, `hidden_channels` - list with the number of channels for each layer of the 1D CNN, `dim_embedding` - the dimension of the embedding produced by the 1D CNN, `dim_avpool` - the output size of the adaptive average pooling layer, `activation` - the type of activation function in the 1D CNN)\n",
    "- `pretrained_embedding_net` - the path to the weights of a pretrained embedding network (optional)\n",
    "- `dim_out` - the dimension of the output produced by the MLP (i.e. the number of thin film parameters to be predicted)\n",
    "- `dim_conditioning_params` - the dimension of extra parameters used as input to the network in specific training scenarios (such as the resolution coefficient dq/q), defaults to 0.\n",
    "- `layer_width` - the width (i.e. number of neurons) of a linear layer in the MLP\n",
    "- `num_blocks` - the number of residual blocks in the MLP\n",
    "- `repeats_per_block` - the number of normalization/activation/linear repeats in a block\n",
    "- `use_batch_norm` - whether to use batch normalization in the MLP\n",
    "- `use_layer_norm` - whether to use layer normalization in the MLP (if batch normalization is not used)\n",
    "- `mlp_activation` - the type of activation function in the MLP\n",
    "- `dropout_rate` - dropout rate for each block\n",
    "- `conditioning` - the modality in which the prior bounds are provided to the network, either by concatenating the prior bounds to the data embedding ( `'concat'`) before the MLP or by modulating the intermediated features in each block of the MLP via [FiLM](https://arxiv.org/abs/1709.07871) layers (`'film'`) or [GLU](https://pytorch.org/docs/stable/generated/torch.nn.GLU.html) layers (`'glu'`). If `concat_condition_first_layer` is `true`, the concatenation is performed even when `'film'` or `'glu'` are used.\n"
   ]
  },
  {
   "cell_type": "markdown",
   "metadata": {
    "tags": []
   },
   "source": [
    "```yaml\n",
    "\n",
    "model:\n",
    "  network:\n",
    "    cls: NetworkWithPriors\n",
    "    pretrained_name: null\n",
    "    device: 'cuda'\n",
    "    kwargs:\n",
    "      embedding_net_type: 'conv'\n",
    "      embedding_net_kwargs:\n",
    "        in_channels: 1\n",
    "        hidden_channels: [32, 64, 128, 256, 512]\n",
    "        kernel_size: 3\n",
    "        dim_embedding: 128\n",
    "        dim_avpool: 1\n",
    "        use_batch_norm: true\n",
    "        activation: 'gelu'\n",
    "      pretrained_embedding_net: null\n",
    "      dim_out: 8\n",
    "      dim_conditioning_params: 0\n",
    "      layer_width: 512\n",
    "      num_blocks: 8\n",
    "      repeats_per_block: 2\n",
    "      residual: true\n",
    "      use_batch_norm: true\n",
    "      use_layer_norm: false\n",
    "      mlp_activation: 'gelu'\n",
    "      dropout_rate: 0.0 \n",
    "      conditioning: 'film' # 'concat', 'glu', 'film'\n",
    "      concat_condition_first_layer: false\n",
    "  \n",
    "```"
   ]
  },
  {
   "cell_type": "markdown",
   "metadata": {},
   "source": [
    "The `training` key can be used to customize the training settings:\n",
    "\n",
    "- `trainer_cls` - the class of the trainer (by default `PointEstimatorTrainer`)\n",
    "- `num_iterations` - the total number of training iterations\n",
    "- `batch_size` - the batch size (number of curves generated at each iteration)\n",
    "- `lr` - the initial learning rate\n",
    "- `grad_accumulation_steps` - if larger than 1, training is performed using gradient accumulation with the chosen number of steps\n",
    "- `clip_grad_norm_max` - the maximum norm for gradient clipping (optional)\n",
    "- `update_tqdm_freq` - the frequency for updating the [tqdm progress bar](https://tqdm.github.io/)\n",
    "- `optimizer` - the used [Pytorch optimizer](https://pytorch.org/docs/stable/optim). Default is `AdamW`\n",
    "- `trainer_kwargs` - additional trainer keyword arguments. Can be used to specify optional inputs to the network, such as the q values (`train_with_q_input`) or the resolution coefficient (`condition_on_q_resolutions`). Can also be used for setting the optimizer keyword arguments (`optim_kwargs`).\n",
    "- `callbacks` - (optional) the callback classes together with their keyword arguments.\n",
    "- `logger` - (optional) a Tensorboard logger for monitoring the progress of the training."
   ]
  },
  {
   "cell_type": "markdown",
   "metadata": {},
   "source": [
    "```yaml\n",
    "\n",
    "training:\n",
    "  trainer_cls: PointEstimatorTrainer\n",
    "  num_iterations: 100000\n",
    "  batch_size: 4096\n",
    "  lr: 1.0e-3\n",
    "  grad_accumulation_steps: 1\n",
    "  clip_grad_norm_max: null\n",
    "  update_tqdm_freq: 1\n",
    "  optimizer: AdamW\n",
    "  trainer_kwargs:\n",
    "    train_with_q_input: false\n",
    "    condition_on_q_resolutions: false\n",
    "    rescale_loss_interval_width: true\n",
    "    use_l1_loss: true\n",
    "    optim_kwargs:\n",
    "      betas: [0.9, 0.999]\n",
    "      weight_decay: 0.0005\n",
    "  callbacks:\n",
    "    save_best_model:\n",
    "      enable: true\n",
    "      freq: 500\n",
    "    lr_scheduler:\n",
    "      cls: StepLR\n",
    "      kwargs:\n",
    "        step_size: 20000\n",
    "        gamma: 0.5\n",
    "  logger:\n",
    "    cls: TensorBoardLogger\n",
    "    kwargs:\n",
    "      log_dir: \"tensorboard_runs/test_1\"\n",
    "     \n",
    "```"
   ]
  }
 ],
 "metadata": {
  "kernelspec": {
   "display_name": "Python 3 (ipykernel)",
   "language": "python",
   "name": "python3"
  },
  "language_info": {
   "codemirror_mode": {
    "name": "ipython",
    "version": 3
   },
   "file_extension": ".py",
   "mimetype": "text/x-python",
   "name": "python",
   "nbconvert_exporter": "python",
   "pygments_lexer": "ipython3",
   "version": "3.12.9"
  },
  "widgets": {
   "application/vnd.jupyter.widget-state+json": {
    "state": {},
    "version_major": 2,
    "version_minor": 0
   }
  }
 },
 "nbformat": 4,
 "nbformat_minor": 4
}
