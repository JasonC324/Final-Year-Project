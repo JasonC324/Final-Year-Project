{
 "cells": [
  {
   "cell_type": "markdown",
   "metadata": {},
   "source": [
    "# Training a reflectorch model"
   ]
  },
  {
   "cell_type": "markdown",
   "metadata": {},
   "source": [
    "First, we import the necessary methods from the `reflectorch` package, as well as other basic Python packages:"
   ]
  },
  {
   "cell_type": "code",
   "execution_count": 1,
   "metadata": {
    "tags": []
   },
   "outputs": [
    {
     "name": "stdout",
     "output_type": "stream",
     "text": [
      "['C:/Users/Owner/Desktop/cw/COMP60660/reflectorch', 'C:\\\\Program Files\\\\WindowsApps\\\\PythonSoftwareFoundation.Python.3.12_3.12.2544.0_x64__qbz5n2kfra8p0\\\\python312.zip', 'C:\\\\Program Files\\\\WindowsApps\\\\PythonSoftwareFoundation.Python.3.12_3.12.2544.0_x64__qbz5n2kfra8p0\\\\DLLs', 'C:\\\\Program Files\\\\WindowsApps\\\\PythonSoftwareFoundation.Python.3.12_3.12.2544.0_x64__qbz5n2kfra8p0\\\\Lib', 'C:\\\\Program Files\\\\WindowsApps\\\\PythonSoftwareFoundation.Python.3.12_3.12.2544.0_x64__qbz5n2kfra8p0', '', 'C:\\\\Users\\\\Owner\\\\AppData\\\\Local\\\\Packages\\\\PythonSoftwareFoundation.Python.3.12_qbz5n2kfra8p0\\\\LocalCache\\\\local-packages\\\\Python312\\\\site-packages', 'C:\\\\Users\\\\Owner\\\\AppData\\\\Local\\\\Packages\\\\PythonSoftwareFoundation.Python.3.12_qbz5n2kfra8p0\\\\LocalCache\\\\local-packages\\\\Python312\\\\site-packages\\\\win32', 'C:\\\\Users\\\\Owner\\\\AppData\\\\Local\\\\Packages\\\\PythonSoftwareFoundation.Python.3.12_qbz5n2kfra8p0\\\\LocalCache\\\\local-packages\\\\Python312\\\\site-packages\\\\win32\\\\lib', 'C:\\\\Users\\\\Owner\\\\AppData\\\\Local\\\\Packages\\\\PythonSoftwareFoundation.Python.3.12_qbz5n2kfra8p0\\\\LocalCache\\\\local-packages\\\\Python312\\\\site-packages\\\\Pythonwin', 'C:\\\\Program Files\\\\WindowsApps\\\\PythonSoftwareFoundation.Python.3.12_3.12.2544.0_x64__qbz5n2kfra8p0\\\\Lib\\\\site-packages']\n",
      "C:\\Users/Owner/Desktop/cw/COMP60660/reflectorch\\reflectorch\\__init__.py\n"
     ]
    }
   ],
   "source": [
    "import matplotlib.pyplot as plt\n",
    "import numpy as np\n",
    "import torch\n",
    "\n",
    "import sys\n",
    "sys.path.insert(0, r'C:/Users/Owner/Desktop/cw/COMP60660/reflectorch')\n",
    "print(sys.path)\n",
    "\n",
    "import reflectorch as reflectorch\n",
    "print(reflectorch.__file__)\n"
   ]
  },
  {
   "cell_type": "markdown",
   "metadata": {},
   "source": [
    ":::{tip}\n",
    ":class: dropdown\n",
    "\n",
    "Alternatively, we can import everything from reflectorch with\n",
    "`from reflectorch import *`\n",
    ":::"
   ]
  },
  {
   "cell_type": "markdown",
   "metadata": {
    "tags": []
   },
   "source": [
    "## The training loop"
   ]
  },
  {
   "cell_type": "markdown",
   "metadata": {},
   "source": [
    "### Loading the trainer"
   ]
  },
  {
   "cell_type": "markdown",
   "metadata": {},
   "source": [
    "For training a model we use the `Trainer` class, which contains all the components necessary for the training process such as the data generator, the neural network and the optimizer.\n",
    "\n",
    " We can initialize the trainer according to the specifications defined in a YAML configuration file using the `get_trainer_by_name` method which takes as input the name of the configuration file. If the package was installed in editable model, the configuration files are read from the `configs` directory located inside the repository, otherwise the path to the directory containing the configuration file should also be specified using the `config_dir` argument. The `load_weights` argument should be set to `False` since we want the neural network weights to be randomly initialized for a fresh training."
   ]
  },
  {
   "cell_type": "code",
   "execution_count": 2,
   "metadata": {
    "tags": []
   },
   "outputs": [
    {
     "name": "stdout",
     "output_type": "stream",
     "text": [
      "Model Test_v1 loaded. Number of parameters: 5.96 M\n"
     ]
    }
   ],
   "source": [
    "config_name = 'Test_v1'\n",
    "config_dir = \"./reflectorch/configs\"\n",
    "trainer = reflectorch.get_trainer_by_name(config_name,config_dir, load_weights=False)"
   ]
  },
  {
   "cell_type": "code",
   "execution_count": 3,
   "metadata": {},
   "outputs": [
    {
     "data": {
      "text/plain": [
       "ReflectivityDataLoader()"
      ]
     },
     "execution_count": 3,
     "metadata": {},
     "output_type": "execute_result"
    }
   ],
   "source": [
    "trainer.loader"
   ]
  },
  {
   "cell_type": "markdown",
   "metadata": {
    "tags": []
   },
   "source": [
    "The trainer contains several important attributes we can inspect:"
   ]
  },
  {
   "cell_type": "markdown",
   "metadata": {},
   "source": [
    "  1. The Pytorch optimizer. We can observe that the optimizer specified in the configuration is `AdamW`:"
   ]
  },
  {
   "cell_type": "code",
   "execution_count": 4,
   "metadata": {
    "tags": []
   },
   "outputs": [
    {
     "data": {
      "text/plain": [
       "AdamW (\n",
       "Parameter Group 0\n",
       "    amsgrad: False\n",
       "    betas: [0.9, 0.999]\n",
       "    capturable: False\n",
       "    differentiable: False\n",
       "    eps: 1e-08\n",
       "    foreach: None\n",
       "    fused: None\n",
       "    lr: 0.00025\n",
       "    maximize: False\n",
       "    weight_decay: 0.0005\n",
       ")"
      ]
     },
     "execution_count": 4,
     "metadata": {},
     "output_type": "execute_result"
    }
   ],
   "source": [
    "trainer.optim"
   ]
  },
  {
   "cell_type": "markdown",
   "metadata": {
    "tags": []
   },
   "source": [
    ":::{note}\n",
    "The learning rate can be easily changed using `trainer.set_lr(new_lr)`\n",
    ":::"
   ]
  },
  {
   "cell_type": "markdown",
   "metadata": {
    "tags": []
   },
   "source": [
    "  2. The batch size"
   ]
  },
  {
   "cell_type": "code",
   "execution_count": 5,
   "metadata": {
    "tags": []
   },
   "outputs": [
    {
     "data": {
      "text/plain": [
       "4096"
      ]
     },
     "execution_count": 5,
     "metadata": {},
     "output_type": "execute_result"
    }
   ],
   "source": [
    "trainer.batch_size"
   ]
  },
  {
   "cell_type": "markdown",
   "metadata": {},
   "source": [
    "  3. The Pytorch neural network module. We can see that the network is an instance of the class `NetworkWithPriors`. This architecture consists of a multilayer perceptron (MLP) with residual connections, batch normalization layers and GELU activations (`trainer.model.mlp`). An embedding network, here a 1D CNN (`trainer.model.embedding_net`), produces a latent embedding of the input batch of reflectivity curves which is concatenated with the prior bounds for the thin film parameters."
   ]
  },
  {
   "cell_type": "code",
   "execution_count": 6,
   "metadata": {
    "tags": [
     "scroll-output"
    ]
   },
   "outputs": [
    {
     "data": {
      "text/plain": [
       "NetworkWithPriorsConvEmb(\n",
       "  (embedding_net): ConvEncoder(\n",
       "    (core): Sequential(\n",
       "      (0): Sequential(\n",
       "        (0): Conv1d(1, 32, kernel_size=(3,), stride=(2,), padding=(1,))\n",
       "        (1): BatchNorm1d(32, eps=1e-05, momentum=0.1, affine=True, track_running_stats=True)\n",
       "        (2): GELU(approximate='none')\n",
       "      )\n",
       "      (1): Sequential(\n",
       "        (0): Conv1d(32, 64, kernel_size=(3,), stride=(2,), padding=(1,))\n",
       "        (1): BatchNorm1d(64, eps=1e-05, momentum=0.1, affine=True, track_running_stats=True)\n",
       "        (2): GELU(approximate='none')\n",
       "      )\n",
       "      (2): Sequential(\n",
       "        (0): Conv1d(64, 128, kernel_size=(3,), stride=(2,), padding=(1,))\n",
       "        (1): BatchNorm1d(128, eps=1e-05, momentum=0.1, affine=True, track_running_stats=True)\n",
       "        (2): GELU(approximate='none')\n",
       "      )\n",
       "      (3): Sequential(\n",
       "        (0): Conv1d(128, 256, kernel_size=(3,), stride=(2,), padding=(1,))\n",
       "        (1): BatchNorm1d(256, eps=1e-05, momentum=0.1, affine=True, track_running_stats=True)\n",
       "        (2): GELU(approximate='none')\n",
       "      )\n",
       "      (4): Sequential(\n",
       "        (0): Conv1d(256, 512, kernel_size=(3,), stride=(2,), padding=(1,))\n",
       "        (1): BatchNorm1d(512, eps=1e-05, momentum=0.1, affine=True, track_running_stats=True)\n",
       "        (2): GELU(approximate='none')\n",
       "      )\n",
       "    )\n",
       "    (avpool): AdaptiveAvgPool1d(output_size=1)\n",
       "    (fc): Linear(in_features=512, out_features=128, bias=True)\n",
       "  )\n",
       "  (mlp): ResidualMLP(\n",
       "    (first_layer): Linear(in_features=162, out_features=512, bias=True)\n",
       "    (blocks): ModuleList(\n",
       "      (0-9): 10 x ResidualBlock(\n",
       "        (activation): GELU(approximate='none')\n",
       "        (batch_norm_layers): ModuleList(\n",
       "          (0-1): 2 x BatchNorm1d(512, eps=0.001, momentum=0.1, affine=True, track_running_stats=True)\n",
       "        )\n",
       "        (linear_layers): ModuleList(\n",
       "          (0-1): 2 x Linear(in_features=512, out_features=512, bias=True)\n",
       "        )\n",
       "        (dropout): Dropout(p=0.03, inplace=False)\n",
       "      )\n",
       "    )\n",
       "    (last_layer): Linear(in_features=512, out_features=17, bias=True)\n",
       "  )\n",
       ")"
      ]
     },
     "execution_count": 6,
     "metadata": {},
     "output_type": "execute_result"
    }
   ],
   "source": [
    "trainer.model"
   ]
  },
  {
   "cell_type": "code",
   "execution_count": 7,
   "metadata": {},
   "outputs": [],
   "source": [
    "simulated_data = trainer.loader.get_batch(batch_size=64)"
   ]
  },
  {
   "cell_type": "markdown",
   "metadata": {},
   "source": [
    "### Defining callbacks"
   ]
  },
  {
   "cell_type": "markdown",
   "metadata": {},
   "source": [
    "We can control the training process using callback objects, such as:"
   ]
  },
  {
   "cell_type": "markdown",
   "metadata": {},
   "source": [
    "  1. `JPlotLoss` - allows the interactive visualization of the loss curve when training inside a Jupyter Notebook, the `frequency` argument setting the refresh rate of the interactive widget"
   ]
  },
  {
   "cell_type": "markdown",
   "metadata": {},
   "source": [
    "  2. `StepLR` - implements a learning rate scheduler which decreases the learning rate in steps (after a number of iterations defined by `step_size` the learning rate is multiplied by the factor `gamma`). Other types of learning rate schedulers can alternatively be used, such as `CosineAnnealingWithWarmup`, `LogCyclicLR`, `OneCycleLR` or `ReduceLROnPlateau`."
   ]
  },
  {
   "cell_type": "markdown",
   "metadata": {},
   "source": [
    "  3. `SaveBestModel` - it enables the periodic saving of the weights of the neural network during training. After a number of iterations defined by the `freq` argument, the weights of the neural network are saved at the specified `path` if the current average loss (computed over the last `average` iterations) is lower than the loss for the previous save. The history of the losses and learning rate values is also saved."
   ]
  },
  {
   "cell_type": "markdown",
   "metadata": {},
   "source": [
    "When the package is installed in editable mode, the default save path is relative to the repository directory (defined by the global variable `SAVED_MODELS_DIR`). "
   ]
  },
  {
   "cell_type": "code",
   "execution_count": 3,
   "metadata": {
    "tags": []
   },
   "outputs": [
    {
     "name": "stdout",
     "output_type": "stream",
     "text": [
      "C:/Users/Owner/Desktop/cw/COMP60660/reflectorch/model_Test_v1.pt\n"
     ]
    }
   ],
   "source": [
    "save_model_name = 'model_' + config_name + '.pt'\n",
    "#save_path = str(SAVED_MODELS_DIR / save_model_name)\n",
    "save_path = 'C:/Users/Owner/Desktop/cw/COMP60660/reflectorch/'+save_model_name\n",
    "print(save_path)"
   ]
  },
  {
   "cell_type": "code",
   "execution_count": 4,
   "metadata": {},
   "outputs": [],
   "source": [
    "callbacks = reflectorch.get_callbacks_by_name(config_name)"
   ]
  },
  {
   "cell_type": "markdown",
   "metadata": {},
   "source": [
    "We group the callback objects together in a touple:"
   ]
  },
  {
   "cell_type": "code",
   "execution_count": null,
   "metadata": {
    "tags": []
   },
   "outputs": [],
   "source": [
    "callbacks = (\n",
    "    JPlotLoss(frequency=10), \n",
    "    StepLR(step_size=5000, gamma=0.1, last_epoch=-1), \n",
    "    SaveBestModel(path=save_path, freq=100, average=10),\n",
    ")"
   ]
  },
  {
   "cell_type": "markdown",
   "metadata": {},
   "source": [
    ":::{note}\n",
    "The callbacks can also be initialized directly from the configuration file:\n",
    "`callbacks = get_callbacks_by_name(config_name)`\n",
    ":::"
   ]
  },
  {
   "cell_type": "markdown",
   "metadata": {},
   "source": [
    "### Run the training"
   ]
  },
  {
   "cell_type": "markdown",
   "metadata": {
    "tags": []
   },
   "source": [
    "The training process is initiated by calling the `train` method of the trainer. This method accepts as arguments the previously defined tuple of callbacks, as well as the number of iterations (batches). Notably, a new batch of data is generated at each iteration, the training taking place in a \"one-epoch regime\"."
   ]
  },
  {
   "cell_type": "markdown",
   "metadata": {},
   "source": [
    "```python\n",
    "trainer.train(num_batches=1000, callbacks=callbacks)\n",
    "```"
   ]
  },
  {
   "cell_type": "markdown",
   "metadata": {},
   "source": [
    "After training, the history of the losses and learning rates can be accessed via `trainer.losses` and `trainer.lrs`. We can also find them together with the model state_dict in the saved dictionary:"
   ]
  },
  {
   "cell_type": "code",
   "execution_count": 5,
   "metadata": {},
   "outputs": [
    {
     "name": "stderr",
     "output_type": "stream",
     "text": [
      "Loss = 2.41e-01: 100%|█████████████████████████████████| 2000/2000 [3:43:37<00:00,  6.71s/it, loss=0.2411, lr=3.13e-05]\n"
     ]
    }
   ],
   "source": [
    "trainer.train(num_batches=2000, callbacks=callbacks)"
   ]
  },
  {
   "cell_type": "code",
   "execution_count": 6,
   "metadata": {},
   "outputs": [],
   "source": [
    "from safetensors.torch import save_file\n",
    "\n",
    "torch.save(trainer.model.state_dict(), \"C:/Users/Owner/Desktop/cw/COMP60660/reflectorch/saved_models/Test_v1_model.pt\")\n",
    "save_file(trainer.model.state_dict(), \"C:/Users/Owner/Desktop/cw/COMP60660/reflectorch/saved_models/Test_v1_model.safetensors\")"
   ]
  },
  {
   "cell_type": "code",
   "execution_count": 32,
   "metadata": {},
   "outputs": [],
   "source": [
    "batch_size = 64\n",
    "simulated_data = trainer.loader.get_batch(batch_size=batch_size)"
   ]
  },
  {
   "cell_type": "code",
   "execution_count": 20,
   "metadata": {},
   "outputs": [
    {
     "name": "stdout",
     "output_type": "stream",
     "text": [
      "Model b_mc_point_xray_conv_standard_L2_InputQ loaded. Number of parameters: 5.02 M\n"
     ]
    },
    {
     "name": "stderr",
     "output_type": "stream",
     "text": [
      "Loss = 7.54e-02: 100%|███████████████████████████████████| 1000/1000 [03:44<00:00,  4.46it/s, loss=0.0750, lr=1.00e-03]\n"
     ]
    }
   ],
   "source": [
    "config_name = 'b_mc_point_xray_conv_standard_L2_InputQ'\n",
    "config_dir = \"./reflectorch/configs\"\n",
    "trainer = reflectorch.get_trainer_by_name(config_name,config_dir, load_weights=False)\n",
    "simulated_data = trainer.loader.get_batch(batch_size=64)\n",
    "callbacks = reflectorch.get_callbacks_by_name(config_name)\n",
    "trainer.train(num_batches=1000, callbacks=callbacks)"
   ]
  },
  {
   "cell_type": "code",
   "execution_count": 28,
   "metadata": {},
   "outputs": [
    {
     "name": "stdout",
     "output_type": "stream",
     "text": [
      "Model b_mc_point_xray_conv_standard_L2_InputQ loaded. Number of parameters: 5.02 M\n"
     ]
    }
   ],
   "source": [
    "config_name = 'b_mc_point_xray_conv_standard_L2_InputQ'\n",
    "config_dir = \"./reflectorch/configs\"\n",
    "trainer = reflectorch.get_trainer_by_name(config_name,config_dir, load_weights=False)\n",
    "callbacks = reflectorch.get_callbacks_by_name(config_name)\n",
    "simulated_data = trainer.loader.get_batch(batch_size=64)"
   ]
  },
  {
   "cell_type": "code",
   "execution_count": 33,
   "metadata": {},
   "outputs": [
    {
     "name": "stdout",
     "output_type": "stream",
     "text": [
      "torch.Size([64, 2])\n",
      "torch.Size([64, 3])\n",
      "torch.Size([64, 3])\n"
     ]
    }
   ],
   "source": [
    "print(simulated_data['params'].thicknesses.shape)\n",
    "print(simulated_data['params'].roughnesses.shape)\n",
    "print(simulated_data['params'].slds.shape)"
   ]
  },
  {
   "cell_type": "markdown",
   "metadata": {},
   "source": [
    "UIOWQHIUPDUIADHUIWDHUIAWDHUIWDHIUAWIDUHHWUIDHUIAWDUHAIWDIU\n"
   ]
  },
  {
   "cell_type": "code",
   "execution_count": 2,
   "metadata": {},
   "outputs": [
    {
     "name": "stdout",
     "output_type": "stream",
     "text": [
      "C:/Users/Owner/Desktop/cw/COMP60660/reflectorch/Training_data/Pt_Co_Ta_x2_ML_training_data_500k_pickle\n",
      "Index(['Sample_structure', 'Thicknesses (Å)', 'SLDs (Å-2)', 'Roughnesses (Å)',\n",
      "       'tth (deg)', 'Q (Å-1)', 'Intensity'],\n",
      "      dtype='string')\n",
      "Sample_structure    Si1O2/[Ta(51.538429)/Co(38.975238)/Pt(44.03746...\n",
      "Thicknesses (Å)     [inf, 51.5384, 38.9752, 44.0375, 51.5384, 38.9...\n",
      "SLDs (Å-2)          [(2.2723742167812018e-05+2.9357827346307825e-0...\n",
      "Roughnesses (Å)     [16.82906547812939, 16.148631115057768, 16.845...\n",
      "tth (deg)           [[0.0], [0.01335559265442404], [0.026711185308...\n",
      "Q (Å-1)             [[0.0], [0.0009506758886771876], [0.0019013517...\n",
      "Intensity           [[1.0000021302283872], [0.9971758634348323], [...\n",
      "Name: 0, dtype: object\n",
      "0.0\n",
      "60.0\n",
      "2.2723741e-05\n",
      "0.00017060991\n",
      "(499500, 20)\n",
      "0.0\n",
      "60.0\n",
      "2.2723741e-05\n",
      "0.0001586625\n",
      "(500, 20)\n"
     ]
    }
   ],
   "source": [
    "from load_training_data import load_scale_data\n",
    "\n",
    "training_data,testing_data = load_scale_data(r\"C:/Users/Owner/Desktop/cw/COMP60660/reflectorch/Training_data/Pt_Co_Ta_x2_ML_training_data_500k_pickle\"\n",
    "                                            ,train_split = 0.999)\n",
    "(curves, curves_scaled, params, params_scaled, q_values, q_values_scaled, num_layers,scaled_bounds, bounds) = training_data"
   ]
  },
  {
   "cell_type": "code",
   "execution_count": 3,
   "metadata": {},
   "outputs": [
    {
     "name": "stdout",
     "output_type": "stream",
     "text": [
      "torch.Size([499500, 600])\n",
      "torch.Size([499500, 20])\n",
      "(499500, 600)\n",
      "[-1.         -0.99665839 -0.99331678 -0.98997516 -0.98663355]\n",
      "[6.72776000e+00 5.92403000e+01 6.48855000e+01 6.72776000e+00\n",
      " 5.92403000e+01 6.48855000e+01 2.48504072e+01 1.36656113e+00\n",
      " 2.82646482e+00 5.95396994e+00 1.36656113e+00 2.82646482e+00\n",
      " 5.95396994e+00 2.27237415e-05 1.09928464e-04 6.77612552e-05\n",
      " 1.37871379e-04 1.09928464e-04 6.77612552e-05 1.37871379e-04]\n"
     ]
    }
   ],
   "source": [
    "print(curves_scaled.shape)\n",
    "print(params_scaled.shape)\n",
    "print(q_values_scaled.shape)\n",
    "print(q_values_scaled[0][:5])\n",
    "print(params[0])"
   ]
  },
  {
   "cell_type": "code",
   "execution_count": 4,
   "metadata": {},
   "outputs": [],
   "source": [
    "import importlib\n",
    "\n",
    "from reflectorch.data_generation.InputPreMadeDataset import InputPreMadeDataset\n",
    "importlib.reload(reflectorch.data_generation.InputPreMadeDataset)\n",
    "dataset = InputPreMadeDataset(q_values_scaled,curves, curves_scaled, params, params_scaled,scaled_bounds)\n",
    "\n",
    "\n",
    "from reflectorch.ml.dataloaders import ReflectivityDataLoader\n",
    "from reflectorch.ml.basic_trainer import DataLoader\n",
    "#from reflectorch.ml.basic_trainer import _StackedTrainerCallbacks\n",
    "\n",
    "#dataloader = ReflectivityDataLoader(dataset, DataLoader)"
   ]
  },
  {
   "cell_type": "code",
   "execution_count": 5,
   "metadata": {},
   "outputs": [
    {
     "name": "stdout",
     "output_type": "stream",
     "text": [
      "Model Test_v1 loaded. Number of parameters: 5.96 M\n"
     ]
    },
    {
     "data": {
      "text/plain": [
       "<reflectorch.ml.trainers.PointEstimatorTrainer at 0x1fc5a8fc260>"
      ]
     },
     "execution_count": 5,
     "metadata": {},
     "output_type": "execute_result"
    }
   ],
   "source": [
    "config_name = 'Test_v1'\n",
    "config_dir = \"./reflectorch/configs\"\n",
    "trainer = reflectorch.get_trainer_by_name(config_name,config_dir, load_weights=False)\n",
    "trainer"
   ]
  },
  {
   "cell_type": "code",
   "execution_count": 6,
   "metadata": {},
   "outputs": [],
   "source": [
    "from safetensors.torch import save_file\n",
    "\n",
    "torch.save(trainer.model.state_dict(), \"b_mc_point_xray_conv_standard_L2_InputQ.pt\")\n",
    "save_file(trainer.model.state_dict(), \"C:/Users/Owner/Desktop/cw/COMP60660/reflectorch/saved_models/model_b_mc_point_xray_conv_standard_L2_InputQ.safetensors\")"
   ]
  },
  {
   "cell_type": "code",
   "execution_count": null,
   "metadata": {},
   "outputs": [],
   "source": [
    "print(type(trainer.loader))\n",
    "#print(type(dataloader))"
   ]
  },
  {
   "cell_type": "code",
   "execution_count": 5,
   "metadata": {},
   "outputs": [
    {
     "name": "stdout",
     "output_type": "stream",
     "text": [
      "Model successfully built on cuda:\n",
      "NetworkWithPriors(\n",
      "  (embedding_net): ConvEncoder(\n",
      "    (core): Sequential(\n",
      "      (0): Sequential(\n",
      "        (0): Conv1d(2, 32, kernel_size=(3,), stride=(2,), padding=(1,))\n",
      "        (1): BatchNorm1d(32, eps=1e-05, momentum=0.1, affine=True, track_running_stats=True)\n",
      "        (2): GELU(approximate='none')\n",
      "      )\n",
      "      (1): Sequential(\n",
      "        (0): Conv1d(32, 64, kernel_size=(3,), stride=(2,), padding=(1,))\n",
      "        (1): BatchNorm1d(64, eps=1e-05, momentum=0.1, affine=True, track_running_stats=True)\n",
      "        (2): GELU(approximate='none')\n",
      "      )\n",
      "      (2): Sequential(\n",
      "        (0): Conv1d(64, 128, kernel_size=(3,), stride=(2,), padding=(1,))\n",
      "        (1): BatchNorm1d(128, eps=1e-05, momentum=0.1, affine=True, track_running_stats=True)\n",
      "        (2): GELU(approximate='none')\n",
      "      )\n",
      "      (3): Sequential(\n",
      "        (0): Conv1d(128, 256, kernel_size=(3,), stride=(2,), padding=(1,))\n",
      "        (1): BatchNorm1d(256, eps=1e-05, momentum=0.1, affine=True, track_running_stats=True)\n",
      "        (2): GELU(approximate='none')\n",
      "      )\n",
      "      (4): Sequential(\n",
      "        (0): Conv1d(256, 512, kernel_size=(3,), stride=(2,), padding=(1,))\n",
      "        (1): BatchNorm1d(512, eps=1e-05, momentum=0.1, affine=True, track_running_stats=True)\n",
      "        (2): GELU(approximate='none')\n",
      "      )\n",
      "    )\n",
      "    (avpool): AdaptiveAvgPool1d(output_size=1)\n",
      "    (fc): Linear(in_features=512, out_features=128, bias=True)\n",
      "  )\n",
      "  (mlp): ResidualMLP(\n",
      "    (first_layer): Linear(in_features=128, out_features=512, bias=True)\n",
      "    (blocks): ModuleList(\n",
      "      (0-7): 8 x ResidualBlock(\n",
      "        (activation): GELU(approximate='none')\n",
      "        (batch_norm_layers): ModuleList(\n",
      "          (0-1): 2 x BatchNorm1d(512, eps=0.001, momentum=0.1, affine=True, track_running_stats=True)\n",
      "        )\n",
      "        (condition_layer): Linear(in_features=40, out_features=1024, bias=True)\n",
      "        (linear_layers): ModuleList(\n",
      "          (0-1): 2 x Linear(in_features=512, out_features=512, bias=True)\n",
      "        )\n",
      "      )\n",
      "    )\n",
      "    (last_layer): Linear(in_features=512, out_features=20, bias=True)\n",
      "  )\n",
      ")\n"
     ]
    }
   ],
   "source": [
    "import torch\n",
    "from reflectorch.models.networks.mlp_networks import NetworkWithPriors\n",
    "\n",
    "model_cfg = {\n",
    "    \"cls\": \"NetworkWithPriors\",\n",
    "    \"device\": \"cuda\",\n",
    "    \"kwargs\": {\n",
    "        \"embedding_net_type\": \"conv\",\n",
    "        \"embedding_net_kwargs\": {\n",
    "            \"in_channels\": 2,\n",
    "            \"hidden_channels\": [32, 64, 128, 256, 512],\n",
    "            \"kernel_size\": 3,\n",
    "            \"dim_embedding\": 128,\n",
    "            \"dim_avpool\": 1,\n",
    "            \"use_batch_norm\": True,\n",
    "            \"use_se\": False,\n",
    "            \"activation\": \"gelu\",\n",
    "        },\n",
    "        \"pretrained_embedding_net\": None,\n",
    "        \"dim_out\": params_scaled.shape[1],\n",
    "        \"dim_conditioning_params\": 0,\n",
    "        \"layer_width\": 512,\n",
    "        \"num_blocks\": 8,\n",
    "        \"repeats_per_block\": 2,\n",
    "        \"residual\": True,\n",
    "        \"use_batch_norm\": True,\n",
    "        \"use_layer_norm\": False,\n",
    "        \"mlp_activation\": \"gelu\",\n",
    "        \"dropout_rate\": 0.0,\n",
    "        \"tanh_output\": False,\n",
    "        \"conditioning\": \"film\",\n",
    "        \"concat_condition_first_layer\": False,\n",
    "    }\n",
    "}\n",
    "\n",
    "# instantiate\n",
    "device = torch.device(model_cfg[\"device\"])\n",
    "net_kwargs = model_cfg[\"kwargs\"]\n",
    "\n",
    "test_model = NetworkWithPriors(\n",
    "    embedding_net_type         = net_kwargs[\"embedding_net_type\"],\n",
    "    embedding_net_kwargs       = net_kwargs[\"embedding_net_kwargs\"],\n",
    "    pretrained_embedding_net   = net_kwargs[\"pretrained_embedding_net\"],\n",
    "    dim_out                    = net_kwargs[\"dim_out\"],\n",
    "    dim_conditioning_params    = net_kwargs[\"dim_conditioning_params\"],\n",
    "    layer_width                = net_kwargs[\"layer_width\"],\n",
    "    num_blocks                 = net_kwargs[\"num_blocks\"],\n",
    "    repeats_per_block          = net_kwargs[\"repeats_per_block\"],\n",
    "    mlp_activation             = net_kwargs[\"mlp_activation\"],\n",
    "    use_batch_norm             = net_kwargs[\"use_batch_norm\"],\n",
    "    use_layer_norm             = net_kwargs[\"use_layer_norm\"],\n",
    "    dropout_rate               = net_kwargs[\"dropout_rate\"],\n",
    "    tanh_output                = net_kwargs[\"tanh_output\"],\n",
    "    residual                   = net_kwargs[\"residual\"],\n",
    "    adaptive_activation        = False,\n",
    "    conditioning                = net_kwargs[\"conditioning\"],\n",
    "    concat_condition_first_layer = net_kwargs[\"concat_condition_first_layer\"],\n",
    ").to(device)\n",
    "\n",
    "print(f\"Model successfully built on {device}:\")\n",
    "print(test_model)\n",
    "\n",
    "config_name = 'Test_v1'\n",
    "callbacks = reflectorch.get_callbacks_by_name(config_name)\n"
   ]
  },
  {
   "cell_type": "code",
   "execution_count": 6,
   "metadata": {},
   "outputs": [
    {
     "ename": "NameError",
     "evalue": "name 'trainer' is not defined",
     "output_type": "error",
     "traceback": [
      "\u001b[1;31m---------------------------------------------------------------------------\u001b[0m",
      "\u001b[1;31mNameError\u001b[0m                                 Traceback (most recent call last)",
      "Cell \u001b[1;32mIn[6], line 1\u001b[0m\n\u001b[1;32m----> 1\u001b[0m test_model \u001b[38;5;241m=\u001b[39m \u001b[43mtrainer\u001b[49m\u001b[38;5;241m.\u001b[39mmodel\n\u001b[0;32m      2\u001b[0m \u001b[38;5;28mprint\u001b[39m(test_model)\n",
      "\u001b[1;31mNameError\u001b[0m: name 'trainer' is not defined"
     ]
    }
   ],
   "source": [
    "test_model = trainer.model\n",
    "print(test_model)"
   ]
  },
  {
   "cell_type": "code",
   "execution_count": 7,
   "metadata": {},
   "outputs": [],
   "source": [
    "import importlib\n",
    "from reflectorch.ml.RealDataTrainer import RealDataTrainer\n",
    "from torch.optim import AdamW\n",
    "\n",
    "importlib.reload(reflectorch.ml.RealDataTrainer)\n",
    "\n",
    "customtrainer = RealDataTrainer(\n",
    "    model=test_model,\n",
    "    loader=dataset,\n",
    "    lr=1.0e-4,\n",
    "    batch_size=2048,\n",
    "    optim_cls=AdamW,\n",
    "    optim_kwargs={\"weight_decay\": 0.0005}\n",
    ")\n"
   ]
  },
  {
   "cell_type": "code",
   "execution_count": null,
   "metadata": {},
   "outputs": [],
   "source": [
    "learning_rates = [1e-3, 5e-4, 1e-4]\n",
    "batch_sizes = [128, 256]\n",
    "weight_decays = [0.0, 1e-4]\n",
    "\n",
    "best_loss = float('inf')\n",
    "best_hparams = None\n",
    "\n",
    "for lr in learning_rates:\n",
    "    for bs in batch_sizes:\n",
    "        for wd in weight_decays:\n",
    "            print(f\"Testing lr={lr}, batch_size={bs}, weight_decay={wd}\")\n",
    "\n",
    "            customtrainer = RealDataTrainer(\n",
    "                model=test_model,              # your PyTorch model\n",
    "                loader=train_loader,\n",
    "                lr=lr,\n",
    "                batch_size=bs,\n",
    "                optim_cls=optim.AdamW,\n",
    "                optim_kwargs={\"weight_decay\": wd}\n",
    "            )\n",
    "\n",
    "            # Train for a small number of iterations to evaluate quickly\n",
    "            customtrainer.train(num_batches=1950, callbacks = callbacks)\n",
    "\n",
    "            # Evaluate on validation set\n",
    "            val_loss = customtrainer.evaluate(val_loader)  # returns validation loss\n",
    "\n",
    "            print(f\"Validation loss: {val_loss:.4f}\")\n",
    "\n",
    "            # Track the best hyperparameters\n",
    "            if val_loss < best_loss:\n",
    "                best_loss = val_loss\n",
    "                best_hparams = {\"lr\": lr, \"batch_size\": bs, \"weight_decay\": wd}\n",
    "\n",
    "print(\"Best hyperparameters found:\", best_hparams)"
   ]
  },
  {
   "cell_type": "code",
   "execution_count": 8,
   "metadata": {},
   "outputs": [
    {
     "name": "stderr",
     "output_type": "stream",
     "text": [
      "Loss = 2.50e-03: 100%|███████████████████████████████████| 1500/1500 [01:08<00:00, 22.04it/s, loss=0.0023, lr=2.50e-05]\n"
     ]
    }
   ],
   "source": [
    "customtrainer.train(num_batches=1500, callbacks = callbacks)"
   ]
  },
  {
   "cell_type": "code",
   "execution_count": 9,
   "metadata": {},
   "outputs": [],
   "source": [
    "torch.save(test_model.state_dict(), \"model_custom_data_3_repeat_2.pt\")"
   ]
  },
  {
   "cell_type": "code",
   "execution_count": 81,
   "metadata": {},
   "outputs": [
    {
     "name": "stdout",
     "output_type": "stream",
     "text": [
      "BasicParams(batch_size=64, max_layer_num=18, device=cuda:0)\n"
     ]
    }
   ],
   "source": [
    "batch_size = 64\n",
    "\n",
    "simulated_data = trainer.loader.get_batch(batch_size=batch_size)\n",
    "print(simulated_data['params'])"
   ]
  },
  {
   "cell_type": "code",
   "execution_count": 62,
   "metadata": {},
   "outputs": [
    {
     "ename": "KeyError",
     "evalue": "'curves'",
     "output_type": "error",
     "traceback": [
      "\u001b[1;31m---------------------------------------------------------------------------\u001b[0m",
      "\u001b[1;31mKeyError\u001b[0m                                  Traceback (most recent call last)",
      "Cell \u001b[1;32mIn[62], line 4\u001b[0m\n\u001b[0;32m      1\u001b[0m q \u001b[38;5;241m=\u001b[39m simulated_data[\u001b[38;5;124m'\u001b[39m\u001b[38;5;124mq_values\u001b[39m\u001b[38;5;124m'\u001b[39m]\n\u001b[0;32m      2\u001b[0m \u001b[38;5;66;03m#scaled_noisy_curves = simulated_data['scaled_noisy_curves']\u001b[39;00m\n\u001b[0;32m      3\u001b[0m \u001b[38;5;66;03m#unscaled_noisy_curves = trainer.loader.curves_scaler.restore(scaled_noisy_curves)\u001b[39;00m\n\u001b[1;32m----> 4\u001b[0m unscaled_denoised_curve \u001b[38;5;241m=\u001b[39m \u001b[43msimulated_data\u001b[49m\u001b[43m[\u001b[49m\u001b[38;5;124;43m'\u001b[39;49m\u001b[38;5;124;43mcurves\u001b[39;49m\u001b[38;5;124;43m'\u001b[39;49m\u001b[43m]\u001b[49m\n\u001b[0;32m      6\u001b[0m \u001b[38;5;28;01mdef\u001b[39;00m \u001b[38;5;21mplot_refl_curve\u001b[39m(i\u001b[38;5;241m=\u001b[39m\u001b[38;5;241m0\u001b[39m):\n\u001b[0;32m      7\u001b[0m     fig, ax \u001b[38;5;241m=\u001b[39m plt\u001b[38;5;241m.\u001b[39msubplots(\u001b[38;5;241m1\u001b[39m,\u001b[38;5;241m1\u001b[39m,figsize\u001b[38;5;241m=\u001b[39m(\u001b[38;5;241m6\u001b[39m,\u001b[38;5;241m6\u001b[39m))\n",
      "\u001b[1;31mKeyError\u001b[0m: 'curves'"
     ]
    }
   ],
   "source": [
    "q = simulated_data['q_values']\n",
    "#scaled_noisy_curves = simulated_data['scaled_noisy_curves']\n",
    "#unscaled_noisy_curves = trainer.loader.curves_scaler.restore(scaled_noisy_curves)\n",
    "unscaled_denoised_curve = simulated_data['curves']\n",
    "\n",
    "def plot_refl_curve(i=0):\n",
    "    fig, ax = plt.subplots(1,1,figsize=(6,6))\n",
    "\n",
    "    ax.set_yscale('log')\n",
    "    ax.set_ylim(0.5e-10, 5)\n",
    "\n",
    "    ax.set_xlabel('q [$Å^{-1}$]', fontsize=20)\n",
    "    ax.set_ylabel('R(q)', fontsize=20)\n",
    "\n",
    "    ax.tick_params(axis='both', which='major', labelsize=15)\n",
    "    ax.tick_params(axis='both', which='minor', labelsize=15)\n",
    "    \n",
    "    y_tick_locations = [10**(-2*i) for i in range(6)]\n",
    "    ax.yaxis.set_major_locator(plt.FixedLocator(y_tick_locations))\n",
    "        \n",
    "    #ax.scatter(q[i].cpu().numpy(), unscaled_noisy_curves[i].cpu().numpy() + 1e-10, c='b', s=2, label='simulated curve')\n",
    "    ax.plot(q[i].cpu().numpy(), unscaled_denoised_curve[i].cpu().numpy() + 1e-10, c='g', lw=1, label='theoretical curve')\n",
    "\n",
    "    ax.legend(loc='upper right', fontsize=14)\n",
    "\n",
    "plot_refl_curve(i=0)"
   ]
  },
  {
   "cell_type": "code",
   "execution_count": 63,
   "metadata": {},
   "outputs": [
    {
     "name": "stdout",
     "output_type": "stream",
     "text": [
      "Number of layers: 18,  Number of film parameters: 17\n"
     ]
    }
   ],
   "source": [
    "n_layers = simulated_data['params'].max_layer_num\n",
    "n_params = simulated_data['params'].num_params\n",
    "\n",
    "print(f'Number of layers: {n_layers},  Number of film parameters: {n_params}')"
   ]
  },
  {
   "cell_type": "code",
   "execution_count": 25,
   "metadata": {},
   "outputs": [
    {
     "name": "stdout",
     "output_type": "stream",
     "text": [
      "tensor([-0.8465, -0.8393, -0.5448, -0.9407, -0.4826,  0.4506,  0.2021,  0.7177,\n",
      "         0.9711,  0.6466,  0.1623,  0.4544, -0.2963,  0.4934,  0.2604,  0.7315],\n",
      "       device='cuda:0', dtype=torch.float64)\n",
      "torch.Size([64, 24])\n"
     ]
    }
   ],
   "source": [
    "scaled_bounds = simulated_data['scaled_params'][..., n_params:]\n",
    "q_values = simulated_data[\"q_values\"]\n",
    "\n",
    "print(scaled_bounds[0])\n",
    "print(simulated_data['scaled_params'].shape)"
   ]
  },
  {
   "cell_type": "code",
   "execution_count": 10,
   "metadata": {},
   "outputs": [
    {
     "name": "stdout",
     "output_type": "stream",
     "text": [
      "torch.float32\n",
      "torch.Size([500, 20])\n"
     ]
    }
   ],
   "source": [
    "(testing_curves, testing_curves_scaled, testing_params, testing_params_scaled, testing_q_values, testing_q_values_valued, testing_num_layers,testing_scaled_bounds, testing_bounds) = testing_data\n",
    "\n",
    "device = next(customtrainer.model.parameters()).device\n",
    "dtype  = next(customtrainer.model.parameters()).dtype\n",
    "print(dtype)\n",
    "\n",
    "if not isinstance(testing_curves_scaled, torch.Tensor):\n",
    "    eval_curves = torch.tensor(testing_curves_scaled)\n",
    "else:\n",
    "    eval_curves = testing_curves_scaled\n",
    "\n",
    "if not isinstance(testing_q_values_valued, torch.Tensor):\n",
    "    eval_q_values = torch.tensor(testing_q_values_valued)\n",
    "else:\n",
    "    eval_q_values = testing_q_values_valued\n",
    "\n",
    "if not isinstance(testing_scaled_bounds, torch.Tensor):\n",
    "    eval_bounds = torch.tensor(testing_scaled_bounds)\n",
    "else:\n",
    "    eval_bounds = testing_scaled_bounds\n",
    "\n",
    "\n",
    "eval_curves = eval_curves.to(device=device, dtype=dtype)\n",
    "eval_q_values = eval_q_values.to(device=device, dtype=dtype)\n",
    "eval_bounds = eval_bounds.to(device=device, dtype=dtype)\n",
    "\n",
    "with torch.no_grad():\n",
    "    customtrainer.model.eval()\n",
    "\n",
    "    scaled_predicted_params = customtrainer.model(\n",
    "    curves=eval_curves,\n",
    "    bounds=eval_bounds,\n",
    "    q_values = eval_q_values,\n",
    "    )\n",
    "\n",
    "    print(scaled_predicted_params.shape)\n",
    "\n"
   ]
  },
  {
   "cell_type": "code",
   "execution_count": 11,
   "metadata": {},
   "outputs": [
    {
     "name": "stdout",
     "output_type": "stream",
     "text": [
      "tensor([[-1.0000, -0.9967, -0.9933,  ...,  0.9933,  0.9967,  1.0000],\n",
      "        [-1.0000, -0.9967, -0.9933,  ...,  0.9933,  0.9967,  1.0000],\n",
      "        [-1.0000, -0.9967, -0.9933,  ...,  0.9933,  0.9967,  1.0000],\n",
      "        ...,\n",
      "        [-1.0000, -0.9967, -0.9933,  ...,  0.9933,  0.9967,  1.0000],\n",
      "        [-1.0000, -0.9967, -0.9933,  ...,  0.9933,  0.9967,  1.0000],\n",
      "        [-1.0000, -0.9967, -0.9933,  ...,  0.9933,  0.9967,  1.0000]],\n",
      "       device='cuda:0')\n",
      "tensor([-0.8033, -0.7691, -0.9649, -0.9311, -0.7780, -0.8834, -1.0000, -0.0513,\n",
      "        -1.0000, -0.7659, -0.0543, -1.0000, -0.7427, -1.0000, -0.0385, -0.5508,\n",
      "         0.3707,  0.0440, -0.5539,  0.3579, -0.6009, -0.5208, -0.5579, -0.4732,\n",
      "        -0.5119, -0.6394, -0.6410,  0.4436, -0.7113, -0.3566,  0.4466, -0.7760,\n",
      "        -0.3798, -0.7370,  0.5036, -0.2151,  0.7053,  0.4210, -0.2120,  0.7181])\n",
      "tensor([-0.8113, -0.7292, -0.7557, -0.8116, -0.7348, -0.7634, -0.5694, -0.7411,\n",
      "        -0.3087, -0.2828, -0.7304, -0.3049, -0.2785, -0.9983,  0.2535, -0.3894,\n",
      "         0.6711,  0.2356, -0.3812,  0.6809], device='cuda:0')\n",
      "scaled min: -1.0 scaled max: 1.0\n"
     ]
    }
   ],
   "source": [
    "print(eval_q_values)\n",
    "print(testing_scaled_bounds[0])\n",
    "print(scaled_predicted_params[1])\n",
    "print(\"scaled min:\", testing_scaled_bounds.min().item(), \"scaled max:\", testing_scaled_bounds.max().item())\n"
   ]
  },
  {
   "cell_type": "code",
   "execution_count": 14,
   "metadata": {},
   "outputs": [],
   "source": [
    "def unscale_params(scaled, span, min_vals) -> torch.Tensor:\n",
    "\n",
    "    temp = ((scaled + 1.0) / 2.0) * span[None, :] + min_vals[None, :]\n",
    "    return temp\n",
    "\n",
    "span =testing_bounds[0].to(device)\n",
    "min_val =testing_bounds[1].to(device)\n",
    "restored_predictions = unscale_params(scaled_predicted_params,span,min_val)\n",
    "restored_predictions = torch.real(restored_predictions)\n",
    "\n"
   ]
  },
  {
   "cell_type": "code",
   "execution_count": 15,
   "metadata": {},
   "outputs": [
    {
     "name": "stdout",
     "output_type": "stream",
     "text": [
      "tensor([4.7181e+01, 6.7695e+01, 6.1063e+01, 4.7091e+01, 6.6297e+01, 5.9146e+01,\n",
      "        1.2919e+01, 7.7665e+00, 2.0739e+01, 2.1515e+01, 8.0876e+00, 2.0853e+01,\n",
      "        2.1645e+01, 2.2841e-05, 1.0792e-04, 6.4228e-05, 1.3631e-04, 1.0671e-04,\n",
      "        6.4780e-05, 1.3697e-04], device='cuda:0')\n"
     ]
    }
   ],
   "source": [
    "print(restored_predictions[1])"
   ]
  },
  {
   "cell_type": "code",
   "execution_count": 16,
   "metadata": {},
   "outputs": [
    {
     "name": "stdout",
     "output_type": "stream",
     "text": [
      "Predicted thicknesses: tensor([[73.2032, 93.4729, 55.4606, 75.0115, 91.4874, 56.7294],\n",
      "        [47.1805, 67.6946, 61.0625, 47.0906, 66.2967, 59.1455],\n",
      "        [84.0238, 96.9998, 64.4668, 84.1765, 92.8283, 65.4677],\n",
      "        ...,\n",
      "        [70.1230, 76.4307, 57.9340, 71.1418, 77.1247, 55.0967],\n",
      "        [36.2494, 57.0259, 31.8080, 35.9168, 49.3682, 31.5472],\n",
      "        [32.1901, 53.1232, 42.2971, 31.2827, 50.8269, 44.1205]],\n",
      "       device='cuda:0')\n",
      "Predicted roughnesses: tensor([[ 5.1756, 36.0448,  2.7389,  ..., 36.4386,  2.4747, 13.3137],\n",
      "        [12.9191,  7.7665, 20.7386,  ...,  8.0876, 20.8531, 21.6448],\n",
      "        [29.0156,  5.2242, 31.6805,  ...,  5.0665, 32.0070, 17.7402],\n",
      "        ...,\n",
      "        [22.2251,  3.8883,  0.8579,  ...,  4.2254,  1.2605, 27.6646],\n",
      "        [13.7487, 12.5062, 24.6067,  ..., 12.3568, 24.9033,  9.2194],\n",
      "        [28.5096, 13.7507, 12.0068,  ..., 13.4852, 11.8500, 13.4033]],\n",
      "       device='cuda:0')\n",
      "Predicted layer SLDs: tensor([[2.2207e-05, 1.0566e-04, 6.5044e-05,  ..., 1.0686e-04, 6.3950e-05,\n",
      "         1.2770e-04],\n",
      "        [2.2841e-05, 1.0792e-04, 6.4228e-05,  ..., 1.0671e-04, 6.4780e-05,\n",
      "         1.3697e-04],\n",
      "        [2.2687e-05, 9.9380e-05, 6.3126e-05,  ..., 9.9878e-05, 6.3191e-05,\n",
      "         1.3229e-04],\n",
      "        ...,\n",
      "        [2.3597e-05, 1.0477e-04, 6.5518e-05,  ..., 1.0325e-04, 6.4019e-05,\n",
      "         1.2472e-04],\n",
      "        [2.2132e-05, 1.1255e-04, 6.7675e-05,  ..., 1.1403e-04, 7.0241e-05,\n",
      "         1.4684e-04],\n",
      "        [2.1813e-05, 1.0612e-04, 6.1116e-05,  ..., 1.0548e-04, 6.1441e-05,\n",
      "         1.4204e-04]], device='cuda:0')\n",
      "torch.Size([500, 6])\n",
      "torch.Size([500, 7])\n"
     ]
    }
   ],
   "source": [
    "pred_idx = restored_predictions.shape[0]\n",
    "\n",
    "restored_predictions[:,:num_layers] = torch.clamp(restored_predictions[:,:num_layers], min=0.0)\n",
    "restored_predictions[:,num_layers:num_layers*2+1] = torch.clamp(restored_predictions[:,num_layers:num_layers*2+1], min=0.0)\n",
    "\n",
    "eval_thicknesses = restored_predictions[:pred_idx,:num_layers]\n",
    "eval_roughnesses = restored_predictions[:pred_idx,num_layers:num_layers*2+1]\n",
    "eval_slds = restored_predictions[:pred_idx,num_layers*2+1:]\n",
    "\n",
    "print(f'Predicted thicknesses: {eval_thicknesses}')\n",
    "print(f'Predicted roughnesses: {eval_roughnesses}')\n",
    "print(f'Predicted layer SLDs: {eval_slds}')\n",
    "\n",
    "print(eval_thicknesses.shape)\n",
    "print(eval_slds.shape)"
   ]
  },
  {
   "cell_type": "code",
   "execution_count": 17,
   "metadata": {},
   "outputs": [],
   "source": [
    "# -*- coding: utf-8 -*-\n",
    "\n",
    "import torch\n",
    "from torch import Tensor\n",
    "\n",
    "from reflectorch.data_generation.reflectivity.abeles import abeles_compiled, abeles\n",
    "from reflectorch.data_generation.reflectivity.memory_eff import abeles_memory_eff\n",
    "from reflectorch.data_generation.reflectivity.numpy_implementations import (\n",
    "    kinematical_approximation_np,\n",
    "    abeles_np,\n",
    ")\n",
    "from reflectorch.data_generation.reflectivity.smearing import abeles_constant_smearing\n",
    "from reflectorch.data_generation.reflectivity.smearing_pointwise import abeles_pointwise_smearing\n",
    "from reflectorch.data_generation.reflectivity.kinematical import kinematical_approximation\n",
    "\n",
    "\n",
    "def custom_reflectivity(\n",
    "        q: Tensor,\n",
    "        thickness: Tensor,\n",
    "        roughness: Tensor,\n",
    "        sld: Tensor,\n",
    "        dq: Tensor = None,\n",
    "        gauss_num: int = 51,\n",
    "        constant_dq: bool = False,\n",
    "        log: bool = False,\n",
    "        q_shift: Tensor = 0.0,\n",
    "        r_scale: Tensor = 1.0,\n",
    "        background: Tensor = 0.0,\n",
    "        solvent_vf = None,\n",
    "        solvent_mode = 'fronting',\n",
    "        abeles_func = None,\n",
    "        **abeles_kwargs\n",
    "):\n",
    "    \"\"\"Function which computes the reflectivity curves from thin film parameters. \n",
    "    By default it uses the fast implementation of the Abeles matrix formalism.\n",
    "\n",
    "    Args:\n",
    "        q (Tensor): tensor of momentum transfer (q) values with shape [batch_size, n_points] or [n_points]\n",
    "        thickness (Tensor): tensor containing the layer thicknesses (ordered from top to bottom) with shape [batch_size, n_layers]\n",
    "        roughness (Tensor): tensor containing the interlayer roughnesses (ordered from top to bottom) with shape [batch_size, n_layers + 1]\n",
    "        sld (Tensor): tensor containing the layer SLDs (real or complex; ordered from top to bottom) with shape \n",
    "            [batch_size, n_layers + 1] (excluding ambient SLD which is assumed to be 0)  or [batch_size, n_layers + 2] (including ambient SLD; only for the default ``abeles_func='abeles'``) \n",
    "        dq (Tensor, optional): tensor of resolutions used for curve smearing with shape [batch_size, 1].\n",
    "                            Either dq if ``constant_dq`` is ``True`` or dq/q if ``constant_dq`` is ``False``. Defaults to None.\n",
    "        gauss_num (int, optional): the number of gaussians for curve smearing. Defaults to 51.\n",
    "        constant_dq (bool, optional): if ``True`` the smearing is constant (constant dq at each point in the curve) \n",
    "                                    otherwise the smearing is linear (constant dq/q at each point in the curve). Defaults to False.\n",
    "        log (bool, optional): if True the base 10 logarithm of the reflectivity curves is returned. Defaults to False.\n",
    "        q_shift (float or Tensor, optional): misalignment in q.\n",
    "        r_scale (float or Tensor, optional): normalization factor (scales reflectivity).\n",
    "        background (float or Tensor, optional): background intensity.\n",
    "        abeles_func (Callable, optional): a function implementing the simulation of the reflectivity curves, if different than the default Abeles matrix implementation ('abeles'). Defaults to None.\n",
    "        abeles_kwargs: Additional arguments specific to the chosen `abeles_func`.\n",
    "    Returns:\n",
    "        Tensor: the computed reflectivity curves\n",
    "    \"\"\"\n",
    "    abeles_func = abeles_func or abeles\n",
    "    q = torch.atleast_2d(q) + q_shift\n",
    "    q = torch.clamp(q, min=0.0)\n",
    "    \n",
    "    if solvent_vf is not None:\n",
    "        num_layers = thickness.shape[-1]\n",
    "        if solvent_mode == 'fronting':\n",
    "            assert sld.shape[-1] == num_layers + 2\n",
    "            assert solvent_vf.shape[-1] == num_layers\n",
    "            solvent_sld = sld[..., [0]]\n",
    "            idx = slice(1, num_layers)\n",
    "            sld[..., idx] = solvent_vf * solvent_sld + (1.0 - solvent_vf) * sld[..., idx]\n",
    "        elif solvent_mode == 'backing':\n",
    "            solvent_sld = sld[..., [-1]]\n",
    "            idx = slice(1, num_layers) if sld.shape[-1] == num_layers + 2 else slice(0, num_layers)\n",
    "            sld[..., idx] = solvent_vf * solvent_sld + (1.0 - solvent_vf) * sld[..., idx]\n",
    "        else:\n",
    "            raise NotImplementedError\n",
    "\n",
    "    if dq is None:\n",
    "        reflectivity_curves = abeles_func(q, thickness, roughness, sld, **abeles_kwargs)\n",
    "    else:\n",
    "        if dq.shape[-1] > 1:\n",
    "            reflectivity_curves = abeles_pointwise_smearing(\n",
    "                    q=q, dq=dq, thickness=thickness, roughness=roughness, sld=sld, \n",
    "                    abeles_func=abeles_func, gauss_num=gauss_num,\n",
    "                    **abeles_kwargs,\n",
    "            )\n",
    "        else:\n",
    "            reflectivity_curves = abeles_constant_smearing(\n",
    "                q, thickness, roughness, sld,\n",
    "                dq=dq, gauss_num=gauss_num, constant_dq=constant_dq, abeles_func=abeles_func,\n",
    "                **abeles_kwargs,\n",
    "            )\n",
    "\n",
    "    if isinstance(r_scale, Tensor):\n",
    "        r_scale = r_scale.view(-1, *[1] * (reflectivity_curves.dim() - 1))\n",
    "    if isinstance(background, Tensor):\n",
    "        background = background.view(-1, *[1] * (reflectivity_curves.dim() - 1))\n",
    "\n",
    "    reflectivity_curves = reflectivity_curves * r_scale + background\n",
    "\n",
    "    if log:\n",
    "        reflectivity_curves = torch.log10(reflectivity_curves)\n",
    "\n",
    "    return reflectivity_curves\n",
    "\n",
    "# -*- coding: utf-8 -*-\n",
    "import math\n",
    "from functools import reduce\n",
    "\n",
    "import torch\n",
    "from torch import Tensor\n",
    "\n",
    "\n",
    "def abeles(\n",
    "        q: Tensor,\n",
    "        thickness: Tensor,\n",
    "        roughness: Tensor,\n",
    "        sld: Tensor,\n",
    "):\n",
    "    \"\"\"Simulates reflectivity curves for SLD profiles with box model parameterization using the Abeles matrix method\n",
    "\n",
    "    Args:\n",
    "        q (Tensor): tensor of momentum transfer (q) values with shape [batch_size, n_points] or [n_points]\n",
    "        thickness (Tensor): tensor containing the layer thicknesses (ordered from top to bottom) with shape [batch_size, n_layers]\n",
    "        roughness (Tensor): tensor containing the interlayer roughnesses (ordered from top to bottom) with shape [batch_size, n_layers + 1]\n",
    "        sld (Tensor): tensor containing the layer SLDs (real or complex; ordered from top to bottom). The tensor shape should be one of the following:\n",
    "            - [batch_size, n_layers + 1]: in this case, the ambient SLD is not included but assumed to be 0\n",
    "            - [batch_size, n_layers + 2]: this shape includes the ambient SLD as the first element in the tensor\n",
    "\n",
    "    Returns:\n",
    "        Tensor: tensor containing the simulated reflectivity curves with shape [batch_size, n_points]\n",
    "    \"\"\"\n",
    "    c_dtype = torch.complex128 if q.dtype is torch.float64 else torch.complex64\n",
    "\n",
    "    batch_size, num_layers = thickness.shape\n",
    "\n",
    "    if sld.shape[-1] == num_layers + 1:\n",
    "        # add zero ambient sld\n",
    "        sld = torch.cat([torch.zeros(batch_size, 1).to(sld), sld], -1)\n",
    "    if sld.shape[-1] != num_layers + 2:\n",
    "        raise ValueError(\n",
    "            \"Number of SLD values does not equal to num_layers + 2 (substrate + ambient).\"\n",
    "        )\n",
    "\n",
    "    sld = sld[:, None]\n",
    "\n",
    "    # add zero thickness for ambient layer:\n",
    "    thickness = torch.cat([torch.zeros(batch_size, 1).to(thickness), thickness], -1)[\n",
    "        :, None\n",
    "    ]\n",
    "\n",
    "    roughness = roughness[:, None] ** 2\n",
    "\n",
    "    sld = (sld - sld[..., :1]) * 1e-6 + 1e-36j\n",
    "\n",
    "    k_z0 = (q / 2).to(c_dtype)\n",
    "\n",
    "    if k_z0.dim() == 1:\n",
    "        k_z0.unsqueeze_(0)\n",
    "\n",
    "    if k_z0.dim() == 2:\n",
    "        k_z0.unsqueeze_(-1)\n",
    "\n",
    "    k_n = torch.sqrt(k_z0**2 - 4 * math.pi * sld)\n",
    "\n",
    "    # k_n.shape - (batch, q, layers)\n",
    "\n",
    "    k_n, k_np1 = k_n[..., :-1], k_n[..., 1:]\n",
    "\n",
    "    beta = 1j * thickness * k_n\n",
    "\n",
    "    exp_beta = torch.exp(beta)\n",
    "    exp_m_beta = torch.exp(-beta)\n",
    "\n",
    "    rn = (k_n - k_np1) / (k_n + k_np1) * torch.exp(-2 * k_n * k_np1 * roughness)\n",
    "\n",
    "    c_matrices = torch.stack(\n",
    "        [\n",
    "            torch.stack([exp_beta, rn * exp_m_beta], -1),\n",
    "            torch.stack([rn * exp_beta, exp_m_beta], -1),\n",
    "        ],\n",
    "        -1,\n",
    "    )\n",
    "\n",
    "    c_matrices = [c.squeeze(-3) for c in c_matrices.split(1, -3)]\n",
    "\n",
    "    m = reduce(torch.matmul, c_matrices)\n",
    "\n",
    "    r = (m[..., 1, 0] / m[..., 0, 0]).abs() ** 2\n",
    "    r = torch.clamp_max_(r, 1.0)\n",
    "\n",
    "\n",
    "    return r\n",
    "\n",
    "def abeles_pointwise_smearing(\n",
    "    q: torch.Tensor,\n",
    "    dq: torch.Tensor,\n",
    "    thickness: torch.Tensor,\n",
    "    roughness: torch.Tensor,\n",
    "    sld: torch.Tensor,\n",
    "    gauss_num: int = 17,\n",
    "    abeles_func=None,\n",
    "    **abeles_kwargs,\n",
    ") -> torch.Tensor:\n",
    "    \"\"\"\n",
    "    Compute reflectivity with variable smearing using Gaussian quadrature.\n",
    "\n",
    "    Args:\n",
    "        q (torch.Tensor): The momentum transfer (q) values.\n",
    "        dq (torch.Tensor): The resolution for curve smearing.\n",
    "        thickness (torch.Tensor): The layer thicknesses.\n",
    "        roughness (torch.Tensor): The interlayer roughnesses.\n",
    "        sld (torch.Tensor): The SLDs of the layers.\n",
    "        sld_magnetic (torch.Tensor, optional): The magnetic SLDs of the layers.\n",
    "        magnetization_angle (torch.Tensor, optional): The magnetization angles.\n",
    "        polarizer_eff (torch.Tensor, optional): The polarizer efficiency.\n",
    "        analyzer_eff (torch.Tensor, optional): The analyzer efficiency.\n",
    "        abeles_func (Callable, optional): A function implementing the simulation of the reflectivity curves.\n",
    "        gauss_num (int, optional): Gaussian quadrature order. Defaults to 17.\n",
    "\n",
    "    Returns:\n",
    "        torch.Tensor: The computed reflectivity curves.\n",
    "    \"\"\"\n",
    "    abeles_func = abeles_func or abeles\n",
    "\n",
    "    if q.shape[0] == 1:\n",
    "        q = q.repeat(thickness.shape[0], 1)\n",
    "\n",
    "    _FWHM = 2 * np.sqrt(2 * np.log(2.0))\n",
    "    _INTLIMIT = 3.5\n",
    "\n",
    "    bs = q.shape[0]\n",
    "    nq = q.shape[-1]\n",
    "    device = q.device\n",
    "\n",
    "    quad_order = gauss_num\n",
    "    abscissa, weights = gauss_legendre(quad_order)\n",
    "    abscissa = torch.tensor(abscissa)[None, :, None].to(device)\n",
    "    weights = torch.tensor(weights)[None, :, None].to(device)\n",
    "    prefactor = 1.0 / np.sqrt(2 * np.pi)\n",
    "\n",
    "    gaussvals = prefactor * gauss(abscissa * _INTLIMIT)\n",
    "\n",
    "    va = q[:, None, :] - _INTLIMIT * dq[:, None, :] / _FWHM\n",
    "    vb = q[:, None, :] + _INTLIMIT * dq[:, None, :] / _FWHM\n",
    "\n",
    "    qvals_for_res_0 = (abscissa * (vb - va) + vb + va) / 2\n",
    "    qvals_for_res = qvals_for_res_0.reshape(bs, -1)\n",
    "\n",
    "    refl_curves = abeles_func(\n",
    "        q=qvals_for_res,\n",
    "        thickness=thickness,\n",
    "        roughness=roughness,\n",
    "        sld=sld,\n",
    "        **abeles_kwargs\n",
    "    )\n",
    "\n",
    "    # Handle multiple channels\n",
    "    if refl_curves.dim() == 3:\n",
    "        n_channels = refl_curves.shape[1]\n",
    "        refl_curves = refl_curves.reshape(bs, n_channels, quad_order, nq)\n",
    "        refl_curves = refl_curves * gaussvals.unsqueeze(1) * weights.unsqueeze(1)\n",
    "        refl_curves = torch.sum(refl_curves, dim=2) * _INTLIMIT\n",
    "    else:\n",
    "        refl_curves = refl_curves.reshape(bs, quad_order, nq)\n",
    "        refl_curves = refl_curves * gaussvals * weights\n",
    "        refl_curves = torch.sum(refl_curves, dim=1) * _INTLIMIT\n",
    "\n",
    "    return refl_curves\n",
    "\n",
    "def abeles_constant_smearing(\n",
    "        q: Tensor,\n",
    "        thickness: Tensor,\n",
    "        roughness: Tensor,\n",
    "        sld: Tensor,\n",
    "        dq: Tensor = None,\n",
    "        gauss_num: int = 31,\n",
    "        constant_dq: bool = False,\n",
    "        abeles_func=None,\n",
    "        **abeles_kwargs\n",
    "):\n",
    "    abeles_func = abeles_func or abeles\n",
    "\n",
    "    if dq.dtype != thickness.dtype:\n",
    "        q = q.to(thickness)\n",
    "    \n",
    "    if dq.dtype != thickness.dtype:\n",
    "        dq = dq.to(thickness)\n",
    "\n",
    "    if q.shape[0] == 1:\n",
    "        q = q.repeat(thickness.shape[0], 1)\n",
    "\n",
    "    q_lin = _get_q_axes(q, dq, gauss_num, constant_dq=constant_dq)\n",
    "    kernels = _get_t_gauss_kernels(dq, gauss_num)\n",
    "    \n",
    "    curves = abeles_func(q_lin, thickness, roughness, sld, **abeles_kwargs)\n",
    "\n",
    "    padding = (kernels.shape[-1] - 1) // 2\n",
    "    padded_curves = pad(curves, (padding, padding), 'reflect')\n",
    "\n",
    "    smeared_curves = conv1d(\n",
    "        padded_curves, kernels[:, None], groups=kernels.shape[0],\n",
    "    )\n",
    "\n",
    "    if q.shape[0] != smeared_curves.shape[0]:\n",
    "        repeat_factor = smeared_curves.shape[0] // q.shape[0]\n",
    "        q = q.repeat(repeat_factor, 1)\n",
    "        q_lin = q_lin.repeat(repeat_factor, 1)\n",
    "    \n",
    "    smeared_curves = _batch_linear_interp1d(q_lin, smeared_curves, q)\n",
    "        \n",
    "    return smeared_curves\n"
   ]
  },
  {
   "cell_type": "code",
   "execution_count": 35,
   "metadata": {},
   "outputs": [
    {
     "name": "stdout",
     "output_type": "stream",
     "text": [
      "tensor([1.0000e+00, 3.0846e-06, 1.7578e-07, 3.0011e-08, 7.7736e-09, 2.4971e-09,\n",
      "        9.3304e-10, 4.1088e-10, 2.2575e-10, 1.5491e-10, 1.2409e-10, 1.0430e-10,\n",
      "        8.8817e-11, 7.2514e-11, 5.7103e-11, 4.2674e-11, 2.9811e-11, 1.9527e-11,\n",
      "        1.1330e-11, 5.3668e-12, 1.9718e-12, 4.0752e-13, 2.3953e-13, 1.0171e-12,\n",
      "        2.1679e-12, 3.9768e-12, 5.1980e-12, 6.0639e-12, 6.9164e-12, 7.1649e-12,\n",
      "        7.2419e-12, 6.4881e-12, 5.8492e-12, 5.2927e-12, 4.1816e-12, 2.9849e-12,\n",
      "        2.2992e-12, 1.7389e-12, 1.2323e-12, 7.4390e-13, 3.8680e-13, 2.5017e-13,\n",
      "        1.1716e-13, 2.8808e-14, 4.5810e-15, 7.6778e-15, 4.4274e-14, 6.6998e-14,\n",
      "        1.8362e-13, 1.7633e-13, 2.9679e-13, 3.9141e-13, 5.2322e-13, 5.8564e-13,\n",
      "        6.6775e-13, 6.0767e-13, 6.5140e-13, 6.7821e-13, 6.8255e-13, 6.2002e-13,\n",
      "        5.4641e-13, 4.9564e-13, 4.3300e-13, 2.7615e-13, 2.8082e-13, 2.3892e-13,\n",
      "        1.1080e-13, 1.4786e-13, 5.2653e-14, 6.9043e-14, 1.7828e-14, 2.6913e-14,\n",
      "        1.6466e-14, 3.4795e-15, 8.5701e-15, 3.2706e-15, 5.0094e-15, 4.4747e-15,\n",
      "        7.3109e-15, 1.3035e-14, 1.7100e-14, 2.2097e-14, 8.0894e-15, 1.9680e-14,\n",
      "        1.2976e-14, 1.6473e-14, 3.7576e-14, 2.2443e-14, 6.0458e-14, 3.3389e-14,\n",
      "        4.4436e-14, 3.9480e-14, 3.4206e-14, 2.9820e-14, 1.5710e-14, 1.9206e-14,\n",
      "        1.4044e-14, 9.4869e-15, 7.2169e-15, 3.0295e-15, 3.2103e-15, 2.9138e-16,\n",
      "        2.4527e-17, 2.3328e-16, 8.0845e-16, 1.3010e-15, 1.8526e-15, 5.8494e-16,\n",
      "        2.5578e-15, 1.8198e-16, 5.3449e-16, 6.3934e-16, 4.8464e-15, 3.8936e-15,\n",
      "        9.9411e-16, 2.6888e-15, 2.1008e-15, 3.1729e-15, 1.4810e-16, 1.6346e-15,\n",
      "        1.3156e-15, 3.4235e-15, 3.7649e-15, 1.8518e-15, 3.3578e-15, 3.0701e-15,\n",
      "        2.7410e-15, 2.3852e-15, 1.3924e-15, 1.6644e-15, 1.4135e-15, 1.2580e-15,\n",
      "        4.5959e-24, 3.3166e-24, 2.3881e-24, 1.7157e-24, 1.2299e-24, 2.1975e-15,\n",
      "        1.6697e-15, 4.4695e-25, 3.1753e-25, 2.2507e-25, 1.5918e-25, 1.5513e-14,\n",
      "        1.7022e-14, 1.7563e-15, 1.7647e-14, 1.6725e-14, 1.6503e-15, 1.0324e-14,\n",
      "        1.5836e-15, 6.3683e-27, 4.4036e-27, 3.0381e-27, 2.6599e-15, 1.4363e-27,\n",
      "        9.8426e-28, 6.7294e-28, 3.1382e-15, 2.1888e-15, 1.2912e-15, 1.4375e-28,\n",
      "        1.8748e-15, 4.2429e-17, 1.1911e-15, 2.9612e-29, 1.9836e-29, 8.3114e-19,\n",
      "        8.8409e-30, 8.4274e-16, 3.9046e-30, 4.2233e-15, 1.7088e-30, 9.9461e-16,\n",
      "        7.4106e-31, 9.5578e-16, 9.3695e-16, 7.5811e-15, 1.3561e-31, 7.4994e-15,\n",
      "        5.7223e-32, 1.1399e-14, 2.3926e-32, 7.9273e-15, 7.9954e-16, 6.3589e-33,\n",
      "        1.3956e-17, 9.8372e-18, 6.4660e-18, 1.0523e-33, 2.0010e-18, 4.2224e-34,\n",
      "        3.0687e-19, 3.0840e-19, 7.4338e-19, 1.5045e-18, 4.1370e-35, 3.5829e-18,\n",
      "        4.7065e-18, 5.7762e-18, 6.7269e-18, 7.5090e-18, 8.0893e-18, 8.4496e-18,\n",
      "        8.5856e-18, 8.5059e-18, 8.2287e-18, 7.7804e-18, 1.2408e-37, 6.5015e-18,\n",
      "        5.7419e-18, 2.7574e-38, 4.1567e-18, 1.0001e-38, 2.6807e-18, 2.0403e-18,\n",
      "        1.4846e-18, 1.0215e-18, 6.5379e-19, 3.7980e-19, 1.9396e-19, 8.7637e-20,\n",
      "        4.9958e-20, 6.8630e-20, 3.2063e-41, 1.8761e-41, 1.0953e-41, 6.3801e-42,\n",
      "        5.6733e-19, 2.1496e-42, 7.6076e-19, 8.2857e-19, 8.7331e-19, 8.9420e-19,\n",
      "        1.3593e-43, 8.6817e-19, 8.2577e-19, 2.5223e-44, 1.4013e-44, 6.2130e-19,\n",
      "        5.3989e-19, 4.5780e-19, 3.7808e-19, 1.4013e-45, 2.3538e-19, 0.0000e+00,\n",
      "        1.2548e-19, 8.4674e-20, 5.3279e-20, 3.0783e-20, 0.0000e+00, 8.9599e-21,\n",
      "        7.3918e-21, 0.0000e+00, 0.0000e+00, 2.5210e-20, 3.4747e-20, 4.4415e-20,\n",
      "        5.3444e-20, 0.0000e+00, 6.7392e-20, 0.0000e+00, 7.3891e-20, 7.4172e-20,\n",
      "        0.0000e+00, 0.0000e+00, 0.0000e+00, 0.0000e+00, 8.8112e-15, 0.0000e+00,\n",
      "        8.2611e-15, 0.0000e+00, 0.0000e+00, 6.2662e-15, 0.0000e+00, 0.0000e+00,\n",
      "        3.6050e-15, 0.0000e+00, 1.9550e-15, 0.0000e+00, 7.1819e-16, 0.0000e+00,\n",
      "        0.0000e+00, 0.0000e+00, 0.0000e+00, 0.0000e+00, 7.4645e-16, 1.2588e-15,\n",
      "        0.0000e+00, 2.5304e-15, 3.2272e-15, 3.9211e-15, 0.0000e+00, 0.0000e+00,\n",
      "        5.6775e-15, 6.0679e-15, 0.0000e+00, 0.0000e+00, 0.0000e+00, 6.2674e-15,\n",
      "        0.0000e+00, 0.0000e+00, 5.0481e-15, 0.0000e+00, 0.0000e+00, 0.0000e+00,\n",
      "        0.0000e+00, 0.0000e+00, 1.3256e-15, 0.0000e+00, 0.0000e+00, 0.0000e+00,\n",
      "        3.7259e-17, 0.0000e+00, 0.0000e+00, 3.0928e-16, 0.0000e+00, 0.0000e+00,\n",
      "        0.0000e+00, 0.0000e+00, 0.0000e+00, 2.9752e-15, 3.4517e-15, 3.8770e-15,\n",
      "        0.0000e+00, 0.0000e+00, 0.0000e+00, 4.7460e-15, 0.0000e+00, 4.5730e-15,\n",
      "        0.0000e+00, 0.0000e+00, 0.0000e+00, 0.0000e+00, 0.0000e+00, 2.2338e-15,\n",
      "        0.0000e+00, 1.3059e-15, 0.0000e+00, 5.6038e-16, 2.9351e-16, 1.1083e-16,\n",
      "        0.0000e+00, 0.0000e+00, 0.0000e+00, 2.7043e-16, 0.0000e+00, 0.0000e+00,\n",
      "        0.0000e+00, 1.5247e-15, 0.0000e+00, 2.2770e-15, 0.0000e+00, 0.0000e+00,\n",
      "        3.1817e-15, 0.0000e+00, 0.0000e+00, 0.0000e+00, 3.4786e-15, 3.3623e-15,\n",
      "        0.0000e+00, 2.9298e-15, 0.0000e+00, 0.0000e+00, 0.0000e+00, 0.0000e+00,\n",
      "        1.2359e-15, 0.0000e+00, 6.1670e-16, 0.0000e+00, 0.0000e+00, 6.4804e-17,\n",
      "        9.1438e-18, 0.0000e+00, 0.0000e+00, 0.0000e+00, 0.0000e+00, 0.0000e+00,\n",
      "        0.0000e+00, 0.0000e+00, 0.0000e+00, 0.0000e+00, 0.0000e+00, 0.0000e+00,\n",
      "        0.0000e+00, 0.0000e+00, 0.0000e+00, 0.0000e+00, 0.0000e+00, 0.0000e+00,\n",
      "        0.0000e+00, 0.0000e+00, 0.0000e+00, 0.0000e+00, 0.0000e+00, 0.0000e+00,\n",
      "        0.0000e+00, 0.0000e+00, 0.0000e+00, 0.0000e+00, 0.0000e+00, 0.0000e+00,\n",
      "        0.0000e+00, 0.0000e+00, 0.0000e+00, 0.0000e+00, 0.0000e+00, 0.0000e+00,\n",
      "        0.0000e+00, 0.0000e+00, 0.0000e+00, 0.0000e+00, 0.0000e+00, 0.0000e+00,\n",
      "        0.0000e+00, 0.0000e+00, 0.0000e+00, 0.0000e+00, 0.0000e+00, 0.0000e+00,\n",
      "        0.0000e+00, 0.0000e+00, 0.0000e+00, 0.0000e+00, 0.0000e+00, 0.0000e+00,\n",
      "        0.0000e+00, 0.0000e+00, 0.0000e+00, 0.0000e+00, 0.0000e+00, 0.0000e+00,\n",
      "        0.0000e+00, 0.0000e+00, 0.0000e+00, 0.0000e+00, 0.0000e+00, 0.0000e+00,\n",
      "        0.0000e+00, 0.0000e+00, 0.0000e+00, 0.0000e+00, 0.0000e+00, 0.0000e+00,\n",
      "        0.0000e+00, 0.0000e+00, 0.0000e+00, 0.0000e+00, 0.0000e+00, 0.0000e+00,\n",
      "        0.0000e+00, 0.0000e+00, 0.0000e+00, 0.0000e+00, 0.0000e+00, 0.0000e+00,\n",
      "        0.0000e+00, 0.0000e+00, 0.0000e+00, 0.0000e+00, 0.0000e+00, 0.0000e+00,\n",
      "        0.0000e+00, 0.0000e+00, 0.0000e+00, 0.0000e+00, 0.0000e+00, 0.0000e+00,\n",
      "        0.0000e+00, 0.0000e+00, 0.0000e+00, 0.0000e+00, 0.0000e+00, 0.0000e+00,\n",
      "        0.0000e+00, 0.0000e+00, 0.0000e+00, 0.0000e+00, 0.0000e+00, 0.0000e+00,\n",
      "        0.0000e+00, 0.0000e+00, 0.0000e+00, 0.0000e+00, 0.0000e+00, 0.0000e+00,\n",
      "        0.0000e+00, 0.0000e+00, 0.0000e+00, 0.0000e+00, 0.0000e+00, 0.0000e+00,\n",
      "        0.0000e+00, 0.0000e+00, 0.0000e+00, 0.0000e+00, 0.0000e+00, 0.0000e+00,\n",
      "        0.0000e+00, 0.0000e+00, 0.0000e+00, 0.0000e+00, 0.0000e+00, 0.0000e+00,\n",
      "        0.0000e+00, 0.0000e+00, 0.0000e+00, 0.0000e+00, 0.0000e+00, 0.0000e+00,\n",
      "        0.0000e+00, 0.0000e+00, 0.0000e+00, 0.0000e+00, 0.0000e+00, 0.0000e+00,\n",
      "        0.0000e+00, 0.0000e+00, 0.0000e+00, 0.0000e+00, 0.0000e+00, 0.0000e+00,\n",
      "        0.0000e+00, 0.0000e+00, 0.0000e+00, 0.0000e+00, 0.0000e+00, 0.0000e+00,\n",
      "        0.0000e+00, 0.0000e+00, 0.0000e+00, 0.0000e+00, 0.0000e+00, 0.0000e+00,\n",
      "        0.0000e+00, 0.0000e+00, 0.0000e+00, 0.0000e+00, 0.0000e+00, 0.0000e+00,\n",
      "        0.0000e+00, 0.0000e+00, 0.0000e+00, 0.0000e+00, 0.0000e+00, 0.0000e+00,\n",
      "        0.0000e+00, 0.0000e+00, 0.0000e+00, 0.0000e+00, 0.0000e+00, 0.0000e+00,\n",
      "        0.0000e+00, 0.0000e+00, 0.0000e+00, 0.0000e+00, 0.0000e+00, 0.0000e+00,\n",
      "        0.0000e+00, 0.0000e+00, 0.0000e+00, 0.0000e+00, 0.0000e+00, 0.0000e+00,\n",
      "        0.0000e+00, 0.0000e+00, 0.0000e+00, 0.0000e+00, 0.0000e+00, 0.0000e+00,\n",
      "        0.0000e+00, 0.0000e+00, 0.0000e+00, 0.0000e+00, 0.0000e+00, 0.0000e+00,\n",
      "        0.0000e+00, 0.0000e+00, 0.0000e+00, 0.0000e+00, 0.0000e+00, 0.0000e+00,\n",
      "        0.0000e+00, 0.0000e+00, 0.0000e+00, 0.0000e+00, 0.0000e+00, 0.0000e+00,\n",
      "        0.0000e+00, 0.0000e+00, 0.0000e+00, 0.0000e+00, 0.0000e+00, 0.0000e+00,\n",
      "        0.0000e+00, 0.0000e+00, 0.0000e+00, 0.0000e+00, 0.0000e+00, 0.0000e+00],\n",
      "       device='cuda:0')\n"
     ]
    }
   ],
   "source": [
    "testing_q_values_tensor = torch.tensor(testing_q_values).float().to(\"cuda\")\n",
    "predicted_curves = custom_reflectivity(testing_q_values_tensor,eval_thicknesses , eval_roughnesses, eval_slds, abeles_func = abeles)\n",
    "print(predicted_curves[0])"
   ]
  },
  {
   "cell_type": "code",
   "execution_count": 36,
   "metadata": {},
   "outputs": [],
   "source": [
    "from reflectorch import get_param_labels, get_density_profiles\n",
    "\n",
    "#@interact(i=(0, batch_size-1, 1))\n",
    "def plot_refl_curve(testing_params,predictions,i=0):\n",
    "     fig, ax = plt.subplots(1,2,figsize=(12,6))\n",
    "\n",
    "     ax[0].set_yscale('log')\n",
    "     ax[0].set_ylim(0.5e-10, 5)\n",
    "\n",
    "     ax[0].set_xlabel('q [$Å^{-1}$]', fontsize=20)\n",
    "     ax[0].set_ylabel('R(q)', fontsize=20)\n",
    "\n",
    "     ax[0].tick_params(axis='both', which='major', labelsize=15)\n",
    "     ax[0].tick_params(axis='both', which='minor', labelsize=15)\n",
    "\n",
    "     y_tick_locations = [10**(-2*i) for i in range(6)]\n",
    "     ax[0].yaxis.set_major_locator(plt.FixedLocator(y_tick_locations))\n",
    "          \n",
    "     ax[0].plot(eval_q_values[i].cpu().numpy(), predicted_curves[i].cpu().numpy() + 1e-10, c='r', lw=1, label='prediction')\n",
    "     ax[0].scatter(eval_q_values[i].cpu().numpy(), testing_curves[i] + 1e-10, facecolors='none', edgecolors='blue', s=8, label='input sim. curve')\n",
    "\n",
    "     ax[0].legend(loc='upper right', fontsize=14)\n",
    "\n",
    "     z_axis = torch.linspace(-200, 1000, 1000, device='cuda')\n",
    "     _, sld_profile_gt, _ = get_density_profiles(\n",
    "          testing_params[:,:num_layers], \n",
    "          testing_params[:,num_layers:num_layers*2+1],\n",
    "          testing_params[:,num_layers*2+1:],\n",
    "          z_axis=z_axis)\n",
    "\n",
    "     _, sld_profile_pred, _ = get_density_profiles(\n",
    "          predictions[:,:num_layers], \n",
    "          predictions[:,num_layers:num_layers*2+1],\n",
    "          predictions[:,num_layers*2+1:],\n",
    "          z_axis=z_axis)\n",
    "\n",
    "     ax[1].plot(z_axis.cpu().numpy(), sld_profile_pred[i].cpu().numpy(), c='r', label='prediction')\n",
    "     ax[1].plot(z_axis.cpu().numpy(), sld_profile_gt[i].cpu().numpy(), c='b', label='ground truth')\n",
    "\n",
    "     ax[1].set_xlabel('z [$Å$]', fontsize=20)\n",
    "     ax[1].set_ylabel('SLD [$10^{-6} Å^{-2}$]', fontsize=20)\n",
    "     ax[1].tick_params(axis='both', which='major', labelsize=15)\n",
    "     ax[1].tick_params(axis='both', which='minor', labelsize=15)\n",
    "\n",
    "     ax[1].legend(loc='lower right', fontsize=14)\n",
    "\n",
    "     plt.tight_layout()\n",
    "\n",
    "    #for l, t, p, min_b, max_b in zip(\n",
    "     #     get_param_labels(num_layers),\n",
    "     #     params.parameters[i], \n",
    "     #     restored_predictions.parameters[i], \n",
    "     #     restored_predictions.min_bounds[i], \n",
    "     #     restored_predictions.max_bounds[i]\n",
    "     #     ):\n",
    "     #    print(f'{l.ljust(14)} --> True: {t:.2f} Predicted: {p:.2f}  Input prior bounds: ({min_b:.2f}, {max_b:.2f})')"
   ]
  },
  {
   "cell_type": "code",
   "execution_count": 34,
   "metadata": {},
   "outputs": [
    {
     "name": "stdout",
     "output_type": "stream",
     "text": [
      "Actual thickness  tensor([98.6863, 16.5982, 15.3110, 98.6863, 16.5982, 15.3110], device='cuda:0',\n",
      "       dtype=torch.float64)\n",
      "Prediction thickness  tensor([100.8836,  26.5075,  16.4438, 101.8814,  23.5002,  17.7266],\n",
      "       device='cuda:0')\n",
      "Actual SLD  tensor([2.2724e-05, 1.0127e-04, 6.6796e-05, 1.3552e-04, 1.0127e-04, 6.6796e-05,\n",
      "        1.3552e-04], device='cuda:0', dtype=torch.float64)\n",
      "Prediction SLD  tensor([2.3393e-05, 1.0148e-04, 6.6580e-05, 1.3509e-04, 1.0110e-04, 6.7308e-05,\n",
      "        1.3457e-04], device='cuda:0')\n"
     ]
    },
    {
     "data": {
      "image/png": "[encoded data removed]",
      "text/plain": [
       "<Figure size 1200x600 with 2 Axes>"
      ]
     },
     "metadata": {},
     "output_type": "display_data"
    }
   ],
   "source": [
    "testing_params_cuda = torch.tensor(testing_params).to('cuda')  # move to GPU\n",
    "testing_params_cuda = torch.real(testing_params_cuda)\n",
    "i = 220\n",
    "plot_refl_curve(testing_params_cuda,restored_predictions, i)\n",
    "print(\"Actual thickness \", testing_params_cuda[i,:num_layers])\n",
    "print(\"Prediction thickness \", restored_predictions[i,:num_layers])\n",
    "print(\"Actual SLD \", testing_params_cuda[i,num_layers*2+1:])\n",
    "print(\"Prediction SLD \", restored_predictions[i,num_layers*2+1:])"
   ]
  },
  {
   "cell_type": "code",
   "execution_count": 28,
   "metadata": {},
   "outputs": [
    {
     "name": "stdout",
     "output_type": "stream",
     "text": [
      "Actual thicknesses: tensor([98.6863, 16.5982, 15.3110, 98.6863, 16.5982, 15.3110], device='cuda:0',\n",
      "       dtype=torch.float64)\n",
      "Actual roughnesses: tensor([23.8554, 42.4921,  1.6034,  1.7186, 42.4921,  1.6034,  1.7186],\n",
      "       device='cuda:0', dtype=torch.float64)\n",
      "Actual layer SLDs: tensor([2.2724e-05, 1.0127e-04, 6.6796e-05, 1.3552e-04, 1.0127e-04, 6.6796e-05,\n",
      "        1.3552e-04], device='cuda:0', dtype=torch.float64)\n",
      "Predicted thicknesses: tensor([100.8836,  26.5075,  16.4438, 101.8814,  23.5002,  17.7266],\n",
      "       device='cuda:0')\n",
      "Predicted roughnesses: tensor([23.7141, 42.4618,  2.1056,  2.3928, 42.4301,  2.2807,  2.4572],\n",
      "       device='cuda:0')\n",
      "Predicted layer SLDs: tensor([2.3393e-05, 1.0148e-04, 6.6580e-05, 1.3509e-04, 1.0110e-04, 6.7308e-05,\n",
      "        1.3457e-04], device='cuda:0')\n",
      "Thickness loss: 25.371110\n",
      "Roughness loss: 89.819311\n",
      "SLD loss: 1.036891\n",
      "Total loss: 116.227313\n"
     ]
    }
   ],
   "source": [
    "pred_idx = 220\n",
    "print(f'Actual thicknesses: {testing_params_cuda[pred_idx,:num_layers]}')\n",
    "print(f'Actual roughnesses: {testing_params_cuda[pred_idx,num_layers:num_layers*2+1]}')\n",
    "print(f'Actual layer SLDs: {testing_params_cuda[pred_idx,num_layers*2+1:]}')\n",
    "\n",
    "print(f'Predicted thicknesses: {eval_thicknesses[pred_idx]}')\n",
    "print(f'Predicted roughnesses: {eval_roughnesses[pred_idx]}')\n",
    "print(f'Predicted layer SLDs: {eval_slds[pred_idx]}')\n",
    "\n",
    "def loss(pred, true):\n",
    "    percentage_error = torch.abs((true - pred) / (true + 1e-8))\n",
    "    return torch.mean(percentage_error) * 100\n",
    "\n",
    "\n",
    "def evaluate_model(pred_thickness, true_thickness,\n",
    "                   pred_roughness, true_roughness,\n",
    "                   pred_sld, true_sld):\n",
    "    loss_thickness = loss(pred_thickness, true_thickness)\n",
    "    loss_roughness = loss(pred_roughness, true_roughness)\n",
    "    loss_sld = loss(pred_sld, true_sld)\n",
    "\n",
    "    print(f\"Thickness loss: {loss_thickness:.6f}\")\n",
    "    print(f\"Roughness loss: {loss_roughness:.6f}\")\n",
    "    print(f\"SLD loss: {loss_sld:.6f}\")\n",
    "\n",
    "    return loss_thickness, loss_roughness, loss_sld\n",
    "\n",
    "loss_t, loss_r, loss_s = evaluate_model(\n",
    "    eval_thicknesses, testing_params_cuda[:,:num_layers],\n",
    "    eval_roughnesses, testing_params_cuda[:,num_layers:num_layers*2+1],\n",
    "    eval_slds, testing_params_cuda[:,num_layers*2+1:]\n",
    ")\n",
    "\n",
    "total_loss = loss_t+ loss_r+ loss_s\n",
    "print(f\"Total loss: {total_loss:.6f}\")"
   ]
  },
  {
   "cell_type": "markdown",
   "metadata": {},
   "source": [
    ":::{tip}\n",
    ":class: dropdown\n",
    "\n",
    "The saved weights can be loaded into a compatible neural network (`net`) as:\n",
    "\n",
    "```python\n",
    "saved_dict = torch.load(save_path)\n",
    "model_state_dict = saved_dict['model']\n",
    "net.load_state_dict(model_state_dict)\n",
    "```\n",
    "\n",
    ":::"
   ]
  },
  {
   "cell_type": "markdown",
   "metadata": {},
   "source": [
    "The model state dictionaries of all the saved '.pt' files in a directory can be further converted to the '.safetensors' format for exporting to Huggingface using the `convert_pt_to_safetensors` method."
   ]
  },
  {
   "cell_type": "markdown",
   "metadata": {},
   "source": [
    "### Training from the terminal"
   ]
  },
  {
   "cell_type": "markdown",
   "metadata": {},
   "source": [
    "Above we described the workflow for training a model in a Jupyter Notebook, where we loaded the trainer from the configuration file but defined the callbacks manually. Alternatively, one can train a model from the terminal (in this case the callbacks defined in the configuration file are used):\n",
    "\n",
    "```bash\n",
    "python -m reflectorch.train config_name\n",
    "``` \n"
   ]
  },
  {
   "cell_type": "markdown",
   "metadata": {},
   "source": [
    "## Customizing the YAML configuration for training"
   ]
  },
  {
   "cell_type": "markdown",
   "metadata": {
    "tags": []
   },
   "source": [
    "In the following we show how the YAML configuration file can be customized."
   ]
  },
  {
   "cell_type": "markdown",
   "metadata": {},
   "source": [
    "```{dropdown} Sample YAML configuration\n",
    "```yaml\n",
    "\n",
    "general:\n",
    "  name: a_base_point_xray_conv_standard\n",
    "  root_dir: null\n",
    "  \n",
    "dset:\n",
    "  cls: ReflectivityDataLoader\n",
    "  prior_sampler:\n",
    "    cls: SubpriorParametricSampler\n",
    "    kwargs:\n",
    "      param_ranges:\n",
    "        thicknesses: [1., 500.]\n",
    "        roughnesses: [0., 60.]\n",
    "        slds: [0., 50.]\n",
    "      bound_width_ranges:\n",
    "        thicknesses: [1.0e-2, 500.]\n",
    "        roughnesses: [1.0e-2, 60.]\n",
    "        slds: [1.0e-2, 5.]\n",
    "      model_name: standard_model\n",
    "      max_num_layers: 2\n",
    "      constrained_roughness: true\n",
    "      max_thickness_share: 0.5\n",
    "      logdist: false\n",
    "      scale_params_by_ranges: false\n",
    "      scaled_range: [-1., 1.]\n",
    "      device: 'cuda'\n",
    "      \n",
    "  q_generator:\n",
    "    cls: ConstantQ\n",
    "    kwargs:\n",
    "      q: [0.02, 0.15, 128]\n",
    "      device: 'cuda'\n",
    "      \n",
    "  intensity_noise:\n",
    "    cls: GaussianExpIntensityNoise\n",
    "    kwargs:\n",
    "      relative_errors: [0.01, 0.3]\n",
    "      consistent_rel_err: false\n",
    "      apply_shift: true\n",
    "      shift_range: [-0.3, 0.3]\n",
    "      add_to_context: true\n",
    "\n",
    "  curves_scaler:\n",
    "    cls: LogAffineCurvesScaler\n",
    "    kwargs:\n",
    "      weight: 0.2\n",
    "      bias: 1.0\n",
    "      eps: 1.0e-10\n",
    "\n",
    "model:\n",
    "  network:\n",
    "    cls: NetworkWithPriors\n",
    "    pretrained_name: null\n",
    "    device: 'cuda'\n",
    "    kwargs:\n",
    "      embedding_net_type: 'conv'\n",
    "      embedding_net_kwargs:\n",
    "        in_channels: 1\n",
    "        hidden_channels: [32, 64, 128, 256, 512]\n",
    "        kernel_size: 3\n",
    "        dim_embedding: 128\n",
    "        dim_avpool: 1\n",
    "        use_batch_norm: true\n",
    "        use_se: false\n",
    "        activation: 'gelu'\n",
    "      pretrained_embedding_net: null\n",
    "      dim_out: 8\n",
    "      dim_conditioning_params: 0\n",
    "      layer_width: 512\n",
    "      num_blocks: 8\n",
    "      repeats_per_block: 2\n",
    "      residual: true\n",
    "      use_batch_norm: true\n",
    "      use_layer_norm: false\n",
    "      mlp_activation: 'gelu'\n",
    "      dropout_rate: 0.0 \n",
    "      conditioning: 'film'\n",
    "      concat_condition_first_layer: false\n",
    "       \n",
    "training:\n",
    "  trainer_cls: PointEstimatorTrainer\n",
    "  num_iterations: 10000\n",
    "  batch_size: 4096\n",
    "  lr: 1.0e-3\n",
    "  grad_accumulation_steps: 1\n",
    "  clip_grad_norm_max: null\n",
    "  update_tqdm_freq: 1\n",
    "  optimizer: AdamW\n",
    "  trainer_kwargs:\n",
    "    train_with_q_input: false\n",
    "    condition_on_q_resolutions: false\n",
    "    rescale_loss_interval_width: true\n",
    "    use_l1_loss: true\n",
    "    optim_kwargs:\n",
    "      betas: [0.9, 0.999]\n",
    "      weight_decay: 0.0005\n",
    "  callbacks:\n",
    "    save_best_model:\n",
    "      enable: true\n",
    "      freq: 500\n",
    "    lr_scheduler:\n",
    "      cls: CosineAnnealingWithWarmup\n",
    "      kwargs:\n",
    "        min_lr: 1.0e-6\n",
    "        warmup_iters: 500\n",
    "        total_iters: 10000\n",
    "\n",
    "  logger:\n",
    "    cls: TensorBoardLogger\n",
    "    kwargs:\n",
    "      log_dir: \"tensorboard_runs/test_1\"\n",
    "```"
   ]
  },
  {
   "cell_type": "markdown",
   "metadata": {},
   "source": [
    "The `general` key, contains the following subkeys:\n",
    "\n",
    "- `name` - name used for saving the model\n",
    "- `root` - path to the root directory, defaults to the package directory"
   ]
  },
  {
   "cell_type": "markdown",
   "metadata": {
    "tags": []
   },
   "source": [
    "```yaml\n",
    "general:\n",
    "  name: a_base_point_xray_conv_standard\n",
    "  root_dir: null\n",
    "```"
   ]
  },
  {
   "cell_type": "markdown",
   "metadata": {},
   "source": [
    "The `dset` key defines the settings pertaining to the data generation (i.e. the SLD profile parameterization, the ranges of the thin film parameters, the q values, the noise added to the reflectivity curves and the scaling of the reflectivity curves). It has the following subkeys:"
   ]
  },
  {
   "cell_type": "markdown",
   "metadata": {},
   "source": [
    "1. `cls` (*optional*) - the class of the data loader. If not provided, the default class `ReflectivityDataLoader` is used."
   ]
  },
  {
   "cell_type": "markdown",
   "metadata": {},
   "source": [
    "2. `prior_sampler` - responsible for defining the type of SLD parameterization, the ranges from which the thin film parameters are sampled and the ranges from which the widths of the prior bounds are sampled. The `SubpriorParametricSampler` class first samples a center (**C**) from the parameter ranges and a width (**W**) from the bound width ranges. This defines a subinterval delimited by the minimum prior bound **B_min** = **C** - **W**/2 and the maximum prior bound **B_max** = **C** + **W**/2. Then, the values of the parameters (to be used for simulating the reflectivity curves and as ground truth) are uniformly sampled within the interval [**B_min**, **B_max**]. It has the following keyword arguments:\n",
    "- `model_name` - name associated with the type of SLD parameterization. Here, `standard_model` represents the standard box model parameterization of the SLD with the parameters thickness, roughness and real layer SLD.\n",
    "- `max_num_layers` - the number of layers in the thin film (in addition to the substrate)\n",
    "- `param_ranges` - the ranges from which the values of each type of thin film parameter are uniformly sampled (for the standard model `thicknesses`, `roughnesses` and `slds`) \n",
    "- `bound_width_ranges` - the ranges from which the prior bound widths of each type of thin film parameter are uniformly sampled. If the argument `logdist` is set to `true`, the prior bound widths are sampled uniformly on a logarithmic scale instead, biasing the training towards smaller prior bound widths.\n",
    "- `constrained_roughness` - if `true` the sampling of the roughness parameters is constrained such that the roughness of an interface between two layers does not exceed a fraction (defined by the argument `max_thickness_share`) of the thickness of either one of those layers.\n",
    "- `max_total_thickness` (optional) - if provided, the sampling is performed such that the sum of the sampled layer thicknesses does not exceed this value\n",
    "- `scale_params_by_ranges` - if `true` the parameters are scaled with respect to their ranges, otherwise they are scaled with respect to their subprior bound interval. The default is `false`.\n",
    "- `scaled_range` - the ML-friendly range to which the parameters (and prior bounds) are scaled to, the default is [-1, 1]\n",
    "- `device` - default is `'cuda'` for GPU use, can be changed to `'cpu'` for CPU use"
   ]
  },
  {
   "cell_type": "markdown",
   "metadata": {},
   "source": [
    "```{figure} FigureReflectometryNetwork.png\n",
    ":scale: 25\n",
    ":align: center\n",
    ":name: figure_reflectometry_network\n",
    "(a) Parameter sampling process (b) Neural network architecture\n",
    "```"
   ]
  },
  {
   "cell_type": "markdown",
   "metadata": {},
   "source": [
    "```yaml\n",
    "dset:\n",
    "  cls: ReflectivityDataLoader\n",
    "  prior_sampler:\n",
    "    cls: SubpriorParametricSampler\n",
    "    kwargs:\n",
    "      param_ranges:\n",
    "        thicknesses: [1., 500.]\n",
    "        roughnesses: [0., 60.]\n",
    "        slds: [0., 50.]\n",
    "      bound_width_ranges:\n",
    "        thicknesses: [1.0e-2, 500.]\n",
    "        roughnesses: [1.0e-2, 60.]\n",
    "        slds: [1.0e-2, 5.]\n",
    "      model_name: standard_model\n",
    "      max_num_layers: 2\n",
    "      constrained_roughness: true\n",
    "      max_thickness_share: 0.5\n",
    "      logdist: false\n",
    "      scale_params_by_ranges: false\n",
    "      scaled_range: [-1., 1.]\n",
    "      device: 'cuda'\n",
    "```"
   ]
  },
  {
   "cell_type": "markdown",
   "metadata": {},
   "source": [
    "3. `q_generator` - responsible for generating the transfer vector (q) values at which the reflectivity is to be simulated. We must first specifiy its class. The `ConstantQ` class generates a fixed discretization for all the reflectivity curves in the batch. Its `q` keyword argument is a tuple formatted as *[q_min, q_max, num_q_points]*, which defines the minimum q value, the maximum q value as well as the number of points (including the interval boundaries) to be equidistantly sampled. Other q generator classes are available such as `VariableQ` (equidistant grid with variable *q_min*, *q_max* and *num_q_points*, further described in the *Advanced functionality* section) and `ConstantAngle` which generates the grid of q values based on equidistantlly sampled scattering angles and the wavelength of the beam. The `device` argument can be changed to `'cpu'` for CPU use (default is `'cuda'` for GPU use)."
   ]
  },
  {
   "cell_type": "markdown",
   "metadata": {},
   "source": [
    "```yaml\n",
    "\n",
    "dset:\n",
    "  q_generator:\n",
    "    cls: ConstantQ\n",
    "    kwargs:\n",
    "      q: [0.02, 0.15, 128]\n",
    "      device: 'cuda'\n",
    "      \n",
    "```      "
   ]
  },
  {
   "cell_type": "markdown",
   "metadata": {},
   "source": [
    "4. `q_noise` (*optional*) - responsible for adding noise to the generated q values, which emulates possible measurement errors due to sample misalignment. The `BasicQNoiseGenerator` class can add both systematic q shifts (the same change applied to all q points of a curve) and random noise (different changes applied to each q point of a curve) to the q values of the batch of curves, it has the following arguments:\n",
    "- `shift_std` - the standard deviation of the normal distribution for sampling the systematic q shifts (one value sampled per curve in the batch)\n",
    "- `noise_std` - the standard deviation of the normal distribution for sampling the random q noise (one value sampled per point in the curve). The standard deviation is the same for all curves in the batch if provided as a float, or uniformly sampled from a range for each curve in the batch if provided as a tuple."
   ]
  },
  {
   "cell_type": "markdown",
   "metadata": {},
   "source": [
    "```yaml\n",
    "dset:\n",
    "  q_noise:\n",
    "    cls: BasicQNoiseGenerator\n",
    "    kwargs:\n",
    "      shift_std: 1.0e-3\n",
    "      noise_std: [0., 1.0e-3]\n",
    "```"
   ]
  },
  {
   "cell_type": "markdown",
   "metadata": {},
   "source": [
    "5. `intensity_noise` - responsible for adding noise to the intensity values of the reflectivity curves.\n",
    "\n",
    "    The `GaussianExpIntensityNoise` combines three types of noise:\n",
    "    - Gaussian noise: Applies Gaussian noise to account for count-based Poisson noise as well as other sources of error.\n",
    "    - Shift noise: Applies a multiplicative scaling to the curves, equivalent to a vertical shift in logarithmic space.\n",
    "    - Background noise: Adds a constant background to the curves.\n",
    "\n",
    "    It has the following arguments:\n",
    "    - `relative_errors` - range of relative errors for Gaussian noise.\n",
    "    - `consistent_rel_err` - if `true`, uses a consistent relative error for Gaussian noise across all points in a curve.\n",
    "    - `apply_shift` - if `true`, applies shift noise to the curves.\n",
    "    - `shift_range` - range of shift factors for shift noise.\n",
    "    - `apply_background` - if `true`, applies background noise to the curves.\n",
    "    - `background_range` - range for background values."
   ]
  },
  {
   "cell_type": "markdown",
   "metadata": {},
   "source": [
    "```yaml\n",
    "intensity_noise:\n",
    "  cls: GaussianExpIntensityNoise\n",
    "  kwargs:\n",
    "    relative_errors: [0.01, 0.3]\n",
    "    consistent_rel_err: false\n",
    "    apply_shift: true\n",
    "    shift_range: [-0.3, 0.3]\n",
    "    apply_background: false\n",
    "    background_range: [1.0e-10, 1.0e-4]\n",
    "    add_to_context: true\n",
    "```"
   ]
  },
  {
   "cell_type": "markdown",
   "metadata": {},
   "source": [
    "6. `smearing` (*optional*) - responsible for adding resolution smearing to the curves (which can occur in neutron experiments due to uncertainties in incident angle  or wavelength). The intensity at a q point will be the average of the intensities of neighbouring q points, weighted by a gaussian profile. The arguments of the `Smearing` class are:\n",
    "- `sigma_range` - the range for sampling the resolutions\n",
    "- `constant_dq` - if `True` the smearing is constant (the resolution is given by the constant dq at each point in the curve, i.e. x-ray variant), otherwise the smearing is linear (the resolution is given by the constant dq/q at each point in the curve, i.e. neutron variant)\n",
    "- `gauss_num` - the number of points used to define the Gaussian smearing kernel. A higher number increases precision at the cost of computational efficiency.\n",
    "- `share_smeared` - the share of curves in the batch for which the resolution smearing is applied"
   ]
  },
  {
   "cell_type": "markdown",
   "metadata": {},
   "source": [
    "```yaml\n",
    "dset:   \n",
    "  smearing:\n",
    "    cls: Smearing\n",
    "    kwargs:\n",
    "      sigma_range: [0.01, 0.08]\n",
    "      constant_dq: False\n",
    "      gauss_num: 17\n",
    "      share_smeared: 0.8\n",
    "```"
   ]
  },
  {
   "cell_type": "markdown",
   "metadata": {},
   "source": [
    "7. `curves_scaler` - responsible for scaling the reflectivity curves to a ML-friendly range. The `LogAffineCurvesScaler` class scales the reflectivity curves (R) accoring to the formula: \n",
    "\n",
    "$R_{scaled} = log_{10}(R + eps) \\times weight + bias$\n",
    "\n",
    "The argument `eps` sets the minimum intensity value of the reflectivity curves which is considered. The default values of 1.0e-10 for `eps`, 0.2 for `weight` and 1.0 for `bias` results in the interval [-1, 1] for the scaled reflectivity curves. "
   ]
  },
  {
   "cell_type": "markdown",
   "metadata": {},
   "source": [
    "```yaml\n",
    "dset:    \n",
    "  curves_scaler:\n",
    "    cls: LogAffineCurvesScaler\n",
    "    kwargs:\n",
    "      weight: 0.2\n",
    "      bias: 1.0\n",
    "      eps: 1.0e-10\n",
    "```"
   ]
  },
  {
   "cell_type": "markdown",
   "metadata": {},
   "source": [
    "The `model` key defines the neural network architecture. Its `network` subkey contains the following subkeys:\n",
    "\n",
    "- `cls` - the class of the neural network\n",
    "- `pretrained_name` - the name of a pretrained model used to initialize the weights (optional)\n",
    "- `device` - the Pytorch device (either `cuda` or `cpu`)\n",
    "- `kwargs` - the keyword arguments for the provided class"
   ]
  },
  {
   "cell_type": "markdown",
   "metadata": {},
   "source": [
    "The `NetworkWithPriors` class has the following keyword arguments:\n",
    "- `embedding_net_type` - the type of embedding network (e.g. `'conv'` for a 1D CNN, `'fno'` for a FNO)\n",
    "- `embedding_net_kwargs` - the keyword arguments corresponding to the chosen embedding network (e.g. for the 1D CNN: `in_channels` - the number of input channels of the 1D CNN, `hidden_channels` - list with the number of channels for each layer of the 1D CNN, `dim_embedding` - the dimension of the embedding produced by the 1D CNN, `dim_avpool` - the output size of the adaptive average pooling layer, `activation` - the type of activation function in the 1D CNN)\n",
    "- `pretrained_embedding_net` - the path to the weights of a pretrained embedding network (optional)\n",
    "- `dim_out` - the dimension of the output produced by the MLP (i.e. the number of thin film parameters to be predicted)\n",
    "- `dim_conditioning_params` - the dimension of extra parameters used as input to the network in specific training scenarios (such as the resolution coefficient dq/q), defaults to 0.\n",
    "- `layer_width` - the width (i.e. number of neurons) of a linear layer in the MLP\n",
    "- `num_blocks` - the number of residual blocks in the MLP\n",
    "- `repeats_per_block` - the number of normalization/activation/linear repeats in a block\n",
    "- `use_batch_norm` - whether to use batch normalization in the MLP\n",
    "- `use_layer_norm` - whether to use layer normalization in the MLP (if batch normalization is not used)\n",
    "- `mlp_activation` - the type of activation function in the MLP\n",
    "- `dropout_rate` - dropout rate for each block\n",
    "- `conditioning` - the modality in which the prior bounds are provided to the network, either by concatenating the prior bounds to the data embedding ( `'concat'`) before the MLP or by modulating the intermediated features in each block of the MLP via [FiLM](https://arxiv.org/abs/1709.07871) layers (`'film'`) or [GLU](https://pytorch.org/docs/stable/generated/torch.nn.GLU.html) layers (`'glu'`). If `concat_condition_first_layer` is `true`, the concatenation is performed even when `'film'` or `'glu'` are used.\n"
   ]
  },
  {
   "cell_type": "markdown",
   "metadata": {
    "tags": []
   },
   "source": [
    "```yaml\n",
    "\n",
    "model:\n",
    "  network:\n",
    "    cls: NetworkWithPriors\n",
    "    pretrained_name: null\n",
    "    device: 'cuda'\n",
    "    kwargs:\n",
    "      embedding_net_type: 'conv'\n",
    "      embedding_net_kwargs:\n",
    "        in_channels: 1\n",
    "        hidden_channels: [32, 64, 128, 256, 512]\n",
    "        kernel_size: 3\n",
    "        dim_embedding: 128\n",
    "        dim_avpool: 1\n",
    "        use_batch_norm: true\n",
    "        activation: 'gelu'\n",
    "      pretrained_embedding_net: null\n",
    "      dim_out: 8\n",
    "      dim_conditioning_params: 0\n",
    "      layer_width: 512\n",
    "      num_blocks: 8\n",
    "      repeats_per_block: 2\n",
    "      residual: true\n",
    "      use_batch_norm: true\n",
    "      use_layer_norm: false\n",
    "      mlp_activation: 'gelu'\n",
    "      dropout_rate: 0.0 \n",
    "      conditioning: 'film' # 'concat', 'glu', 'film'\n",
    "      concat_condition_first_layer: false\n",
    "  \n",
    "```"
   ]
  },
  {
   "cell_type": "markdown",
   "metadata": {},
   "source": [
    "The `training` key can be used to customize the training settings:\n",
    "\n",
    "- `trainer_cls` - the class of the trainer (by default `PointEstimatorTrainer`)\n",
    "- `num_iterations` - the total number of training iterations\n",
    "- `batch_size` - the batch size (number of curves generated at each iteration)\n",
    "- `lr` - the initial learning rate\n",
    "- `grad_accumulation_steps` - if larger than 1, training is performed using gradient accumulation with the chosen number of steps\n",
    "- `clip_grad_norm_max` - the maximum norm for gradient clipping (optional)\n",
    "- `update_tqdm_freq` - the frequency for updating the [tqdm progress bar](https://tqdm.github.io/)\n",
    "- `optimizer` - the used [Pytorch optimizer](https://pytorch.org/docs/stable/optim). Default is `AdamW`\n",
    "- `trainer_kwargs` - additional trainer keyword arguments. Can be used to specify optional inputs to the network, such as the q values (`train_with_q_input`) or the resolution coefficient (`condition_on_q_resolutions`). Can also be used for setting the optimizer keyword arguments (`optim_kwargs`).\n",
    "- `callbacks` - (optional) the callback classes together with their keyword arguments.\n",
    "- `logger` - (optional) a Tensorboard logger for monitoring the progress of the training."
   ]
  },
  {
   "cell_type": "markdown",
   "metadata": {},
   "source": [
    "```yaml\n",
    "\n",
    "training:\n",
    "  trainer_cls: PointEstimatorTrainer\n",
    "  num_iterations: 100000\n",
    "  batch_size: 4096\n",
    "  lr: 1.0e-3\n",
    "  grad_accumulation_steps: 1\n",
    "  clip_grad_norm_max: null\n",
    "  update_tqdm_freq: 1\n",
    "  optimizer: AdamW\n",
    "  trainer_kwargs:\n",
    "    train_with_q_input: false\n",
    "    condition_on_q_resolutions: false\n",
    "    rescale_loss_interval_width: true\n",
    "    use_l1_loss: true\n",
    "    optim_kwargs:\n",
    "      betas: [0.9, 0.999]\n",
    "      weight_decay: 0.0005\n",
    "  callbacks:\n",
    "    save_best_model:\n",
    "      enable: true\n",
    "      freq: 500\n",
    "    lr_scheduler:\n",
    "      cls: StepLR\n",
    "      kwargs:\n",
    "        step_size: 20000\n",
    "        gamma: 0.5\n",
    "  logger:\n",
    "    cls: TensorBoardLogger\n",
    "    kwargs:\n",
    "      log_dir: \"tensorboard_runs/test_1\"\n",
    "     \n",
    "```"
   ]
  }
 ],
 "metadata": {
  "kernelspec": {
   "display_name": "Python 3 (ipykernel)",
   "language": "python",
   "name": "python3"
  },
  "language_info": {
   "codemirror_mode": {
    "name": "ipython",
    "version": 3
   },
   "file_extension": ".py",
   "mimetype": "text/x-python",
   "name": "python",
   "nbconvert_exporter": "python",
   "pygments_lexer": "ipython3",
   "version": "3.12.9"
  },
  "widgets": {
   "application/vnd.jupyter.widget-state+json": {
    "state": {},
    "version_major": 2,
    "version_minor": 0
   }
  }
 },
 "nbformat": 4,
 "nbformat_minor": 4
}
