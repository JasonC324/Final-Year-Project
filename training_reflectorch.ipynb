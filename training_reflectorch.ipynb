{
 "cells": [
  {
   "cell_type": "markdown",
   "metadata": {},
   "source": [
    "# Training a reflectorch model"
   ]
  },
  {
   "cell_type": "markdown",
   "metadata": {},
   "source": [
    "First, we import the necessary methods from the `reflectorch` package, as well as other basic Python packages:"
   ]
  },
  {
   "cell_type": "code",
   "execution_count": 6,
   "metadata": {
    "tags": []
   },
   "outputs": [
    {
     "name": "stdout",
     "output_type": "stream",
     "text": [
      "['C:/Users/Owner/Desktop/cw/COMP60660/reflectorch', 'C:/Users/Owner/Desktop/cw/COMP60660/reflectorch', 'C:\\\\Program Files\\\\WindowsApps\\\\PythonSoftwareFoundation.Python.3.12_3.12.2544.0_x64__qbz5n2kfra8p0\\\\python312.zip', 'C:\\\\Program Files\\\\WindowsApps\\\\PythonSoftwareFoundation.Python.3.12_3.12.2544.0_x64__qbz5n2kfra8p0\\\\DLLs', 'C:\\\\Program Files\\\\WindowsApps\\\\PythonSoftwareFoundation.Python.3.12_3.12.2544.0_x64__qbz5n2kfra8p0\\\\Lib', 'C:\\\\Program Files\\\\WindowsApps\\\\PythonSoftwareFoundation.Python.3.12_3.12.2544.0_x64__qbz5n2kfra8p0', '', 'C:\\\\Users\\\\Owner\\\\AppData\\\\Local\\\\Packages\\\\PythonSoftwareFoundation.Python.3.12_qbz5n2kfra8p0\\\\LocalCache\\\\local-packages\\\\Python312\\\\site-packages', 'C:\\\\Users\\\\Owner\\\\AppData\\\\Local\\\\Packages\\\\PythonSoftwareFoundation.Python.3.12_qbz5n2kfra8p0\\\\LocalCache\\\\local-packages\\\\Python312\\\\site-packages\\\\win32', 'C:\\\\Users\\\\Owner\\\\AppData\\\\Local\\\\Packages\\\\PythonSoftwareFoundation.Python.3.12_qbz5n2kfra8p0\\\\LocalCache\\\\local-packages\\\\Python312\\\\site-packages\\\\win32\\\\lib', 'C:\\\\Users\\\\Owner\\\\AppData\\\\Local\\\\Packages\\\\PythonSoftwareFoundation.Python.3.12_qbz5n2kfra8p0\\\\LocalCache\\\\local-packages\\\\Python312\\\\site-packages\\\\Pythonwin', 'C:\\\\Program Files\\\\WindowsApps\\\\PythonSoftwareFoundation.Python.3.12_3.12.2544.0_x64__qbz5n2kfra8p0\\\\Lib\\\\site-packages']\n",
      "C:\\Users/Owner/Desktop/cw/COMP60660/reflectorch\\reflectorch\\__init__.py\n"
     ]
    }
   ],
   "source": [
    "import matplotlib.pyplot as plt\n",
    "import numpy as np\n",
    "import torch\n",
    "\n",
    "import sys\n",
    "sys.path.insert(0, r'C:/Users/Owner/Desktop/cw/COMP60660/reflectorch')\n",
    "print(sys.path)\n",
    "\n",
    "import reflectorch as reflectorch\n",
    "print(reflectorch.__file__)\n"
   ]
  },
  {
   "cell_type": "markdown",
   "metadata": {},
   "source": [
    ":::{tip}\n",
    ":class: dropdown\n",
    "\n",
    "Alternatively, we can import everything from reflectorch with\n",
    "`from reflectorch import *`\n",
    ":::"
   ]
  },
  {
   "cell_type": "markdown",
   "metadata": {
    "tags": []
   },
   "source": [
    "## The training loop"
   ]
  },
  {
   "cell_type": "markdown",
   "metadata": {},
   "source": [
    "### Loading the trainer"
   ]
  },
  {
   "cell_type": "markdown",
   "metadata": {},
   "source": [
    "For training a model we use the `Trainer` class, which contains all the components necessary for the training process such as the data generator, the neural network and the optimizer.\n",
    "\n",
    " We can initialize the trainer according to the specifications defined in a YAML configuration file using the `get_trainer_by_name` method which takes as input the name of the configuration file. If the package was installed in editable model, the configuration files are read from the `configs` directory located inside the repository, otherwise the path to the directory containing the configuration file should also be specified using the `config_dir` argument. The `load_weights` argument should be set to `False` since we want the neural network weights to be randomly initialized for a fresh training."
   ]
  },
  {
   "cell_type": "code",
   "execution_count": 2,
   "metadata": {
    "tags": []
   },
   "outputs": [
    {
     "name": "stdout",
     "output_type": "stream",
     "text": [
      "Model Test_v1 loaded. Number of parameters: 8.65 M\n"
     ]
    }
   ],
   "source": [
    "config_name = 'Test_v1'\n",
    "config_dir = \"./reflectorch/configs\"\n",
    "trainer = reflectorch.get_trainer_by_name(config_name,config_dir, load_weights=False)"
   ]
  },
  {
   "cell_type": "code",
   "execution_count": 3,
   "metadata": {},
   "outputs": [
    {
     "data": {
      "text/plain": [
       "ReflectivityDataLoader()"
      ]
     },
     "execution_count": 3,
     "metadata": {},
     "output_type": "execute_result"
    }
   ],
   "source": [
    "trainer.loader"
   ]
  },
  {
   "cell_type": "markdown",
   "metadata": {
    "tags": []
   },
   "source": [
    "The trainer contains several important attributes we can inspect:"
   ]
  },
  {
   "cell_type": "markdown",
   "metadata": {},
   "source": [
    "  1. The Pytorch optimizer. We can observe that the optimizer specified in the configuration is `AdamW`:"
   ]
  },
  {
   "cell_type": "code",
   "execution_count": 4,
   "metadata": {
    "tags": []
   },
   "outputs": [
    {
     "data": {
      "text/plain": [
       "AdamW (\n",
       "Parameter Group 0\n",
       "    amsgrad: False\n",
       "    betas: [0.9, 0.999]\n",
       "    capturable: False\n",
       "    differentiable: False\n",
       "    eps: 1e-08\n",
       "    foreach: None\n",
       "    fused: None\n",
       "    lr: 0.001\n",
       "    maximize: False\n",
       "    weight_decay: 0.0005\n",
       ")"
      ]
     },
     "execution_count": 4,
     "metadata": {},
     "output_type": "execute_result"
    }
   ],
   "source": [
    "trainer.optim"
   ]
  },
  {
   "cell_type": "markdown",
   "metadata": {
    "tags": []
   },
   "source": [
    ":::{note}\n",
    "The learning rate can be easily changed using `trainer.set_lr(new_lr)`\n",
    ":::"
   ]
  },
  {
   "cell_type": "markdown",
   "metadata": {
    "tags": []
   },
   "source": [
    "  2. The batch size"
   ]
  },
  {
   "cell_type": "code",
   "execution_count": 5,
   "metadata": {
    "tags": []
   },
   "outputs": [
    {
     "data": {
      "text/plain": [
       "4096"
      ]
     },
     "execution_count": 5,
     "metadata": {},
     "output_type": "execute_result"
    }
   ],
   "source": [
    "trainer.batch_size"
   ]
  },
  {
   "cell_type": "markdown",
   "metadata": {},
   "source": [
    "  3. The Pytorch neural network module. We can see that the network is an instance of the class `NetworkWithPriors`. This architecture consists of a multilayer perceptron (MLP) with residual connections, batch normalization layers and GELU activations (`trainer.model.mlp`). An embedding network, here a 1D CNN (`trainer.model.embedding_net`), produces a latent embedding of the input batch of reflectivity curves which is concatenated with the prior bounds for the thin film parameters."
   ]
  },
  {
   "cell_type": "code",
   "execution_count": 6,
   "metadata": {
    "tags": [
     "scroll-output"
    ]
   },
   "outputs": [
    {
     "data": {
      "text/plain": [
       "NetworkWithPriorsConvEmb(\n",
       "  (embedding_net): ConvEncoder(\n",
       "    (core): Sequential(\n",
       "      (0): Sequential(\n",
       "        (0): Conv1d(1, 32, kernel_size=(3,), stride=(2,), padding=(1,))\n",
       "        (1): BatchNorm1d(32, eps=1e-05, momentum=0.1, affine=True, track_running_stats=True)\n",
       "        (2): GELU(approximate='none')\n",
       "      )\n",
       "      (1): Sequential(\n",
       "        (0): Conv1d(32, 64, kernel_size=(3,), stride=(2,), padding=(1,))\n",
       "        (1): BatchNorm1d(64, eps=1e-05, momentum=0.1, affine=True, track_running_stats=True)\n",
       "        (2): GELU(approximate='none')\n",
       "      )\n",
       "      (2): Sequential(\n",
       "        (0): Conv1d(64, 128, kernel_size=(3,), stride=(2,), padding=(1,))\n",
       "        (1): BatchNorm1d(128, eps=1e-05, momentum=0.1, affine=True, track_running_stats=True)\n",
       "        (2): GELU(approximate='none')\n",
       "      )\n",
       "      (3): Sequential(\n",
       "        (0): Conv1d(128, 256, kernel_size=(3,), stride=(2,), padding=(1,))\n",
       "        (1): BatchNorm1d(256, eps=1e-05, momentum=0.1, affine=True, track_running_stats=True)\n",
       "        (2): GELU(approximate='none')\n",
       "      )\n",
       "      (4): Sequential(\n",
       "        (0): Conv1d(256, 512, kernel_size=(3,), stride=(2,), padding=(1,))\n",
       "        (1): BatchNorm1d(512, eps=1e-05, momentum=0.1, affine=True, track_running_stats=True)\n",
       "        (2): GELU(approximate='none')\n",
       "      )\n",
       "      (5): Sequential(\n",
       "        (0): Conv1d(512, 1024, kernel_size=(3,), stride=(2,), padding=(1,))\n",
       "        (1): BatchNorm1d(1024, eps=1e-05, momentum=0.1, affine=True, track_running_stats=True)\n",
       "        (2): GELU(approximate='none')\n",
       "      )\n",
       "    )\n",
       "    (avpool): AdaptiveAvgPool1d(output_size=1)\n",
       "    (fc): Linear(in_features=1024, out_features=128, bias=True)\n",
       "  )\n",
       "  (mlp): ResidualMLP(\n",
       "    (first_layer): Linear(in_features=162, out_features=512, bias=True)\n",
       "    (blocks): ModuleList(\n",
       "      (0-11): 12 x ResidualBlock(\n",
       "        (activation): GELU(approximate='none')\n",
       "        (batch_norm_layers): ModuleList(\n",
       "          (0-1): 2 x BatchNorm1d(512, eps=0.001, momentum=0.1, affine=True, track_running_stats=True)\n",
       "        )\n",
       "        (linear_layers): ModuleList(\n",
       "          (0-1): 2 x Linear(in_features=512, out_features=512, bias=True)\n",
       "        )\n",
       "      )\n",
       "    )\n",
       "    (last_layer): Linear(in_features=512, out_features=17, bias=True)\n",
       "  )\n",
       ")"
      ]
     },
     "execution_count": 6,
     "metadata": {},
     "output_type": "execute_result"
    }
   ],
   "source": [
    "trainer.model"
   ]
  },
  {
   "cell_type": "code",
   "execution_count": 7,
   "metadata": {},
   "outputs": [],
   "source": [
    "simulated_data = trainer.loader.get_batch(batch_size=64)"
   ]
  },
  {
   "cell_type": "markdown",
   "metadata": {},
   "source": [
    "### Defining callbacks"
   ]
  },
  {
   "cell_type": "markdown",
   "metadata": {},
   "source": [
    "We can control the training process using callback objects, such as:"
   ]
  },
  {
   "cell_type": "markdown",
   "metadata": {},
   "source": [
    "  1. `JPlotLoss` - allows the interactive visualization of the loss curve when training inside a Jupyter Notebook, the `frequency` argument setting the refresh rate of the interactive widget"
   ]
  },
  {
   "cell_type": "markdown",
   "metadata": {},
   "source": [
    "  2. `StepLR` - implements a learning rate scheduler which decreases the learning rate in steps (after a number of iterations defined by `step_size` the learning rate is multiplied by the factor `gamma`). Other types of learning rate schedulers can alternatively be used, such as `CosineAnnealingWithWarmup`, `LogCyclicLR`, `OneCycleLR` or `ReduceLROnPlateau`."
   ]
  },
  {
   "cell_type": "markdown",
   "metadata": {},
   "source": [
    "  3. `SaveBestModel` - it enables the periodic saving of the weights of the neural network during training. After a number of iterations defined by the `freq` argument, the weights of the neural network are saved at the specified `path` if the current average loss (computed over the last `average` iterations) is lower than the loss for the previous save. The history of the losses and learning rate values is also saved."
   ]
  },
  {
   "cell_type": "markdown",
   "metadata": {},
   "source": [
    "When the package is installed in editable mode, the default save path is relative to the repository directory (defined by the global variable `SAVED_MODELS_DIR`). "
   ]
  },
  {
   "cell_type": "code",
   "execution_count": 13,
   "metadata": {
    "tags": []
   },
   "outputs": [
    {
     "name": "stdout",
     "output_type": "stream",
     "text": [
      "C:/Users/Owner/Desktop/cw/COMP60660/reflectorch/model_Test_v1.pt\n"
     ]
    }
   ],
   "source": [
    "save_model_name = 'model_' + config_name + '.pt'\n",
    "#save_path = str(SAVED_MODELS_DIR / save_model_name)\n",
    "save_path = 'C:/Users/Owner/Desktop/cw/COMP60660/reflectorch/'+save_model_name\n",
    "print(save_path)"
   ]
  },
  {
   "cell_type": "code",
   "execution_count": 4,
   "metadata": {},
   "outputs": [],
   "source": [
    "callbacks = reflectorch.get_callbacks_by_name(config_name)"
   ]
  },
  {
   "cell_type": "markdown",
   "metadata": {},
   "source": [
    "We group the callback objects together in a touple:"
   ]
  },
  {
   "cell_type": "code",
   "execution_count": null,
   "metadata": {
    "tags": []
   },
   "outputs": [],
   "source": [
    "callbacks = (\n",
    "    JPlotLoss(frequency=10), \n",
    "    StepLR(step_size=5000, gamma=0.5), \n",
    "    SaveBestModel(path=save_path, freq=100, average=10),\n",
    ")"
   ]
  },
  {
   "cell_type": "markdown",
   "metadata": {},
   "source": [
    ":::{note}\n",
    "The callbacks can also be initialized directly from the configuration file:\n",
    "`callbacks = get_callbacks_by_name(config_name)`\n",
    ":::"
   ]
  },
  {
   "cell_type": "markdown",
   "metadata": {},
   "source": [
    "### Run the training"
   ]
  },
  {
   "cell_type": "markdown",
   "metadata": {
    "tags": []
   },
   "source": [
    "The training process is initiated by calling the `train` method of the trainer. This method accepts as arguments the previously defined tuple of callbacks, as well as the number of iterations (batches). Notably, a new batch of data is generated at each iteration, the training taking place in a \"one-epoch regime\"."
   ]
  },
  {
   "cell_type": "markdown",
   "metadata": {},
   "source": [
    "```python\n",
    "trainer.train(num_batches=1000, callbacks=callbacks)\n",
    "```"
   ]
  },
  {
   "cell_type": "markdown",
   "metadata": {},
   "source": [
    "After training, the history of the losses and learning rates can be accessed via `trainer.losses` and `trainer.lrs`. We can also find them together with the model state_dict in the saved dictionary:"
   ]
  },
  {
   "cell_type": "code",
   "execution_count": 5,
   "metadata": {},
   "outputs": [
    {
     "name": "stderr",
     "output_type": "stream",
     "text": [
      "Loss = 2.34e-01:  25%|███████▉                        | 748/3000 [1:10:55<3:33:33,  5.69s/it, loss=0.2343, lr=5.00e-04]\n"
     ]
    },
    {
     "ename": "RuntimeError",
     "evalue": "CUDA error: device-side assert triggered\nCUDA kernel errors might be asynchronously reported at some other API call, so the stacktrace below might be incorrect.\nFor debugging consider passing CUDA_LAUNCH_BLOCKING=1\nCompile with `TORCH_USE_CUDA_DSA` to enable device-side assertions.\n",
     "output_type": "error",
     "traceback": [
      "\u001b[1;31m---------------------------------------------------------------------------\u001b[0m",
      "\u001b[1;31mRuntimeError\u001b[0m                              Traceback (most recent call last)",
      "Cell \u001b[1;32mIn[5], line 1\u001b[0m\n\u001b[1;32m----> 1\u001b[0m \u001b[43mtrainer\u001b[49m\u001b[38;5;241;43m.\u001b[39;49m\u001b[43mtrain\u001b[49m\u001b[43m(\u001b[49m\u001b[43mnum_batches\u001b[49m\u001b[38;5;241;43m=\u001b[39;49m\u001b[38;5;241;43m3000\u001b[39;49m\u001b[43m,\u001b[49m\u001b[43m \u001b[49m\u001b[43mcallbacks\u001b[49m\u001b[38;5;241;43m=\u001b[39;49m\u001b[43mcallbacks\u001b[49m\u001b[43m)\u001b[49m\n",
      "File \u001b[1;32mC:\\Users/Owner/Desktop/cw/COMP60660/reflectorch\\reflectorch\\ml\\basic_trainer.py:112\u001b[0m, in \u001b[0;36mTrainer.train\u001b[1;34m(self, num_batches, callbacks, disable_tqdm, use_notebook_tqdm, update_tqdm_freq, grad_accumulation_steps)\u001b[0m\n\u001b[0;32m    108\u001b[0m total_loss, avr_loss_dict \u001b[38;5;241m=\u001b[39m \u001b[38;5;241m0\u001b[39m, defaultdict(\u001b[38;5;28mlist\u001b[39m)\n\u001b[0;32m    110\u001b[0m \u001b[38;5;28;01mfor\u001b[39;00m _ \u001b[38;5;129;01min\u001b[39;00m \u001b[38;5;28mrange\u001b[39m(grad_accumulation_steps):\n\u001b[1;32m--> 112\u001b[0m     batch_data \u001b[38;5;241m=\u001b[39m \u001b[38;5;28;43mself\u001b[39;49m\u001b[38;5;241;43m.\u001b[39;49m\u001b[43mget_batch_by_idx\u001b[49m\u001b[43m(\u001b[49m\u001b[43mbatch_num\u001b[49m\u001b[43m)\u001b[49m\n\u001b[0;32m    113\u001b[0m     loss_dict \u001b[38;5;241m=\u001b[39m \u001b[38;5;28mself\u001b[39m\u001b[38;5;241m.\u001b[39mget_loss_dict(batch_data)\n\u001b[0;32m    114\u001b[0m     loss \u001b[38;5;241m=\u001b[39m loss_dict[\u001b[38;5;124m'\u001b[39m\u001b[38;5;124mloss\u001b[39m\u001b[38;5;124m'\u001b[39m] \u001b[38;5;241m/\u001b[39m grad_accumulation_steps\n",
      "File \u001b[1;32mC:\\Users/Owner/Desktop/cw/COMP60660/reflectorch\\reflectorch\\ml\\trainers.py:35\u001b[0m, in \u001b[0;36mRealTimeSimTrainer.get_batch_by_idx\u001b[1;34m(self, batch_num)\u001b[0m\n\u001b[0;32m     33\u001b[0m \u001b[38;5;28;01mdef\u001b[39;00m \u001b[38;5;21mget_batch_by_idx\u001b[39m(\u001b[38;5;28mself\u001b[39m, batch_num: \u001b[38;5;28mint\u001b[39m):\n\u001b[0;32m     34\u001b[0m \u001b[38;5;250m    \u001b[39m\u001b[38;5;124;03m\"\"\"Gets a batch of data with the default batch size\"\"\"\u001b[39;00m\n\u001b[1;32m---> 35\u001b[0m     batch_data \u001b[38;5;241m=\u001b[39m \u001b[38;5;28;43mself\u001b[39;49m\u001b[38;5;241;43m.\u001b[39;49m\u001b[43mloader\u001b[49m\u001b[38;5;241;43m.\u001b[39;49m\u001b[43mget_batch\u001b[49m\u001b[43m(\u001b[49m\u001b[38;5;28;43mself\u001b[39;49m\u001b[38;5;241;43m.\u001b[39;49m\u001b[43mbatch_size\u001b[49m\u001b[43m)\u001b[49m\n\u001b[0;32m     36\u001b[0m     \u001b[38;5;28;01mreturn\u001b[39;00m \u001b[38;5;28mself\u001b[39m\u001b[38;5;241m.\u001b[39m_get_batch(batch_data)\n",
      "File \u001b[1;32mC:\\Users/Owner/Desktop/cw/COMP60660/reflectorch\\reflectorch\\data_generation\\dataset.py:103\u001b[0m, in \u001b[0;36mBasicDataset.get_batch\u001b[1;34m(self, batch_size)\u001b[0m\n\u001b[0;32m     99\u001b[0m batch_data[\u001b[38;5;124m'\u001b[39m\u001b[38;5;124mscaled_noisy_curves\u001b[39m\u001b[38;5;124m'\u001b[39m] \u001b[38;5;241m=\u001b[39m scaled_noisy_curves\n\u001b[0;32m    101\u001b[0m is_finite \u001b[38;5;241m=\u001b[39m torch\u001b[38;5;241m.\u001b[39mall(torch\u001b[38;5;241m.\u001b[39misfinite(scaled_noisy_curves), \u001b[38;5;241m-\u001b[39m\u001b[38;5;241m1\u001b[39m)\n\u001b[1;32m--> 103\u001b[0m \u001b[38;5;28;01mif\u001b[39;00m \u001b[38;5;129;01mnot\u001b[39;00m \u001b[43mtorch\u001b[49m\u001b[38;5;241;43m.\u001b[39;49m\u001b[43mall\u001b[49m\u001b[43m(\u001b[49m\u001b[43mis_finite\u001b[49m\u001b[43m)\u001b[49m\u001b[38;5;241;43m.\u001b[39;49m\u001b[43mitem\u001b[49m\u001b[43m(\u001b[49m\u001b[43m)\u001b[49m:\n\u001b[0;32m    104\u001b[0m     infinite_indices \u001b[38;5;241m=\u001b[39m \u001b[38;5;241m~\u001b[39mis_finite\n\u001b[0;32m    105\u001b[0m     to_recalculate \u001b[38;5;241m=\u001b[39m infinite_indices\u001b[38;5;241m.\u001b[39msum()\u001b[38;5;241m.\u001b[39mitem()\n",
      "\u001b[1;31mRuntimeError\u001b[0m: CUDA error: device-side assert triggered\nCUDA kernel errors might be asynchronously reported at some other API call, so the stacktrace below might be incorrect.\nFor debugging consider passing CUDA_LAUNCH_BLOCKING=1\nCompile with `TORCH_USE_CUDA_DSA` to enable device-side assertions.\n"
     ]
    }
   ],
   "source": [
    "trainer.train(num_batches=3000, callbacks=callbacks)"
   ]
  },
  {
   "cell_type": "code",
   "execution_count": 41,
   "metadata": {},
   "outputs": [],
   "source": [
    "from safetensors.torch import save_file\n",
    "\n",
    "torch.save(trainer.model.state_dict(), \"C:/Users/Owner/Desktop/cw/COMP60660/reflectorch/saved_models/Test_v1_model.pt\")\n",
    "save_file(trainer.model.state_dict(), \"C:/Users/Owner/Desktop/cw/COMP60660/reflectorch/saved_models/Test_v1_model.safetensors\")"
   ]
  },
  {
   "cell_type": "code",
   "execution_count": 32,
   "metadata": {},
   "outputs": [],
   "source": [
    "batch_size = 64\n",
    "simulated_data = trainer.loader.get_batch(batch_size=batch_size)"
   ]
  },
  {
   "cell_type": "code",
   "execution_count": 20,
   "metadata": {},
   "outputs": [
    {
     "name": "stdout",
     "output_type": "stream",
     "text": [
      "Model b_mc_point_xray_conv_standard_L2_InputQ loaded. Number of parameters: 5.02 M\n"
     ]
    },
    {
     "name": "stderr",
     "output_type": "stream",
     "text": [
      "Loss = 7.54e-02: 100%|███████████████████████████████████| 1000/1000 [03:44<00:00,  4.46it/s, loss=0.0750, lr=1.00e-03]\n"
     ]
    }
   ],
   "source": [
    "config_name = 'b_mc_point_xray_conv_standard_L2_InputQ'\n",
    "config_dir = \"./reflectorch/configs\"\n",
    "trainer = reflectorch.get_trainer_by_name(config_name,config_dir, load_weights=False)\n",
    "simulated_data = trainer.loader.get_batch(batch_size=64)\n",
    "callbacks = reflectorch.get_callbacks_by_name(config_name)\n",
    "trainer.train(num_batches=1000, callbacks=callbacks)"
   ]
  },
  {
   "cell_type": "code",
   "execution_count": 28,
   "metadata": {},
   "outputs": [
    {
     "name": "stdout",
     "output_type": "stream",
     "text": [
      "Model b_mc_point_xray_conv_standard_L2_InputQ loaded. Number of parameters: 5.02 M\n"
     ]
    }
   ],
   "source": [
    "config_name = 'b_mc_point_xray_conv_standard_L2_InputQ'\n",
    "config_dir = \"./reflectorch/configs\"\n",
    "trainer = reflectorch.get_trainer_by_name(config_name,config_dir, load_weights=False)\n",
    "callbacks = reflectorch.get_callbacks_by_name(config_name)\n",
    "simulated_data = trainer.loader.get_batch(batch_size=64)"
   ]
  },
  {
   "cell_type": "code",
   "execution_count": 33,
   "metadata": {},
   "outputs": [
    {
     "name": "stdout",
     "output_type": "stream",
     "text": [
      "torch.Size([64, 2])\n",
      "torch.Size([64, 3])\n",
      "torch.Size([64, 3])\n"
     ]
    }
   ],
   "source": [
    "print(simulated_data['params'].thicknesses.shape)\n",
    "print(simulated_data['params'].roughnesses.shape)\n",
    "print(simulated_data['params'].slds.shape)"
   ]
  },
  {
   "cell_type": "markdown",
   "metadata": {},
   "source": [
    "UIOWQHIUPDUIADHUIWDHUIAWDHUIWDHIUAWIDUHHWUIDHUIAWDUHAIWDIU\n"
   ]
  },
  {
   "cell_type": "code",
   "execution_count": 8,
   "metadata": {},
   "outputs": [
    {
     "name": "stdout",
     "output_type": "stream",
     "text": [
      "C:/Users/Owner/Desktop/cw/COMP60660/reflectorch/Training_data/Pt_Co_Ta_x2_ML_training_data_500k_pickle\n",
      "Index(['Sample_structure', 'Thicknesses (Å)', 'SLDs (Å-2)', 'Roughnesses (Å)',\n",
      "       'tth (deg)', 'Q (Å-1)', 'Intensity', 'Background'],\n",
      "      dtype='string')\n",
      "0.0\n",
      "60.0\n",
      "22.723742\n",
      "170.60991\n",
      "(499500, 20)\n",
      "0.0\n",
      "60.0\n",
      "22.723742\n",
      "156.77156\n",
      "(500, 20)\n"
     ]
    }
   ],
   "source": [
    "from load_training_data import load_scale_data\n",
    "\n",
    "training_data,testing_data = load_scale_data(r\"C:/Users/Owner/Desktop/cw/COMP60660/reflectorch/Training_data/Pt_Co_Ta_x2_ML_training_data_500k_pickle\"\n",
    "                                            ,train_split = 0.999)\n",
    "(curves, curves_scaled, params, params_scaled, q_values, q_values_scaled, num_layers,scaled_bounds, bounds) = training_data"
   ]
  },
  {
   "cell_type": "code",
   "execution_count": 3,
   "metadata": {},
   "outputs": [
    {
     "name": "stdout",
     "output_type": "stream",
     "text": [
      "torch.Size([499500, 600])\n",
      "torch.Size([499500, 20])\n",
      "(499500, 600)\n",
      "[-1.         -0.99665839 -0.99331678 -0.98997516 -0.98663355]\n",
      "[  6.72776     59.2403      64.8855       6.72776     59.2403\n",
      "  64.8855      24.85040723   1.36656113   2.82646482   5.95396994\n",
      "   1.36656113   2.82646482   5.95396994  22.72374153 109.9284668\n",
      "  67.76125336 137.87138367 109.9284668   67.76125336 137.87138367]\n"
     ]
    }
   ],
   "source": [
    "print(curves_scaled.shape)\n",
    "print(params_scaled.shape)\n",
    "print(q_values_scaled.shape)\n",
    "print(q_values_scaled[0][:5])\n",
    "print(params[0])"
   ]
  },
  {
   "cell_type": "code",
   "execution_count": 34,
   "metadata": {},
   "outputs": [],
   "source": [
    "import importlib\n",
    "\n",
    "from reflectorch.data_generation.InputPreMadeDataset import InputPreMadeDataset\n",
    "importlib.reload(reflectorch.data_generation.InputPreMadeDataset)\n",
    "dataset = InputPreMadeDataset(q_values_scaled,curves, curves_scaled, params, params_scaled,scaled_bounds)\n",
    "\n",
    "\n",
    "from reflectorch.ml.dataloaders import ReflectivityDataLoader\n",
    "from reflectorch.ml.basic_trainer import DataLoader\n",
    "#from reflectorch.ml.basic_trainer import _StackedTrainerCallbacks\n",
    "\n",
    "#dataloader = ReflectivityDataLoader(dataset, DataLoader)"
   ]
  },
  {
   "cell_type": "code",
   "execution_count": 16,
   "metadata": {},
   "outputs": [
    {
     "ename": "RuntimeError",
     "evalue": "CUDA error: device-side assert triggered\nCUDA kernel errors might be asynchronously reported at some other API call, so the stacktrace below might be incorrect.\nFor debugging consider passing CUDA_LAUNCH_BLOCKING=1\nCompile with `TORCH_USE_CUDA_DSA` to enable device-side assertions.\n",
     "output_type": "error",
     "traceback": [
      "\u001b[1;31m---------------------------------------------------------------------------\u001b[0m",
      "\u001b[1;31mRuntimeError\u001b[0m                              Traceback (most recent call last)",
      "Cell \u001b[1;32mIn[16], line 3\u001b[0m\n\u001b[0;32m      1\u001b[0m config_name \u001b[38;5;241m=\u001b[39m \u001b[38;5;124m'\u001b[39m\u001b[38;5;124mTest_v1\u001b[39m\u001b[38;5;124m'\u001b[39m\n\u001b[0;32m      2\u001b[0m config_dir \u001b[38;5;241m=\u001b[39m \u001b[38;5;124m\"\u001b[39m\u001b[38;5;124m./reflectorch/configs\u001b[39m\u001b[38;5;124m\"\u001b[39m\n\u001b[1;32m----> 3\u001b[0m trainer \u001b[38;5;241m=\u001b[39m \u001b[43mreflectorch\u001b[49m\u001b[38;5;241;43m.\u001b[39;49m\u001b[43mget_trainer_by_name\u001b[49m\u001b[43m(\u001b[49m\u001b[43mconfig_name\u001b[49m\u001b[43m,\u001b[49m\u001b[43mconfig_dir\u001b[49m\u001b[43m,\u001b[49m\u001b[43m \u001b[49m\u001b[43mload_weights\u001b[49m\u001b[38;5;241;43m=\u001b[39;49m\u001b[38;5;28;43;01mFalse\u001b[39;49;00m\u001b[43m)\u001b[49m\n\u001b[0;32m      4\u001b[0m trainer\n",
      "File \u001b[1;32mC:\\Users/Owner/Desktop/cw/COMP60660/reflectorch\\reflectorch\\runs\\utils.py:207\u001b[0m, in \u001b[0;36mget_trainer_by_name\u001b[1;34m(config_name, config_dir, model_path, load_weights, inference_device)\u001b[0m\n\u001b[0;32m    204\u001b[0m config[\u001b[38;5;124m'\u001b[39m\u001b[38;5;124mdset\u001b[39m\u001b[38;5;124m'\u001b[39m][\u001b[38;5;124m'\u001b[39m\u001b[38;5;124mprior_sampler\u001b[39m\u001b[38;5;124m'\u001b[39m][\u001b[38;5;124m'\u001b[39m\u001b[38;5;124mkwargs\u001b[39m\u001b[38;5;124m'\u001b[39m][\u001b[38;5;124m'\u001b[39m\u001b[38;5;124mdevice\u001b[39m\u001b[38;5;124m'\u001b[39m] \u001b[38;5;241m=\u001b[39m inference_device\n\u001b[0;32m    205\u001b[0m config[\u001b[38;5;124m'\u001b[39m\u001b[38;5;124mdset\u001b[39m\u001b[38;5;124m'\u001b[39m][\u001b[38;5;124m'\u001b[39m\u001b[38;5;124mq_generator\u001b[39m\u001b[38;5;124m'\u001b[39m][\u001b[38;5;124m'\u001b[39m\u001b[38;5;124mkwargs\u001b[39m\u001b[38;5;124m'\u001b[39m][\u001b[38;5;124m'\u001b[39m\u001b[38;5;124mdevice\u001b[39m\u001b[38;5;124m'\u001b[39m] \u001b[38;5;241m=\u001b[39m inference_device\n\u001b[1;32m--> 207\u001b[0m trainer \u001b[38;5;241m=\u001b[39m \u001b[43mget_trainer_from_config\u001b[49m\u001b[43m(\u001b[49m\u001b[43mconfig\u001b[49m\u001b[43m)\u001b[49m\n\u001b[0;32m    209\u001b[0m num_params \u001b[38;5;241m=\u001b[39m \u001b[38;5;28msum\u001b[39m(p\u001b[38;5;241m.\u001b[39mnumel() \u001b[38;5;28;01mfor\u001b[39;00m p \u001b[38;5;129;01min\u001b[39;00m trainer\u001b[38;5;241m.\u001b[39mmodel\u001b[38;5;241m.\u001b[39mparameters())\n\u001b[0;32m    211\u001b[0m \u001b[38;5;28mprint\u001b[39m(\n\u001b[0;32m    212\u001b[0m     \u001b[38;5;124mf\u001b[39m\u001b[38;5;124m'\u001b[39m\u001b[38;5;124mModel \u001b[39m\u001b[38;5;132;01m{\u001b[39;00mconfig_name\u001b[38;5;132;01m}\u001b[39;00m\u001b[38;5;124m loaded. Number of parameters: \u001b[39m\u001b[38;5;132;01m{\u001b[39;00mnum_params\u001b[38;5;250m \u001b[39m\u001b[38;5;241m/\u001b[39m\u001b[38;5;250m \u001b[39m\u001b[38;5;241m10\u001b[39m\u001b[38;5;250m \u001b[39m\u001b[38;5;241m*\u001b[39m\u001b[38;5;241m*\u001b[39m\u001b[38;5;250m \u001b[39m\u001b[38;5;241m6\u001b[39m\u001b[38;5;132;01m:\u001b[39;00m\u001b[38;5;124m.2f\u001b[39m\u001b[38;5;132;01m}\u001b[39;00m\u001b[38;5;124m M\u001b[39m\u001b[38;5;124m'\u001b[39m,\n\u001b[0;32m    213\u001b[0m )\n",
      "File \u001b[1;32mC:\\Users/Owner/Desktop/cw/COMP60660/reflectorch\\reflectorch\\runs\\utils.py:155\u001b[0m, in \u001b[0;36mget_trainer_from_config\u001b[1;34m(config, folder_paths)\u001b[0m\n\u001b[0;32m    145\u001b[0m \u001b[38;5;28;01mdef\u001b[39;00m \u001b[38;5;21mget_trainer_from_config\u001b[39m(config: \u001b[38;5;28mdict\u001b[39m, folder_paths: \u001b[38;5;28mdict\u001b[39m \u001b[38;5;241m=\u001b[39m \u001b[38;5;28;01mNone\u001b[39;00m):\n\u001b[0;32m    146\u001b[0m \u001b[38;5;250m    \u001b[39m\u001b[38;5;124;03m\"\"\"Initializes a trainer from a configuration dictionary\u001b[39;00m\n\u001b[0;32m    147\u001b[0m \n\u001b[0;32m    148\u001b[0m \u001b[38;5;124;03m    Args:\u001b[39;00m\n\u001b[1;32m   (...)\u001b[0m\n\u001b[0;32m    153\u001b[0m \u001b[38;5;124;03m        Trainer: the trainer object\u001b[39;00m\n\u001b[0;32m    154\u001b[0m \u001b[38;5;124;03m    \"\"\"\u001b[39;00m\n\u001b[1;32m--> 155\u001b[0m     dset \u001b[38;5;241m=\u001b[39m \u001b[43minit_dset\u001b[49m\u001b[43m(\u001b[49m\u001b[43mconfig\u001b[49m\u001b[43m[\u001b[49m\u001b[38;5;124;43m'\u001b[39;49m\u001b[38;5;124;43mdset\u001b[39;49m\u001b[38;5;124;43m'\u001b[39;49m\u001b[43m]\u001b[49m\u001b[43m)\u001b[49m\n\u001b[0;32m    157\u001b[0m     folder_paths \u001b[38;5;241m=\u001b[39m folder_paths \u001b[38;5;129;01mor\u001b[39;00m get_paths_from_config(config)\n\u001b[0;32m    159\u001b[0m     model \u001b[38;5;241m=\u001b[39m init_network(config[\u001b[38;5;124m'\u001b[39m\u001b[38;5;124mmodel\u001b[39m\u001b[38;5;124m'\u001b[39m][\u001b[38;5;124m'\u001b[39m\u001b[38;5;124mnetwork\u001b[39m\u001b[38;5;124m'\u001b[39m], folder_paths[\u001b[38;5;124m'\u001b[39m\u001b[38;5;124msaved_models\u001b[39m\u001b[38;5;124m'\u001b[39m])\n",
      "File \u001b[1;32mC:\\Users/Owner/Desktop/cw/COMP60660/reflectorch\\reflectorch\\runs\\utils.py:298\u001b[0m, in \u001b[0;36minit_dset\u001b[1;34m(config)\u001b[0m\n\u001b[0;32m    296\u001b[0m \u001b[38;5;250m\u001b[39m\u001b[38;5;124;03m\"\"\"Initializes the dataset / dataloader object\"\"\"\u001b[39;00m\n\u001b[0;32m    297\u001b[0m dset_cls \u001b[38;5;241m=\u001b[39m \u001b[38;5;28mglobals\u001b[39m()\u001b[38;5;241m.\u001b[39mget(config[\u001b[38;5;124m'\u001b[39m\u001b[38;5;124mcls\u001b[39m\u001b[38;5;124m'\u001b[39m]) \u001b[38;5;28;01mif\u001b[39;00m \u001b[38;5;124m'\u001b[39m\u001b[38;5;124mcls\u001b[39m\u001b[38;5;124m'\u001b[39m \u001b[38;5;129;01min\u001b[39;00m config \u001b[38;5;28;01melse\u001b[39;00m ReflectivityDataLoader\n\u001b[1;32m--> 298\u001b[0m prior_sampler \u001b[38;5;241m=\u001b[39m \u001b[43minit_from_conf\u001b[49m\u001b[43m(\u001b[49m\u001b[43mconfig\u001b[49m\u001b[43m[\u001b[49m\u001b[38;5;124;43m'\u001b[39;49m\u001b[38;5;124;43mprior_sampler\u001b[39;49m\u001b[38;5;124;43m'\u001b[39;49m\u001b[43m]\u001b[49m\u001b[43m)\u001b[49m\n\u001b[0;32m    299\u001b[0m intensity_noise \u001b[38;5;241m=\u001b[39m init_from_conf(config[\u001b[38;5;124m'\u001b[39m\u001b[38;5;124mintensity_noise\u001b[39m\u001b[38;5;124m'\u001b[39m])\n\u001b[0;32m    300\u001b[0m q_generator \u001b[38;5;241m=\u001b[39m init_from_conf(config[\u001b[38;5;124m'\u001b[39m\u001b[38;5;124mq_generator\u001b[39m\u001b[38;5;124m'\u001b[39m])\n",
      "File \u001b[1;32mC:\\Users/Owner/Desktop/cw/COMP60660/reflectorch\\reflectorch\\runs\\utils.py:44\u001b[0m, in \u001b[0;36minit_from_conf\u001b[1;34m(conf, **kwargs)\u001b[0m\n\u001b[0;32m     42\u001b[0m conf_kwargs \u001b[38;5;241m=\u001b[39m conf\u001b[38;5;241m.\u001b[39mget(\u001b[38;5;124m'\u001b[39m\u001b[38;5;124mkwargs\u001b[39m\u001b[38;5;124m'\u001b[39m, {})\n\u001b[0;32m     43\u001b[0m conf_kwargs\u001b[38;5;241m.\u001b[39mupdate(kwargs)\n\u001b[1;32m---> 44\u001b[0m \u001b[38;5;28;01mreturn\u001b[39;00m \u001b[38;5;28;43mcls\u001b[39;49m\u001b[43m(\u001b[49m\u001b[38;5;241;43m*\u001b[39;49m\u001b[43mconf_args\u001b[49m\u001b[43m,\u001b[49m\u001b[43m \u001b[49m\u001b[38;5;241;43m*\u001b[39;49m\u001b[38;5;241;43m*\u001b[39;49m\u001b[43mconf_kwargs\u001b[49m\u001b[43m)\u001b[49m\n",
      "File \u001b[1;32mC:\\Users/Owner/Desktop/cw/COMP60660/reflectorch\\reflectorch\\data_generation\\priors\\parametric_subpriors.py:238\u001b[0m, in \u001b[0;36mSubpriorParametricSampler.__init__\u001b[1;34m(self, param_ranges, bound_width_ranges, model_name, device, dtype, max_num_layers, logdist, scale_params_by_ranges, scaled_range, **kwargs)\u001b[0m\n\u001b[0;32m    235\u001b[0m \u001b[38;5;28mself\u001b[39m\u001b[38;5;241m.\u001b[39mPARAM_CLS\u001b[38;5;241m.\u001b[39mMAX_NUM_LAYERS \u001b[38;5;241m=\u001b[39m max_num_layers\n\u001b[0;32m    237\u001b[0m \u001b[38;5;28mself\u001b[39m\u001b[38;5;241m.\u001b[39m_param_dim \u001b[38;5;241m=\u001b[39m \u001b[38;5;28mself\u001b[39m\u001b[38;5;241m.\u001b[39mparam_model\u001b[38;5;241m.\u001b[39mparam_dim\n\u001b[1;32m--> 238\u001b[0m \u001b[38;5;28mself\u001b[39m\u001b[38;5;241m.\u001b[39mmin_bounds, \u001b[38;5;28mself\u001b[39m\u001b[38;5;241m.\u001b[39mmax_bounds, \u001b[38;5;28mself\u001b[39m\u001b[38;5;241m.\u001b[39mmin_delta, \u001b[38;5;28mself\u001b[39m\u001b[38;5;241m.\u001b[39mmax_delta \u001b[38;5;241m=\u001b[39m \u001b[38;5;28;43mself\u001b[39;49m\u001b[38;5;241;43m.\u001b[39;49m\u001b[43mparam_model\u001b[49m\u001b[38;5;241;43m.\u001b[39;49m\u001b[43minit_bounds\u001b[49m\u001b[43m(\u001b[49m\n\u001b[0;32m    239\u001b[0m \u001b[43m    \u001b[49m\u001b[43mparam_ranges\u001b[49m\u001b[43m,\u001b[49m\u001b[43m \u001b[49m\u001b[43mbound_width_ranges\u001b[49m\u001b[43m,\u001b[49m\u001b[43m \u001b[49m\u001b[43mdevice\u001b[49m\u001b[38;5;241;43m=\u001b[39;49m\u001b[43mdevice\u001b[49m\u001b[43m,\u001b[49m\u001b[43m \u001b[49m\u001b[43mdtype\u001b[49m\u001b[38;5;241;43m=\u001b[39;49m\u001b[43mdtype\u001b[49m\n\u001b[0;32m    240\u001b[0m \u001b[43m\u001b[49m\u001b[43m)\u001b[49m\n\u001b[0;32m    242\u001b[0m \u001b[38;5;28mself\u001b[39m\u001b[38;5;241m.\u001b[39mparam_ranges \u001b[38;5;241m=\u001b[39m param_ranges\n\u001b[0;32m    243\u001b[0m \u001b[38;5;28mself\u001b[39m\u001b[38;5;241m.\u001b[39mbound_width_ranges \u001b[38;5;241m=\u001b[39m bound_width_ranges\n",
      "File \u001b[1;32mC:\\Users/Owner/Desktop/cw/COMP60660/reflectorch\\reflectorch\\data_generation\\priors\\parametric_models.py:103\u001b[0m, in \u001b[0;36mParametricModel.init_bounds\u001b[1;34m(self, param_ranges, bound_width_ranges, device, dtype)\u001b[0m\n\u001b[0;32m    100\u001b[0m ordered_bounds \u001b[38;5;241m=\u001b[39m [param_ranges[k] \u001b[38;5;28;01mfor\u001b[39;00m k \u001b[38;5;129;01min\u001b[39;00m \u001b[38;5;28mself\u001b[39m\u001b[38;5;241m.\u001b[39mPARAMETER_NAMES]\n\u001b[0;32m    101\u001b[0m delta_bounds \u001b[38;5;241m=\u001b[39m [bound_width_ranges[k] \u001b[38;5;28;01mfor\u001b[39;00m k \u001b[38;5;129;01min\u001b[39;00m \u001b[38;5;28mself\u001b[39m\u001b[38;5;241m.\u001b[39mPARAMETER_NAMES]\n\u001b[1;32m--> 103\u001b[0m min_bounds, max_bounds \u001b[38;5;241m=\u001b[39m \u001b[43mtorch\u001b[49m\u001b[38;5;241;43m.\u001b[39;49m\u001b[43mtensor\u001b[49m\u001b[43m(\u001b[49m\u001b[43mordered_bounds\u001b[49m\u001b[43m,\u001b[49m\u001b[43m \u001b[49m\u001b[43mdevice\u001b[49m\u001b[38;5;241;43m=\u001b[39;49m\u001b[43mdevice\u001b[49m\u001b[43m,\u001b[49m\u001b[43m \u001b[49m\u001b[43mdtype\u001b[49m\u001b[38;5;241;43m=\u001b[39;49m\u001b[43mdtype\u001b[49m\u001b[43m)\u001b[49m\u001b[38;5;241m.\u001b[39mT[:, \u001b[38;5;28;01mNone\u001b[39;00m]\n\u001b[0;32m    104\u001b[0m min_deltas, max_deltas \u001b[38;5;241m=\u001b[39m torch\u001b[38;5;241m.\u001b[39mtensor(delta_bounds, device\u001b[38;5;241m=\u001b[39mdevice, dtype\u001b[38;5;241m=\u001b[39mdtype)\u001b[38;5;241m.\u001b[39mT[:, \u001b[38;5;28;01mNone\u001b[39;00m]\n\u001b[0;32m    106\u001b[0m \u001b[38;5;28;01mreturn\u001b[39;00m min_bounds, max_bounds, min_deltas, max_deltas\n",
      "\u001b[1;31mRuntimeError\u001b[0m: CUDA error: device-side assert triggered\nCUDA kernel errors might be asynchronously reported at some other API call, so the stacktrace below might be incorrect.\nFor debugging consider passing CUDA_LAUNCH_BLOCKING=1\nCompile with `TORCH_USE_CUDA_DSA` to enable device-side assertions.\n"
     ]
    }
   ],
   "source": [
    "config_name = 'Test_v1'\n",
    "config_dir = \"./reflectorch/configs\"\n",
    "trainer = reflectorch.get_trainer_by_name(config_name,config_dir, load_weights=False)\n",
    "trainer"
   ]
  },
  {
   "cell_type": "code",
   "execution_count": 74,
   "metadata": {},
   "outputs": [
    {
     "name": "stdout",
     "output_type": "stream",
     "text": [
      "Model successfully built on cuda:\n",
      "NetworkWithPriors(\n",
      "  (embedding_net): ConvEncoder(\n",
      "    (core): Sequential(\n",
      "      (0): Sequential(\n",
      "        (0): Conv1d(2, 32, kernel_size=(3,), stride=(2,), padding=(1,))\n",
      "        (1): BatchNorm1d(32, eps=1e-05, momentum=0.1, affine=True, track_running_stats=True)\n",
      "        (2): GELU(approximate='none')\n",
      "      )\n",
      "      (1): Sequential(\n",
      "        (0): Conv1d(32, 64, kernel_size=(3,), stride=(2,), padding=(1,))\n",
      "        (1): BatchNorm1d(64, eps=1e-05, momentum=0.1, affine=True, track_running_stats=True)\n",
      "        (2): GELU(approximate='none')\n",
      "      )\n",
      "      (2): Sequential(\n",
      "        (0): Conv1d(64, 128, kernel_size=(3,), stride=(2,), padding=(1,))\n",
      "        (1): BatchNorm1d(128, eps=1e-05, momentum=0.1, affine=True, track_running_stats=True)\n",
      "        (2): GELU(approximate='none')\n",
      "      )\n",
      "      (3): Sequential(\n",
      "        (0): Conv1d(128, 256, kernel_size=(3,), stride=(2,), padding=(1,))\n",
      "        (1): BatchNorm1d(256, eps=1e-05, momentum=0.1, affine=True, track_running_stats=True)\n",
      "        (2): GELU(approximate='none')\n",
      "      )\n",
      "      (4): Sequential(\n",
      "        (0): Conv1d(256, 512, kernel_size=(3,), stride=(2,), padding=(1,))\n",
      "        (1): BatchNorm1d(512, eps=1e-05, momentum=0.1, affine=True, track_running_stats=True)\n",
      "        (2): GELU(approximate='none')\n",
      "      )\n",
      "    )\n",
      "    (avpool): AdaptiveAvgPool1d(output_size=1)\n",
      "    (fc): Linear(in_features=512, out_features=128, bias=True)\n",
      "  )\n",
      "  (mlp): ResidualMLP(\n",
      "    (first_layer): Linear(in_features=128, out_features=512, bias=True)\n",
      "    (blocks): ModuleList(\n",
      "      (0-7): 8 x ResidualBlock(\n",
      "        (activation): GELU(approximate='none')\n",
      "        (batch_norm_layers): ModuleList(\n",
      "          (0-1): 2 x BatchNorm1d(512, eps=0.001, momentum=0.1, affine=True, track_running_stats=True)\n",
      "        )\n",
      "        (condition_layer): Linear(in_features=40, out_features=1024, bias=True)\n",
      "        (linear_layers): ModuleList(\n",
      "          (0-1): 2 x Linear(in_features=512, out_features=512, bias=True)\n",
      "        )\n",
      "      )\n",
      "    )\n",
      "    (last_layer): Linear(in_features=512, out_features=20, bias=True)\n",
      "  )\n",
      ")\n"
     ]
    }
   ],
   "source": [
    "import torch\n",
    "from reflectorch.models.networks.mlp_networks import NetworkWithPriors\n",
    "\n",
    "model_cfg = {\n",
    "    \"cls\": \"NetworkWithPriors\",\n",
    "    \"device\": \"cuda\",\n",
    "    \"kwargs\": {\n",
    "        \"embedding_net_type\": \"conv\",\n",
    "        \"embedding_net_kwargs\": {\n",
    "            \"in_channels\": 2,\n",
    "            \"hidden_channels\": [32, 64, 128, 256, 512],\n",
    "            \"kernel_size\": 3,\n",
    "            \"dim_embedding\": 128,\n",
    "            \"dim_avpool\": 1,\n",
    "            \"use_batch_norm\": True,\n",
    "            \"use_se\": False,\n",
    "            \"activation\": \"gelu\",\n",
    "        },\n",
    "        \"pretrained_embedding_net\": None,\n",
    "        \"dim_out\": params_scaled.shape[1],\n",
    "        \"dim_conditioning_params\": 0,\n",
    "        \"layer_width\": 512,\n",
    "        \"num_blocks\": 8,\n",
    "        \"repeats_per_block\": 2,\n",
    "        \"residual\": True,\n",
    "        \"use_batch_norm\": True,\n",
    "        \"use_layer_norm\": False,\n",
    "        \"mlp_activation\": \"gelu\",\n",
    "        \"dropout_rate\": 0.0,\n",
    "        \"tanh_output\": False,\n",
    "        \"conditioning\": \"film\",\n",
    "        \"concat_condition_first_layer\": False,\n",
    "    }\n",
    "}\n",
    "\n",
    "# instantiate\n",
    "device = torch.device(model_cfg[\"device\"])\n",
    "net_kwargs = model_cfg[\"kwargs\"]\n",
    "\n",
    "test_model = NetworkWithPriors(\n",
    "    embedding_net_type         = net_kwargs[\"embedding_net_type\"],\n",
    "    embedding_net_kwargs       = net_kwargs[\"embedding_net_kwargs\"],\n",
    "    pretrained_embedding_net   = net_kwargs[\"pretrained_embedding_net\"],\n",
    "    dim_out                    = net_kwargs[\"dim_out\"],\n",
    "    dim_conditioning_params    = net_kwargs[\"dim_conditioning_params\"],\n",
    "    layer_width                = net_kwargs[\"layer_width\"],\n",
    "    num_blocks                 = net_kwargs[\"num_blocks\"],\n",
    "    repeats_per_block          = net_kwargs[\"repeats_per_block\"],\n",
    "    mlp_activation             = net_kwargs[\"mlp_activation\"],\n",
    "    use_batch_norm             = net_kwargs[\"use_batch_norm\"],\n",
    "    use_layer_norm             = net_kwargs[\"use_layer_norm\"],\n",
    "    dropout_rate               = net_kwargs[\"dropout_rate\"],\n",
    "    tanh_output                = net_kwargs[\"tanh_output\"],\n",
    "    residual                   = net_kwargs[\"residual\"],\n",
    "    adaptive_activation        = False,\n",
    "    conditioning                = net_kwargs[\"conditioning\"],\n",
    "    concat_condition_first_layer = net_kwargs[\"concat_condition_first_layer\"],\n",
    ").to(device)\n",
    "\n",
    "print(f\"Model successfully built on {device}:\")\n",
    "print(test_model)\n",
    "\n"
   ]
  },
  {
   "cell_type": "code",
   "execution_count": null,
   "metadata": {},
   "outputs": [
    {
     "ename": "NameError",
     "evalue": "name 'trainer' is not defined",
     "output_type": "error",
     "traceback": [
      "\u001b[1;31m---------------------------------------------------------------------------\u001b[0m",
      "\u001b[1;31mNameError\u001b[0m                                 Traceback (most recent call last)",
      "Cell \u001b[1;32mIn[6], line 1\u001b[0m\n\u001b[1;32m----> 1\u001b[0m test_model \u001b[38;5;241m=\u001b[39m \u001b[43mtrainer\u001b[49m\u001b[38;5;241m.\u001b[39mmodel\n\u001b[0;32m      2\u001b[0m \u001b[38;5;28mprint\u001b[39m(test_model)\n",
      "\u001b[1;31mNameError\u001b[0m: name 'trainer' is not defined"
     ]
    }
   ],
   "source": [
    "test_model\n",
    "print(test_model)"
   ]
  },
  {
   "cell_type": "code",
   "execution_count": 129,
   "metadata": {},
   "outputs": [],
   "source": [
    "import importlib\n",
    "from reflectorch.ml.RealDataTrainer import RealDataTrainer\n",
    "from torch.optim import AdamW\n",
    "from reflectorch.ml  import StepLR\n",
    "from reflectorch.ml import SaveBestModel\n",
    "\n",
    "importlib.reload(reflectorch.ml.RealDataTrainer)\n",
    "\n",
    "customtrainer = RealDataTrainer(\n",
    "    model=test_model,\n",
    "    loader=dataset,\n",
    "    lr=1.0e-4,\n",
    "    batch_size=2048,\n",
    "    optim_cls=AdamW,\n",
    "    optim_kwargs={\"weight_decay\": 0.0005}\n",
    ")\n",
    "\n",
    "save_path = \"C:/Users/Owner/Desktop/cw/COMP60660/reflectorch/saved_models/model_custom_data_3_repeat_2.pt\"\n",
    "callbacks = (\n",
    "    StepLR(step_size=500, gamma=0.5), \n",
    "    SaveBestModel(path=save_path, freq=100),\n",
    ")"
   ]
  },
  {
   "cell_type": "code",
   "execution_count": 130,
   "metadata": {},
   "outputs": [
    {
     "name": "stderr",
     "output_type": "stream",
     "text": [
      "Loss = 1.83e-03: 100%|███████████████████████████████████| 1500/1500 [01:02<00:00, 24.00it/s, loss=0.0018, lr=2.50e-05]\n"
     ]
    }
   ],
   "source": [
    "customtrainer.train(num_batches=1500, callbacks = callbacks)"
   ]
  },
  {
   "cell_type": "code",
   "execution_count": 10,
   "metadata": {},
   "outputs": [],
   "source": [
    "torch.save(test_model.state_dict(), \"model_custom_data_3_repeat_2.pt\")"
   ]
  },
  {
   "cell_type": "code",
   "execution_count": 81,
   "metadata": {},
   "outputs": [
    {
     "name": "stdout",
     "output_type": "stream",
     "text": [
      "BasicParams(batch_size=64, max_layer_num=18, device=cuda:0)\n"
     ]
    }
   ],
   "source": [
    "batch_size = 64\n",
    "\n",
    "simulated_data = trainer.loader.get_batch(batch_size=batch_size)\n",
    "print(simulated_data['params'])"
   ]
  },
  {
   "cell_type": "code",
   "execution_count": 62,
   "metadata": {},
   "outputs": [
    {
     "ename": "KeyError",
     "evalue": "'curves'",
     "output_type": "error",
     "traceback": [
      "\u001b[1;31m---------------------------------------------------------------------------\u001b[0m",
      "\u001b[1;31mKeyError\u001b[0m                                  Traceback (most recent call last)",
      "Cell \u001b[1;32mIn[62], line 4\u001b[0m\n\u001b[0;32m      1\u001b[0m q \u001b[38;5;241m=\u001b[39m simulated_data[\u001b[38;5;124m'\u001b[39m\u001b[38;5;124mq_values\u001b[39m\u001b[38;5;124m'\u001b[39m]\n\u001b[0;32m      2\u001b[0m \u001b[38;5;66;03m#scaled_noisy_curves = simulated_data['scaled_noisy_curves']\u001b[39;00m\n\u001b[0;32m      3\u001b[0m \u001b[38;5;66;03m#unscaled_noisy_curves = trainer.loader.curves_scaler.restore(scaled_noisy_curves)\u001b[39;00m\n\u001b[1;32m----> 4\u001b[0m unscaled_denoised_curve \u001b[38;5;241m=\u001b[39m \u001b[43msimulated_data\u001b[49m\u001b[43m[\u001b[49m\u001b[38;5;124;43m'\u001b[39;49m\u001b[38;5;124;43mcurves\u001b[39;49m\u001b[38;5;124;43m'\u001b[39;49m\u001b[43m]\u001b[49m\n\u001b[0;32m      6\u001b[0m \u001b[38;5;28;01mdef\u001b[39;00m \u001b[38;5;21mplot_refl_curve\u001b[39m(i\u001b[38;5;241m=\u001b[39m\u001b[38;5;241m0\u001b[39m):\n\u001b[0;32m      7\u001b[0m     fig, ax \u001b[38;5;241m=\u001b[39m plt\u001b[38;5;241m.\u001b[39msubplots(\u001b[38;5;241m1\u001b[39m,\u001b[38;5;241m1\u001b[39m,figsize\u001b[38;5;241m=\u001b[39m(\u001b[38;5;241m6\u001b[39m,\u001b[38;5;241m6\u001b[39m))\n",
      "\u001b[1;31mKeyError\u001b[0m: 'curves'"
     ]
    }
   ],
   "source": [
    "q = simulated_data['q_values']\n",
    "#scaled_noisy_curves = simulated_data['scaled_noisy_curves']\n",
    "#unscaled_noisy_curves = trainer.loader.curves_scaler.restore(scaled_noisy_curves)\n",
    "unscaled_denoised_curve = simulated_data['curves']\n",
    "\n",
    "def plot_refl_curve(i=0):\n",
    "    fig, ax = plt.subplots(1,1,figsize=(6,6))\n",
    "\n",
    "    ax.set_yscale('log')\n",
    "    ax.set_ylim(0.5e-10, 5)\n",
    "\n",
    "    ax.set_xlabel('q [$Å^{-1}$]', fontsize=20)\n",
    "    ax.set_ylabel('R(q)', fontsize=20)\n",
    "\n",
    "    ax.tick_params(axis='both', which='major', labelsize=15)\n",
    "    ax.tick_params(axis='both', which='minor', labelsize=15)\n",
    "    \n",
    "    y_tick_locations = [10**(-2*i) for i in range(6)]\n",
    "    ax.yaxis.set_major_locator(plt.FixedLocator(y_tick_locations))\n",
    "        \n",
    "    #ax.scatter(q[i].cpu().numpy(), unscaled_noisy_curves[i].cpu().numpy() + 1e-10, c='b', s=2, label='simulated curve')\n",
    "    ax.plot(q[i].cpu().numpy(), unscaled_denoised_curve[i].cpu().numpy() + 1e-10, c='g', lw=1, label='theoretical curve')\n",
    "\n",
    "    ax.legend(loc='upper right', fontsize=14)\n",
    "\n",
    "plot_refl_curve(i=0)"
   ]
  },
  {
   "cell_type": "code",
   "execution_count": 63,
   "metadata": {},
   "outputs": [
    {
     "name": "stdout",
     "output_type": "stream",
     "text": [
      "Number of layers: 18,  Number of film parameters: 17\n"
     ]
    }
   ],
   "source": [
    "n_layers = simulated_data['params'].max_layer_num\n",
    "n_params = simulated_data['params'].num_params\n",
    "\n",
    "print(f'Number of layers: {n_layers},  Number of film parameters: {n_params}')"
   ]
  },
  {
   "cell_type": "code",
   "execution_count": 25,
   "metadata": {},
   "outputs": [
    {
     "name": "stdout",
     "output_type": "stream",
     "text": [
      "tensor([-0.8465, -0.8393, -0.5448, -0.9407, -0.4826,  0.4506,  0.2021,  0.7177,\n",
      "         0.9711,  0.6466,  0.1623,  0.4544, -0.2963,  0.4934,  0.2604,  0.7315],\n",
      "       device='cuda:0', dtype=torch.float64)\n",
      "torch.Size([64, 24])\n"
     ]
    }
   ],
   "source": [
    "scaled_bounds = simulated_data['scaled_params'][..., n_params:]\n",
    "q_values = simulated_data[\"q_values\"]\n",
    "\n",
    "print(scaled_bounds[0])\n",
    "print(simulated_data['scaled_params'].shape)"
   ]
  },
  {
   "cell_type": "code",
   "execution_count": 131,
   "metadata": {},
   "outputs": [
    {
     "name": "stdout",
     "output_type": "stream",
     "text": [
      "torch.float32\n",
      "torch.Size([500, 20])\n"
     ]
    }
   ],
   "source": [
    "(testing_curves, testing_curves_scaled, testing_params, testing_params_scaled, testing_q_values, testing_q_values_valued, testing_num_layers,testing_scaled_bounds, testing_bounds) = testing_data\n",
    "\n",
    "device = next(customtrainer.model.parameters()).device\n",
    "dtype  = next(customtrainer.model.parameters()).dtype\n",
    "print(dtype)\n",
    "\n",
    "if not isinstance(testing_curves_scaled, torch.Tensor):\n",
    "    eval_curves = torch.tensor(testing_curves_scaled)\n",
    "else:\n",
    "    eval_curves = testing_curves_scaled\n",
    "\n",
    "if not isinstance(testing_q_values_valued, torch.Tensor):\n",
    "    eval_q_values = torch.tensor(testing_q_values_valued)\n",
    "else:\n",
    "    eval_q_values = testing_q_values_valued\n",
    "\n",
    "if not isinstance(testing_scaled_bounds, torch.Tensor):\n",
    "    eval_bounds = torch.tensor(testing_scaled_bounds)\n",
    "else:\n",
    "    eval_bounds = testing_scaled_bounds\n",
    "\n",
    "\n",
    "eval_curves = eval_curves.to(device=device, dtype=dtype)\n",
    "eval_q_values = eval_q_values.to(device=device, dtype=dtype)\n",
    "eval_bounds = eval_bounds.to(device=device, dtype=dtype)\n",
    "\n",
    "with torch.no_grad():\n",
    "    customtrainer.model.eval()\n",
    "\n",
    "    scaled_predicted_params = customtrainer.model(\n",
    "    curves=eval_curves,\n",
    "    bounds=eval_bounds,\n",
    "    q_values = eval_q_values,\n",
    "    )\n",
    "\n",
    "    print(scaled_predicted_params.shape)\n",
    "\n"
   ]
  },
  {
   "cell_type": "code",
   "execution_count": 132,
   "metadata": {},
   "outputs": [
    {
     "name": "stdout",
     "output_type": "stream",
     "text": [
      "tensor([[-1.0000, -0.9967, -0.9933,  ...,  0.9933,  0.9967,  1.0000],\n",
      "        [-1.0000, -0.9967, -0.9933,  ...,  0.9933,  0.9967,  1.0000],\n",
      "        [-1.0000, -0.9967, -0.9933,  ...,  0.9933,  0.9967,  1.0000],\n",
      "        ...,\n",
      "        [-1.0000, -0.9967, -0.9933,  ...,  0.9933,  0.9967,  1.0000],\n",
      "        [-1.0000, -0.9967, -0.9933,  ...,  0.9933,  0.9967,  1.0000],\n",
      "        [-1.0000, -0.9967, -0.9933,  ...,  0.9933,  0.9967,  1.0000]],\n",
      "       device='cuda:0')\n",
      "tensor([-8.2597e-01, -9.1776e-01, -9.6475e-01, -8.8302e-01, -7.9158e-01,\n",
      "        -9.4944e-01, -1.0000e+00,  4.1888e-02, -1.0000e+00, -7.5574e-01,\n",
      "         4.3142e-04, -1.0000e+00, -6.9537e-01, -1.0000e+00,  2.7230e-02,\n",
      "        -5.1511e-01,  2.9188e-01,  9.8410e-02, -5.3388e-01,  4.1170e-01,\n",
      "        -5.7826e-01, -3.7214e-01, -5.5811e-01, -5.2120e-01, -4.9832e-01,\n",
      "        -5.7343e-01, -6.7955e-01,  3.5041e-01, -7.9189e-01, -3.6670e-01,\n",
      "         3.9187e-01, -8.5636e-01, -4.2707e-01, -7.0257e-01,  4.3782e-01,\n",
      "        -2.5077e-01,  7.8411e-01,  3.6664e-01, -2.3200e-01,  6.6429e-01])\n",
      "tensor([-0.8313, -0.7160, -0.7712, -0.8250, -0.7102, -0.7729, -0.5661, -0.7308,\n",
      "        -0.3047, -0.2909, -0.7501, -0.3059, -0.2911, -0.9927,  0.2581, -0.3804,\n",
      "         0.7002,  0.2526, -0.3877,  0.6780], device='cuda:0')\n",
      "scaled min: -1.0 scaled max: 1.0\n"
     ]
    }
   ],
   "source": [
    "print(eval_q_values)\n",
    "print(testing_scaled_bounds[0])\n",
    "print(scaled_predicted_params[1])\n",
    "print(\"scaled min:\", testing_scaled_bounds.min().item(), \"scaled max:\", testing_scaled_bounds.max().item())\n"
   ]
  },
  {
   "cell_type": "code",
   "execution_count": 133,
   "metadata": {},
   "outputs": [],
   "source": [
    "def unscale_params(scaled, span, min_vals) -> torch.Tensor:\n",
    "\n",
    "    temp = ((scaled + 1.0) / 2.0) * span[None, :] + min_vals[None, :]\n",
    "    return temp\n",
    "\n",
    "span =testing_bounds[0].to(device)\n",
    "min_val =testing_bounds[1].to(device)\n",
    "restored_predictions = unscale_params(scaled_predicted_params,span,min_val)\n",
    "restored_predictions = torch.real(restored_predictions)\n",
    "\n"
   ]
  },
  {
   "cell_type": "code",
   "execution_count": 134,
   "metadata": {},
   "outputs": [
    {
     "name": "stdout",
     "output_type": "stream",
     "text": [
      "tensor([ 42.1821,  71.0003,  57.2073,  43.7452,  72.4449,  56.7715,  13.0164,\n",
      "          8.0760,  20.8598,  21.2737,   7.4983,  20.8229,  21.2674,  23.2218,\n",
      "        108.2339,  64.8382, 138.2827, 107.8599,  64.3392, 136.7785],\n",
      "       device='cuda:0')\n"
     ]
    }
   ],
   "source": [
    "print(restored_predictions[1])"
   ]
  },
  {
   "cell_type": "code",
   "execution_count": 135,
   "metadata": {},
   "outputs": [
    {
     "name": "stdout",
     "output_type": "stream",
     "text": [
      "Predicted thicknesses: tensor([[74.3922, 91.8367, 58.1501, 77.4431, 90.2523, 57.2583],\n",
      "        [42.1821, 71.0003, 57.2073, 43.7452, 72.4449, 56.7715],\n",
      "        [83.5049, 97.3699, 64.9043, 85.3836, 96.6448, 64.7984],\n",
      "        ...,\n",
      "        [71.8284, 75.9276, 52.9737, 73.8845, 76.1571, 54.0253],\n",
      "        [34.5306, 54.5505, 22.4291, 32.5188, 51.9225, 23.7845],\n",
      "        [29.1420, 53.1563, 46.5050, 31.1404, 51.6259, 47.8382]],\n",
      "       device='cuda:0')\n",
      "Predicted roughnesses: tensor([[ 4.1226, 36.1403,  0.7879,  ..., 35.5889,  1.0593, 13.2761],\n",
      "        [13.0164,  8.0760, 20.8598,  ...,  7.4983, 20.8229, 21.2674],\n",
      "        [29.0274,  4.4820, 32.1068,  ...,  4.5048, 31.9049, 17.0614],\n",
      "        ...,\n",
      "        [22.5762,  5.0906,  0.6734,  ...,  4.3919,  0.5571, 27.3212],\n",
      "        [14.1052, 12.6466, 24.6826,  ..., 12.0400, 24.4073,  9.2446],\n",
      "        [28.3182, 13.4805, 11.9453,  ..., 13.3114, 12.0646, 13.6313]],\n",
      "       device='cuda:0')\n",
      "Predicted layer SLDs: tensor([[ 23.0391, 106.3838,  65.4240,  ..., 107.0222,  64.6619, 126.7649],\n",
      "        [ 23.2218, 108.2339,  64.8382,  ..., 107.8599,  64.3392, 136.7785],\n",
      "        [ 22.9531, 100.5249,  63.0333,  ..., 100.3731,  62.6623, 132.4585],\n",
      "        ...,\n",
      "        [ 22.5242, 105.1702,  64.3752,  ..., 104.7414,  64.3314, 125.3562],\n",
      "        [ 23.3633, 114.7584,  68.7815,  ..., 114.5797,  68.5846, 146.2029],\n",
      "        [ 23.4909, 106.3712,  61.4762,  ..., 106.6284,  60.8508, 142.0934]],\n",
      "       device='cuda:0')\n",
      "torch.Size([500, 6])\n",
      "torch.Size([500, 7])\n"
     ]
    }
   ],
   "source": [
    "pred_idx = restored_predictions.shape[0]\n",
    "\n",
    "restored_predictions[:,:testing_num_layers] = torch.clamp(restored_predictions[:,:testing_num_layers], min=0.0)\n",
    "restored_predictions[:,testing_num_layers:testing_num_layers*2+1] = torch.clamp(restored_predictions[:,testing_num_layers:testing_num_layers*2+1], min=0.0)\n",
    "\n",
    "eval_thicknesses = restored_predictions[:pred_idx,:testing_num_layers]\n",
    "eval_roughnesses = restored_predictions[:pred_idx,testing_num_layers:testing_num_layers*2+1]\n",
    "eval_slds = restored_predictions[:pred_idx,testing_num_layers*2+1:]\n",
    "\n",
    "print(f'Predicted thicknesses: {eval_thicknesses}')\n",
    "print(f'Predicted roughnesses: {eval_roughnesses}')\n",
    "print(f'Predicted layer SLDs: {eval_slds}')\n",
    "\n",
    "print(eval_thicknesses.shape)\n",
    "print(eval_slds.shape)"
   ]
  },
  {
   "cell_type": "code",
   "execution_count": 136,
   "metadata": {},
   "outputs": [],
   "source": [
    "# -*- coding: utf-8 -*-\n",
    "\n",
    "import torch\n",
    "from torch import Tensor\n",
    "\n",
    "from reflectorch.data_generation.reflectivity.abeles import abeles_compiled, abeles\n",
    "from reflectorch.data_generation.reflectivity.memory_eff import abeles_memory_eff\n",
    "from reflectorch.data_generation.reflectivity.numpy_implementations import (\n",
    "    kinematical_approximation_np,\n",
    "    abeles_np,\n",
    ")\n",
    "from reflectorch.data_generation.reflectivity.smearing import abeles_constant_smearing\n",
    "from reflectorch.data_generation.reflectivity.smearing_pointwise import abeles_pointwise_smearing\n",
    "from reflectorch.data_generation.reflectivity.kinematical import kinematical_approximation\n",
    "\n",
    "\n",
    "def custom_reflectivity(\n",
    "        q: Tensor,\n",
    "        thickness: Tensor,\n",
    "        roughness: Tensor,\n",
    "        sld: Tensor,\n",
    "        dq: Tensor = None,\n",
    "        gauss_num: int = 51,\n",
    "        constant_dq: bool = False,\n",
    "        log: bool = False,\n",
    "        q_shift: Tensor = 0.0,\n",
    "        r_scale: Tensor = 1.0,\n",
    "        background: Tensor = 0.0,\n",
    "        solvent_vf = None,\n",
    "        solvent_mode = 'fronting',\n",
    "        abeles_func = None,\n",
    "        **abeles_kwargs\n",
    "):\n",
    "    \"\"\"Function which computes the reflectivity curves from thin film parameters. \n",
    "    By default it uses the fast implementation of the Abeles matrix formalism.\n",
    "\n",
    "    Args:\n",
    "        q (Tensor): tensor of momentum transfer (q) values with shape [batch_size, n_points] or [n_points]\n",
    "        thickness (Tensor): tensor containing the layer thicknesses (ordered from top to bottom) with shape [batch_size, n_layers]\n",
    "        roughness (Tensor): tensor containing the interlayer roughnesses (ordered from top to bottom) with shape [batch_size, n_layers + 1]\n",
    "        sld (Tensor): tensor containing the layer SLDs (real or complex; ordered from top to bottom) with shape \n",
    "            [batch_size, n_layers + 1] (excluding ambient SLD which is assumed to be 0)  or [batch_size, n_layers + 2] (including ambient SLD; only for the default ``abeles_func='abeles'``) \n",
    "        dq (Tensor, optional): tensor of resolutions used for curve smearing with shape [batch_size, 1].\n",
    "                            Either dq if ``constant_dq`` is ``True`` or dq/q if ``constant_dq`` is ``False``. Defaults to None.\n",
    "        gauss_num (int, optional): the number of gaussians for curve smearing. Defaults to 51.\n",
    "        constant_dq (bool, optional): if ``True`` the smearing is constant (constant dq at each point in the curve) \n",
    "                                    otherwise the smearing is linear (constant dq/q at each point in the curve). Defaults to False.\n",
    "        log (bool, optional): if True the base 10 logarithm of the reflectivity curves is returned. Defaults to False.\n",
    "        q_shift (float or Tensor, optional): misalignment in q.\n",
    "        r_scale (float or Tensor, optional): normalization factor (scales reflectivity).\n",
    "        background (float or Tensor, optional): background intensity.\n",
    "        abeles_func (Callable, optional): a function implementing the simulation of the reflectivity curves, if different than the default Abeles matrix implementation ('abeles'). Defaults to None.\n",
    "        abeles_kwargs: Additional arguments specific to the chosen `abeles_func`.\n",
    "    Returns:\n",
    "        Tensor: the computed reflectivity curves\n",
    "    \"\"\"\n",
    "    abeles_func = abeles_func or abeles\n",
    "    q = torch.atleast_2d(q) + q_shift\n",
    "    q = torch.clamp(q, min=0.0)\n",
    "    \n",
    "    if solvent_vf is not None:\n",
    "        num_layers = thickness.shape[-1]\n",
    "        if solvent_mode == 'fronting':\n",
    "            assert sld.shape[-1] == num_layers + 2\n",
    "            assert solvent_vf.shape[-1] == num_layers\n",
    "            solvent_sld = sld[..., [0]]\n",
    "            idx = slice(1, num_layers)\n",
    "            sld[..., idx] = solvent_vf * solvent_sld + (1.0 - solvent_vf) * sld[..., idx]\n",
    "        elif solvent_mode == 'backing':\n",
    "            solvent_sld = sld[..., [-1]]\n",
    "            idx = slice(1, num_layers) if sld.shape[-1] == num_layers + 2 else slice(0, num_layers)\n",
    "            sld[..., idx] = solvent_vf * solvent_sld + (1.0 - solvent_vf) * sld[..., idx]\n",
    "        else:\n",
    "            raise NotImplementedError\n",
    "\n",
    "    if dq is None:\n",
    "        reflectivity_curves = abeles_func(q, thickness, roughness, sld, **abeles_kwargs)\n",
    "    else:\n",
    "        if dq.shape[-1] > 1:\n",
    "            reflectivity_curves = abeles_pointwise_smearing(\n",
    "                    q=q, dq=dq, thickness=thickness, roughness=roughness, sld=sld, \n",
    "                    abeles_func=abeles_func, gauss_num=gauss_num,\n",
    "                    **abeles_kwargs,\n",
    "            )\n",
    "        else:\n",
    "            reflectivity_curves = abeles_constant_smearing(\n",
    "                q, thickness, roughness, sld,\n",
    "                dq=dq, gauss_num=gauss_num, constant_dq=constant_dq, abeles_func=abeles_func,\n",
    "                **abeles_kwargs,\n",
    "            )\n",
    "\n",
    "    if isinstance(r_scale, Tensor):\n",
    "        r_scale = r_scale.view(-1, *[1] * (reflectivity_curves.dim() - 1))\n",
    "    if isinstance(background, Tensor):\n",
    "        background = background.view(-1, *[1] * (reflectivity_curves.dim() - 1))\n",
    "\n",
    "    reflectivity_curves = reflectivity_curves * r_scale + background\n",
    "\n",
    "    if log:\n",
    "        reflectivity_curves = torch.log10(reflectivity_curves)\n",
    "\n",
    "    return reflectivity_curves\n",
    "\n",
    "# -*- coding: utf-8 -*-\n",
    "import math\n",
    "from functools import reduce\n",
    "\n",
    "import torch\n",
    "from torch import Tensor\n",
    "\n",
    "\n",
    "def abeles(\n",
    "        q: Tensor,\n",
    "        thickness: Tensor,\n",
    "        roughness: Tensor,\n",
    "        sld: Tensor,\n",
    "):\n",
    "    \"\"\"Simulates reflectivity curves for SLD profiles with box model parameterization using the Abeles matrix method\n",
    "\n",
    "    Args:\n",
    "        q (Tensor): tensor of momentum transfer (q) values with shape [batch_size, n_points] or [n_points]\n",
    "        thickness (Tensor): tensor containing the layer thicknesses (ordered from top to bottom) with shape [batch_size, n_layers]\n",
    "        roughness (Tensor): tensor containing the interlayer roughnesses (ordered from top to bottom) with shape [batch_size, n_layers + 1]\n",
    "        sld (Tensor): tensor containing the layer SLDs (real or complex; ordered from top to bottom). The tensor shape should be one of the following:\n",
    "            - [batch_size, n_layers + 1]: in this case, the ambient SLD is not included but assumed to be 0\n",
    "            - [batch_size, n_layers + 2]: this shape includes the ambient SLD as the first element in the tensor\n",
    "\n",
    "    Returns:\n",
    "        Tensor: tensor containing the simulated reflectivity curves with shape [batch_size, n_points]\n",
    "    \"\"\"\n",
    "    c_dtype = torch.complex128 if q.dtype is torch.float64 else torch.complex64\n",
    "\n",
    "    batch_size, num_layers = thickness.shape\n",
    "\n",
    "    if sld.shape[-1] == num_layers + 1:\n",
    "        # add zero ambient sld\n",
    "        sld = torch.cat([torch.zeros(batch_size, 1).to(sld), sld], -1)\n",
    "    if sld.shape[-1] != num_layers + 2:\n",
    "        raise ValueError(\n",
    "            \"Number of SLD values does not equal to num_layers + 2 (substrate + ambient).\"\n",
    "        )\n",
    "\n",
    "    sld = sld[:, None]\n",
    "\n",
    "    # add zero thickness for ambient layer:\n",
    "    thickness = torch.cat([torch.zeros(batch_size, 1).to(thickness), thickness], -1)[\n",
    "        :, None\n",
    "    ]\n",
    "\n",
    "    roughness = roughness[:, None] ** 2\n",
    "\n",
    "    sld = (sld - sld[..., :1]) * 1e-6 + 1e-36j\n",
    "\n",
    "    k_z0 = (q / 2).to(c_dtype)\n",
    "\n",
    "    if k_z0.dim() == 1:\n",
    "        k_z0.unsqueeze_(0)\n",
    "\n",
    "    if k_z0.dim() == 2:\n",
    "        k_z0.unsqueeze_(-1)\n",
    "\n",
    "    k_n = torch.sqrt(k_z0**2 - 4 * math.pi * sld)\n",
    "\n",
    "    # k_n.shape - (batch, q, layers)\n",
    "\n",
    "    k_n, k_np1 = k_n[..., :-1], k_n[..., 1:]\n",
    "\n",
    "    beta = 1j * thickness * k_n\n",
    "\n",
    "    exp_beta = torch.exp(beta)\n",
    "    exp_m_beta = torch.exp(-beta)\n",
    "\n",
    "    rn = (k_n - k_np1) / (k_n + k_np1) * torch.exp(-2 * k_n * k_np1 * roughness)\n",
    "\n",
    "    c_matrices = torch.stack(\n",
    "        [\n",
    "            torch.stack([exp_beta, rn * exp_m_beta], -1),\n",
    "            torch.stack([rn * exp_beta, exp_m_beta], -1),\n",
    "        ],\n",
    "        -1,\n",
    "    )\n",
    "\n",
    "    c_matrices = [c.squeeze(-3) for c in c_matrices.split(1, -3)]\n",
    "\n",
    "    m = reduce(torch.matmul, c_matrices)\n",
    "\n",
    "    r = (m[..., 1, 0] / m[..., 0, 0]).abs() ** 2\n",
    "    r = torch.clamp_max_(r, 1.0)\n",
    "\n",
    "\n",
    "    return r\n",
    "\n",
    "def abeles_pointwise_smearing(\n",
    "    q: torch.Tensor,\n",
    "    dq: torch.Tensor,\n",
    "    thickness: torch.Tensor,\n",
    "    roughness: torch.Tensor,\n",
    "    sld: torch.Tensor,\n",
    "    gauss_num: int = 17,\n",
    "    abeles_func=None,\n",
    "    **abeles_kwargs,\n",
    ") -> torch.Tensor:\n",
    "    \"\"\"\n",
    "    Compute reflectivity with variable smearing using Gaussian quadrature.\n",
    "\n",
    "    Args:\n",
    "        q (torch.Tensor): The momentum transfer (q) values.\n",
    "        dq (torch.Tensor): The resolution for curve smearing.\n",
    "        thickness (torch.Tensor): The layer thicknesses.\n",
    "        roughness (torch.Tensor): The interlayer roughnesses.\n",
    "        sld (torch.Tensor): The SLDs of the layers.\n",
    "        sld_magnetic (torch.Tensor, optional): The magnetic SLDs of the layers.\n",
    "        magnetization_angle (torch.Tensor, optional): The magnetization angles.\n",
    "        polarizer_eff (torch.Tensor, optional): The polarizer efficiency.\n",
    "        analyzer_eff (torch.Tensor, optional): The analyzer efficiency.\n",
    "        abeles_func (Callable, optional): A function implementing the simulation of the reflectivity curves.\n",
    "        gauss_num (int, optional): Gaussian quadrature order. Defaults to 17.\n",
    "\n",
    "    Returns:\n",
    "        torch.Tensor: The computed reflectivity curves.\n",
    "    \"\"\"\n",
    "    abeles_func = abeles_func or abeles\n",
    "\n",
    "    if q.shape[0] == 1:\n",
    "        q = q.repeat(thickness.shape[0], 1)\n",
    "\n",
    "    _FWHM = 2 * np.sqrt(2 * np.log(2.0))\n",
    "    _INTLIMIT = 3.5\n",
    "\n",
    "    bs = q.shape[0]\n",
    "    nq = q.shape[-1]\n",
    "    device = q.device\n",
    "\n",
    "    quad_order = gauss_num\n",
    "    abscissa, weights = gauss_legendre(quad_order)\n",
    "    abscissa = torch.tensor(abscissa)[None, :, None].to(device)\n",
    "    weights = torch.tensor(weights)[None, :, None].to(device)\n",
    "    prefactor = 1.0 / np.sqrt(2 * np.pi)\n",
    "\n",
    "    gaussvals = prefactor * gauss(abscissa * _INTLIMIT)\n",
    "\n",
    "    va = q[:, None, :] - _INTLIMIT * dq[:, None, :] / _FWHM\n",
    "    vb = q[:, None, :] + _INTLIMIT * dq[:, None, :] / _FWHM\n",
    "\n",
    "    qvals_for_res_0 = (abscissa * (vb - va) + vb + va) / 2\n",
    "    qvals_for_res = qvals_for_res_0.reshape(bs, -1)\n",
    "\n",
    "    refl_curves = abeles_func(\n",
    "        q=qvals_for_res,\n",
    "        thickness=thickness,\n",
    "        roughness=roughness,\n",
    "        sld=sld,\n",
    "        **abeles_kwargs\n",
    "    )\n",
    "\n",
    "    # Handle multiple channels\n",
    "    if refl_curves.dim() == 3:\n",
    "        n_channels = refl_curves.shape[1]\n",
    "        refl_curves = refl_curves.reshape(bs, n_channels, quad_order, nq)\n",
    "        refl_curves = refl_curves * gaussvals.unsqueeze(1) * weights.unsqueeze(1)\n",
    "        refl_curves = torch.sum(refl_curves, dim=2) * _INTLIMIT\n",
    "    else:\n",
    "        refl_curves = refl_curves.reshape(bs, quad_order, nq)\n",
    "        refl_curves = refl_curves * gaussvals * weights\n",
    "        refl_curves = torch.sum(refl_curves, dim=1) * _INTLIMIT\n",
    "\n",
    "    return refl_curves\n",
    "\n",
    "def abeles_constant_smearing(\n",
    "        q: Tensor,\n",
    "        thickness: Tensor,\n",
    "        roughness: Tensor,\n",
    "        sld: Tensor,\n",
    "        dq: Tensor = None,\n",
    "        gauss_num: int = 31,\n",
    "        constant_dq: bool = False,\n",
    "        abeles_func=None,\n",
    "        **abeles_kwargs\n",
    "):\n",
    "    abeles_func = abeles_func or abeles\n",
    "\n",
    "    if dq.dtype != thickness.dtype:\n",
    "        q = q.to(thickness)\n",
    "    \n",
    "    if dq.dtype != thickness.dtype:\n",
    "        dq = dq.to(thickness)\n",
    "\n",
    "    if q.shape[0] == 1:\n",
    "        q = q.repeat(thickness.shape[0], 1)\n",
    "\n",
    "    q_lin = _get_q_axes(q, dq, gauss_num, constant_dq=constant_dq)\n",
    "    kernels = _get_t_gauss_kernels(dq, gauss_num)\n",
    "    \n",
    "    curves = abeles_func(q_lin, thickness, roughness, sld, **abeles_kwargs)\n",
    "\n",
    "    padding = (kernels.shape[-1] - 1) // 2\n",
    "    padded_curves = pad(curves, (padding, padding), 'reflect')\n",
    "\n",
    "    smeared_curves = conv1d(\n",
    "        padded_curves, kernels[:, None], groups=kernels.shape[0],\n",
    "    )\n",
    "\n",
    "    if q.shape[0] != smeared_curves.shape[0]:\n",
    "        repeat_factor = smeared_curves.shape[0] // q.shape[0]\n",
    "        q = q.repeat(repeat_factor, 1)\n",
    "        q_lin = q_lin.repeat(repeat_factor, 1)\n",
    "    \n",
    "    smeared_curves = _batch_linear_interp1d(q_lin, smeared_curves, q)\n",
    "        \n",
    "    return smeared_curves\n"
   ]
  },
  {
   "cell_type": "code",
   "execution_count": 137,
   "metadata": {},
   "outputs": [
    {
     "name": "stdout",
     "output_type": "stream",
     "text": [
      "tensor([1.0000e+00, 1.0000e+00, 1.0000e+00, 1.0000e+00, 1.0000e+00, 1.0000e+00,\n",
      "        1.0000e+00, 1.0000e+00, 1.0000e+00, 1.0000e+00, 1.0000e+00, 1.0000e+00,\n",
      "        1.0000e+00, 1.0000e+00, 1.0000e+00, 1.0000e+00, 1.0000e+00, 1.0000e+00,\n",
      "        1.0000e+00, 1.0000e+00, 1.0000e+00, 1.0000e+00, 1.0000e+00, 1.0000e+00,\n",
      "        1.0000e+00, 1.0000e+00, 1.0000e+00, 1.0000e+00, 1.0000e+00, 1.0000e+00,\n",
      "        1.0000e+00, 1.0000e+00, 1.0000e+00, 1.0000e+00, 1.0000e+00, 1.0000e+00,\n",
      "        1.0000e+00, 1.0000e+00, 1.0000e+00, 1.0000e+00, 1.0000e+00, 1.0000e+00,\n",
      "        1.0000e+00, 1.0000e+00, 1.0000e+00, 1.0000e+00, 1.0000e+00, 1.0000e+00,\n",
      "        1.0000e+00, 1.0000e+00, 1.0000e+00, 1.0000e+00, 1.0000e+00, 1.0000e+00,\n",
      "        1.0000e+00, 1.0000e+00, 1.0000e+00, 1.0000e+00, 1.0000e+00, 1.0000e+00,\n",
      "        1.0000e+00, 1.0000e+00, 1.0000e+00, 1.0000e+00, 1.0000e+00, 1.0000e+00,\n",
      "        1.0000e+00, 1.0000e+00, 1.0000e+00, 1.0000e+00, 1.0000e+00, 1.0000e+00,\n",
      "        1.0000e+00, 1.0000e+00, 1.0000e+00, 1.0000e+00, 1.0000e+00, 1.0000e+00,\n",
      "        1.0000e+00, 1.0000e+00, 1.0000e+00, 1.0000e+00, 1.0000e+00, 1.0000e+00,\n",
      "        9.8327e-01, 8.4896e-01, 6.4048e-01, 3.1412e-01, 5.5826e-02, 4.8179e-02,\n",
      "        1.5184e-01, 2.4130e-01, 2.9221e-01, 3.1035e-01, 3.0449e-01, 2.8204e-01,\n",
      "        2.4920e-01, 2.1131e-01, 1.7269e-01, 1.3630e-01, 1.0369e-01, 7.5397e-02,\n",
      "        5.1471e-02, 3.1942e-02, 1.6982e-02, 6.7846e-03, 1.3119e-03, 8.9923e-05,\n",
      "        2.1740e-03, 6.2963e-03, 1.1116e-02, 1.5466e-02, 1.8522e-02, 1.9870e-02,\n",
      "        1.9481e-02, 1.7636e-02, 1.4800e-02, 1.1510e-02, 8.2540e-03, 5.4019e-03,\n",
      "        3.1638e-03, 1.5962e-03, 6.3714e-04, 1.5628e-04, 3.7458e-06, 4.5759e-05,\n",
      "        1.8304e-04, 3.5335e-04, 5.2354e-04, 6.7775e-04, 8.0718e-04, 9.0456e-04,\n",
      "        9.6401e-04, 9.8437e-04, 9.7336e-04, 9.4974e-04, 9.4159e-04, 9.8068e-04,\n",
      "        1.0939e-03, 1.2946e-03, 1.5755e-03, 1.9073e-03, 2.2415e-03, 2.5194e-03,\n",
      "        2.6835e-03, 2.6902e-03, 2.5207e-03, 2.1865e-03, 1.7300e-03, 1.2186e-03,\n",
      "        7.3386e-04, 3.5767e-04, 1.5776e-04, 1.7596e-04, 4.2096e-04, 8.6710e-04,\n",
      "        1.4593e-03, 2.1226e-03, 2.7749e-03, 3.3400e-03, 3.7578e-03, 3.9926e-03,\n",
      "        4.0351e-03, 3.9014e-03, 3.6271e-03, 3.2591e-03, 2.8475e-03, 2.4364e-03,\n",
      "        2.0589e-03, 1.7332e-03, 1.4628e-03, 1.2397e-03, 1.0488e-03, 8.7375e-04,\n",
      "        7.0201e-04, 5.2844e-04, 3.5707e-04, 2.0052e-04, 7.7391e-05, 8.3613e-06,\n",
      "        1.1680e-05, 9.9020e-05, 2.7243e-04, 5.2298e-04, 8.3123e-04, 1.1695e-03,\n",
      "        1.5053e-03, 1.8057e-03, 2.0414e-03, 2.1905e-03, 2.2407e-03, 2.1905e-03,\n",
      "        2.0488e-03, 1.8328e-03, 1.5658e-03, 1.2737e-03, 9.8179e-04, 7.1179e-04,\n",
      "        4.8002e-04, 2.9610e-04, 1.6290e-04, 7.7441e-05, 3.2317e-05, 1.7680e-05,\n",
      "        2.3164e-05, 3.9598e-05, 6.0245e-05, 8.1433e-05, 1.0255e-04, 1.2548e-04,\n",
      "        1.5368e-04, 1.9094e-04, 2.4029e-04, 3.0301e-04, 3.7801e-04, 4.6169e-04,\n",
      "        5.4820e-04, 6.3016e-04, 6.9954e-04, 7.4882e-04, 7.7201e-04, 7.6551e-04,\n",
      "        7.2864e-04, 6.6385e-04, 5.7643e-04, 4.7394e-04, 3.6532e-04, 2.5987e-04,\n",
      "        1.6617e-04, 9.1181e-05, 3.9528e-05, 1.3122e-05, 1.1153e-05, 3.0383e-05,\n",
      "        6.5744e-05, 1.1111e-04, 1.6014e-04, 2.0705e-04, 2.4726e-04, 2.7783e-04,\n",
      "        2.9757e-04, 3.0695e-04, 3.0772e-04, 3.0246e-04, 2.9401e-04, 2.8488e-04,\n",
      "        2.7688e-04, 2.7079e-04, 2.6637e-04, 2.6242e-04, 2.5713e-04, 2.4848e-04,\n",
      "        2.3469e-04, 2.1463e-04, 1.8815e-04, 1.5621e-04, 1.2084e-04, 8.4980e-05,\n",
      "        5.2083e-05, 2.5678e-05, 8.9003e-06, 4.0454e-06, 1.2239e-05, 3.3247e-05,\n",
      "        6.5474e-05, 1.0613e-04, 1.5154e-04, 1.9756e-04, 2.4007e-04, 2.7540e-04,\n",
      "        3.0072e-04, 3.1432e-04, 3.1568e-04, 3.0548e-04, 2.8540e-04, 2.5784e-04,\n",
      "        2.2557e-04, 1.9140e-04, 1.5784e-04, 1.2684e-04, 9.9694e-05, 7.6978e-05,\n",
      "        5.8640e-05, 4.4162e-05, 3.2778e-05, 2.3686e-05, 1.6261e-05, 1.0198e-05,\n",
      "        5.5754e-06, 2.8423e-06, 2.7209e-06, 6.0521e-06, 1.3606e-05, 2.5891e-05,\n",
      "        4.2997e-05, 6.4489e-05, 8.9382e-05, 1.1619e-04, 1.4305e-04, 1.6793e-04,\n",
      "        1.8881e-04, 2.0394e-04, 2.1201e-04, 2.1232e-04, 2.0485e-04, 1.9024e-04,\n",
      "        1.6975e-04, 1.4506e-04, 1.1814e-04, 9.1009e-05, 6.5525e-05, 4.3228e-05,\n",
      "        2.5215e-05, 1.2074e-05, 3.8890e-06, 3.0569e-07, 6.3649e-07, 3.9987e-06,\n",
      "        9.4563e-06, 1.6147e-05, 2.3380e-05, 3.0697e-05, 3.7873e-05, 4.4892e-05,\n",
      "        5.1876e-05, 5.9002e-05, 6.6408e-05, 7.4117e-05, 8.1983e-05, 8.9673e-05,\n",
      "        9.6685e-05, 1.0240e-04, 1.0617e-04, 1.0740e-04, 1.0564e-04, 1.0069e-04,\n",
      "        9.2625e-05, 8.1833e-05, 6.8977e-05, 5.4959e-05, 4.0812e-05, 2.7614e-05,\n",
      "        1.6358e-05, 7.8635e-06, 2.6889e-06, 1.0789e-06, 2.9533e-06, 7.9265e-06,\n",
      "        1.5365e-05, 2.4461e-05, 3.4336e-05, 4.4124e-05, 5.3063e-05, 6.0562e-05,\n",
      "        6.6236e-05, 6.9917e-05, 7.1636e-05, 7.1592e-05, 7.0082e-05, 6.7454e-05,\n",
      "        6.4047e-05, 6.0139e-05, 5.5930e-05, 5.1521e-05, 4.6937e-05, 4.2148e-05,\n",
      "        3.7107e-05, 3.1789e-05, 2.6230e-05, 2.0554e-05, 1.4973e-05, 9.7896e-06,\n",
      "        5.3645e-06, 2.0807e-06, 2.9476e-07, 2.8727e-07, 2.2193e-06, 6.0996e-06,\n",
      "        1.1770e-05, 1.8909e-05, 2.7053e-05, 3.5638e-05, 4.4049e-05, 5.1683e-05,\n",
      "        5.7999e-05, 6.2568e-05, 6.5113e-05, 6.5526e-05, 6.3866e-05, 6.0345e-05,\n",
      "        5.5297e-05, 4.9137e-05, 4.2316e-05, 3.5272e-05, 2.8395e-05, 2.2006e-05,\n",
      "        1.6331e-05, 1.1508e-05, 7.5915e-06, 4.5746e-06, 2.4098e-06, 1.0339e-06,\n",
      "        3.8813e-07, 4.3206e-07, 1.1491e-06, 2.5429e-06, 4.6264e-06, 7.4057e-06,\n",
      "        1.0862e-05, 1.4931e-05, 1.9499e-05, 2.4386e-05, 2.9361e-05, 3.4147e-05,\n",
      "        3.8445e-05, 4.1961e-05, 4.4433e-05, 4.5659e-05, 4.5520e-05, 4.3994e-05,\n",
      "        4.1164e-05, 3.7206e-05, 3.2383e-05, 2.7014e-05, 2.1451e-05, 1.6043e-05,\n",
      "        1.1108e-05, 6.9108e-06, 3.6420e-06, 1.4093e-06, 2.3641e-07, 7.1650e-08,\n",
      "        8.0231e-07, 2.2728e-06, 4.3061e-06, 6.7215e-06, 9.3516e-06, 1.2054e-05,\n",
      "        1.4714e-05, 1.7249e-05, 1.9600e-05, 2.1724e-05, 2.3588e-05, 2.5159e-05,\n",
      "        2.6395e-05, 2.7251e-05, 2.7673e-05, 2.7604e-05, 2.7001e-05, 2.5835e-05,\n",
      "        2.4107e-05, 2.1853e-05, 1.9153e-05, 1.6124e-05, 1.2921e-05, 9.7257e-06,\n",
      "        6.7297e-06, 4.1225e-06, 2.0729e-06, 7.1334e-07, 1.2830e-07, 3.4592e-07,\n",
      "        1.3358e-06, 3.0122e-06, 5.2422e-06, 7.8582e-06, 1.0673e-05, 1.3497e-05,\n",
      "        1.6152e-05, 1.8484e-05, 2.0376e-05, 2.1748e-05, 2.2563e-05, 2.2819e-05,\n",
      "        2.2551e-05, 2.1811e-05, 2.0672e-05, 1.9208e-05, 1.7498e-05, 1.5613e-05,\n",
      "        1.3620e-05, 1.1577e-05, 9.5401e-06, 7.5603e-06, 5.6916e-06, 3.9901e-06,\n",
      "        2.5151e-06, 1.3283e-06, 4.8988e-07, 5.3677e-08, 6.1401e-08, 5.3637e-07,\n",
      "        1.4782e-06, 2.8584e-06, 4.6200e-06, 6.6772e-06, 8.9212e-06, 1.1226e-05,\n",
      "        1.3456e-05, 1.5479e-05, 1.7173e-05, 1.8440e-05, 1.9207e-05, 1.9435e-05,\n",
      "        1.9122e-05, 1.8300e-05, 1.7029e-05, 1.5396e-05, 1.3501e-05, 1.1454e-05,\n",
      "        9.3657e-06, 7.3361e-06, 5.4538e-06, 3.7902e-06, 2.3987e-06, 1.3136e-06,\n",
      "        5.5315e-07, 1.2113e-07, 1.0249e-08, 2.0480e-07, 6.8288e-07, 1.4178e-06,\n",
      "        2.3784e-06, 3.5294e-06, 4.8302e-06, 6.2345e-06, 7.6898e-06, 9.1372e-06,\n",
      "        1.0515e-05, 1.1756e-05, 1.2799e-05, 1.3584e-05, 1.4063e-05, 1.4200e-05,\n",
      "        1.3979e-05, 1.3404e-05, 1.2499e-05, 1.1308e-05, 9.8943e-06, 8.3345e-06,\n",
      "        6.7144e-06, 5.1219e-06, 3.6420e-06, 2.3496e-06, 1.3072e-06, 5.5817e-07,\n",
      "        1.2707e-07, 1.8628e-08, 2.1879e-07, 6.9742e-07, 1.4117e-06, 2.3100e-06,\n",
      "        3.3362e-06, 4.4332e-06, 5.5456e-06, 6.6231e-06, 7.6208e-06, 8.5015e-06,\n",
      "        9.2341e-06, 9.7956e-06, 1.0168e-05, 1.0339e-05, 1.0304e-05, 1.0064e-05,\n",
      "        9.6245e-06, 9.0002e-06, 8.2120e-06, 7.2881e-06, 6.2645e-06, 5.1827e-06,\n",
      "        4.0913e-06, 3.0401e-06, 2.0808e-06, 1.2614e-06, 6.2463e-07, 2.0415e-07,\n",
      "        2.2364e-08, 8.8340e-08, 3.9695e-07, 9.2891e-07, 1.6520e-06, 2.5232e-06,\n",
      "        3.4918e-06, 4.5023e-06, 5.4988e-06, 6.4272e-06, 7.2407e-06, 7.9005e-06,\n",
      "        8.3765e-06, 8.6522e-06, 8.7198e-06, 8.5848e-06, 8.2596e-06, 7.7655e-06,\n",
      "        7.1304e-06, 6.3845e-06, 5.5627e-06, 4.6990e-06, 3.8282e-06, 2.9837e-06],\n",
      "       device='cuda:0')\n"
     ]
    }
   ],
   "source": [
    "testing_q_values_tensor = torch.tensor(testing_q_values).float().to(\"cuda\")\n",
    "predicted_curves = custom_reflectivity(testing_q_values_tensor,eval_thicknesses , eval_roughnesses, eval_slds, abeles_func = abeles)\n",
    "print(predicted_curves[0])"
   ]
  },
  {
   "cell_type": "code",
   "execution_count": 144,
   "metadata": {},
   "outputs": [],
   "source": [
    "from reflectorch import get_param_labels, get_density_profiles\n",
    "\n",
    "#@interact(i=(0, batch_size-1, 1))\n",
    "def plot_refl_curve(testing_params,predictions,i=0):\n",
    "     fig, ax = plt.subplots(1,2,figsize=(12,6))\n",
    "\n",
    "     ax[0].set_yscale('log')\n",
    "     ax[0].set_ylim(0.5e-10, 5)\n",
    "\n",
    "     ax[0].set_xlabel('q [$Å^{-1}$]', fontsize=20)\n",
    "     ax[0].set_ylabel('R(q)', fontsize=20)\n",
    "\n",
    "     ax[0].tick_params(axis='both', which='major', labelsize=15)\n",
    "     ax[0].tick_params(axis='both', which='minor', labelsize=15)\n",
    "\n",
    "     y_tick_locations = [10**(-2*i) for i in range(6)]\n",
    "     ax[0].yaxis.set_major_locator(plt.FixedLocator(y_tick_locations))\n",
    "          \n",
    "     ax[0].plot(eval_q_values[i].cpu().numpy(), predicted_curves[i].cpu().numpy() + 1e-10, c='r', lw=1, label='prediction')\n",
    "     ax[0].scatter(eval_q_values[i].cpu().numpy(), testing_curves[i] + 1e-10, facecolors='none', edgecolors='blue', s=8, label='input sim. curve')\n",
    "\n",
    "     ax[0].legend(loc='upper right', fontsize=14)\n",
    "\n",
    "     z_axis = torch.linspace(-200, 1000, 1000, device='cuda')\n",
    "     _, sld_profile_gt, _ = get_density_profiles(\n",
    "          testing_params[:,:num_layers], \n",
    "          testing_params[:,num_layers:num_layers*2+1],\n",
    "          testing_params[:,num_layers*2+1:],\n",
    "          z_axis=z_axis)\n",
    "\n",
    "     _, sld_profile_pred, _ = get_density_profiles(\n",
    "          predictions[:,:num_layers], \n",
    "          predictions[:,num_layers:num_layers*2+1],\n",
    "          predictions[:,num_layers*2+1:],\n",
    "          z_axis=z_axis)\n",
    "\n",
    "     ax[1].plot(z_axis.cpu().numpy(), sld_profile_pred[i].cpu().numpy(), c='r', label='prediction')\n",
    "     ax[1].plot(z_axis.cpu().numpy(), sld_profile_gt[i].cpu().numpy(), c='b', label='ground truth')\n",
    "\n",
    "     ax[1].set_xlabel('z [$Å$]', fontsize=20)\n",
    "     ax[1].set_ylabel('SLD [$10^{-6} Å^{-2}$]', fontsize=20)\n",
    "     ax[1].tick_params(axis='both', which='major', labelsize=15)\n",
    "     ax[1].tick_params(axis='both', which='minor', labelsize=15)\n",
    "\n",
    "     ax[1].legend(loc='lower right', fontsize=14)\n",
    "\n",
    "     plt.tight_layout()\n",
    "\n",
    "    #for l, t, p, min_b, max_b in zip(\n",
    "     #     get_param_labels(num_layers),\n",
    "     #     params.parameters[i], \n",
    "     #     restored_predictions.parameters[i], \n",
    "     #     restored_predictions.min_bounds[i], \n",
    "     #     restored_predictions.max_bounds[i]\n",
    "     #     ):\n",
    "     #    print(f'{l.ljust(14)} --> True: {t:.2f} Predicted: {p:.2f}  Input prior bounds: ({min_b:.2f}, {max_b:.2f})')"
   ]
  },
  {
   "cell_type": "code",
   "execution_count": 146,
   "metadata": {},
   "outputs": [
    {
     "name": "stdout",
     "output_type": "stream",
     "text": [
      "Actual thickness  tensor([87.9520, 68.2913, 85.1340, 87.9520, 68.2913, 85.1340], device='cuda:0',\n",
      "       dtype=torch.float64)\n",
      "Prediction thickness  tensor([86.2597, 66.1924, 83.9177, 88.1127, 66.3228, 86.9365], device='cuda:0')\n",
      "Actual SLD  tensor([ 22.7237,  99.3535,  67.1005, 140.3725,  99.3535,  67.1005, 140.3725],\n",
      "       device='cuda:0', dtype=torch.float64)\n",
      "Prediction SLD  tensor([ 23.8241,  99.8009,  67.3581, 140.9001,  99.6370,  66.8189, 140.2030],\n",
      "       device='cuda:0')\n"
     ]
    },
    {
     "data": {
      "image/png": "[encoded data removed]",
      "text/plain": [
       "<Figure size 1200x600 with 2 Axes>"
      ]
     },
     "metadata": {},
     "output_type": "display_data"
    }
   ],
   "source": [
    "testing_params_cuda = torch.tensor(testing_params).to('cuda')  # move to GPU\n",
    "testing_params_cuda = torch.real(testing_params_cuda)\n",
    "i = 131\n",
    "plot_refl_curve(testing_params_cuda,restored_predictions, i)\n",
    "print(\"Actual thickness \", testing_params_cuda[i,:testing_num_layers])\n",
    "print(\"Prediction thickness \", restored_predictions[i,:testing_num_layers])\n",
    "print(\"Actual SLD \", testing_params_cuda[i,testing_num_layers*2+1:])\n",
    "print(\"Prediction SLD \", restored_predictions[i,testing_num_layers*2+1:])"
   ]
  },
  {
   "cell_type": "code",
   "execution_count": 147,
   "metadata": {},
   "outputs": [
    {
     "name": "stdout",
     "output_type": "stream",
     "text": [
      "Actual thicknesses: tensor([87.9520, 68.2913, 85.1340, 87.9520, 68.2913, 85.1340], device='cuda:0',\n",
      "       dtype=torch.float64)\n",
      "Actual roughnesses: tensor([26.1397, 11.8592, 14.1219,  5.3867, 11.8592, 14.1219,  5.3867],\n",
      "       device='cuda:0', dtype=torch.float64)\n",
      "Actual layer SLDs: tensor([ 22.7237,  99.3535,  67.1005, 140.3725,  99.3535,  67.1005, 140.3725],\n",
      "       device='cuda:0', dtype=torch.float64)\n",
      "Predicted thicknesses: tensor([86.2597, 66.1924, 83.9177, 88.1127, 66.3228, 86.9365], device='cuda:0')\n",
      "Predicted roughnesses: tensor([26.1291, 11.9135, 14.1250,  4.6986, 11.6371, 14.1323,  4.3210],\n",
      "       device='cuda:0')\n",
      "Predicted layer SLDs: tensor([ 23.8241,  99.8009,  67.3581, 140.9001,  99.6370,  66.8189, 140.2030],\n",
      "       device='cuda:0')\n",
      "Thickness error: 1.934783%\n",
      "Roughness error: 5.003410%\n",
      "SLD error: 0.982623%\n",
      "Total error: 7.920817% of 131 curve\n"
     ]
    }
   ],
   "source": [
    "pred_idx = 131\n",
    "print(f'Actual thicknesses: {testing_params_cuda[pred_idx,:testing_num_layers]}')\n",
    "print(f'Actual roughnesses: {testing_params_cuda[pred_idx,testing_num_layers:testing_num_layers*2+1]}')\n",
    "print(f'Actual layer SLDs: {testing_params_cuda[pred_idx,testing_num_layers*2+1:]}')\n",
    "\n",
    "print(f'Predicted thicknesses: {eval_thicknesses[pred_idx]}')\n",
    "print(f'Predicted roughnesses: {eval_roughnesses[pred_idx]}')\n",
    "print(f'Predicted layer SLDs: {eval_slds[pred_idx]}')\n",
    "\n",
    "def loss(pred, true):\n",
    "    percentage_error = torch.abs((true - pred) / (true + 1e-8))\n",
    "    return torch.mean(percentage_error) * 100\n",
    "\n",
    "\n",
    "def evaluate_model(pred_thickness, true_thickness,\n",
    "                   pred_roughness, true_roughness,\n",
    "                   pred_sld, true_sld):\n",
    "    loss_thickness = loss(pred_thickness, true_thickness)\n",
    "    loss_roughness = loss(pred_roughness, true_roughness)\n",
    "    loss_sld = loss(pred_sld, true_sld)\n",
    "\n",
    "    print(f\"Thickness error: {loss_thickness:.6f}%\")\n",
    "    print(f\"Roughness error: {loss_roughness:.6f}%\")\n",
    "    print(f\"SLD error: {loss_sld:.6f}%\")\n",
    "\n",
    "    return loss_thickness, loss_roughness, loss_sld\n",
    "\n",
    "loss_t, loss_r, loss_s = evaluate_model(\n",
    "    eval_thicknesses[pred_idx], testing_params_cuda[pred_idx,:testing_num_layers],\n",
    "    eval_roughnesses[pred_idx], testing_params_cuda[pred_idx,testing_num_layers:testing_num_layers*2+1],\n",
    "    eval_slds[pred_idx], testing_params_cuda[pred_idx,testing_num_layers*2+1:]\n",
    ")\n",
    "\n",
    "total_loss = loss_t+ loss_r+ loss_s\n",
    "print(f\"Total error: {total_loss:.6f}% of {pred_idx} curve\")"
   ]
  },
  {
   "cell_type": "code",
   "execution_count": 141,
   "metadata": {},
   "outputs": [
    {
     "name": "stdout",
     "output_type": "stream",
     "text": [
      "Thickness error: 23.768476%\n",
      "Roughness error: 69.785297%\n",
      "SLD error: 0.769160%\n",
      "Total error: 94.322934% of each curve\n"
     ]
    }
   ],
   "source": [
    "loss_t, loss_r, loss_s = evaluate_model(\n",
    "    eval_thicknesses, testing_params_cuda[:,:testing_num_layers],\n",
    "    eval_roughnesses, testing_params_cuda[:,testing_num_layers:testing_num_layers*2+1],\n",
    "    eval_slds, testing_params_cuda[:,testing_num_layers*2+1:]\n",
    ")\n",
    "\n",
    "total_loss = loss_t+ loss_r+ loss_s\n",
    "print(f\"Total error: {total_loss:.6f}% of each curve\")"
   ]
  },
  {
   "cell_type": "markdown",
   "metadata": {},
   "source": [
    ":::{tip}\n",
    ":class: dropdown\n",
    "\n",
    "The saved weights can be loaded into a compatible neural network (`net`) as:\n",
    "\n",
    "```python\n",
    "saved_dict = torch.load(save_path)\n",
    "model_state_dict = saved_dict['model']\n",
    "net.load_state_dict(model_state_dict)\n",
    "```\n",
    "\n",
    ":::"
   ]
  },
  {
   "cell_type": "markdown",
   "metadata": {},
   "source": [
    "The model state dictionaries of all the saved '.pt' files in a directory can be further converted to the '.safetensors' format for exporting to Huggingface using the `convert_pt_to_safetensors` method."
   ]
  },
  {
   "cell_type": "markdown",
   "metadata": {},
   "source": [
    "### Training from the terminal"
   ]
  },
  {
   "cell_type": "markdown",
   "metadata": {},
   "source": [
    "Above we described the workflow for training a model in a Jupyter Notebook, where we loaded the trainer from the configuration file but defined the callbacks manually. Alternatively, one can train a model from the terminal (in this case the callbacks defined in the configuration file are used):\n",
    "\n",
    "```bash\n",
    "python -m reflectorch.train config_name\n",
    "``` \n"
   ]
  },
  {
   "cell_type": "markdown",
   "metadata": {},
   "source": [
    "## Customizing the YAML configuration for training"
   ]
  },
  {
   "cell_type": "markdown",
   "metadata": {
    "tags": []
   },
   "source": [
    "In the following we show how the YAML configuration file can be customized."
   ]
  },
  {
   "cell_type": "markdown",
   "metadata": {},
   "source": [
    "```{dropdown} Sample YAML configuration\n",
    "```yaml\n",
    "\n",
    "general:\n",
    "  name: a_base_point_xray_conv_standard\n",
    "  root_dir: null\n",
    "  \n",
    "dset:\n",
    "  cls: ReflectivityDataLoader\n",
    "  prior_sampler:\n",
    "    cls: SubpriorParametricSampler\n",
    "    kwargs:\n",
    "      param_ranges:\n",
    "        thicknesses: [1., 500.]\n",
    "        roughnesses: [0., 60.]\n",
    "        slds: [0., 50.]\n",
    "      bound_width_ranges:\n",
    "        thicknesses: [1.0e-2, 500.]\n",
    "        roughnesses: [1.0e-2, 60.]\n",
    "        slds: [1.0e-2, 5.]\n",
    "      model_name: standard_model\n",
    "      max_num_layers: 2\n",
    "      constrained_roughness: true\n",
    "      max_thickness_share: 0.5\n",
    "      logdist: false\n",
    "      scale_params_by_ranges: false\n",
    "      scaled_range: [-1., 1.]\n",
    "      device: 'cuda'\n",
    "      \n",
    "  q_generator:\n",
    "    cls: ConstantQ\n",
    "    kwargs:\n",
    "      q: [0.02, 0.15, 128]\n",
    "      device: 'cuda'\n",
    "      \n",
    "  intensity_noise:\n",
    "    cls: GaussianExpIntensityNoise\n",
    "    kwargs:\n",
    "      relative_errors: [0.01, 0.3]\n",
    "      consistent_rel_err: false\n",
    "      apply_shift: true\n",
    "      shift_range: [-0.3, 0.3]\n",
    "      add_to_context: true\n",
    "\n",
    "  curves_scaler:\n",
    "    cls: LogAffineCurvesScaler\n",
    "    kwargs:\n",
    "      weight: 0.2\n",
    "      bias: 1.0\n",
    "      eps: 1.0e-10\n",
    "\n",
    "model:\n",
    "  network:\n",
    "    cls: NetworkWithPriors\n",
    "    pretrained_name: null\n",
    "    device: 'cuda'\n",
    "    kwargs:\n",
    "      embedding_net_type: 'conv'\n",
    "      embedding_net_kwargs:\n",
    "        in_channels: 1\n",
    "        hidden_channels: [32, 64, 128, 256, 512]\n",
    "        kernel_size: 3\n",
    "        dim_embedding: 128\n",
    "        dim_avpool: 1\n",
    "        use_batch_norm: true\n",
    "        use_se: false\n",
    "        activation: 'gelu'\n",
    "      pretrained_embedding_net: null\n",
    "      dim_out: 8\n",
    "      dim_conditioning_params: 0\n",
    "      layer_width: 512\n",
    "      num_blocks: 8\n",
    "      repeats_per_block: 2\n",
    "      residual: true\n",
    "      use_batch_norm: true\n",
    "      use_layer_norm: false\n",
    "      mlp_activation: 'gelu'\n",
    "      dropout_rate: 0.0 \n",
    "      conditioning: 'film'\n",
    "      concat_condition_first_layer: false\n",
    "       \n",
    "training:\n",
    "  trainer_cls: PointEstimatorTrainer\n",
    "  num_iterations: 10000\n",
    "  batch_size: 4096\n",
    "  lr: 1.0e-3\n",
    "  grad_accumulation_steps: 1\n",
    "  clip_grad_norm_max: null\n",
    "  update_tqdm_freq: 1\n",
    "  optimizer: AdamW\n",
    "  trainer_kwargs:\n",
    "    train_with_q_input: false\n",
    "    condition_on_q_resolutions: false\n",
    "    rescale_loss_interval_width: true\n",
    "    use_l1_loss: true\n",
    "    optim_kwargs:\n",
    "      betas: [0.9, 0.999]\n",
    "      weight_decay: 0.0005\n",
    "  callbacks:\n",
    "    save_best_model:\n",
    "      enable: true\n",
    "      freq: 500\n",
    "    lr_scheduler:\n",
    "      cls: CosineAnnealingWithWarmup\n",
    "      kwargs:\n",
    "        min_lr: 1.0e-6\n",
    "        warmup_iters: 500\n",
    "        total_iters: 10000\n",
    "\n",
    "  logger:\n",
    "    cls: TensorBoardLogger\n",
    "    kwargs:\n",
    "      log_dir: \"tensorboard_runs/test_1\"\n",
    "```"
   ]
  },
  {
   "cell_type": "markdown",
   "metadata": {},
   "source": [
    "The `general` key, contains the following subkeys:\n",
    "\n",
    "- `name` - name used for saving the model\n",
    "- `root` - path to the root directory, defaults to the package directory"
   ]
  },
  {
   "cell_type": "markdown",
   "metadata": {
    "tags": []
   },
   "source": [
    "```yaml\n",
    "general:\n",
    "  name: a_base_point_xray_conv_standard\n",
    "  root_dir: null\n",
    "```"
   ]
  },
  {
   "cell_type": "markdown",
   "metadata": {},
   "source": [
    "The `dset` key defines the settings pertaining to the data generation (i.e. the SLD profile parameterization, the ranges of the thin film parameters, the q values, the noise added to the reflectivity curves and the scaling of the reflectivity curves). It has the following subkeys:"
   ]
  },
  {
   "cell_type": "markdown",
   "metadata": {},
   "source": [
    "1. `cls` (*optional*) - the class of the data loader. If not provided, the default class `ReflectivityDataLoader` is used."
   ]
  },
  {
   "cell_type": "markdown",
   "metadata": {},
   "source": [
    "2. `prior_sampler` - responsible for defining the type of SLD parameterization, the ranges from which the thin film parameters are sampled and the ranges from which the widths of the prior bounds are sampled. The `SubpriorParametricSampler` class first samples a center (**C**) from the parameter ranges and a width (**W**) from the bound width ranges. This defines a subinterval delimited by the minimum prior bound **B_min** = **C** - **W**/2 and the maximum prior bound **B_max** = **C** + **W**/2. Then, the values of the parameters (to be used for simulating the reflectivity curves and as ground truth) are uniformly sampled within the interval [**B_min**, **B_max**]. It has the following keyword arguments:\n",
    "- `model_name` - name associated with the type of SLD parameterization. Here, `standard_model` represents the standard box model parameterization of the SLD with the parameters thickness, roughness and real layer SLD.\n",
    "- `max_num_layers` - the number of layers in the thin film (in addition to the substrate)\n",
    "- `param_ranges` - the ranges from which the values of each type of thin film parameter are uniformly sampled (for the standard model `thicknesses`, `roughnesses` and `slds`) \n",
    "- `bound_width_ranges` - the ranges from which the prior bound widths of each type of thin film parameter are uniformly sampled. If the argument `logdist` is set to `true`, the prior bound widths are sampled uniformly on a logarithmic scale instead, biasing the training towards smaller prior bound widths.\n",
    "- `constrained_roughness` - if `true` the sampling of the roughness parameters is constrained such that the roughness of an interface between two layers does not exceed a fraction (defined by the argument `max_thickness_share`) of the thickness of either one of those layers.\n",
    "- `max_total_thickness` (optional) - if provided, the sampling is performed such that the sum of the sampled layer thicknesses does not exceed this value\n",
    "- `scale_params_by_ranges` - if `true` the parameters are scaled with respect to their ranges, otherwise they are scaled with respect to their subprior bound interval. The default is `false`.\n",
    "- `scaled_range` - the ML-friendly range to which the parameters (and prior bounds) are scaled to, the default is [-1, 1]\n",
    "- `device` - default is `'cuda'` for GPU use, can be changed to `'cpu'` for CPU use"
   ]
  },
  {
   "cell_type": "markdown",
   "metadata": {},
   "source": [
    "```{figure} FigureReflectometryNetwork.png\n",
    ":scale: 25\n",
    ":align: center\n",
    ":name: figure_reflectometry_network\n",
    "(a) Parameter sampling process (b) Neural network architecture\n",
    "```"
   ]
  },
  {
   "cell_type": "markdown",
   "metadata": {},
   "source": [
    "```yaml\n",
    "dset:\n",
    "  cls: ReflectivityDataLoader\n",
    "  prior_sampler:\n",
    "    cls: SubpriorParametricSampler\n",
    "    kwargs:\n",
    "      param_ranges:\n",
    "        thicknesses: [1., 500.]\n",
    "        roughnesses: [0., 60.]\n",
    "        slds: [0., 50.]\n",
    "      bound_width_ranges:\n",
    "        thicknesses: [1.0e-2, 500.]\n",
    "        roughnesses: [1.0e-2, 60.]\n",
    "        slds: [1.0e-2, 5.]\n",
    "      model_name: standard_model\n",
    "      max_num_layers: 2\n",
    "      constrained_roughness: true\n",
    "      max_thickness_share: 0.5\n",
    "      logdist: false\n",
    "      scale_params_by_ranges: false\n",
    "      scaled_range: [-1., 1.]\n",
    "      device: 'cuda'\n",
    "```"
   ]
  },
  {
   "cell_type": "markdown",
   "metadata": {},
   "source": [
    "3. `q_generator` - responsible for generating the transfer vector (q) values at which the reflectivity is to be simulated. We must first specifiy its class. The `ConstantQ` class generates a fixed discretization for all the reflectivity curves in the batch. Its `q` keyword argument is a tuple formatted as *[q_min, q_max, num_q_points]*, which defines the minimum q value, the maximum q value as well as the number of points (including the interval boundaries) to be equidistantly sampled. Other q generator classes are available such as `VariableQ` (equidistant grid with variable *q_min*, *q_max* and *num_q_points*, further described in the *Advanced functionality* section) and `ConstantAngle` which generates the grid of q values based on equidistantlly sampled scattering angles and the wavelength of the beam. The `device` argument can be changed to `'cpu'` for CPU use (default is `'cuda'` for GPU use)."
   ]
  },
  {
   "cell_type": "markdown",
   "metadata": {},
   "source": [
    "```yaml\n",
    "\n",
    "dset:\n",
    "  q_generator:\n",
    "    cls: ConstantQ\n",
    "    kwargs:\n",
    "      q: [0.02, 0.15, 128]\n",
    "      device: 'cuda'\n",
    "      \n",
    "```      "
   ]
  },
  {
   "cell_type": "markdown",
   "metadata": {},
   "source": [
    "4. `q_noise` (*optional*) - responsible for adding noise to the generated q values, which emulates possible measurement errors due to sample misalignment. The `BasicQNoiseGenerator` class can add both systematic q shifts (the same change applied to all q points of a curve) and random noise (different changes applied to each q point of a curve) to the q values of the batch of curves, it has the following arguments:\n",
    "- `shift_std` - the standard deviation of the normal distribution for sampling the systematic q shifts (one value sampled per curve in the batch)\n",
    "- `noise_std` - the standard deviation of the normal distribution for sampling the random q noise (one value sampled per point in the curve). The standard deviation is the same for all curves in the batch if provided as a float, or uniformly sampled from a range for each curve in the batch if provided as a tuple."
   ]
  },
  {
   "cell_type": "markdown",
   "metadata": {},
   "source": [
    "```yaml\n",
    "dset:\n",
    "  q_noise:\n",
    "    cls: BasicQNoiseGenerator\n",
    "    kwargs:\n",
    "      shift_std: 1.0e-3\n",
    "      noise_std: [0., 1.0e-3]\n",
    "```"
   ]
  },
  {
   "cell_type": "markdown",
   "metadata": {},
   "source": [
    "5. `intensity_noise` - responsible for adding noise to the intensity values of the reflectivity curves.\n",
    "\n",
    "    The `GaussianExpIntensityNoise` combines three types of noise:\n",
    "    - Gaussian noise: Applies Gaussian noise to account for count-based Poisson noise as well as other sources of error.\n",
    "    - Shift noise: Applies a multiplicative scaling to the curves, equivalent to a vertical shift in logarithmic space.\n",
    "    - Background noise: Adds a constant background to the curves.\n",
    "\n",
    "    It has the following arguments:\n",
    "    - `relative_errors` - range of relative errors for Gaussian noise.\n",
    "    - `consistent_rel_err` - if `true`, uses a consistent relative error for Gaussian noise across all points in a curve.\n",
    "    - `apply_shift` - if `true`, applies shift noise to the curves.\n",
    "    - `shift_range` - range of shift factors for shift noise.\n",
    "    - `apply_background` - if `true`, applies background noise to the curves.\n",
    "    - `background_range` - range for background values."
   ]
  },
  {
   "cell_type": "markdown",
   "metadata": {},
   "source": [
    "```yaml\n",
    "intensity_noise:\n",
    "  cls: GaussianExpIntensityNoise\n",
    "  kwargs:\n",
    "    relative_errors: [0.01, 0.3]\n",
    "    consistent_rel_err: false\n",
    "    apply_shift: true\n",
    "    shift_range: [-0.3, 0.3]\n",
    "    apply_background: false\n",
    "    background_range: [1.0e-10, 1.0e-4]\n",
    "    add_to_context: true\n",
    "```"
   ]
  },
  {
   "cell_type": "markdown",
   "metadata": {},
   "source": [
    "6. `smearing` (*optional*) - responsible for adding resolution smearing to the curves (which can occur in neutron experiments due to uncertainties in incident angle  or wavelength). The intensity at a q point will be the average of the intensities of neighbouring q points, weighted by a gaussian profile. The arguments of the `Smearing` class are:\n",
    "- `sigma_range` - the range for sampling the resolutions\n",
    "- `constant_dq` - if `True` the smearing is constant (the resolution is given by the constant dq at each point in the curve, i.e. x-ray variant), otherwise the smearing is linear (the resolution is given by the constant dq/q at each point in the curve, i.e. neutron variant)\n",
    "- `gauss_num` - the number of points used to define the Gaussian smearing kernel. A higher number increases precision at the cost of computational efficiency.\n",
    "- `share_smeared` - the share of curves in the batch for which the resolution smearing is applied"
   ]
  },
  {
   "cell_type": "markdown",
   "metadata": {},
   "source": [
    "```yaml\n",
    "dset:   \n",
    "  smearing:\n",
    "    cls: Smearing\n",
    "    kwargs:\n",
    "      sigma_range: [0.01, 0.08]\n",
    "      constant_dq: False\n",
    "      gauss_num: 17\n",
    "      share_smeared: 0.8\n",
    "```"
   ]
  },
  {
   "cell_type": "markdown",
   "metadata": {},
   "source": [
    "7. `curves_scaler` - responsible for scaling the reflectivity curves to a ML-friendly range. The `LogAffineCurvesScaler` class scales the reflectivity curves (R) accoring to the formula: \n",
    "\n",
    "$R_{scaled} = log_{10}(R + eps) \\times weight + bias$\n",
    "\n",
    "The argument `eps` sets the minimum intensity value of the reflectivity curves which is considered. The default values of 1.0e-10 for `eps`, 0.2 for `weight` and 1.0 for `bias` results in the interval [-1, 1] for the scaled reflectivity curves. "
   ]
  },
  {
   "cell_type": "markdown",
   "metadata": {},
   "source": [
    "```yaml\n",
    "dset:    \n",
    "  curves_scaler:\n",
    "    cls: LogAffineCurvesScaler\n",
    "    kwargs:\n",
    "      weight: 0.2\n",
    "      bias: 1.0\n",
    "      eps: 1.0e-10\n",
    "```"
   ]
  },
  {
   "cell_type": "markdown",
   "metadata": {},
   "source": [
    "The `model` key defines the neural network architecture. Its `network` subkey contains the following subkeys:\n",
    "\n",
    "- `cls` - the class of the neural network\n",
    "- `pretrained_name` - the name of a pretrained model used to initialize the weights (optional)\n",
    "- `device` - the Pytorch device (either `cuda` or `cpu`)\n",
    "- `kwargs` - the keyword arguments for the provided class"
   ]
  },
  {
   "cell_type": "markdown",
   "metadata": {},
   "source": [
    "The `NetworkWithPriors` class has the following keyword arguments:\n",
    "- `embedding_net_type` - the type of embedding network (e.g. `'conv'` for a 1D CNN, `'fno'` for a FNO)\n",
    "- `embedding_net_kwargs` - the keyword arguments corresponding to the chosen embedding network (e.g. for the 1D CNN: `in_channels` - the number of input channels of the 1D CNN, `hidden_channels` - list with the number of channels for each layer of the 1D CNN, `dim_embedding` - the dimension of the embedding produced by the 1D CNN, `dim_avpool` - the output size of the adaptive average pooling layer, `activation` - the type of activation function in the 1D CNN)\n",
    "- `pretrained_embedding_net` - the path to the weights of a pretrained embedding network (optional)\n",
    "- `dim_out` - the dimension of the output produced by the MLP (i.e. the number of thin film parameters to be predicted)\n",
    "- `dim_conditioning_params` - the dimension of extra parameters used as input to the network in specific training scenarios (such as the resolution coefficient dq/q), defaults to 0.\n",
    "- `layer_width` - the width (i.e. number of neurons) of a linear layer in the MLP\n",
    "- `num_blocks` - the number of residual blocks in the MLP\n",
    "- `repeats_per_block` - the number of normalization/activation/linear repeats in a block\n",
    "- `use_batch_norm` - whether to use batch normalization in the MLP\n",
    "- `use_layer_norm` - whether to use layer normalization in the MLP (if batch normalization is not used)\n",
    "- `mlp_activation` - the type of activation function in the MLP\n",
    "- `dropout_rate` - dropout rate for each block\n",
    "- `conditioning` - the modality in which the prior bounds are provided to the network, either by concatenating the prior bounds to the data embedding ( `'concat'`) before the MLP or by modulating the intermediated features in each block of the MLP via [FiLM](https://arxiv.org/abs/1709.07871) layers (`'film'`) or [GLU](https://pytorch.org/docs/stable/generated/torch.nn.GLU.html) layers (`'glu'`). If `concat_condition_first_layer` is `true`, the concatenation is performed even when `'film'` or `'glu'` are used.\n"
   ]
  },
  {
   "cell_type": "markdown",
   "metadata": {
    "tags": []
   },
   "source": [
    "```yaml\n",
    "\n",
    "model:\n",
    "  network:\n",
    "    cls: NetworkWithPriors\n",
    "    pretrained_name: null\n",
    "    device: 'cuda'\n",
    "    kwargs:\n",
    "      embedding_net_type: 'conv'\n",
    "      embedding_net_kwargs:\n",
    "        in_channels: 1\n",
    "        hidden_channels: [32, 64, 128, 256, 512]\n",
    "        kernel_size: 3\n",
    "        dim_embedding: 128\n",
    "        dim_avpool: 1\n",
    "        use_batch_norm: true\n",
    "        activation: 'gelu'\n",
    "      pretrained_embedding_net: null\n",
    "      dim_out: 8\n",
    "      dim_conditioning_params: 0\n",
    "      layer_width: 512\n",
    "      num_blocks: 8\n",
    "      repeats_per_block: 2\n",
    "      residual: true\n",
    "      use_batch_norm: true\n",
    "      use_layer_norm: false\n",
    "      mlp_activation: 'gelu'\n",
    "      dropout_rate: 0.0 \n",
    "      conditioning: 'film' # 'concat', 'glu', 'film'\n",
    "      concat_condition_first_layer: false\n",
    "  \n",
    "```"
   ]
  },
  {
   "cell_type": "markdown",
   "metadata": {},
   "source": [
    "The `training` key can be used to customize the training settings:\n",
    "\n",
    "- `trainer_cls` - the class of the trainer (by default `PointEstimatorTrainer`)\n",
    "- `num_iterations` - the total number of training iterations\n",
    "- `batch_size` - the batch size (number of curves generated at each iteration)\n",
    "- `lr` - the initial learning rate\n",
    "- `grad_accumulation_steps` - if larger than 1, training is performed using gradient accumulation with the chosen number of steps\n",
    "- `clip_grad_norm_max` - the maximum norm for gradient clipping (optional)\n",
    "- `update_tqdm_freq` - the frequency for updating the [tqdm progress bar](https://tqdm.github.io/)\n",
    "- `optimizer` - the used [Pytorch optimizer](https://pytorch.org/docs/stable/optim). Default is `AdamW`\n",
    "- `trainer_kwargs` - additional trainer keyword arguments. Can be used to specify optional inputs to the network, such as the q values (`train_with_q_input`) or the resolution coefficient (`condition_on_q_resolutions`). Can also be used for setting the optimizer keyword arguments (`optim_kwargs`).\n",
    "- `callbacks` - (optional) the callback classes together with their keyword arguments.\n",
    "- `logger` - (optional) a Tensorboard logger for monitoring the progress of the training."
   ]
  },
  {
   "cell_type": "markdown",
   "metadata": {},
   "source": [
    "```yaml\n",
    "\n",
    "training:\n",
    "  trainer_cls: PointEstimatorTrainer\n",
    "  num_iterations: 100000\n",
    "  batch_size: 4096\n",
    "  lr: 1.0e-3\n",
    "  grad_accumulation_steps: 1\n",
    "  clip_grad_norm_max: null\n",
    "  update_tqdm_freq: 1\n",
    "  optimizer: AdamW\n",
    "  trainer_kwargs:\n",
    "    train_with_q_input: false\n",
    "    condition_on_q_resolutions: false\n",
    "    rescale_loss_interval_width: true\n",
    "    use_l1_loss: true\n",
    "    optim_kwargs:\n",
    "      betas: [0.9, 0.999]\n",
    "      weight_decay: 0.0005\n",
    "  callbacks:\n",
    "    save_best_model:\n",
    "      enable: true\n",
    "      freq: 500\n",
    "    lr_scheduler:\n",
    "      cls: StepLR\n",
    "      kwargs:\n",
    "        step_size: 20000\n",
    "        gamma: 0.5\n",
    "  logger:\n",
    "    cls: TensorBoardLogger\n",
    "    kwargs:\n",
    "      log_dir: \"tensorboard_runs/test_1\"\n",
    "     \n",
    "```"
   ]
  }
 ],
 "metadata": {
  "kernelspec": {
   "display_name": "Python 3 (ipykernel)",
   "language": "python",
   "name": "python3"
  },
  "language_info": {
   "codemirror_mode": {
    "name": "ipython",
    "version": 3
   },
   "file_extension": ".py",
   "mimetype": "text/x-python",
   "name": "python",
   "nbconvert_exporter": "python",
   "pygments_lexer": "ipython3",
   "version": "3.12.9"
  },
  "widgets": {
   "application/vnd.jupyter.widget-state+json": {
    "state": {},
    "version_major": 2,
    "version_minor": 0
   }
  }
 },
 "nbformat": 4,
 "nbformat_minor": 4
}
