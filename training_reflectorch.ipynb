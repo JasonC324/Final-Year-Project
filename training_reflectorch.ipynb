{
 "cells": [
  {
   "cell_type": "markdown",
   "metadata": {},
   "source": [
    "# Training a reflectorch model"
   ]
  },
  {
   "cell_type": "markdown",
   "metadata": {},
   "source": [
    "First, we import the necessary methods from the `reflectorch` package, as well as other basic Python packages:"
   ]
  },
  {
   "cell_type": "code",
   "execution_count": 1,
   "metadata": {
    "tags": []
   },
   "outputs": [
    {
     "name": "stdout",
     "output_type": "stream",
     "text": [
      "['C:/Users/Owner/Desktop/cw/COMP60660/reflectorch', 'C:\\\\Program Files\\\\WindowsApps\\\\PythonSoftwareFoundation.Python.3.12_3.12.2544.0_x64__qbz5n2kfra8p0\\\\python312.zip', 'C:\\\\Program Files\\\\WindowsApps\\\\PythonSoftwareFoundation.Python.3.12_3.12.2544.0_x64__qbz5n2kfra8p0\\\\DLLs', 'C:\\\\Program Files\\\\WindowsApps\\\\PythonSoftwareFoundation.Python.3.12_3.12.2544.0_x64__qbz5n2kfra8p0\\\\Lib', 'C:\\\\Program Files\\\\WindowsApps\\\\PythonSoftwareFoundation.Python.3.12_3.12.2544.0_x64__qbz5n2kfra8p0', '', 'C:\\\\Users\\\\Owner\\\\AppData\\\\Local\\\\Packages\\\\PythonSoftwareFoundation.Python.3.12_qbz5n2kfra8p0\\\\LocalCache\\\\local-packages\\\\Python312\\\\site-packages', 'C:\\\\Users\\\\Owner\\\\AppData\\\\Local\\\\Packages\\\\PythonSoftwareFoundation.Python.3.12_qbz5n2kfra8p0\\\\LocalCache\\\\local-packages\\\\Python312\\\\site-packages\\\\win32', 'C:\\\\Users\\\\Owner\\\\AppData\\\\Local\\\\Packages\\\\PythonSoftwareFoundation.Python.3.12_qbz5n2kfra8p0\\\\LocalCache\\\\local-packages\\\\Python312\\\\site-packages\\\\win32\\\\lib', 'C:\\\\Users\\\\Owner\\\\AppData\\\\Local\\\\Packages\\\\PythonSoftwareFoundation.Python.3.12_qbz5n2kfra8p0\\\\LocalCache\\\\local-packages\\\\Python312\\\\site-packages\\\\Pythonwin', 'C:\\\\Program Files\\\\WindowsApps\\\\PythonSoftwareFoundation.Python.3.12_3.12.2544.0_x64__qbz5n2kfra8p0\\\\Lib\\\\site-packages']\n",
      "C:\\Users/Owner/Desktop/cw/COMP60660/reflectorch\\reflectorch\\__init__.py\n"
     ]
    }
   ],
   "source": [
    "import matplotlib.pyplot as plt\n",
    "import numpy as np\n",
    "import torch\n",
    "\n",
    "import sys\n",
    "sys.path.insert(0, r'C:/Users/Owner/Desktop/cw/COMP60660/reflectorch')\n",
    "print(sys.path)\n",
    "\n",
    "import reflectorch as reflectorch\n",
    "print(reflectorch.__file__)\n"
   ]
  },
  {
   "cell_type": "markdown",
   "metadata": {},
   "source": [
    ":::{tip}\n",
    ":class: dropdown\n",
    "\n",
    "Alternatively, we can import everything from reflectorch with\n",
    "`from reflectorch import *`\n",
    ":::"
   ]
  },
  {
   "cell_type": "markdown",
   "metadata": {
    "tags": []
   },
   "source": [
    "## The training loop"
   ]
  },
  {
   "cell_type": "markdown",
   "metadata": {},
   "source": [
    "### Loading the trainer"
   ]
  },
  {
   "cell_type": "markdown",
   "metadata": {},
   "source": [
    "For training a model we use the `Trainer` class, which contains all the components necessary for the training process such as the data generator, the neural network and the optimizer.\n",
    "\n",
    " We can initialize the trainer according to the specifications defined in a YAML configuration file using the `get_trainer_by_name` method which takes as input the name of the configuration file. If the package was installed in editable model, the configuration files are read from the `configs` directory located inside the repository, otherwise the path to the directory containing the configuration file should also be specified using the `config_dir` argument. The `load_weights` argument should be set to `False` since we want the neural network weights to be randomly initialized for a fresh training."
   ]
  },
  {
   "cell_type": "code",
   "execution_count": 2,
   "metadata": {
    "tags": []
   },
   "outputs": [
    {
     "name": "stdout",
     "output_type": "stream",
     "text": [
      "Model Test_v1 loaded. Number of parameters: 7.60 M\n"
     ]
    }
   ],
   "source": [
    "config_name = 'Test_v1'\n",
    "config_dir = \"./reflectorch/configs\"\n",
    "trainer = reflectorch.get_trainer_by_name(config_name,config_dir, load_weights=False)"
   ]
  },
  {
   "cell_type": "code",
   "execution_count": 3,
   "metadata": {},
   "outputs": [
    {
     "data": {
      "text/plain": [
       "ReflectivityDataLoader()"
      ]
     },
     "execution_count": 3,
     "metadata": {},
     "output_type": "execute_result"
    }
   ],
   "source": [
    "trainer.loader"
   ]
  },
  {
   "cell_type": "markdown",
   "metadata": {
    "tags": []
   },
   "source": [
    "The trainer contains several important attributes we can inspect:"
   ]
  },
  {
   "cell_type": "markdown",
   "metadata": {},
   "source": [
    "  1. The Pytorch optimizer. We can observe that the optimizer specified in the configuration is `AdamW`:"
   ]
  },
  {
   "cell_type": "code",
   "execution_count": 4,
   "metadata": {
    "tags": []
   },
   "outputs": [
    {
     "data": {
      "text/plain": [
       "AdamW (\n",
       "Parameter Group 0\n",
       "    amsgrad: False\n",
       "    betas: [0.9, 0.999]\n",
       "    capturable: False\n",
       "    differentiable: False\n",
       "    eps: 1e-08\n",
       "    foreach: None\n",
       "    fused: None\n",
       "    lr: 0.001\n",
       "    maximize: False\n",
       "    weight_decay: 0.0005\n",
       ")"
      ]
     },
     "execution_count": 4,
     "metadata": {},
     "output_type": "execute_result"
    }
   ],
   "source": [
    "trainer.optim"
   ]
  },
  {
   "cell_type": "markdown",
   "metadata": {
    "tags": []
   },
   "source": [
    ":::{note}\n",
    "The learning rate can be easily changed using `trainer.set_lr(new_lr)`\n",
    ":::"
   ]
  },
  {
   "cell_type": "markdown",
   "metadata": {
    "tags": []
   },
   "source": [
    "  2. The batch size"
   ]
  },
  {
   "cell_type": "code",
   "execution_count": 5,
   "metadata": {
    "tags": []
   },
   "outputs": [
    {
     "data": {
      "text/plain": [
       "4096"
      ]
     },
     "execution_count": 5,
     "metadata": {},
     "output_type": "execute_result"
    }
   ],
   "source": [
    "trainer.batch_size"
   ]
  },
  {
   "cell_type": "markdown",
   "metadata": {},
   "source": [
    "  3. The Pytorch neural network module. We can see that the network is an instance of the class `NetworkWithPriors`. This architecture consists of a multilayer perceptron (MLP) with residual connections, batch normalization layers and GELU activations (`trainer.model.mlp`). An embedding network, here a 1D CNN (`trainer.model.embedding_net`), produces a latent embedding of the input batch of reflectivity curves which is concatenated with the prior bounds for the thin film parameters."
   ]
  },
  {
   "cell_type": "code",
   "execution_count": 6,
   "metadata": {
    "tags": [
     "scroll-output"
    ]
   },
   "outputs": [
    {
     "data": {
      "text/plain": [
       "NetworkWithPriorsConvEmb(\n",
       "  (embedding_net): ConvEncoder(\n",
       "    (core): Sequential(\n",
       "      (0): Sequential(\n",
       "        (0): Conv1d(1, 32, kernel_size=(3,), stride=(2,), padding=(1,))\n",
       "        (1): BatchNorm1d(32, eps=1e-05, momentum=0.1, affine=True, track_running_stats=True)\n",
       "        (2): GELU(approximate='none')\n",
       "      )\n",
       "      (1): Sequential(\n",
       "        (0): Conv1d(32, 64, kernel_size=(3,), stride=(2,), padding=(1,))\n",
       "        (1): BatchNorm1d(64, eps=1e-05, momentum=0.1, affine=True, track_running_stats=True)\n",
       "        (2): GELU(approximate='none')\n",
       "      )\n",
       "      (2): Sequential(\n",
       "        (0): Conv1d(64, 128, kernel_size=(3,), stride=(2,), padding=(1,))\n",
       "        (1): BatchNorm1d(128, eps=1e-05, momentum=0.1, affine=True, track_running_stats=True)\n",
       "        (2): GELU(approximate='none')\n",
       "      )\n",
       "      (3): Sequential(\n",
       "        (0): Conv1d(128, 256, kernel_size=(3,), stride=(2,), padding=(1,))\n",
       "        (1): BatchNorm1d(256, eps=1e-05, momentum=0.1, affine=True, track_running_stats=True)\n",
       "        (2): GELU(approximate='none')\n",
       "      )\n",
       "      (4): Sequential(\n",
       "        (0): Conv1d(256, 512, kernel_size=(3,), stride=(2,), padding=(1,))\n",
       "        (1): BatchNorm1d(512, eps=1e-05, momentum=0.1, affine=True, track_running_stats=True)\n",
       "        (2): GELU(approximate='none')\n",
       "      )\n",
       "      (5): Sequential(\n",
       "        (0): Conv1d(512, 1024, kernel_size=(3,), stride=(2,), padding=(1,))\n",
       "        (1): BatchNorm1d(1024, eps=1e-05, momentum=0.1, affine=True, track_running_stats=True)\n",
       "        (2): GELU(approximate='none')\n",
       "      )\n",
       "    )\n",
       "    (avpool): AdaptiveAvgPool1d(output_size=1)\n",
       "    (fc): Linear(in_features=1024, out_features=128, bias=True)\n",
       "  )\n",
       "  (mlp): ResidualMLP(\n",
       "    (first_layer): Linear(in_features=162, out_features=512, bias=True)\n",
       "    (blocks): ModuleList(\n",
       "      (0-11): 12 x ResidualBlock(\n",
       "        (activation): GELU(approximate='none')\n",
       "        (batch_norm_layers): ModuleList(\n",
       "          (0-1): 2 x BatchNorm1d(512, eps=0.001, momentum=0.1, affine=True, track_running_stats=True)\n",
       "        )\n",
       "        (linear_layers): ModuleList(\n",
       "          (0-1): 2 x Linear(in_features=512, out_features=512, bias=True)\n",
       "        )\n",
       "      )\n",
       "    )\n",
       "    (last_layer): Linear(in_features=512, out_features=17, bias=True)\n",
       "  )\n",
       ")"
      ]
     },
     "execution_count": 6,
     "metadata": {},
     "output_type": "execute_result"
    }
   ],
   "source": [
    "trainer.model"
   ]
  },
  {
   "cell_type": "code",
   "execution_count": 7,
   "metadata": {},
   "outputs": [],
   "source": [
    "simulated_data = trainer.loader.get_batch(batch_size=64)"
   ]
  },
  {
   "cell_type": "markdown",
   "metadata": {},
   "source": [
    "### Defining callbacks"
   ]
  },
  {
   "cell_type": "markdown",
   "metadata": {},
   "source": [
    "We can control the training process using callback objects, such as:"
   ]
  },
  {
   "cell_type": "markdown",
   "metadata": {},
   "source": [
    "  1. `JPlotLoss` - allows the interactive visualization of the loss curve when training inside a Jupyter Notebook, the `frequency` argument setting the refresh rate of the interactive widget"
   ]
  },
  {
   "cell_type": "markdown",
   "metadata": {},
   "source": [
    "  2. `StepLR` - implements a learning rate scheduler which decreases the learning rate in steps (after a number of iterations defined by `step_size` the learning rate is multiplied by the factor `gamma`). Other types of learning rate schedulers can alternatively be used, such as `CosineAnnealingWithWarmup`, `LogCyclicLR`, `OneCycleLR` or `ReduceLROnPlateau`."
   ]
  },
  {
   "cell_type": "markdown",
   "metadata": {},
   "source": [
    "  3. `SaveBestModel` - it enables the periodic saving of the weights of the neural network during training. After a number of iterations defined by the `freq` argument, the weights of the neural network are saved at the specified `path` if the current average loss (computed over the last `average` iterations) is lower than the loss for the previous save. The history of the losses and learning rate values is also saved."
   ]
  },
  {
   "cell_type": "markdown",
   "metadata": {},
   "source": [
    "When the package is installed in editable mode, the default save path is relative to the repository directory (defined by the global variable `SAVED_MODELS_DIR`). "
   ]
  },
  {
   "cell_type": "code",
   "execution_count": 13,
   "metadata": {
    "tags": []
   },
   "outputs": [
    {
     "name": "stdout",
     "output_type": "stream",
     "text": [
      "C:/Users/Owner/Desktop/cw/COMP60660/reflectorch/model_Test_v1.pt\n"
     ]
    }
   ],
   "source": [
    "save_model_name = 'model_' + config_name + '.pt'\n",
    "#save_path = str(SAVED_MODELS_DIR / save_model_name)\n",
    "save_path = 'C:/Users/Owner/Desktop/cw/COMP60660/reflectorch/'+save_model_name\n",
    "print(save_path)"
   ]
  },
  {
   "cell_type": "code",
   "execution_count": 3,
   "metadata": {},
   "outputs": [],
   "source": [
    "callbacks = reflectorch.get_callbacks_by_name(config_name)"
   ]
  },
  {
   "cell_type": "markdown",
   "metadata": {},
   "source": [
    "We group the callback objects together in a touple:"
   ]
  },
  {
   "cell_type": "code",
   "execution_count": null,
   "metadata": {
    "tags": []
   },
   "outputs": [],
   "source": [
    "callbacks = (\n",
    "    JPlotLoss(frequency=10), \n",
    "    StepLR(step_size=5000, gamma=0.5), \n",
    "    SaveBestModel(path=save_path, freq=100, average=10),\n",
    ")"
   ]
  },
  {
   "cell_type": "markdown",
   "metadata": {},
   "source": [
    ":::{note}\n",
    "The callbacks can also be initialized directly from the configuration file:\n",
    "`callbacks = get_callbacks_by_name(config_name)`\n",
    ":::"
   ]
  },
  {
   "cell_type": "markdown",
   "metadata": {},
   "source": [
    "### Run the training"
   ]
  },
  {
   "cell_type": "markdown",
   "metadata": {
    "tags": []
   },
   "source": [
    "The training process is initiated by calling the `train` method of the trainer. This method accepts as arguments the previously defined tuple of callbacks, as well as the number of iterations (batches). Notably, a new batch of data is generated at each iteration, the training taking place in a \"one-epoch regime\"."
   ]
  },
  {
   "cell_type": "markdown",
   "metadata": {},
   "source": [
    "```python\n",
    "trainer.train(num_batches=1000, callbacks=callbacks)\n",
    "```"
   ]
  },
  {
   "cell_type": "markdown",
   "metadata": {},
   "source": [
    "After training, the history of the losses and learning rates can be accessed via `trainer.losses` and `trainer.lrs`. We can also find them together with the model state_dict in the saved dictionary:"
   ]
  },
  {
   "cell_type": "code",
   "execution_count": 4,
   "metadata": {},
   "outputs": [
    {
     "name": "stderr",
     "output_type": "stream",
     "text": [
      "Loss = 2.10e-01: 100%|█████████████████████████████████| 3000/3000 [4:42:17<00:00,  5.65s/it, loss=0.2107, lr=3.13e-05]\n"
     ]
    }
   ],
   "source": [
    "trainer.train(num_batches=3000, callbacks=callbacks)"
   ]
  },
  {
   "cell_type": "code",
   "execution_count": 5,
   "metadata": {},
   "outputs": [],
   "source": [
    "from safetensors.torch import save_file\n",
    "\n",
    "torch.save(trainer.model.state_dict(), \"C:/Users/Owner/Desktop/cw/COMP60660/reflectorch/saved_models/Test_v1_model.pt\")\n",
    "save_file(trainer.model.state_dict(), \"C:/Users/Owner/Desktop/cw/COMP60660/reflectorch/saved_models/Test_v1_model.safetensors\")"
   ]
  },
  {
   "cell_type": "code",
   "execution_count": 6,
   "metadata": {},
   "outputs": [],
   "source": [
    "batch_size = 64\n",
    "simulated_data = trainer.loader.get_batch(batch_size=batch_size)"
   ]
  },
  {
   "cell_type": "code",
   "execution_count": 20,
   "metadata": {},
   "outputs": [
    {
     "name": "stdout",
     "output_type": "stream",
     "text": [
      "Model b_mc_point_xray_conv_standard_L2_InputQ loaded. Number of parameters: 5.02 M\n"
     ]
    },
    {
     "name": "stderr",
     "output_type": "stream",
     "text": [
      "Loss = 7.54e-02: 100%|███████████████████████████████████| 1000/1000 [03:44<00:00,  4.46it/s, loss=0.0750, lr=1.00e-03]\n"
     ]
    }
   ],
   "source": [
    "config_name = 'b_mc_point_xray_conv_standard_L2_InputQ'\n",
    "config_dir = \"./reflectorch/configs\"\n",
    "trainer = reflectorch.get_trainer_by_name(config_name,config_dir, load_weights=False)\n",
    "simulated_data = trainer.loader.get_batch(batch_size=64)\n",
    "callbacks = reflectorch.get_callbacks_by_name(config_name)\n",
    "trainer.train(num_batches=1000, callbacks=callbacks)"
   ]
  },
  {
   "cell_type": "code",
   "execution_count": 28,
   "metadata": {},
   "outputs": [
    {
     "name": "stdout",
     "output_type": "stream",
     "text": [
      "Model b_mc_point_xray_conv_standard_L2_InputQ loaded. Number of parameters: 5.02 M\n"
     ]
    }
   ],
   "source": [
    "config_name = 'b_mc_point_xray_conv_standard_L2_InputQ'\n",
    "config_dir = \"./reflectorch/configs\"\n",
    "trainer = reflectorch.get_trainer_by_name(config_name,config_dir, load_weights=False)\n",
    "callbacks = reflectorch.get_callbacks_by_name(config_name)\n",
    "simulated_data = trainer.loader.get_batch(batch_size=64)"
   ]
  },
  {
   "cell_type": "code",
   "execution_count": 33,
   "metadata": {},
   "outputs": [
    {
     "name": "stdout",
     "output_type": "stream",
     "text": [
      "torch.Size([64, 2])\n",
      "torch.Size([64, 3])\n",
      "torch.Size([64, 3])\n"
     ]
    }
   ],
   "source": [
    "print(simulated_data['params'].thicknesses.shape)\n",
    "print(simulated_data['params'].roughnesses.shape)\n",
    "print(simulated_data['params'].slds.shape)"
   ]
  },
  {
   "cell_type": "markdown",
   "metadata": {},
   "source": [
    "UIOWQHIUPDUIADHUIWDHUIAWDHUIWDHIUAWIDUHHWUIDHUIAWDUHAIWDIU\n"
   ]
  },
  {
   "cell_type": "code",
   "execution_count": 2,
   "metadata": {},
   "outputs": [
    {
     "name": "stdout",
     "output_type": "stream",
     "text": [
      "C:/Users/Owner/Desktop/cw/COMP60660/reflectorch/Training_data/Pt_Co_Ta_x2_ML_training_data_500k_pickle\n",
      "Index(['Sample_structure', 'Thicknesses (Å)', 'SLDs (Å-2)', 'Roughnesses (Å)',\n",
      "       'tth (deg)', 'Q (Å-1)', 'Intensity', 'Background'],\n",
      "      dtype='string')\n",
      "Sample_structure    Si1O2/[Ta(52.498842)/Co(8.285968)/Pt(95.427489)]2\n",
      "Thicknesses (Å)     [inf, 52.4988, 8.28597, 95.4275, 52.4988, 8.28...\n",
      "SLDs (Å-2)          [(2.2723742167812018e-05+2.9357827346307825e-0...\n",
      "Roughnesses (Å)     [23.476519431308986, 7.757601461578746, 3.5128...\n",
      "tth (deg)           [[0.0], [0.01335559265442404], [0.026711185308...\n",
      "Q (Å-1)             [[0.0], [0.0009506758886771876], [0.0019013517...\n",
      "Intensity           [[1.0000078276848876], [0.9975697109330335], [...\n",
      "Background                                                   0.000008\n",
      "Name: 0, dtype: object\n",
      "0.0\n",
      "60.0\n",
      "22.723742\n",
      "170.60991\n",
      "(499500, 21)\n",
      "0.0\n",
      "60.0\n",
      "22.723742\n",
      "156.77156\n",
      "(500, 21)\n"
     ]
    }
   ],
   "source": [
    "from load_training_data import load_scale_data\n",
    "\n",
    "training_data,testing_data = load_scale_data(r\"C:/Users/Owner/Desktop/cw/COMP60660/reflectorch/Training_data/Pt_Co_Ta_x2_ML_training_data_500k_pickle\"\n",
    "                                            ,train_split = 0.999)\n",
    "(curves, curves_scaled, params, params_scaled, q_values, q_values_scaled, num_layers,scaled_bounds, bounds) = training_data"
   ]
  },
  {
   "cell_type": "code",
   "execution_count": 3,
   "metadata": {},
   "outputs": [
    {
     "name": "stdout",
     "output_type": "stream",
     "text": [
      "torch.Size([499500, 600])\n",
      "torch.Size([499500, 21])\n",
      "(499500, 600)\n",
      "[-1.         -0.99665839 -0.99331678 -0.98997516 -0.98663355]\n",
      "[8.61381000e+01 2.91234000e+01 7.31671000e+00 8.61381000e+01\n",
      " 2.91234000e+01 7.31671000e+00 1.79602591e+01 1.14303105e+01\n",
      " 5.44438243e+00 2.10232581e+00 1.14303105e+01 5.44438243e+00\n",
      " 2.10232581e+00 2.27237415e+01 1.02221703e+02 6.41850891e+01\n",
      " 1.39996902e+02 1.02221703e+02 6.41850891e+01 1.39996902e+02\n",
      " 3.45716145e-06]\n"
     ]
    }
   ],
   "source": [
    "print(curves_scaled.shape)\n",
    "print(params_scaled.shape)\n",
    "print(q_values_scaled.shape)\n",
    "print(q_values_scaled[0][:5])\n",
    "print(params[0])"
   ]
  },
  {
   "cell_type": "code",
   "execution_count": 4,
   "metadata": {},
   "outputs": [],
   "source": [
    "import importlib\n",
    "\n",
    "from reflectorch.data_generation.InputPreMadeDataset import InputPreMadeDataset\n",
    "importlib.reload(reflectorch.data_generation.InputPreMadeDataset)\n",
    "dataset = InputPreMadeDataset(q_values_scaled,curves, curves_scaled, params, params_scaled,scaled_bounds)\n",
    "\n",
    "\n",
    "from reflectorch.ml.dataloaders import ReflectivityDataLoader\n",
    "from reflectorch.ml.basic_trainer import DataLoader\n",
    "#from reflectorch.ml.basic_trainer import _StackedTrainerCallbacks\n",
    "\n",
    "#dataloader = ReflectivityDataLoader(dataset, DataLoader)"
   ]
  },
  {
   "cell_type": "code",
   "execution_count": 16,
   "metadata": {},
   "outputs": [
    {
     "ename": "RuntimeError",
     "evalue": "CUDA error: device-side assert triggered\nCUDA kernel errors might be asynchronously reported at some other API call, so the stacktrace below might be incorrect.\nFor debugging consider passing CUDA_LAUNCH_BLOCKING=1\nCompile with `TORCH_USE_CUDA_DSA` to enable device-side assertions.\n",
     "output_type": "error",
     "traceback": [
      "\u001b[1;31m---------------------------------------------------------------------------\u001b[0m",
      "\u001b[1;31mRuntimeError\u001b[0m                              Traceback (most recent call last)",
      "Cell \u001b[1;32mIn[16], line 3\u001b[0m\n\u001b[0;32m      1\u001b[0m config_name \u001b[38;5;241m=\u001b[39m \u001b[38;5;124m'\u001b[39m\u001b[38;5;124mTest_v1\u001b[39m\u001b[38;5;124m'\u001b[39m\n\u001b[0;32m      2\u001b[0m config_dir \u001b[38;5;241m=\u001b[39m \u001b[38;5;124m\"\u001b[39m\u001b[38;5;124m./reflectorch/configs\u001b[39m\u001b[38;5;124m\"\u001b[39m\n\u001b[1;32m----> 3\u001b[0m trainer \u001b[38;5;241m=\u001b[39m \u001b[43mreflectorch\u001b[49m\u001b[38;5;241;43m.\u001b[39;49m\u001b[43mget_trainer_by_name\u001b[49m\u001b[43m(\u001b[49m\u001b[43mconfig_name\u001b[49m\u001b[43m,\u001b[49m\u001b[43mconfig_dir\u001b[49m\u001b[43m,\u001b[49m\u001b[43m \u001b[49m\u001b[43mload_weights\u001b[49m\u001b[38;5;241;43m=\u001b[39;49m\u001b[38;5;28;43;01mFalse\u001b[39;49;00m\u001b[43m)\u001b[49m\n\u001b[0;32m      4\u001b[0m trainer\n",
      "File \u001b[1;32mC:\\Users/Owner/Desktop/cw/COMP60660/reflectorch\\reflectorch\\runs\\utils.py:207\u001b[0m, in \u001b[0;36mget_trainer_by_name\u001b[1;34m(config_name, config_dir, model_path, load_weights, inference_device)\u001b[0m\n\u001b[0;32m    204\u001b[0m config[\u001b[38;5;124m'\u001b[39m\u001b[38;5;124mdset\u001b[39m\u001b[38;5;124m'\u001b[39m][\u001b[38;5;124m'\u001b[39m\u001b[38;5;124mprior_sampler\u001b[39m\u001b[38;5;124m'\u001b[39m][\u001b[38;5;124m'\u001b[39m\u001b[38;5;124mkwargs\u001b[39m\u001b[38;5;124m'\u001b[39m][\u001b[38;5;124m'\u001b[39m\u001b[38;5;124mdevice\u001b[39m\u001b[38;5;124m'\u001b[39m] \u001b[38;5;241m=\u001b[39m inference_device\n\u001b[0;32m    205\u001b[0m config[\u001b[38;5;124m'\u001b[39m\u001b[38;5;124mdset\u001b[39m\u001b[38;5;124m'\u001b[39m][\u001b[38;5;124m'\u001b[39m\u001b[38;5;124mq_generator\u001b[39m\u001b[38;5;124m'\u001b[39m][\u001b[38;5;124m'\u001b[39m\u001b[38;5;124mkwargs\u001b[39m\u001b[38;5;124m'\u001b[39m][\u001b[38;5;124m'\u001b[39m\u001b[38;5;124mdevice\u001b[39m\u001b[38;5;124m'\u001b[39m] \u001b[38;5;241m=\u001b[39m inference_device\n\u001b[1;32m--> 207\u001b[0m trainer \u001b[38;5;241m=\u001b[39m \u001b[43mget_trainer_from_config\u001b[49m\u001b[43m(\u001b[49m\u001b[43mconfig\u001b[49m\u001b[43m)\u001b[49m\n\u001b[0;32m    209\u001b[0m num_params \u001b[38;5;241m=\u001b[39m \u001b[38;5;28msum\u001b[39m(p\u001b[38;5;241m.\u001b[39mnumel() \u001b[38;5;28;01mfor\u001b[39;00m p \u001b[38;5;129;01min\u001b[39;00m trainer\u001b[38;5;241m.\u001b[39mmodel\u001b[38;5;241m.\u001b[39mparameters())\n\u001b[0;32m    211\u001b[0m \u001b[38;5;28mprint\u001b[39m(\n\u001b[0;32m    212\u001b[0m     \u001b[38;5;124mf\u001b[39m\u001b[38;5;124m'\u001b[39m\u001b[38;5;124mModel \u001b[39m\u001b[38;5;132;01m{\u001b[39;00mconfig_name\u001b[38;5;132;01m}\u001b[39;00m\u001b[38;5;124m loaded. Number of parameters: \u001b[39m\u001b[38;5;132;01m{\u001b[39;00mnum_params\u001b[38;5;250m \u001b[39m\u001b[38;5;241m/\u001b[39m\u001b[38;5;250m \u001b[39m\u001b[38;5;241m10\u001b[39m\u001b[38;5;250m \u001b[39m\u001b[38;5;241m*\u001b[39m\u001b[38;5;241m*\u001b[39m\u001b[38;5;250m \u001b[39m\u001b[38;5;241m6\u001b[39m\u001b[38;5;132;01m:\u001b[39;00m\u001b[38;5;124m.2f\u001b[39m\u001b[38;5;132;01m}\u001b[39;00m\u001b[38;5;124m M\u001b[39m\u001b[38;5;124m'\u001b[39m,\n\u001b[0;32m    213\u001b[0m )\n",
      "File \u001b[1;32mC:\\Users/Owner/Desktop/cw/COMP60660/reflectorch\\reflectorch\\runs\\utils.py:155\u001b[0m, in \u001b[0;36mget_trainer_from_config\u001b[1;34m(config, folder_paths)\u001b[0m\n\u001b[0;32m    145\u001b[0m \u001b[38;5;28;01mdef\u001b[39;00m \u001b[38;5;21mget_trainer_from_config\u001b[39m(config: \u001b[38;5;28mdict\u001b[39m, folder_paths: \u001b[38;5;28mdict\u001b[39m \u001b[38;5;241m=\u001b[39m \u001b[38;5;28;01mNone\u001b[39;00m):\n\u001b[0;32m    146\u001b[0m \u001b[38;5;250m    \u001b[39m\u001b[38;5;124;03m\"\"\"Initializes a trainer from a configuration dictionary\u001b[39;00m\n\u001b[0;32m    147\u001b[0m \n\u001b[0;32m    148\u001b[0m \u001b[38;5;124;03m    Args:\u001b[39;00m\n\u001b[1;32m   (...)\u001b[0m\n\u001b[0;32m    153\u001b[0m \u001b[38;5;124;03m        Trainer: the trainer object\u001b[39;00m\n\u001b[0;32m    154\u001b[0m \u001b[38;5;124;03m    \"\"\"\u001b[39;00m\n\u001b[1;32m--> 155\u001b[0m     dset \u001b[38;5;241m=\u001b[39m \u001b[43minit_dset\u001b[49m\u001b[43m(\u001b[49m\u001b[43mconfig\u001b[49m\u001b[43m[\u001b[49m\u001b[38;5;124;43m'\u001b[39;49m\u001b[38;5;124;43mdset\u001b[39;49m\u001b[38;5;124;43m'\u001b[39;49m\u001b[43m]\u001b[49m\u001b[43m)\u001b[49m\n\u001b[0;32m    157\u001b[0m     folder_paths \u001b[38;5;241m=\u001b[39m folder_paths \u001b[38;5;129;01mor\u001b[39;00m get_paths_from_config(config)\n\u001b[0;32m    159\u001b[0m     model \u001b[38;5;241m=\u001b[39m init_network(config[\u001b[38;5;124m'\u001b[39m\u001b[38;5;124mmodel\u001b[39m\u001b[38;5;124m'\u001b[39m][\u001b[38;5;124m'\u001b[39m\u001b[38;5;124mnetwork\u001b[39m\u001b[38;5;124m'\u001b[39m], folder_paths[\u001b[38;5;124m'\u001b[39m\u001b[38;5;124msaved_models\u001b[39m\u001b[38;5;124m'\u001b[39m])\n",
      "File \u001b[1;32mC:\\Users/Owner/Desktop/cw/COMP60660/reflectorch\\reflectorch\\runs\\utils.py:298\u001b[0m, in \u001b[0;36minit_dset\u001b[1;34m(config)\u001b[0m\n\u001b[0;32m    296\u001b[0m \u001b[38;5;250m\u001b[39m\u001b[38;5;124;03m\"\"\"Initializes the dataset / dataloader object\"\"\"\u001b[39;00m\n\u001b[0;32m    297\u001b[0m dset_cls \u001b[38;5;241m=\u001b[39m \u001b[38;5;28mglobals\u001b[39m()\u001b[38;5;241m.\u001b[39mget(config[\u001b[38;5;124m'\u001b[39m\u001b[38;5;124mcls\u001b[39m\u001b[38;5;124m'\u001b[39m]) \u001b[38;5;28;01mif\u001b[39;00m \u001b[38;5;124m'\u001b[39m\u001b[38;5;124mcls\u001b[39m\u001b[38;5;124m'\u001b[39m \u001b[38;5;129;01min\u001b[39;00m config \u001b[38;5;28;01melse\u001b[39;00m ReflectivityDataLoader\n\u001b[1;32m--> 298\u001b[0m prior_sampler \u001b[38;5;241m=\u001b[39m \u001b[43minit_from_conf\u001b[49m\u001b[43m(\u001b[49m\u001b[43mconfig\u001b[49m\u001b[43m[\u001b[49m\u001b[38;5;124;43m'\u001b[39;49m\u001b[38;5;124;43mprior_sampler\u001b[39;49m\u001b[38;5;124;43m'\u001b[39;49m\u001b[43m]\u001b[49m\u001b[43m)\u001b[49m\n\u001b[0;32m    299\u001b[0m intensity_noise \u001b[38;5;241m=\u001b[39m init_from_conf(config[\u001b[38;5;124m'\u001b[39m\u001b[38;5;124mintensity_noise\u001b[39m\u001b[38;5;124m'\u001b[39m])\n\u001b[0;32m    300\u001b[0m q_generator \u001b[38;5;241m=\u001b[39m init_from_conf(config[\u001b[38;5;124m'\u001b[39m\u001b[38;5;124mq_generator\u001b[39m\u001b[38;5;124m'\u001b[39m])\n",
      "File \u001b[1;32mC:\\Users/Owner/Desktop/cw/COMP60660/reflectorch\\reflectorch\\runs\\utils.py:44\u001b[0m, in \u001b[0;36minit_from_conf\u001b[1;34m(conf, **kwargs)\u001b[0m\n\u001b[0;32m     42\u001b[0m conf_kwargs \u001b[38;5;241m=\u001b[39m conf\u001b[38;5;241m.\u001b[39mget(\u001b[38;5;124m'\u001b[39m\u001b[38;5;124mkwargs\u001b[39m\u001b[38;5;124m'\u001b[39m, {})\n\u001b[0;32m     43\u001b[0m conf_kwargs\u001b[38;5;241m.\u001b[39mupdate(kwargs)\n\u001b[1;32m---> 44\u001b[0m \u001b[38;5;28;01mreturn\u001b[39;00m \u001b[38;5;28;43mcls\u001b[39;49m\u001b[43m(\u001b[49m\u001b[38;5;241;43m*\u001b[39;49m\u001b[43mconf_args\u001b[49m\u001b[43m,\u001b[49m\u001b[43m \u001b[49m\u001b[38;5;241;43m*\u001b[39;49m\u001b[38;5;241;43m*\u001b[39;49m\u001b[43mconf_kwargs\u001b[49m\u001b[43m)\u001b[49m\n",
      "File \u001b[1;32mC:\\Users/Owner/Desktop/cw/COMP60660/reflectorch\\reflectorch\\data_generation\\priors\\parametric_subpriors.py:238\u001b[0m, in \u001b[0;36mSubpriorParametricSampler.__init__\u001b[1;34m(self, param_ranges, bound_width_ranges, model_name, device, dtype, max_num_layers, logdist, scale_params_by_ranges, scaled_range, **kwargs)\u001b[0m\n\u001b[0;32m    235\u001b[0m \u001b[38;5;28mself\u001b[39m\u001b[38;5;241m.\u001b[39mPARAM_CLS\u001b[38;5;241m.\u001b[39mMAX_NUM_LAYERS \u001b[38;5;241m=\u001b[39m max_num_layers\n\u001b[0;32m    237\u001b[0m \u001b[38;5;28mself\u001b[39m\u001b[38;5;241m.\u001b[39m_param_dim \u001b[38;5;241m=\u001b[39m \u001b[38;5;28mself\u001b[39m\u001b[38;5;241m.\u001b[39mparam_model\u001b[38;5;241m.\u001b[39mparam_dim\n\u001b[1;32m--> 238\u001b[0m \u001b[38;5;28mself\u001b[39m\u001b[38;5;241m.\u001b[39mmin_bounds, \u001b[38;5;28mself\u001b[39m\u001b[38;5;241m.\u001b[39mmax_bounds, \u001b[38;5;28mself\u001b[39m\u001b[38;5;241m.\u001b[39mmin_delta, \u001b[38;5;28mself\u001b[39m\u001b[38;5;241m.\u001b[39mmax_delta \u001b[38;5;241m=\u001b[39m \u001b[38;5;28;43mself\u001b[39;49m\u001b[38;5;241;43m.\u001b[39;49m\u001b[43mparam_model\u001b[49m\u001b[38;5;241;43m.\u001b[39;49m\u001b[43minit_bounds\u001b[49m\u001b[43m(\u001b[49m\n\u001b[0;32m    239\u001b[0m \u001b[43m    \u001b[49m\u001b[43mparam_ranges\u001b[49m\u001b[43m,\u001b[49m\u001b[43m \u001b[49m\u001b[43mbound_width_ranges\u001b[49m\u001b[43m,\u001b[49m\u001b[43m \u001b[49m\u001b[43mdevice\u001b[49m\u001b[38;5;241;43m=\u001b[39;49m\u001b[43mdevice\u001b[49m\u001b[43m,\u001b[49m\u001b[43m \u001b[49m\u001b[43mdtype\u001b[49m\u001b[38;5;241;43m=\u001b[39;49m\u001b[43mdtype\u001b[49m\n\u001b[0;32m    240\u001b[0m \u001b[43m\u001b[49m\u001b[43m)\u001b[49m\n\u001b[0;32m    242\u001b[0m \u001b[38;5;28mself\u001b[39m\u001b[38;5;241m.\u001b[39mparam_ranges \u001b[38;5;241m=\u001b[39m param_ranges\n\u001b[0;32m    243\u001b[0m \u001b[38;5;28mself\u001b[39m\u001b[38;5;241m.\u001b[39mbound_width_ranges \u001b[38;5;241m=\u001b[39m bound_width_ranges\n",
      "File \u001b[1;32mC:\\Users/Owner/Desktop/cw/COMP60660/reflectorch\\reflectorch\\data_generation\\priors\\parametric_models.py:103\u001b[0m, in \u001b[0;36mParametricModel.init_bounds\u001b[1;34m(self, param_ranges, bound_width_ranges, device, dtype)\u001b[0m\n\u001b[0;32m    100\u001b[0m ordered_bounds \u001b[38;5;241m=\u001b[39m [param_ranges[k] \u001b[38;5;28;01mfor\u001b[39;00m k \u001b[38;5;129;01min\u001b[39;00m \u001b[38;5;28mself\u001b[39m\u001b[38;5;241m.\u001b[39mPARAMETER_NAMES]\n\u001b[0;32m    101\u001b[0m delta_bounds \u001b[38;5;241m=\u001b[39m [bound_width_ranges[k] \u001b[38;5;28;01mfor\u001b[39;00m k \u001b[38;5;129;01min\u001b[39;00m \u001b[38;5;28mself\u001b[39m\u001b[38;5;241m.\u001b[39mPARAMETER_NAMES]\n\u001b[1;32m--> 103\u001b[0m min_bounds, max_bounds \u001b[38;5;241m=\u001b[39m \u001b[43mtorch\u001b[49m\u001b[38;5;241;43m.\u001b[39;49m\u001b[43mtensor\u001b[49m\u001b[43m(\u001b[49m\u001b[43mordered_bounds\u001b[49m\u001b[43m,\u001b[49m\u001b[43m \u001b[49m\u001b[43mdevice\u001b[49m\u001b[38;5;241;43m=\u001b[39;49m\u001b[43mdevice\u001b[49m\u001b[43m,\u001b[49m\u001b[43m \u001b[49m\u001b[43mdtype\u001b[49m\u001b[38;5;241;43m=\u001b[39;49m\u001b[43mdtype\u001b[49m\u001b[43m)\u001b[49m\u001b[38;5;241m.\u001b[39mT[:, \u001b[38;5;28;01mNone\u001b[39;00m]\n\u001b[0;32m    104\u001b[0m min_deltas, max_deltas \u001b[38;5;241m=\u001b[39m torch\u001b[38;5;241m.\u001b[39mtensor(delta_bounds, device\u001b[38;5;241m=\u001b[39mdevice, dtype\u001b[38;5;241m=\u001b[39mdtype)\u001b[38;5;241m.\u001b[39mT[:, \u001b[38;5;28;01mNone\u001b[39;00m]\n\u001b[0;32m    106\u001b[0m \u001b[38;5;28;01mreturn\u001b[39;00m min_bounds, max_bounds, min_deltas, max_deltas\n",
      "\u001b[1;31mRuntimeError\u001b[0m: CUDA error: device-side assert triggered\nCUDA kernel errors might be asynchronously reported at some other API call, so the stacktrace below might be incorrect.\nFor debugging consider passing CUDA_LAUNCH_BLOCKING=1\nCompile with `TORCH_USE_CUDA_DSA` to enable device-side assertions.\n"
     ]
    }
   ],
   "source": [
    "config_name = 'Test_v1'\n",
    "config_dir = \"./reflectorch/configs\"\n",
    "trainer = reflectorch.get_trainer_by_name(config_name,config_dir, load_weights=False)\n",
    "trainer"
   ]
  },
  {
   "cell_type": "code",
   "execution_count": 7,
   "metadata": {},
   "outputs": [
    {
     "name": "stdout",
     "output_type": "stream",
     "text": [
      "Model successfully built on cuda:\n",
      "NetworkWithPriors(\n",
      "  (embedding_net): ConvEncoder(\n",
      "    (core): Sequential(\n",
      "      (0): Sequential(\n",
      "        (0): Conv1d(2, 32, kernel_size=(3,), stride=(2,), padding=(1,))\n",
      "        (1): BatchNorm1d(32, eps=1e-05, momentum=0.1, affine=True, track_running_stats=True)\n",
      "        (2): GELU(approximate='none')\n",
      "      )\n",
      "      (1): Sequential(\n",
      "        (0): Conv1d(32, 64, kernel_size=(3,), stride=(2,), padding=(1,))\n",
      "        (1): BatchNorm1d(64, eps=1e-05, momentum=0.1, affine=True, track_running_stats=True)\n",
      "        (2): GELU(approximate='none')\n",
      "      )\n",
      "      (2): Sequential(\n",
      "        (0): Conv1d(64, 128, kernel_size=(3,), stride=(2,), padding=(1,))\n",
      "        (1): BatchNorm1d(128, eps=1e-05, momentum=0.1, affine=True, track_running_stats=True)\n",
      "        (2): GELU(approximate='none')\n",
      "      )\n",
      "      (3): Sequential(\n",
      "        (0): Conv1d(128, 256, kernel_size=(3,), stride=(2,), padding=(1,))\n",
      "        (1): BatchNorm1d(256, eps=1e-05, momentum=0.1, affine=True, track_running_stats=True)\n",
      "        (2): GELU(approximate='none')\n",
      "      )\n",
      "      (4): Sequential(\n",
      "        (0): Conv1d(256, 512, kernel_size=(3,), stride=(2,), padding=(1,))\n",
      "        (1): BatchNorm1d(512, eps=1e-05, momentum=0.1, affine=True, track_running_stats=True)\n",
      "        (2): GELU(approximate='none')\n",
      "      )\n",
      "    )\n",
      "    (avpool): AdaptiveAvgPool1d(output_size=1)\n",
      "    (fc): Linear(in_features=512, out_features=128, bias=True)\n",
      "  )\n",
      "  (mlp): ResidualMLP(\n",
      "    (first_layer): Linear(in_features=128, out_features=512, bias=True)\n",
      "    (blocks): ModuleList(\n",
      "      (0-7): 8 x ResidualBlock(\n",
      "        (activation): GELU(approximate='none')\n",
      "        (batch_norm_layers): ModuleList(\n",
      "          (0-1): 2 x BatchNorm1d(512, eps=0.001, momentum=0.1, affine=True, track_running_stats=True)\n",
      "        )\n",
      "        (condition_layer): Linear(in_features=42, out_features=1024, bias=True)\n",
      "        (linear_layers): ModuleList(\n",
      "          (0-1): 2 x Linear(in_features=512, out_features=512, bias=True)\n",
      "        )\n",
      "      )\n",
      "    )\n",
      "    (last_layer): Linear(in_features=512, out_features=21, bias=True)\n",
      "  )\n",
      ")\n"
     ]
    }
   ],
   "source": [
    "import torch\n",
    "from reflectorch.models.networks.mlp_networks import NetworkWithPriors\n",
    "\n",
    "model_cfg = {\n",
    "    \"cls\": \"NetworkWithPriors\",\n",
    "    \"device\": \"cuda\",\n",
    "    \"kwargs\": {\n",
    "        \"embedding_net_type\": \"conv\",\n",
    "        \"embedding_net_kwargs\": {\n",
    "            \"in_channels\": 2,\n",
    "            \"hidden_channels\": [32, 64, 128, 256, 512],\n",
    "            \"kernel_size\": 3,\n",
    "            \"dim_embedding\": 128,\n",
    "            \"dim_avpool\": 1,\n",
    "            \"use_batch_norm\": True,\n",
    "            \"use_se\": False,\n",
    "            \"activation\": \"gelu\",\n",
    "        },\n",
    "        \"pretrained_embedding_net\": None,\n",
    "        \"dim_out\": params_scaled.shape[1],\n",
    "        \"dim_conditioning_params\": 0,\n",
    "        \"layer_width\": 512,\n",
    "        \"num_blocks\": 8,\n",
    "        \"repeats_per_block\": 2,\n",
    "        \"residual\": True,\n",
    "        \"use_batch_norm\": True,\n",
    "        \"use_layer_norm\": False,\n",
    "        \"mlp_activation\": \"gelu\",\n",
    "        \"dropout_rate\": 0.0,\n",
    "        \"tanh_output\": False,\n",
    "        \"conditioning\": \"film\",\n",
    "        \"concat_condition_first_layer\": False,\n",
    "    }\n",
    "}\n",
    "\n",
    "# instantiate\n",
    "device = torch.device(model_cfg[\"device\"])\n",
    "net_kwargs = model_cfg[\"kwargs\"]\n",
    "\n",
    "test_model = NetworkWithPriors(\n",
    "    embedding_net_type         = net_kwargs[\"embedding_net_type\"],\n",
    "    embedding_net_kwargs       = net_kwargs[\"embedding_net_kwargs\"],\n",
    "    pretrained_embedding_net   = net_kwargs[\"pretrained_embedding_net\"],\n",
    "    dim_out                    = net_kwargs[\"dim_out\"],\n",
    "    dim_conditioning_params    = net_kwargs[\"dim_conditioning_params\"],\n",
    "    layer_width                = net_kwargs[\"layer_width\"],\n",
    "    num_blocks                 = net_kwargs[\"num_blocks\"],\n",
    "    repeats_per_block          = net_kwargs[\"repeats_per_block\"],\n",
    "    mlp_activation             = net_kwargs[\"mlp_activation\"],\n",
    "    use_batch_norm             = net_kwargs[\"use_batch_norm\"],\n",
    "    use_layer_norm             = net_kwargs[\"use_layer_norm\"],\n",
    "    dropout_rate               = net_kwargs[\"dropout_rate\"],\n",
    "    tanh_output                = net_kwargs[\"tanh_output\"],\n",
    "    residual                   = net_kwargs[\"residual\"],\n",
    "    adaptive_activation        = False,\n",
    "    conditioning                = net_kwargs[\"conditioning\"],\n",
    "    concat_condition_first_layer = net_kwargs[\"concat_condition_first_layer\"],\n",
    ").to(device)\n",
    "\n",
    "print(f\"Model successfully built on {device}:\")\n",
    "print(test_model)\n",
    "\n"
   ]
  },
  {
   "cell_type": "code",
   "execution_count": null,
   "metadata": {},
   "outputs": [
    {
     "ename": "NameError",
     "evalue": "name 'trainer' is not defined",
     "output_type": "error",
     "traceback": [
      "\u001b[1;31m---------------------------------------------------------------------------\u001b[0m",
      "\u001b[1;31mNameError\u001b[0m                                 Traceback (most recent call last)",
      "Cell \u001b[1;32mIn[6], line 1\u001b[0m\n\u001b[1;32m----> 1\u001b[0m test_model \u001b[38;5;241m=\u001b[39m \u001b[43mtrainer\u001b[49m\u001b[38;5;241m.\u001b[39mmodel\n\u001b[0;32m      2\u001b[0m \u001b[38;5;28mprint\u001b[39m(test_model)\n",
      "\u001b[1;31mNameError\u001b[0m: name 'trainer' is not defined"
     ]
    }
   ],
   "source": [
    "test_model\n",
    "print(test_model)"
   ]
  },
  {
   "cell_type": "code",
   "execution_count": 27,
   "metadata": {},
   "outputs": [],
   "source": [
    "import importlib\n",
    "from reflectorch.ml.RealDataTrainer import RealDataTrainer\n",
    "from torch.optim import AdamW\n",
    "from reflectorch.ml  import StepLR\n",
    "from reflectorch.ml import SaveBestModel\n",
    "\n",
    "importlib.reload(reflectorch.ml.RealDataTrainer)\n",
    "\n",
    "customtrainer = RealDataTrainer(\n",
    "    model=test_model,\n",
    "    loader=dataset,\n",
    "    lr=1.0e-4,\n",
    "    batch_size=2048,\n",
    "    optim_cls=AdamW,\n",
    "    optim_kwargs={\"weight_decay\": 0.0005}\n",
    ")\n",
    "\n",
    "save_path = \"C:/Users/Owner/Desktop/cw/COMP60660/reflectorch/saved_models/model_custom_data_3_repeat_2.pt\"\n",
    "callbacks = (\n",
    "    StepLR(step_size=600, gamma=0.5), \n",
    "    SaveBestModel(path=save_path, freq=100),\n",
    ")"
   ]
  },
  {
   "cell_type": "code",
   "execution_count": 28,
   "metadata": {},
   "outputs": [
    {
     "name": "stderr",
     "output_type": "stream",
     "text": [
      "Loss = 1.98e-03: 100%|███████████████████████████████████| 2000/2000 [01:23<00:00, 24.00it/s, loss=0.0020, lr=1.25e-05]\n"
     ]
    }
   ],
   "source": [
    "customtrainer.train(num_batches=2000, callbacks = callbacks)"
   ]
  },
  {
   "cell_type": "code",
   "execution_count": 10,
   "metadata": {},
   "outputs": [],
   "source": [
    "torch.save(test_model.state_dict(), \"model_custom_data_3_repeat_2.pt\")"
   ]
  },
  {
   "cell_type": "code",
   "execution_count": 81,
   "metadata": {},
   "outputs": [
    {
     "name": "stdout",
     "output_type": "stream",
     "text": [
      "BasicParams(batch_size=64, max_layer_num=18, device=cuda:0)\n"
     ]
    }
   ],
   "source": [
    "batch_size = 64\n",
    "\n",
    "simulated_data = trainer.loader.get_batch(batch_size=batch_size)\n",
    "print(simulated_data['params'])"
   ]
  },
  {
   "cell_type": "code",
   "execution_count": 62,
   "metadata": {},
   "outputs": [
    {
     "ename": "KeyError",
     "evalue": "'curves'",
     "output_type": "error",
     "traceback": [
      "\u001b[1;31m---------------------------------------------------------------------------\u001b[0m",
      "\u001b[1;31mKeyError\u001b[0m                                  Traceback (most recent call last)",
      "Cell \u001b[1;32mIn[62], line 4\u001b[0m\n\u001b[0;32m      1\u001b[0m q \u001b[38;5;241m=\u001b[39m simulated_data[\u001b[38;5;124m'\u001b[39m\u001b[38;5;124mq_values\u001b[39m\u001b[38;5;124m'\u001b[39m]\n\u001b[0;32m      2\u001b[0m \u001b[38;5;66;03m#scaled_noisy_curves = simulated_data['scaled_noisy_curves']\u001b[39;00m\n\u001b[0;32m      3\u001b[0m \u001b[38;5;66;03m#unscaled_noisy_curves = trainer.loader.curves_scaler.restore(scaled_noisy_curves)\u001b[39;00m\n\u001b[1;32m----> 4\u001b[0m unscaled_denoised_curve \u001b[38;5;241m=\u001b[39m \u001b[43msimulated_data\u001b[49m\u001b[43m[\u001b[49m\u001b[38;5;124;43m'\u001b[39;49m\u001b[38;5;124;43mcurves\u001b[39;49m\u001b[38;5;124;43m'\u001b[39;49m\u001b[43m]\u001b[49m\n\u001b[0;32m      6\u001b[0m \u001b[38;5;28;01mdef\u001b[39;00m \u001b[38;5;21mplot_refl_curve\u001b[39m(i\u001b[38;5;241m=\u001b[39m\u001b[38;5;241m0\u001b[39m):\n\u001b[0;32m      7\u001b[0m     fig, ax \u001b[38;5;241m=\u001b[39m plt\u001b[38;5;241m.\u001b[39msubplots(\u001b[38;5;241m1\u001b[39m,\u001b[38;5;241m1\u001b[39m,figsize\u001b[38;5;241m=\u001b[39m(\u001b[38;5;241m6\u001b[39m,\u001b[38;5;241m6\u001b[39m))\n",
      "\u001b[1;31mKeyError\u001b[0m: 'curves'"
     ]
    }
   ],
   "source": [
    "q = simulated_data['q_values']\n",
    "#scaled_noisy_curves = simulated_data['scaled_noisy_curves']\n",
    "#unscaled_noisy_curves = trainer.loader.curves_scaler.restore(scaled_noisy_curves)\n",
    "unscaled_denoised_curve = simulated_data['curves']\n",
    "\n",
    "def plot_refl_curve(i=0):\n",
    "    fig, ax = plt.subplots(1,1,figsize=(6,6))\n",
    "\n",
    "    ax.set_yscale('log')\n",
    "    ax.set_ylim(0.5e-10, 5)\n",
    "\n",
    "    ax.set_xlabel('q [$Å^{-1}$]', fontsize=20)\n",
    "    ax.set_ylabel('R(q)', fontsize=20)\n",
    "\n",
    "    ax.tick_params(axis='both', which='major', labelsize=15)\n",
    "    ax.tick_params(axis='both', which='minor', labelsize=15)\n",
    "    \n",
    "    y_tick_locations = [10**(-2*i) for i in range(6)]\n",
    "    ax.yaxis.set_major_locator(plt.FixedLocator(y_tick_locations))\n",
    "        \n",
    "    #ax.scatter(q[i].cpu().numpy(), unscaled_noisy_curves[i].cpu().numpy() + 1e-10, c='b', s=2, label='simulated curve')\n",
    "    ax.plot(q[i].cpu().numpy(), unscaled_denoised_curve[i].cpu().numpy() + 1e-10, c='g', lw=1, label='theoretical curve')\n",
    "\n",
    "    ax.legend(loc='upper right', fontsize=14)\n",
    "\n",
    "plot_refl_curve(i=0)"
   ]
  },
  {
   "cell_type": "code",
   "execution_count": 63,
   "metadata": {},
   "outputs": [
    {
     "name": "stdout",
     "output_type": "stream",
     "text": [
      "Number of layers: 18,  Number of film parameters: 17\n"
     ]
    }
   ],
   "source": [
    "n_layers = simulated_data['params'].max_layer_num\n",
    "n_params = simulated_data['params'].num_params\n",
    "\n",
    "print(f'Number of layers: {n_layers},  Number of film parameters: {n_params}')"
   ]
  },
  {
   "cell_type": "code",
   "execution_count": 25,
   "metadata": {},
   "outputs": [
    {
     "name": "stdout",
     "output_type": "stream",
     "text": [
      "tensor([-0.8465, -0.8393, -0.5448, -0.9407, -0.4826,  0.4506,  0.2021,  0.7177,\n",
      "         0.9711,  0.6466,  0.1623,  0.4544, -0.2963,  0.4934,  0.2604,  0.7315],\n",
      "       device='cuda:0', dtype=torch.float64)\n",
      "torch.Size([64, 24])\n"
     ]
    }
   ],
   "source": [
    "scaled_bounds = simulated_data['scaled_params'][..., n_params:]\n",
    "q_values = simulated_data[\"q_values\"]\n",
    "\n",
    "print(scaled_bounds[0])\n",
    "print(simulated_data['scaled_params'].shape)"
   ]
  },
  {
   "cell_type": "code",
   "execution_count": 29,
   "metadata": {},
   "outputs": [
    {
     "name": "stdout",
     "output_type": "stream",
     "text": [
      "torch.float32\n",
      "torch.Size([500, 21])\n"
     ]
    }
   ],
   "source": [
    "(testing_curves, testing_curves_scaled, testing_params, testing_params_scaled, testing_q_values, testing_q_values_valued, testing_num_layers,testing_scaled_bounds, testing_bounds) = testing_data\n",
    "\n",
    "device = next(customtrainer.model.parameters()).device\n",
    "dtype  = next(customtrainer.model.parameters()).dtype\n",
    "print(dtype)\n",
    "\n",
    "if not isinstance(testing_curves_scaled, torch.Tensor):\n",
    "    eval_curves = torch.tensor(testing_curves_scaled)\n",
    "else:\n",
    "    eval_curves = testing_curves_scaled\n",
    "\n",
    "if not isinstance(testing_q_values_valued, torch.Tensor):\n",
    "    eval_q_values = torch.tensor(testing_q_values_valued)\n",
    "else:\n",
    "    eval_q_values = testing_q_values_valued\n",
    "\n",
    "if not isinstance(testing_scaled_bounds, torch.Tensor):\n",
    "    eval_bounds = torch.tensor(testing_scaled_bounds)\n",
    "else:\n",
    "    eval_bounds = testing_scaled_bounds\n",
    "\n",
    "\n",
    "eval_curves = eval_curves.to(device=device, dtype=dtype)\n",
    "eval_q_values = eval_q_values.to(device=device, dtype=dtype)\n",
    "eval_bounds = eval_bounds.to(device=device, dtype=dtype)\n",
    "\n",
    "with torch.no_grad():\n",
    "    customtrainer.model.eval()\n",
    "\n",
    "    scaled_predicted_params = customtrainer.model(\n",
    "    curves=eval_curves,\n",
    "    bounds=eval_bounds,\n",
    "    q_values = eval_q_values,\n",
    "    )\n",
    "\n",
    "    print(scaled_predicted_params.shape)\n",
    "\n"
   ]
  },
  {
   "cell_type": "code",
   "execution_count": 30,
   "metadata": {},
   "outputs": [
    {
     "name": "stdout",
     "output_type": "stream",
     "text": [
      "tensor([[-1.0000, -0.9967, -0.9933,  ...,  0.9933,  0.9967,  1.0000],\n",
      "        [-1.0000, -0.9967, -0.9933,  ...,  0.9933,  0.9967,  1.0000],\n",
      "        [-1.0000, -0.9967, -0.9933,  ...,  0.9933,  0.9967,  1.0000],\n",
      "        ...,\n",
      "        [-1.0000, -0.9967, -0.9933,  ...,  0.9933,  0.9967,  1.0000],\n",
      "        [-1.0000, -0.9967, -0.9933,  ...,  0.9933,  0.9967,  1.0000],\n",
      "        [-1.0000, -0.9967, -0.9933,  ...,  0.9933,  0.9967,  1.0000]],\n",
      "       device='cuda:0')\n",
      "tensor([-0.8987, -0.9331, -1.0000, -0.8825, -0.8892, -1.0000, -0.5013, -0.5719,\n",
      "        -0.4309, -1.0000, -0.5807, -0.4742, -1.0000, -1.0000, -0.0061, -0.5395,\n",
      "         0.4167, -0.0886, -0.5534,  0.4508, -1.0000, -0.4361, -0.4046, -0.6201,\n",
      "        -0.4523, -0.4485, -0.7335, -0.2581, -0.2855, -0.0382, -0.7279, -0.2767,\n",
      "         0.0052, -0.6927, -0.7941,  0.3584, -0.2209,  0.9054,  0.4409, -0.2070,\n",
      "         0.8713, -0.8600])\n",
      "tensor([-0.6803, -0.7249, -0.9976, -0.6706, -0.7244, -0.9997, -0.4821, -0.2409,\n",
      "        -1.0020, -0.9677, -0.2393, -1.0027, -0.9640, -0.9991,  0.1723, -0.4059,\n",
      "         0.6238,  0.1670, -0.4018,  0.6228, -0.8709], device='cuda:0')\n",
      "scaled min: -1.0 scaled max: 1.0\n"
     ]
    }
   ],
   "source": [
    "print(eval_q_values)\n",
    "print(testing_scaled_bounds[0])\n",
    "print(scaled_predicted_params[1])\n",
    "print(\"scaled min:\", testing_scaled_bounds.min().item(), \"scaled max:\", testing_scaled_bounds.max().item())\n"
   ]
  },
  {
   "cell_type": "code",
   "execution_count": 31,
   "metadata": {},
   "outputs": [],
   "source": [
    "def unscale_params(scaled, span, min_vals) -> torch.Tensor:\n",
    "\n",
    "    temp = ((scaled + 1.0) / 2.0) * span[None, :] + min_vals[None, :]\n",
    "    return temp\n",
    "\n",
    "span =testing_bounds[0].to(device)\n",
    "min_val =testing_bounds[1].to(device)\n",
    "restored_predictions = unscale_params(scaled_predicted_params,span,min_val)\n",
    "restored_predictions = torch.real(restored_predictions)\n",
    "\n"
   ]
  },
  {
   "cell_type": "code",
   "execution_count": 32,
   "metadata": {},
   "outputs": [
    {
     "name": "stdout",
     "output_type": "stream",
     "text": [
      "tensor([ 7.9935e+01,  6.8776e+01,  6.1238e-01,  8.2344e+01,  6.8911e+01,\n",
      "         6.4149e-02,  1.5538e+01,  2.2773e+01, -6.1004e-02,  9.6855e-01,\n",
      "         2.2820e+01, -7.9705e-02,  1.0803e+00,  2.2787e+01,  1.0129e+02,\n",
      "         6.2542e+01,  1.3156e+02,  1.0094e+02,  6.2818e+01,  1.3149e+02,\n",
      "         7.3927e-07], device='cuda:0')\n"
     ]
    }
   ],
   "source": [
    "print(restored_predictions[1])"
   ]
  },
  {
   "cell_type": "code",
   "execution_count": 33,
   "metadata": {},
   "outputs": [
    {
     "name": "stdout",
     "output_type": "stream",
     "text": [
      "Predicted thicknesses: tensor([[8.1909e+01, 8.2213e+01, 2.8020e+01, 8.3148e+01, 8.2410e+01, 2.9775e+01],\n",
      "        [7.9935e+01, 6.8776e+01, 6.1238e-01, 8.2344e+01, 6.8911e+01, 6.4149e-02],\n",
      "        [2.8298e+01, 2.2482e+01, 5.3845e+01, 2.5608e+01, 2.1547e+01, 5.3168e+01],\n",
      "        ...,\n",
      "        [4.4261e+01, 3.9605e+01, 8.4880e+01, 4.3740e+01, 4.0416e+01, 8.3698e+01],\n",
      "        [8.5606e+01, 6.6780e+01, 8.8766e+01, 8.8416e+01, 6.4498e+01, 8.8222e+01],\n",
      "        [1.2670e+01, 8.1182e+01, 6.2359e+01, 9.7216e+00, 8.3635e+01, 6.3604e+01]],\n",
      "       device='cuda:0')\n",
      "Predicted roughnesses: tensor([[18.5723, 17.3571, 22.9009,  ..., 17.4141, 22.9233,  2.8492],\n",
      "        [15.5385, 22.7732,  0.0000,  ..., 22.8197,  0.0000,  1.0803],\n",
      "        [ 5.2319,  6.6320,  5.0063,  ...,  6.8210,  5.0264, 15.5119],\n",
      "        ...,\n",
      "        [26.4398,  2.4051, 17.2825,  ...,  2.6413, 17.2715,  7.2275],\n",
      "        [ 4.4488, 20.8137, 22.4345,  ..., 20.9249, 22.2340, 21.2986],\n",
      "        [ 7.2245,  0.2293, 11.6628,  ...,  0.3947, 12.2127,  5.0031]],\n",
      "       device='cuda:0')\n",
      "Predicted layer SLDs: tensor([[ 22.6282, 101.7185,  64.2105,  ..., 101.5681,  64.0960, 134.0545],\n",
      "        [ 22.7872, 101.2934,  62.5415,  ..., 100.9425,  62.8176, 131.4920],\n",
      "        [ 22.5788, 115.0765,  61.4227,  ..., 114.9082,  61.5919, 136.5703],\n",
      "        ...,\n",
      "        [ 22.7516, 100.6301,  64.6863,  ..., 101.3841,  64.2375, 142.9868],\n",
      "        [ 22.9049, 103.9207,  64.9509,  ..., 103.6794,  65.6075, 134.3059],\n",
      "        [ 22.5389, 103.3189,  62.2962,  ..., 102.8888,  63.0139, 145.4357]],\n",
      "       device='cuda:0')\n",
      "Predicted Background: tensor([ 1.6854e-07,  7.3927e-07,  3.7865e-06,  1.5269e-06,  2.5483e-06,\n",
      "         6.1658e-07,  7.8308e-07,  2.4588e-06,  6.5875e-07,  6.2444e-07,\n",
      "         4.7649e-07,  4.3072e-07,  3.5595e-06,  1.6978e-06,  4.3000e-06,\n",
      "         2.7589e-07,  5.8688e-06,  4.5466e-06,  7.2413e-06,  2.5317e-07,\n",
      "         1.3426e-07,  2.8729e-07,  7.6435e-06,  6.2236e-06,  2.6872e-07,\n",
      "         9.1532e-06,  1.8440e-07,  8.1680e-08,  6.1327e-07,  2.7831e-07,\n",
      "         2.7007e-07,  4.7130e-07,  7.4295e-08,  4.5637e-06,  4.9009e-06,\n",
      "         3.5312e-07,  6.9606e-07,  3.0036e-06,  4.3396e-07,  7.6721e-06,\n",
      "         4.9625e-07,  7.0498e-06,  1.5960e-07,  1.0055e-06,  3.4074e-06,\n",
      "         7.0857e-06,  3.8006e-07,  3.0042e-07,  3.9549e-07,  4.3363e-07,\n",
      "         1.0157e-06,  4.0342e-07,  1.0393e-06,  4.2529e-07,  3.7171e-06,\n",
      "         1.1180e-06,  6.6855e-06,  6.1660e-07,  8.1247e-06, -8.4915e-08,\n",
      "         1.8301e-06,  1.7367e-06,  4.1386e-06,  4.6925e-07,  2.4170e-07,\n",
      "         4.7354e-07,  8.2488e-07,  3.5087e-08,  7.3559e-07,  3.3475e-06,\n",
      "         4.7315e-07,  3.3092e-07,  2.5566e-06,  2.3520e-07,  7.4774e-08,\n",
      "         4.2699e-07,  2.0221e-06,  6.6620e-07,  4.4246e-07,  2.3922e-07,\n",
      "         1.0733e-09,  1.1720e-07,  4.4946e-07,  9.5220e-07,  1.0115e-06,\n",
      "         2.8476e-07,  4.1288e-06,  1.2301e-06,  5.0789e-07,  5.2936e-07,\n",
      "         2.0729e-07,  1.3933e-06,  7.7309e-07,  6.1501e-06,  4.4773e-06,\n",
      "         4.7736e-07,  7.6077e-06,  7.7178e-08,  7.0557e-07,  3.0252e-07,\n",
      "         2.6987e-06,  4.0472e-06,  1.2037e-06,  2.2747e-07,  2.2243e-06,\n",
      "         7.5845e-07,  3.5197e-06,  2.7333e-06,  2.2857e-07,  9.0952e-07,\n",
      "         2.2794e-07,  6.8080e-07,  6.7712e-07,  4.1208e-07,  1.2609e-06,\n",
      "         2.0295e-07,  7.1058e-06,  1.6329e-06,  9.0315e-06,  6.1582e-07,\n",
      "         8.9811e-06,  3.8182e-07,  6.6830e-06,  7.8491e-06,  4.7872e-07,\n",
      "        -1.1226e-07,  3.1715e-06,  4.9745e-07,  8.4699e-06,  6.7189e-06,\n",
      "         9.0372e-06,  5.3418e-07,  4.8329e-06,  1.0823e-06,  1.5306e-07,\n",
      "         1.7601e-06,  9.1285e-07,  9.1076e-06,  2.0367e-06,  5.2234e-06,\n",
      "         2.9401e-06,  1.1678e-06,  2.8681e-06,  3.3150e-06,  4.1236e-07,\n",
      "         7.6719e-08,  1.2540e-06,  1.3325e-06,  5.4812e-07,  2.6824e-06,\n",
      "         8.9825e-06,  9.9742e-07,  8.8784e-06,  6.1616e-07,  2.2360e-06,\n",
      "         1.3641e-06,  4.2091e-06,  4.0640e-06,  8.5536e-07,  6.7586e-07,\n",
      "        -1.6375e-07,  2.5455e-06,  2.4477e-06,  1.2357e-06,  2.4592e-07,\n",
      "         4.6764e-08,  5.5888e-06,  1.6673e-07,  9.7870e-06,  6.6532e-06,\n",
      "         8.0541e-06,  3.5304e-07,  2.3534e-06,  8.4912e-08,  3.5176e-06,\n",
      "         9.4279e-08,  8.2128e-06,  5.8854e-06,  6.7539e-07,  4.9334e-07,\n",
      "         3.0066e-06,  3.8072e-07,  2.6491e-06,  1.3015e-06,  8.2038e-06,\n",
      "         3.4120e-06,  3.2730e-07,  2.1580e-07,  8.9550e-06,  5.1909e-06,\n",
      "         1.0299e-06,  8.0445e-07,  4.3773e-07,  8.7474e-06, -3.3276e-08,\n",
      "         6.1363e-06,  4.2835e-06,  2.3389e-07, -3.2003e-08,  9.1693e-07,\n",
      "         4.0726e-07,  4.5201e-06, -1.8198e-07,  3.8132e-06,  2.5947e-06,\n",
      "         6.5179e-07, -6.8408e-08,  5.0298e-06,  1.2716e-06,  5.1014e-07,\n",
      "         2.1920e-06,  3.2224e-07,  5.1719e-07, -3.1790e-08,  9.5380e-07,\n",
      "         6.1026e-06,  4.2414e-06,  4.9239e-06,  8.8897e-06,  6.8579e-07,\n",
      "        -1.2004e-07,  2.7888e-06,  1.3555e-07,  2.9719e-07,  6.8517e-06,\n",
      "         5.7684e-07,  5.1707e-07,  8.7261e-06,  1.0981e-06,  2.0096e-07,\n",
      "         6.5076e-07,  3.9363e-06,  2.6342e-06,  4.4450e-06,  1.1177e-06,\n",
      "         9.0727e-06,  1.8162e-07, -7.2027e-08,  5.6508e-06,  2.2974e-07,\n",
      "         1.9081e-07, -3.1168e-08,  2.6929e-07,  1.1477e-07,  4.0852e-06,\n",
      "         6.5933e-07,  1.6610e-06,  8.3445e-07,  2.1455e-07,  4.0185e-07,\n",
      "         1.7595e-06,  9.2584e-06,  7.6920e-07,  4.3518e-07,  1.4647e-06,\n",
      "         2.3043e-06,  1.0013e-06,  5.5087e-06,  4.8302e-06,  1.0131e-06,\n",
      "         7.8212e-08,  4.4413e-07,  3.7651e-07,  1.1908e-06,  6.2944e-07,\n",
      "         7.9487e-07,  6.5103e-07,  9.7159e-08,  8.2159e-07,  2.5329e-07,\n",
      "         8.1736e-07,  3.9650e-06,  3.7869e-06,  8.8483e-06,  6.8698e-07,\n",
      "         1.5191e-06,  4.8468e-07,  3.7769e-06,  3.3639e-07,  5.9452e-07,\n",
      "         1.7705e-06,  2.8445e-07,  1.5460e-06,  2.6739e-06,  9.0434e-07,\n",
      "         2.6568e-07,  8.0450e-08,  3.1826e-06,  2.6478e-08,  4.4976e-07,\n",
      "         7.1670e-07,  8.2255e-06,  5.2682e-07,  3.4344e-06,  9.3126e-06,\n",
      "         6.1529e-06,  4.8657e-07,  8.7382e-06,  5.3816e-07,  7.7975e-06,\n",
      "         1.5505e-06,  2.4516e-07,  2.1051e-06,  5.8546e-07,  9.2930e-06,\n",
      "         6.0007e-06,  8.6912e-07,  6.3719e-06,  3.3581e-07,  3.0464e-07,\n",
      "         1.0068e-06,  9.7305e-07, -1.2053e-07,  5.7422e-06,  1.9676e-06,\n",
      "         4.9878e-07,  8.3320e-06,  4.0640e-06,  3.6490e-07,  3.4551e-07,\n",
      "         4.4270e-06,  4.1266e-07,  3.0718e-06,  4.3019e-07,  1.7399e-06,\n",
      "         6.0628e-07,  1.9861e-07,  5.9627e-07,  6.4597e-07,  4.1654e-06,\n",
      "         1.1480e-07,  3.5441e-06,  6.0999e-07,  1.7425e-07,  6.2557e-07,\n",
      "         7.3217e-07,  4.2224e-06,  2.2891e-06,  1.1525e-06,  7.5998e-07,\n",
      "         7.5522e-07,  5.8062e-06,  6.7311e-07,  3.6123e-07,  4.5026e-06,\n",
      "         2.7338e-06,  9.7286e-07,  1.6483e-07,  5.7220e-07,  3.4607e-07,\n",
      "         3.5095e-06,  3.3002e-07,  2.5272e-07,  3.8508e-07,  8.4611e-06,\n",
      "         6.1426e-07,  5.4314e-07,  6.8470e-07,  7.0941e-07,  7.9930e-07,\n",
      "         7.5883e-07,  4.7592e-06,  8.2790e-06,  1.2193e-06,  6.9575e-08,\n",
      "         1.2129e-06,  1.1315e-07,  2.8089e-06,  2.3011e-07,  1.3335e-08,\n",
      "         5.9913e-07,  4.5436e-06,  5.4065e-06,  4.1230e-07,  9.9398e-08,\n",
      "         8.7517e-07,  5.7008e-06,  2.9266e-07,  1.2039e-06,  8.8344e-07,\n",
      "         7.2398e-08,  6.7619e-07,  2.0047e-06,  9.3763e-06,  3.1460e-07,\n",
      "         2.0880e-07,  4.8168e-06,  1.3216e-06,  2.9138e-06,  2.1721e-07,\n",
      "         7.1132e-07,  1.0365e-06,  7.7358e-07,  4.9595e-07,  5.1979e-06,\n",
      "         1.1879e-06,  1.8568e-06,  1.8561e-06,  2.0139e-06,  8.2814e-07,\n",
      "         1.6916e-07,  1.0893e-06,  5.5747e-07,  5.4734e-06,  5.9157e-07,\n",
      "         6.5859e-09,  1.9807e-06,  8.6934e-07,  3.6034e-06,  9.3825e-06,\n",
      "         3.0200e-07,  1.5654e-06,  7.7717e-07,  7.4006e-07,  2.1244e-06,\n",
      "         4.4447e-07,  4.4713e-07,  2.6371e-07,  5.8165e-07,  1.4383e-07,\n",
      "         2.4548e-07,  1.7203e-07,  6.2695e-07, -2.1478e-07,  2.9588e-06,\n",
      "         4.3075e-07,  2.6608e-06,  8.9624e-06,  8.7173e-06,  1.9479e-06,\n",
      "         4.4714e-07,  7.5166e-07,  1.4858e-07,  2.8390e-08,  5.3368e-07,\n",
      "        -1.2451e-08,  1.6564e-07,  1.6945e-06,  4.2525e-06,  3.2977e-07,\n",
      "         7.9618e-07,  5.4624e-07,  1.1558e-06,  1.2874e-06,  5.1894e-06,\n",
      "         2.9086e-06,  8.7462e-07,  6.4100e-06,  1.2006e-06,  2.7853e-07,\n",
      "         3.1161e-06,  3.2001e-06,  3.1062e-07,  2.1015e-06,  3.1110e-07,\n",
      "         9.5607e-06,  2.8621e-06,  6.3110e-06,  6.5086e-07,  2.6439e-07,\n",
      "         4.9944e-07,  1.1747e-06,  4.9331e-07,  4.3380e-07,  1.0974e-06,\n",
      "         3.7481e-06,  8.8569e-06,  5.5965e-07,  4.4402e-07,  5.1954e-07,\n",
      "         5.6169e-06,  4.2917e-06,  3.0908e-06,  6.3819e-07,  1.3260e-06,\n",
      "         2.8720e-06,  4.1896e-07,  2.7239e-06,  4.7252e-06,  5.6375e-07,\n",
      "         6.0372e-07,  2.1372e-09,  7.5948e-07,  4.9749e-06,  3.6940e-06,\n",
      "         3.2804e-06,  2.1016e-07,  8.9270e-06,  3.7396e-07,  9.7812e-07,\n",
      "         6.6066e-06, -3.9968e-08,  3.0223e-06,  2.8674e-07,  4.3600e-07,\n",
      "         4.5831e-06,  6.5848e-07,  2.1790e-07,  1.7008e-06,  3.2428e-06],\n",
      "       device='cuda:0')\n",
      "torch.Size([500, 6])\n",
      "torch.Size([500, 7])\n"
     ]
    }
   ],
   "source": [
    "pred_idx = restored_predictions.shape[0]\n",
    "\n",
    "restored_predictions[:,:testing_num_layers] = torch.clamp(restored_predictions[:,:testing_num_layers], min=0.0)\n",
    "restored_predictions[:,testing_num_layers:testing_num_layers*2+1] = torch.clamp(restored_predictions[:,testing_num_layers:testing_num_layers*2+1], min=0.0)\n",
    "\n",
    "eval_thicknesses = restored_predictions[:pred_idx,:testing_num_layers]\n",
    "eval_roughnesses = restored_predictions[:pred_idx,testing_num_layers:testing_num_layers*2+1]\n",
    "eval_slds = restored_predictions[:pred_idx,testing_num_layers*2+1:-1]\n",
    "eval_background = restored_predictions[:pred_idx,-1]\n",
    "\n",
    "print(f'Predicted thicknesses: {eval_thicknesses}')\n",
    "print(f'Predicted roughnesses: {eval_roughnesses}')\n",
    "print(f'Predicted layer SLDs: {eval_slds}')\n",
    "print(f'Predicted Background: {eval_background}')\n",
    "\n",
    "print(eval_thicknesses.shape)\n",
    "print(eval_slds.shape)"
   ]
  },
  {
   "cell_type": "code",
   "execution_count": 60,
   "metadata": {},
   "outputs": [],
   "source": [
    "# -*- coding: utf-8 -*-\n",
    "\n",
    "import torch\n",
    "from torch import Tensor\n",
    "\n",
    "from reflectorch.data_generation.reflectivity.abeles import abeles_compiled, abeles\n",
    "from reflectorch.data_generation.reflectivity.memory_eff import abeles_memory_eff\n",
    "from reflectorch.data_generation.reflectivity.numpy_implementations import (\n",
    "    kinematical_approximation_np,\n",
    "    abeles_np,\n",
    ")\n",
    "from reflectorch.data_generation.reflectivity.smearing import abeles_constant_smearing\n",
    "from reflectorch.data_generation.reflectivity.smearing_pointwise import abeles_pointwise_smearing\n",
    "from reflectorch.data_generation.reflectivity.kinematical import kinematical_approximation\n",
    "\n",
    "\n",
    "def custom_reflectivity(\n",
    "        q: Tensor,\n",
    "        thickness: Tensor,\n",
    "        roughness: Tensor,\n",
    "        sld: Tensor,\n",
    "        dq: Tensor = None,\n",
    "        gauss_num: int = 51,\n",
    "        constant_dq: bool = False,\n",
    "        log: bool = False,\n",
    "        q_shift: Tensor = 0.0,\n",
    "        r_scale: Tensor = 1.0,\n",
    "        background: Tensor = 0.0,\n",
    "        solvent_vf = None,\n",
    "        solvent_mode = 'fronting',\n",
    "        abeles_func = None,\n",
    "        **abeles_kwargs\n",
    "):\n",
    "    \"\"\"Function which computes the reflectivity curves from thin film parameters. \n",
    "    By default it uses the fast implementation of the Abeles matrix formalism.\n",
    "\n",
    "    Args:\n",
    "        q (Tensor): tensor of momentum transfer (q) values with shape [batch_size, n_points] or [n_points]\n",
    "        thickness (Tensor): tensor containing the layer thicknesses (ordered from top to bottom) with shape [batch_size, n_layers]\n",
    "        roughness (Tensor): tensor containing the interlayer roughnesses (ordered from top to bottom) with shape [batch_size, n_layers + 1]\n",
    "        sld (Tensor): tensor containing the layer SLDs (real or complex; ordered from top to bottom) with shape \n",
    "            [batch_size, n_layers + 1] (excluding ambient SLD which is assumed to be 0)  or [batch_size, n_layers + 2] (including ambient SLD; only for the default ``abeles_func='abeles'``) \n",
    "        dq (Tensor, optional): tensor of resolutions used for curve smearing with shape [batch_size, 1].\n",
    "                            Either dq if ``constant_dq`` is ``True`` or dq/q if ``constant_dq`` is ``False``. Defaults to None.\n",
    "        gauss_num (int, optional): the number of gaussians for curve smearing. Defaults to 51.\n",
    "        constant_dq (bool, optional): if ``True`` the smearing is constant (constant dq at each point in the curve) \n",
    "                                    otherwise the smearing is linear (constant dq/q at each point in the curve). Defaults to False.\n",
    "        log (bool, optional): if True the base 10 logarithm of the reflectivity curves is returned. Defaults to False.\n",
    "        q_shift (float or Tensor, optional): misalignment in q.\n",
    "        r_scale (float or Tensor, optional): normalization factor (scales reflectivity).\n",
    "        background (float or Tensor, optional): background intensity.\n",
    "        abeles_func (Callable, optional): a function implementing the simulation of the reflectivity curves, if different than the default Abeles matrix implementation ('abeles'). Defaults to None.\n",
    "        abeles_kwargs: Additional arguments specific to the chosen `abeles_func`.\n",
    "    Returns:\n",
    "        Tensor: the computed reflectivity curves\n",
    "    \"\"\"\n",
    "    abeles_func = abeles_func or abeles\n",
    "    q = torch.atleast_2d(q) + q_shift\n",
    "    q = torch.clamp(q, min=0.0)\n",
    "    \n",
    "    if solvent_vf is not None:\n",
    "        num_layers = thickness.shape[-1]\n",
    "        if solvent_mode == 'fronting':\n",
    "            assert sld.shape[-1] == num_layers + 2\n",
    "            assert solvent_vf.shape[-1] == num_layers\n",
    "            solvent_sld = sld[..., [0]]\n",
    "            idx = slice(1, num_layers)\n",
    "            sld[..., idx] = solvent_vf * solvent_sld + (1.0 - solvent_vf) * sld[..., idx]\n",
    "        elif solvent_mode == 'backing':\n",
    "            solvent_sld = sld[..., [-1]]\n",
    "            idx = slice(1, num_layers) if sld.shape[-1] == num_layers + 2 else slice(0, num_layers)\n",
    "            sld[..., idx] = solvent_vf * solvent_sld + (1.0 - solvent_vf) * sld[..., idx]\n",
    "        else:\n",
    "            raise NotImplementedError\n",
    "\n",
    "    if dq is None:\n",
    "        reflectivity_curves = abeles_func(q, thickness, roughness, sld, **abeles_kwargs)\n",
    "    else:\n",
    "        if dq.shape[-1] > 1:\n",
    "            reflectivity_curves = abeles_pointwise_smearing(\n",
    "                    q=q, dq=dq, thickness=thickness, roughness=roughness, sld=sld, \n",
    "                    abeles_func=abeles_func, gauss_num=gauss_num,\n",
    "                    **abeles_kwargs,\n",
    "            )\n",
    "        else:\n",
    "            reflectivity_curves = abeles_constant_smearing(\n",
    "                q, thickness, roughness, sld,\n",
    "                dq=dq, gauss_num=gauss_num, constant_dq=constant_dq, abeles_func=abeles_func,\n",
    "                **abeles_kwargs,\n",
    "            )\n",
    "\n",
    "    if isinstance(r_scale, Tensor):\n",
    "        r_scale = r_scale.view(-1, *[1] * (reflectivity_curves.dim() - 1))\n",
    "    if isinstance(background, Tensor):\n",
    "        background = background.view(-1, *[1] * (reflectivity_curves.dim() - 1))\n",
    "\n",
    "    reflectivity_curves = reflectivity_curves * r_scale + background\n",
    "\n",
    "    if log:\n",
    "        reflectivity_curves = torch.log10(reflectivity_curves)\n",
    "\n",
    "    return reflectivity_curves\n",
    "\n",
    "from reflectorch.data_generation.reflectivity import abeles\n"
   ]
  },
  {
   "cell_type": "code",
   "execution_count": 68,
   "metadata": {},
   "outputs": [
    {
     "name": "stdout",
     "output_type": "stream",
     "text": [
      "tensor([1.0000e+00, 1.0000e+00, 1.0000e+00, 1.0000e+00, 1.0000e+00, 1.0000e+00,\n",
      "        1.0000e+00, 1.0000e+00, 1.0000e+00, 1.0000e+00, 1.0000e+00, 1.0000e+00,\n",
      "        1.0000e+00, 1.0000e+00, 1.0000e+00, 1.0000e+00, 1.0000e+00, 1.0000e+00,\n",
      "        1.0000e+00, 1.0000e+00, 1.0000e+00, 1.0000e+00, 1.0000e+00, 1.0000e+00,\n",
      "        1.0000e+00, 1.0000e+00, 1.0000e+00, 1.0000e+00, 1.0000e+00, 1.0000e+00,\n",
      "        1.0000e+00, 1.0000e+00, 1.0000e+00, 1.0000e+00, 1.0000e+00, 1.0000e+00,\n",
      "        1.0000e+00, 1.0000e+00, 1.0000e+00, 1.0000e+00, 1.0000e+00, 1.0000e+00,\n",
      "        1.0000e+00, 1.0000e+00, 1.0000e+00, 1.0000e+00, 1.0000e+00, 1.0000e+00,\n",
      "        1.0000e+00, 1.0000e+00, 1.0000e+00, 1.0000e+00, 1.0000e+00, 1.0000e+00,\n",
      "        1.0000e+00, 1.0000e+00, 1.0000e+00, 1.0000e+00, 1.0000e+00, 1.0000e+00,\n",
      "        1.0000e+00, 1.0000e+00, 1.0000e+00, 1.0000e+00, 1.0000e+00, 1.0000e+00,\n",
      "        1.0000e+00, 1.0000e+00, 1.0000e+00, 1.0000e+00, 1.0000e+00, 1.0000e+00,\n",
      "        1.0000e+00, 1.0000e+00, 1.0000e+00, 1.0000e+00, 1.0000e+00, 1.0000e+00,\n",
      "        1.0000e+00, 1.0000e+00, 1.0000e+00, 1.0000e+00, 1.0000e+00, 1.0000e+00,\n",
      "        1.0000e+00, 1.0000e+00, 1.0000e+00, 8.5957e-01, 7.4722e-01, 6.2188e-01,\n",
      "        4.7071e-01, 3.0626e-01, 1.6539e-01, 8.5765e-02, 7.2413e-02, 1.0013e-01,\n",
      "        1.4069e-01, 1.7705e-01, 2.0230e-01, 2.1508e-01, 2.1639e-01, 2.0816e-01,\n",
      "        1.9261e-01, 1.7205e-01, 1.4872e-01, 1.2463e-01, 1.0144e-01, 8.0331e-02,\n",
      "        6.1963e-02, 4.6554e-02, 3.3998e-02, 2.4011e-02, 1.6264e-02, 1.0457e-02,\n",
      "        6.3659e-03, 3.8288e-03, 2.7247e-03, 2.9368e-03, 4.3219e-03, 6.6929e-03,\n",
      "        9.8145e-03, 1.3414e-02, 1.7197e-02, 2.0875e-02, 2.4181e-02, 2.6892e-02,\n",
      "        2.8837e-02, 2.9911e-02, 3.0067e-02, 2.9322e-02, 2.7749e-02, 2.5464e-02,\n",
      "        2.2624e-02, 1.9406e-02, 1.6005e-02, 1.2611e-02, 9.4017e-03, 6.5326e-03,\n",
      "        4.1245e-03, 2.2595e-03, 9.7763e-04, 2.7822e-04, 1.2379e-04, 4.4674e-04,\n",
      "        1.1577e-03, 2.1546e-03, 3.3315e-03, 4.5859e-03, 5.8255e-03, 6.9720e-03,\n",
      "        7.9640e-03, 8.7577e-03, 9.3267e-03, 9.6599e-03, 9.7598e-03, 9.6395e-03,\n",
      "        9.3205e-03, 8.8297e-03, 8.1978e-03, 7.4566e-03, 6.6389e-03, 5.7760e-03,\n",
      "        4.8983e-03, 4.0337e-03, 3.2081e-03, 2.4445e-03, 1.7627e-03, 1.1790e-03,\n",
      "        7.0628e-04, 3.5282e-04, 1.2269e-04, 1.5311e-05, 2.5532e-05, 1.4381e-04,\n",
      "        3.5667e-04, 6.4729e-04, 9.9639e-04, 1.3831e-03, 1.7859e-03, 2.1838e-03,\n",
      "        2.5571e-03, 2.8885e-03, 3.1634e-03, 3.3707e-03, 3.5031e-03, 3.5568e-03,\n",
      "        3.5321e-03, 3.4324e-03, 3.2645e-03, 3.0376e-03, 2.7629e-03, 2.4528e-03,\n",
      "        2.1209e-03, 1.7804e-03, 1.4444e-03, 1.1248e-03, 8.3238e-04, 5.7595e-04,\n",
      "        3.6246e-04, 1.9668e-04, 8.1243e-05, 1.6610e-05, 1.2279e-06, 3.1721e-05,\n",
      "        1.0313e-04, 2.0921e-04, 3.4277e-04, 4.9598e-04, 6.6073e-04, 8.2898e-04,\n",
      "        9.9303e-04, 1.1458e-03, 1.2810e-03, 1.3936e-03, 1.4794e-03, 1.5357e-03,\n",
      "        1.5612e-03, 1.5555e-03, 1.5197e-03, 1.4560e-03, 1.3674e-03, 1.2580e-03,\n",
      "        1.1322e-03, 9.9497e-04, 8.5156e-04, 7.0711e-04, 5.6664e-04, 4.3477e-04,\n",
      "        3.1559e-04, 2.1255e-04, 1.2833e-04, 6.4770e-05, 2.2860e-05, 2.7269e-06,\n",
      "        3.6731e-06, 2.4242e-05, 6.2302e-05, 1.1518e-04, 1.7975e-04, 2.5262e-04,\n",
      "        3.3025e-04, 4.0907e-04, 4.8567e-04, 5.5687e-04, 6.1986e-04, 6.7229e-04,\n",
      "        7.1230e-04, 7.3861e-04, 7.5051e-04, 7.4788e-04, 7.3115e-04, 7.0127e-04,\n",
      "        6.5964e-04, 6.0806e-04, 5.4861e-04, 4.8358e-04, 4.1539e-04, 3.4646e-04,\n",
      "        2.7915e-04, 2.1566e-04, 1.5795e-04, 1.0771e-04, 6.6263e-05, 3.4557e-05,\n",
      "        1.3150e-05, 2.1946e-06, 1.4574e-06, 1.0339e-05, 2.7916e-05, 5.2983e-05,\n",
      "        8.4116e-05, 1.1973e-04, 1.5814e-04, 1.9765e-04, 2.3658e-04, 2.7335e-04,\n",
      "        3.0652e-04, 3.3487e-04, 3.5739e-04, 3.7333e-04, 3.8223e-04, 3.8389e-04,\n",
      "        3.7841e-04, 3.6612e-04, 3.4762e-04, 3.2370e-04, 2.9531e-04, 2.6356e-04,\n",
      "        2.2960e-04, 1.9466e-04, 1.5993e-04, 1.2656e-04, 9.5600e-05, 6.7980e-05,\n",
      "        4.4473e-05, 2.5670e-05, 1.1976e-05, 3.5913e-06, 5.1778e-07, 2.5672e-06,\n",
      "        9.3733e-06, 2.0414e-05, 3.5035e-05, 5.2476e-05, 7.1913e-05, 9.2475e-05,\n",
      "        1.1329e-04, 1.3351e-04, 1.5234e-04, 1.6908e-04, 1.8312e-04, 1.9398e-04,\n",
      "        2.0131e-04, 2.0490e-04, 2.0469e-04, 2.0077e-04, 1.9334e-04, 1.8275e-04,\n",
      "        1.6941e-04, 1.5385e-04, 1.3666e-04, 1.1845e-04, 9.9862e-05, 8.1514e-05,\n",
      "        6.4004e-05, 4.7879e-05, 3.3612e-05, 2.1596e-05, 1.2129e-05, 5.4082e-06,\n",
      "        1.5242e-06, 4.6417e-07, 2.1154e-06, 6.2724e-06, 1.2649e-05, 2.0889e-05,\n",
      "        3.0586e-05, 4.1293e-05, 5.2547e-05, 6.3882e-05, 7.4847e-05, 8.5021e-05,\n",
      "        9.4027e-05, 1.0154e-04, 1.0732e-04, 1.1117e-04, 1.1298e-04, 1.1274e-04,\n",
      "        1.1047e-04, 1.0631e-04, 1.0043e-04, 9.3069e-05, 8.4508e-05, 7.5064e-05,\n",
      "        6.5072e-05, 5.4877e-05, 4.4819e-05, 3.5224e-05, 2.6386e-05, 1.8566e-05,\n",
      "        1.1980e-05, 6.7898e-06, 3.1064e-06, 9.8113e-07, 4.0936e-07, 1.3319e-06,\n",
      "        3.6385e-06, 7.1746e-06, 1.1747e-05, 1.7134e-05, 2.3091e-05, 2.9365e-05,\n",
      "        3.5698e-05, 4.1841e-05, 4.7560e-05, 5.2646e-05, 5.6917e-05, 6.0230e-05,\n",
      "        6.2479e-05, 6.3600e-05, 6.3574e-05, 6.2420e-05, 6.0199e-05, 5.7007e-05,\n",
      "        5.2971e-05, 4.8247e-05, 4.3006e-05, 3.7434e-05, 3.1725e-05, 2.6065e-05,\n",
      "        2.0640e-05, 1.5616e-05, 1.1142e-05, 7.3426e-06, 4.3135e-06, 2.1215e-06,\n",
      "        8.0088e-07, 3.5474e-07, 7.5528e-07, 1.9459e-06, 3.8445e-06, 6.3466e-06,\n",
      "        9.3305e-06, 1.2662e-05, 1.6198e-05, 1.9796e-05, 2.3312e-05, 2.6616e-05,\n",
      "        2.9584e-05, 3.2112e-05, 3.4113e-05, 3.5523e-05, 3.6301e-05, 3.6431e-05,\n",
      "        3.5917e-05, 3.4789e-05, 3.3096e-05, 3.0908e-05, 2.8306e-05, 2.5387e-05,\n",
      "        2.2255e-05, 1.9016e-05, 1.5779e-05, 1.2650e-05, 9.7242e-06, 7.0905e-06,\n",
      "        4.8225e-06, 2.9797e-06, 1.6042e-06, 7.2086e-07, 3.3638e-07, 4.3982e-07,\n",
      "        1.0037e-06, 1.9852e-06, 3.3289e-06, 4.9679e-06, 6.8275e-06, 8.8286e-06,\n",
      "        1.0889e-05, 1.2926e-05, 1.4865e-05, 1.6632e-05, 1.8165e-05, 1.9411e-05,\n",
      "        2.0329e-05, 2.0892e-05, 2.1086e-05, 2.0908e-05, 2.0373e-05, 1.9504e-05,\n",
      "        1.8338e-05, 1.6917e-05, 1.5296e-05, 1.3532e-05, 1.1687e-05, 9.8209e-06,\n",
      "        7.9957e-06, 6.2687e-06, 4.6921e-06, 3.3111e-06, 2.1629e-06, 1.2752e-06,\n",
      "        6.6591e-07, 3.4258e-07, 3.0269e-07, 5.3394e-07, 1.0150e-06, 1.7166e-06,\n",
      "        2.6028e-06, 3.6324e-06, 4.7605e-06, 5.9408e-06, 7.1260e-06, 8.2707e-06,\n",
      "        9.3325e-06, 1.0273e-05, 1.1059e-05, 1.1666e-05, 1.2074e-05, 1.2271e-05,\n",
      "        1.2254e-05, 1.2027e-05, 1.1602e-05, 1.0996e-05, 1.0233e-05, 9.3412e-06,\n",
      "        8.3531e-06, 7.3031e-06, 6.2266e-06, 5.1589e-06, 4.1342e-06, 3.1837e-06,\n",
      "        2.3353e-06, 1.6124e-06, 1.0334e-06, 6.1120e-07, 3.5256e-07, 2.5865e-07,\n",
      "        3.2482e-07, 5.4103e-07, 8.9232e-07, 1.3597e-06, 1.9208e-06, 2.5504e-06,\n",
      "        3.2222e-06, 3.9091e-06, 4.5844e-06, 5.2227e-06, 5.8008e-06, 6.2984e-06,\n",
      "        6.6986e-06, 6.9884e-06, 7.1594e-06, 7.2074e-06, 7.1325e-06, 6.9396e-06,\n",
      "        6.6369e-06, 6.2369e-06, 5.7544e-06, 5.2074e-06, 4.6147e-06, 3.9970e-06,\n",
      "        3.3746e-06, 2.7675e-06, 2.1946e-06, 1.6732e-06, 1.2179e-06, 8.4077e-07,\n",
      "        5.5088e-07, 3.5386e-07, 2.5201e-07, 2.4428e-07, 3.2641e-07, 4.9116e-07,\n",
      "        7.2871e-07, 1.0270e-06, 1.3724e-06, 1.7499e-06, 2.1442e-06, 2.5396e-06,\n",
      "        2.9210e-06, 3.2744e-06, 3.5872e-06, 3.8485e-06, 4.0498e-06, 4.1847e-06,\n",
      "        4.2496e-06, 4.2433e-06, 4.1671e-06, 4.0249e-06, 3.8224e-06, 3.5676e-06,\n",
      "        3.2701e-06, 2.9402e-06, 2.5894e-06, 2.2297e-06, 1.8727e-06, 1.5297e-06,\n",
      "        1.2111e-06, 9.2614e-07, 6.8273e-07, 4.8700e-07, 3.4327e-07, 2.5389e-07,\n",
      "        2.1932e-07, 2.3812e-07, 3.0703e-07, 4.2119e-07, 5.7436e-07, 7.5912e-07,\n",
      "        9.6729e-07, 1.1901e-06, 1.4186e-06, 1.6438e-06, 1.8575e-06, 2.0517e-06,\n",
      "        2.2197e-06, 2.3558e-06, 2.4555e-06, 2.5161e-06, 2.5358e-06, 2.5147e-06,\n",
      "        2.4541e-06, 2.3570e-06, 2.2268e-06, 2.0689e-06, 1.8888e-06, 1.6929e-06,\n",
      "        1.4878e-06, 1.2804e-06, 1.0772e-06, 8.8465e-07, 7.0844e-07, 5.5351e-07,\n",
      "        4.2404e-07, 3.2309e-07, 2.5270e-07, 2.1378e-07, 2.0612e-07, 2.2847e-07],\n",
      "       device='cuda:0')\n",
      "torch.Size([500, 600])\n",
      "(500, 600)\n"
     ]
    }
   ],
   "source": [
    "testing_q_values_tensor = torch.tensor(testing_q_values).float().to(\"cuda\")\n",
    "predicted_curves = custom_reflectivity(testing_q_values_tensor,eval_thicknesses , eval_roughnesses, eval_slds, abeles_func = abeles)\n",
    "predicted_curves = predicted_curves + eval_background.unsqueeze(1)\n",
    "print(predicted_curves[0])\n",
    "print(predicted_curves.shape)\n",
    "print(testing_curves.shape)"
   ]
  },
  {
   "cell_type": "code",
   "execution_count": 62,
   "metadata": {},
   "outputs": [],
   "source": [
    "from reflectorch import get_param_labels, get_density_profiles\n",
    "\n",
    "#@interact(i=(0, batch_size-1, 1))\n",
    "def plot_refl_curve(testing_params,predictions,i=0):\n",
    "     fig, ax = plt.subplots(1,2,figsize=(12,6))\n",
    "\n",
    "     ax[0].set_yscale('log')\n",
    "     ax[0].set_ylim(0.5e-10, 5)\n",
    "\n",
    "     ax[0].set_xlabel('q [$Å^{-1}$]', fontsize=20)\n",
    "     ax[0].set_ylabel('R(q)', fontsize=20)\n",
    "\n",
    "     ax[0].tick_params(axis='both', which='major', labelsize=15)\n",
    "     ax[0].tick_params(axis='both', which='minor', labelsize=15)\n",
    "\n",
    "     y_tick_locations = [10**(-2*i) for i in range(6)]\n",
    "     ax[0].yaxis.set_major_locator(plt.FixedLocator(y_tick_locations))\n",
    "          \n",
    "     ax[0].plot(eval_q_values[i].cpu().numpy(), predicted_curves[i].cpu().numpy() + 1e-10, c='r', lw=1, label='prediction')\n",
    "     ax[0].scatter(eval_q_values[i].cpu().numpy(), testing_curves[i] + 1e-10, facecolors='none', edgecolors='blue', s=8, label='input sim. curve')\n",
    "\n",
    "     ax[0].legend(loc='upper right', fontsize=14)\n",
    "\n",
    "     z_axis = torch.linspace(-200, 1000, 1000, device='cuda')\n",
    "     _, sld_profile_gt, _ = get_density_profiles(\n",
    "          testing_params[:,:num_layers], \n",
    "          testing_params[:,num_layers:num_layers*2+1],\n",
    "          testing_params[:,num_layers*2+1:-1],\n",
    "          z_axis=z_axis)\n",
    "\n",
    "     _, sld_profile_pred, _ = get_density_profiles(\n",
    "          predictions[:,:num_layers], \n",
    "          predictions[:,num_layers:num_layers*2+1],\n",
    "          predictions[:,num_layers*2+1:-1],\n",
    "          z_axis=z_axis)\n",
    "\n",
    "     ax[1].plot(z_axis.cpu().numpy(), sld_profile_pred[i].cpu().numpy(), c='r', label='prediction')\n",
    "     ax[1].plot(z_axis.cpu().numpy(), sld_profile_gt[i].cpu().numpy(), c='b', label='ground truth')\n",
    "\n",
    "     ax[1].set_xlabel('z [$Å$]', fontsize=20)\n",
    "     ax[1].set_ylabel('SLD [$10^{-6} Å^{-2}$]', fontsize=20)\n",
    "     ax[1].tick_params(axis='both', which='major', labelsize=15)\n",
    "     ax[1].tick_params(axis='both', which='minor', labelsize=15)\n",
    "\n",
    "     ax[1].legend(loc='lower right', fontsize=14)\n",
    "\n",
    "     plt.tight_layout()\n",
    "\n",
    "    #for l, t, p, min_b, max_b in zip(\n",
    "     #     get_param_labels(num_layers),\n",
    "     #     params.parameters[i], \n",
    "     #     restored_predictions.parameters[i], \n",
    "     #     restored_predictions.min_bounds[i], \n",
    "     #     restored_predictions.max_bounds[i]\n",
    "     #     ):\n",
    "     #    print(f'{l.ljust(14)} --> True: {t:.2f} Predicted: {p:.2f}  Input prior bounds: ({min_b:.2f}, {max_b:.2f})')"
   ]
  },
  {
   "cell_type": "code",
   "execution_count": 67,
   "metadata": {},
   "outputs": [
    {
     "name": "stdout",
     "output_type": "stream",
     "text": [
      "Actual thickness  tensor([32.0917, 59.6717, 11.7856, 32.0917, 59.6717, 11.7856], device='cuda:0',\n",
      "       dtype=torch.float64)\n",
      "Prediction thickness  tensor([23.8418, 58.4188,  5.8952, 24.0244, 59.9325,  6.3865], device='cuda:0')\n",
      "Actual SLD  tensor([ 22.7237, 110.8399,  62.2589, 126.4736, 110.8399,  62.2589, 126.4736],\n",
      "       device='cuda:0', dtype=torch.float64)\n",
      "Prediction SLD  tensor([ 22.7598, 111.3677,  62.5331, 126.3562, 110.6863,  62.7022, 126.6160],\n",
      "       device='cuda:0')\n",
      "Actual background  tensor(4.0988e-06, device='cuda:0', dtype=torch.float64)\n",
      "Prediction background  tensor(4.0640e-06, device='cuda:0')\n"
     ]
    },
    {
     "data": {
      "image/png": "[encoded data removed]",
      "text/plain": [
       "<Figure size 1200x600 with 2 Axes>"
      ]
     },
     "metadata": {},
     "output_type": "display_data"
    }
   ],
   "source": [
    "testing_params_cuda = torch.tensor(testing_params).to('cuda')  # move to GPU\n",
    "testing_params_cuda = torch.real(testing_params_cuda)\n",
    "i = 317\n",
    "plot_refl_curve(testing_params_cuda,restored_predictions, i)\n",
    "print(\"Actual thickness \", testing_params_cuda[i,:testing_num_layers])\n",
    "print(\"Prediction thickness \", restored_predictions[i,:testing_num_layers])\n",
    "print(\"Actual SLD \", testing_params_cuda[i,testing_num_layers*2+1:-1])\n",
    "print(\"Prediction SLD \", restored_predictions[i,testing_num_layers*2+1:-1])\n",
    "print(\"Actual background \", testing_params_cuda[i,-1])\n",
    "print(\"Prediction background \", restored_predictions[i,-1])"
   ]
  },
  {
   "cell_type": "code",
   "execution_count": 69,
   "metadata": {},
   "outputs": [
    {
     "name": "stdout",
     "output_type": "stream",
     "text": [
      "Actual thicknesses: tensor([32.0917, 59.6717, 11.7856, 32.0917, 59.6717, 11.7856], device='cuda:0',\n",
      "       dtype=torch.float64)\n",
      "Actual roughnesses: tensor([14.5388,  4.5202, 25.4979,  3.7825,  4.5202, 25.4979,  3.7825],\n",
      "       device='cuda:0', dtype=torch.float64)\n",
      "Actual layer SLDs: tensor([ 22.7237, 110.8399,  62.2589, 126.4736, 110.8399,  62.2589, 126.4736],\n",
      "       device='cuda:0', dtype=torch.float64)\n",
      "Actual Background: 4.0987761217881994e-06\n",
      "Predicted thicknesses: tensor([23.8418, 58.4188,  5.8952, 24.0244, 59.9325,  6.3865], device='cuda:0')\n",
      "Predicted roughnesses: tensor([14.5980,  5.0083, 25.4229,  4.0678,  5.0278, 25.4229,  4.0562],\n",
      "       device='cuda:0')\n",
      "Predicted layer SLDs: tensor([ 22.7598, 111.3677,  62.5331, 126.3562, 110.6863,  62.7022, 126.6160],\n",
      "       device='cuda:0')\n",
      "Predicted background: 4.064038876094855e-06\n",
      "Thickness error: 24.862116%\n",
      "Roughness error: 5.400532%\n",
      "SLD error: 0.304508%\n",
      "Background error: 0.845440%\n",
      "Total parameter error: 31.412597% of 317 curve\n",
      "Curve 317 error: 94.674866%\n"
     ]
    }
   ],
   "source": [
    "pred_idx = 317\n",
    "print(f'Actual thicknesses: {testing_params_cuda[pred_idx,:testing_num_layers]}')\n",
    "print(f'Actual roughnesses: {testing_params_cuda[pred_idx,testing_num_layers:testing_num_layers*2+1]}')\n",
    "print(f'Actual layer SLDs: {testing_params_cuda[pred_idx,testing_num_layers*2+1:-1]}')\n",
    "print(f'Actual Background: {testing_params_cuda[pred_idx,-1]}')\n",
    "\n",
    "print(f'Predicted thicknesses: {eval_thicknesses[pred_idx]}')\n",
    "print(f'Predicted roughnesses: {eval_roughnesses[pred_idx]}')\n",
    "print(f'Predicted layer SLDs: {eval_slds[pred_idx]}')\n",
    "print(f'Predicted background: {eval_background[pred_idx]}')\n",
    "\n",
    "def loss(pred, true):\n",
    "    percentage_error = torch.abs((true - pred) / (true + 1e-8))\n",
    "    return torch.mean(percentage_error) * 100\n",
    "\n",
    "def rmsd(pred, true):\n",
    "    true = torch.as_tensor(true, dtype=torch.float32,device='cuda')\n",
    "    pred = torch.as_tensor(pred, dtype=torch.float32, device = 'cuda')\n",
    "    rmsd = torch.sqrt(torch.mean((true - pred) ** 2))\n",
    "    return (rmsd / torch.mean(torch.abs(true))) * 100\n",
    "\n",
    "\n",
    "def evaluate_model(pred_thickness, true_thickness,\n",
    "                   pred_roughness, true_roughness,\n",
    "                   pred_sld, true_sld,\n",
    "                   pred_background, true_background,\n",
    "                   pred_curve,true_curve):\n",
    "    loss_thickness = loss(pred_thickness, true_thickness)\n",
    "    loss_roughness = loss(pred_roughness, true_roughness)\n",
    "    loss_sld = loss(pred_sld, true_sld)\n",
    "    loss_background = loss(pred_background, true_background)\n",
    "    loss_curve = rmsd(pred_curve,true_curve)\n",
    "\n",
    "    print(f\"Thickness error: {loss_thickness:.6f}%\")\n",
    "    print(f\"Roughness error: {loss_roughness:.6f}%\")\n",
    "    print(f\"SLD error: {loss_sld:.6f}%\")\n",
    "    print(f\"Background error: {loss_background:.6f}%\")\n",
    "\n",
    "    return loss_thickness, loss_roughness, loss_sld,loss_background,loss_curve\n",
    "\n",
    "loss_t, loss_r, loss_s, loss_b,loss_curve = evaluate_model(\n",
    "    eval_thicknesses[pred_idx], testing_params_cuda[pred_idx,:testing_num_layers],\n",
    "    eval_roughnesses[pred_idx], testing_params_cuda[pred_idx,testing_num_layers:testing_num_layers*2+1],\n",
    "    eval_slds[pred_idx], testing_params_cuda[pred_idx,testing_num_layers*2+1:-1],\n",
    "    eval_background[pred_idx], testing_params_cuda[pred_idx,-1],\n",
    "    predicted_curves[pred_idx],testing_curves[pred_idx]\n",
    ")\n",
    "\n",
    "total_loss = loss_t+ loss_r+ loss_s+loss_b\n",
    "print(f\"Total parameter error: {total_loss:.6f}% of {pred_idx} curve\")\n",
    "\n",
    "print(f\"Curve {pred_idx} error: {loss_curve:.6f}%\")"
   ]
  },
  {
   "cell_type": "code",
   "execution_count": 72,
   "metadata": {},
   "outputs": [
    {
     "name": "stdout",
     "output_type": "stream",
     "text": [
      "Thickness error: 29.188170%\n",
      "Roughness error: 54.239781%\n",
      "SLD error: 0.520079%\n",
      "Background error: 29.275076%\n",
      "Total error of paraemters: 113.223106% of each curve\n",
      "Total error of Curves: 908.217834\n"
     ]
    }
   ],
   "source": [
    "loss_t, loss_r, loss_s,loss_b,loss_curve = evaluate_model(\n",
    "    eval_thicknesses, testing_params_cuda[:,:testing_num_layers],\n",
    "    eval_roughnesses, testing_params_cuda[:,testing_num_layers:testing_num_layers*2+1],\n",
    "    eval_slds, testing_params_cuda[:,testing_num_layers*2+1:-1],\n",
    "    eval_background, testing_params_cuda[:,-1],\n",
    "    predicted_curves,testing_curves\n",
    ")\n",
    "\n",
    "total_loss = loss_t+ loss_r+ loss_s+loss_b\n",
    "print(f\"Total error of paraemters: {total_loss:.6f}% of each curve\")\n",
    "\n",
    "print(f\"Total error of Curves: {loss_curve:.6f}\")"
   ]
  },
  {
   "cell_type": "markdown",
   "metadata": {},
   "source": [
    ":::{tip}\n",
    ":class: dropdown\n",
    "\n",
    "The saved weights can be loaded into a compatible neural network (`net`) as:\n",
    "\n",
    "```python\n",
    "saved_dict = torch.load(save_path)\n",
    "model_state_dict = saved_dict['model']\n",
    "net.load_state_dict(model_state_dict)\n",
    "```\n",
    "\n",
    ":::"
   ]
  },
  {
   "cell_type": "markdown",
   "metadata": {},
   "source": [
    "The model state dictionaries of all the saved '.pt' files in a directory can be further converted to the '.safetensors' format for exporting to Huggingface using the `convert_pt_to_safetensors` method."
   ]
  },
  {
   "cell_type": "markdown",
   "metadata": {},
   "source": [
    "### Training from the terminal"
   ]
  },
  {
   "cell_type": "markdown",
   "metadata": {},
   "source": [
    "Above we described the workflow for training a model in a Jupyter Notebook, where we loaded the trainer from the configuration file but defined the callbacks manually. Alternatively, one can train a model from the terminal (in this case the callbacks defined in the configuration file are used):\n",
    "\n",
    "```bash\n",
    "python -m reflectorch.train config_name\n",
    "``` \n"
   ]
  },
  {
   "cell_type": "markdown",
   "metadata": {},
   "source": [
    "## Customizing the YAML configuration for training"
   ]
  },
  {
   "cell_type": "markdown",
   "metadata": {
    "tags": []
   },
   "source": [
    "In the following we show how the YAML configuration file can be customized."
   ]
  },
  {
   "cell_type": "markdown",
   "metadata": {},
   "source": [
    "```{dropdown} Sample YAML configuration\n",
    "```yaml\n",
    "\n",
    "general:\n",
    "  name: a_base_point_xray_conv_standard\n",
    "  root_dir: null\n",
    "  \n",
    "dset:\n",
    "  cls: ReflectivityDataLoader\n",
    "  prior_sampler:\n",
    "    cls: SubpriorParametricSampler\n",
    "    kwargs:\n",
    "      param_ranges:\n",
    "        thicknesses: [1., 500.]\n",
    "        roughnesses: [0., 60.]\n",
    "        slds: [0., 50.]\n",
    "      bound_width_ranges:\n",
    "        thicknesses: [1.0e-2, 500.]\n",
    "        roughnesses: [1.0e-2, 60.]\n",
    "        slds: [1.0e-2, 5.]\n",
    "      model_name: standard_model\n",
    "      max_num_layers: 2\n",
    "      constrained_roughness: true\n",
    "      max_thickness_share: 0.5\n",
    "      logdist: false\n",
    "      scale_params_by_ranges: false\n",
    "      scaled_range: [-1., 1.]\n",
    "      device: 'cuda'\n",
    "      \n",
    "  q_generator:\n",
    "    cls: ConstantQ\n",
    "    kwargs:\n",
    "      q: [0.02, 0.15, 128]\n",
    "      device: 'cuda'\n",
    "      \n",
    "  intensity_noise:\n",
    "    cls: GaussianExpIntensityNoise\n",
    "    kwargs:\n",
    "      relative_errors: [0.01, 0.3]\n",
    "      consistent_rel_err: false\n",
    "      apply_shift: true\n",
    "      shift_range: [-0.3, 0.3]\n",
    "      add_to_context: true\n",
    "\n",
    "  curves_scaler:\n",
    "    cls: LogAffineCurvesScaler\n",
    "    kwargs:\n",
    "      weight: 0.2\n",
    "      bias: 1.0\n",
    "      eps: 1.0e-10\n",
    "\n",
    "model:\n",
    "  network:\n",
    "    cls: NetworkWithPriors\n",
    "    pretrained_name: null\n",
    "    device: 'cuda'\n",
    "    kwargs:\n",
    "      embedding_net_type: 'conv'\n",
    "      embedding_net_kwargs:\n",
    "        in_channels: 1\n",
    "        hidden_channels: [32, 64, 128, 256, 512]\n",
    "        kernel_size: 3\n",
    "        dim_embedding: 128\n",
    "        dim_avpool: 1\n",
    "        use_batch_norm: true\n",
    "        use_se: false\n",
    "        activation: 'gelu'\n",
    "      pretrained_embedding_net: null\n",
    "      dim_out: 8\n",
    "      dim_conditioning_params: 0\n",
    "      layer_width: 512\n",
    "      num_blocks: 8\n",
    "      repeats_per_block: 2\n",
    "      residual: true\n",
    "      use_batch_norm: true\n",
    "      use_layer_norm: false\n",
    "      mlp_activation: 'gelu'\n",
    "      dropout_rate: 0.0 \n",
    "      conditioning: 'film'\n",
    "      concat_condition_first_layer: false\n",
    "       \n",
    "training:\n",
    "  trainer_cls: PointEstimatorTrainer\n",
    "  num_iterations: 10000\n",
    "  batch_size: 4096\n",
    "  lr: 1.0e-3\n",
    "  grad_accumulation_steps: 1\n",
    "  clip_grad_norm_max: null\n",
    "  update_tqdm_freq: 1\n",
    "  optimizer: AdamW\n",
    "  trainer_kwargs:\n",
    "    train_with_q_input: false\n",
    "    condition_on_q_resolutions: false\n",
    "    rescale_loss_interval_width: true\n",
    "    use_l1_loss: true\n",
    "    optim_kwargs:\n",
    "      betas: [0.9, 0.999]\n",
    "      weight_decay: 0.0005\n",
    "  callbacks:\n",
    "    save_best_model:\n",
    "      enable: true\n",
    "      freq: 500\n",
    "    lr_scheduler:\n",
    "      cls: CosineAnnealingWithWarmup\n",
    "      kwargs:\n",
    "        min_lr: 1.0e-6\n",
    "        warmup_iters: 500\n",
    "        total_iters: 10000\n",
    "\n",
    "  logger:\n",
    "    cls: TensorBoardLogger\n",
    "    kwargs:\n",
    "      log_dir: \"tensorboard_runs/test_1\"\n",
    "```"
   ]
  },
  {
   "cell_type": "markdown",
   "metadata": {},
   "source": [
    "The `general` key, contains the following subkeys:\n",
    "\n",
    "- `name` - name used for saving the model\n",
    "- `root` - path to the root directory, defaults to the package directory"
   ]
  },
  {
   "cell_type": "markdown",
   "metadata": {
    "tags": []
   },
   "source": [
    "```yaml\n",
    "general:\n",
    "  name: a_base_point_xray_conv_standard\n",
    "  root_dir: null\n",
    "```"
   ]
  },
  {
   "cell_type": "markdown",
   "metadata": {},
   "source": [
    "The `dset` key defines the settings pertaining to the data generation (i.e. the SLD profile parameterization, the ranges of the thin film parameters, the q values, the noise added to the reflectivity curves and the scaling of the reflectivity curves). It has the following subkeys:"
   ]
  },
  {
   "cell_type": "markdown",
   "metadata": {},
   "source": [
    "1. `cls` (*optional*) - the class of the data loader. If not provided, the default class `ReflectivityDataLoader` is used."
   ]
  },
  {
   "cell_type": "markdown",
   "metadata": {},
   "source": [
    "2. `prior_sampler` - responsible for defining the type of SLD parameterization, the ranges from which the thin film parameters are sampled and the ranges from which the widths of the prior bounds are sampled. The `SubpriorParametricSampler` class first samples a center (**C**) from the parameter ranges and a width (**W**) from the bound width ranges. This defines a subinterval delimited by the minimum prior bound **B_min** = **C** - **W**/2 and the maximum prior bound **B_max** = **C** + **W**/2. Then, the values of the parameters (to be used for simulating the reflectivity curves and as ground truth) are uniformly sampled within the interval [**B_min**, **B_max**]. It has the following keyword arguments:\n",
    "- `model_name` - name associated with the type of SLD parameterization. Here, `standard_model` represents the standard box model parameterization of the SLD with the parameters thickness, roughness and real layer SLD.\n",
    "- `max_num_layers` - the number of layers in the thin film (in addition to the substrate)\n",
    "- `param_ranges` - the ranges from which the values of each type of thin film parameter are uniformly sampled (for the standard model `thicknesses`, `roughnesses` and `slds`) \n",
    "- `bound_width_ranges` - the ranges from which the prior bound widths of each type of thin film parameter are uniformly sampled. If the argument `logdist` is set to `true`, the prior bound widths are sampled uniformly on a logarithmic scale instead, biasing the training towards smaller prior bound widths.\n",
    "- `constrained_roughness` - if `true` the sampling of the roughness parameters is constrained such that the roughness of an interface between two layers does not exceed a fraction (defined by the argument `max_thickness_share`) of the thickness of either one of those layers.\n",
    "- `max_total_thickness` (optional) - if provided, the sampling is performed such that the sum of the sampled layer thicknesses does not exceed this value\n",
    "- `scale_params_by_ranges` - if `true` the parameters are scaled with respect to their ranges, otherwise they are scaled with respect to their subprior bound interval. The default is `false`.\n",
    "- `scaled_range` - the ML-friendly range to which the parameters (and prior bounds) are scaled to, the default is [-1, 1]\n",
    "- `device` - default is `'cuda'` for GPU use, can be changed to `'cpu'` for CPU use"
   ]
  },
  {
   "cell_type": "markdown",
   "metadata": {},
   "source": [
    "```{figure} FigureReflectometryNetwork.png\n",
    ":scale: 25\n",
    ":align: center\n",
    ":name: figure_reflectometry_network\n",
    "(a) Parameter sampling process (b) Neural network architecture\n",
    "```"
   ]
  },
  {
   "cell_type": "markdown",
   "metadata": {},
   "source": [
    "```yaml\n",
    "dset:\n",
    "  cls: ReflectivityDataLoader\n",
    "  prior_sampler:\n",
    "    cls: SubpriorParametricSampler\n",
    "    kwargs:\n",
    "      param_ranges:\n",
    "        thicknesses: [1., 500.]\n",
    "        roughnesses: [0., 60.]\n",
    "        slds: [0., 50.]\n",
    "      bound_width_ranges:\n",
    "        thicknesses: [1.0e-2, 500.]\n",
    "        roughnesses: [1.0e-2, 60.]\n",
    "        slds: [1.0e-2, 5.]\n",
    "      model_name: standard_model\n",
    "      max_num_layers: 2\n",
    "      constrained_roughness: true\n",
    "      max_thickness_share: 0.5\n",
    "      logdist: false\n",
    "      scale_params_by_ranges: false\n",
    "      scaled_range: [-1., 1.]\n",
    "      device: 'cuda'\n",
    "```"
   ]
  },
  {
   "cell_type": "markdown",
   "metadata": {},
   "source": [
    "3. `q_generator` - responsible for generating the transfer vector (q) values at which the reflectivity is to be simulated. We must first specifiy its class. The `ConstantQ` class generates a fixed discretization for all the reflectivity curves in the batch. Its `q` keyword argument is a tuple formatted as *[q_min, q_max, num_q_points]*, which defines the minimum q value, the maximum q value as well as the number of points (including the interval boundaries) to be equidistantly sampled. Other q generator classes are available such as `VariableQ` (equidistant grid with variable *q_min*, *q_max* and *num_q_points*, further described in the *Advanced functionality* section) and `ConstantAngle` which generates the grid of q values based on equidistantlly sampled scattering angles and the wavelength of the beam. The `device` argument can be changed to `'cpu'` for CPU use (default is `'cuda'` for GPU use)."
   ]
  },
  {
   "cell_type": "markdown",
   "metadata": {},
   "source": [
    "```yaml\n",
    "\n",
    "dset:\n",
    "  q_generator:\n",
    "    cls: ConstantQ\n",
    "    kwargs:\n",
    "      q: [0.02, 0.15, 128]\n",
    "      device: 'cuda'\n",
    "      \n",
    "```      "
   ]
  },
  {
   "cell_type": "markdown",
   "metadata": {},
   "source": [
    "4. `q_noise` (*optional*) - responsible for adding noise to the generated q values, which emulates possible measurement errors due to sample misalignment. The `BasicQNoiseGenerator` class can add both systematic q shifts (the same change applied to all q points of a curve) and random noise (different changes applied to each q point of a curve) to the q values of the batch of curves, it has the following arguments:\n",
    "- `shift_std` - the standard deviation of the normal distribution for sampling the systematic q shifts (one value sampled per curve in the batch)\n",
    "- `noise_std` - the standard deviation of the normal distribution for sampling the random q noise (one value sampled per point in the curve). The standard deviation is the same for all curves in the batch if provided as a float, or uniformly sampled from a range for each curve in the batch if provided as a tuple."
   ]
  },
  {
   "cell_type": "markdown",
   "metadata": {},
   "source": [
    "```yaml\n",
    "dset:\n",
    "  q_noise:\n",
    "    cls: BasicQNoiseGenerator\n",
    "    kwargs:\n",
    "      shift_std: 1.0e-3\n",
    "      noise_std: [0., 1.0e-3]\n",
    "```"
   ]
  },
  {
   "cell_type": "markdown",
   "metadata": {},
   "source": [
    "5. `intensity_noise` - responsible for adding noise to the intensity values of the reflectivity curves.\n",
    "\n",
    "    The `GaussianExpIntensityNoise` combines three types of noise:\n",
    "    - Gaussian noise: Applies Gaussian noise to account for count-based Poisson noise as well as other sources of error.\n",
    "    - Shift noise: Applies a multiplicative scaling to the curves, equivalent to a vertical shift in logarithmic space.\n",
    "    - Background noise: Adds a constant background to the curves.\n",
    "\n",
    "    It has the following arguments:\n",
    "    - `relative_errors` - range of relative errors for Gaussian noise.\n",
    "    - `consistent_rel_err` - if `true`, uses a consistent relative error for Gaussian noise across all points in a curve.\n",
    "    - `apply_shift` - if `true`, applies shift noise to the curves.\n",
    "    - `shift_range` - range of shift factors for shift noise.\n",
    "    - `apply_background` - if `true`, applies background noise to the curves.\n",
    "    - `background_range` - range for background values."
   ]
  },
  {
   "cell_type": "markdown",
   "metadata": {},
   "source": [
    "```yaml\n",
    "intensity_noise:\n",
    "  cls: GaussianExpIntensityNoise\n",
    "  kwargs:\n",
    "    relative_errors: [0.01, 0.3]\n",
    "    consistent_rel_err: false\n",
    "    apply_shift: true\n",
    "    shift_range: [-0.3, 0.3]\n",
    "    apply_background: false\n",
    "    background_range: [1.0e-10, 1.0e-4]\n",
    "    add_to_context: true\n",
    "```"
   ]
  },
  {
   "cell_type": "markdown",
   "metadata": {},
   "source": [
    "6. `smearing` (*optional*) - responsible for adding resolution smearing to the curves (which can occur in neutron experiments due to uncertainties in incident angle  or wavelength). The intensity at a q point will be the average of the intensities of neighbouring q points, weighted by a gaussian profile. The arguments of the `Smearing` class are:\n",
    "- `sigma_range` - the range for sampling the resolutions\n",
    "- `constant_dq` - if `True` the smearing is constant (the resolution is given by the constant dq at each point in the curve, i.e. x-ray variant), otherwise the smearing is linear (the resolution is given by the constant dq/q at each point in the curve, i.e. neutron variant)\n",
    "- `gauss_num` - the number of points used to define the Gaussian smearing kernel. A higher number increases precision at the cost of computational efficiency.\n",
    "- `share_smeared` - the share of curves in the batch for which the resolution smearing is applied"
   ]
  },
  {
   "cell_type": "markdown",
   "metadata": {},
   "source": [
    "```yaml\n",
    "dset:   \n",
    "  smearing:\n",
    "    cls: Smearing\n",
    "    kwargs:\n",
    "      sigma_range: [0.01, 0.08]\n",
    "      constant_dq: False\n",
    "      gauss_num: 17\n",
    "      share_smeared: 0.8\n",
    "```"
   ]
  },
  {
   "cell_type": "markdown",
   "metadata": {},
   "source": [
    "7. `curves_scaler` - responsible for scaling the reflectivity curves to a ML-friendly range. The `LogAffineCurvesScaler` class scales the reflectivity curves (R) accoring to the formula: \n",
    "\n",
    "$R_{scaled} = log_{10}(R + eps) \\times weight + bias$\n",
    "\n",
    "The argument `eps` sets the minimum intensity value of the reflectivity curves which is considered. The default values of 1.0e-10 for `eps`, 0.2 for `weight` and 1.0 for `bias` results in the interval [-1, 1] for the scaled reflectivity curves. "
   ]
  },
  {
   "cell_type": "markdown",
   "metadata": {},
   "source": [
    "```yaml\n",
    "dset:    \n",
    "  curves_scaler:\n",
    "    cls: LogAffineCurvesScaler\n",
    "    kwargs:\n",
    "      weight: 0.2\n",
    "      bias: 1.0\n",
    "      eps: 1.0e-10\n",
    "```"
   ]
  },
  {
   "cell_type": "markdown",
   "metadata": {},
   "source": [
    "The `model` key defines the neural network architecture. Its `network` subkey contains the following subkeys:\n",
    "\n",
    "- `cls` - the class of the neural network\n",
    "- `pretrained_name` - the name of a pretrained model used to initialize the weights (optional)\n",
    "- `device` - the Pytorch device (either `cuda` or `cpu`)\n",
    "- `kwargs` - the keyword arguments for the provided class"
   ]
  },
  {
   "cell_type": "markdown",
   "metadata": {},
   "source": [
    "The `NetworkWithPriors` class has the following keyword arguments:\n",
    "- `embedding_net_type` - the type of embedding network (e.g. `'conv'` for a 1D CNN, `'fno'` for a FNO)\n",
    "- `embedding_net_kwargs` - the keyword arguments corresponding to the chosen embedding network (e.g. for the 1D CNN: `in_channels` - the number of input channels of the 1D CNN, `hidden_channels` - list with the number of channels for each layer of the 1D CNN, `dim_embedding` - the dimension of the embedding produced by the 1D CNN, `dim_avpool` - the output size of the adaptive average pooling layer, `activation` - the type of activation function in the 1D CNN)\n",
    "- `pretrained_embedding_net` - the path to the weights of a pretrained embedding network (optional)\n",
    "- `dim_out` - the dimension of the output produced by the MLP (i.e. the number of thin film parameters to be predicted)\n",
    "- `dim_conditioning_params` - the dimension of extra parameters used as input to the network in specific training scenarios (such as the resolution coefficient dq/q), defaults to 0.\n",
    "- `layer_width` - the width (i.e. number of neurons) of a linear layer in the MLP\n",
    "- `num_blocks` - the number of residual blocks in the MLP\n",
    "- `repeats_per_block` - the number of normalization/activation/linear repeats in a block\n",
    "- `use_batch_norm` - whether to use batch normalization in the MLP\n",
    "- `use_layer_norm` - whether to use layer normalization in the MLP (if batch normalization is not used)\n",
    "- `mlp_activation` - the type of activation function in the MLP\n",
    "- `dropout_rate` - dropout rate for each block\n",
    "- `conditioning` - the modality in which the prior bounds are provided to the network, either by concatenating the prior bounds to the data embedding ( `'concat'`) before the MLP or by modulating the intermediated features in each block of the MLP via [FiLM](https://arxiv.org/abs/1709.07871) layers (`'film'`) or [GLU](https://pytorch.org/docs/stable/generated/torch.nn.GLU.html) layers (`'glu'`). If `concat_condition_first_layer` is `true`, the concatenation is performed even when `'film'` or `'glu'` are used.\n"
   ]
  },
  {
   "cell_type": "markdown",
   "metadata": {
    "tags": []
   },
   "source": [
    "```yaml\n",
    "\n",
    "model:\n",
    "  network:\n",
    "    cls: NetworkWithPriors\n",
    "    pretrained_name: null\n",
    "    device: 'cuda'\n",
    "    kwargs:\n",
    "      embedding_net_type: 'conv'\n",
    "      embedding_net_kwargs:\n",
    "        in_channels: 1\n",
    "        hidden_channels: [32, 64, 128, 256, 512]\n",
    "        kernel_size: 3\n",
    "        dim_embedding: 128\n",
    "        dim_avpool: 1\n",
    "        use_batch_norm: true\n",
    "        activation: 'gelu'\n",
    "      pretrained_embedding_net: null\n",
    "      dim_out: 8\n",
    "      dim_conditioning_params: 0\n",
    "      layer_width: 512\n",
    "      num_blocks: 8\n",
    "      repeats_per_block: 2\n",
    "      residual: true\n",
    "      use_batch_norm: true\n",
    "      use_layer_norm: false\n",
    "      mlp_activation: 'gelu'\n",
    "      dropout_rate: 0.0 \n",
    "      conditioning: 'film' # 'concat', 'glu', 'film'\n",
    "      concat_condition_first_layer: false\n",
    "  \n",
    "```"
   ]
  },
  {
   "cell_type": "markdown",
   "metadata": {},
   "source": [
    "The `training` key can be used to customize the training settings:\n",
    "\n",
    "- `trainer_cls` - the class of the trainer (by default `PointEstimatorTrainer`)\n",
    "- `num_iterations` - the total number of training iterations\n",
    "- `batch_size` - the batch size (number of curves generated at each iteration)\n",
    "- `lr` - the initial learning rate\n",
    "- `grad_accumulation_steps` - if larger than 1, training is performed using gradient accumulation with the chosen number of steps\n",
    "- `clip_grad_norm_max` - the maximum norm for gradient clipping (optional)\n",
    "- `update_tqdm_freq` - the frequency for updating the [tqdm progress bar](https://tqdm.github.io/)\n",
    "- `optimizer` - the used [Pytorch optimizer](https://pytorch.org/docs/stable/optim). Default is `AdamW`\n",
    "- `trainer_kwargs` - additional trainer keyword arguments. Can be used to specify optional inputs to the network, such as the q values (`train_with_q_input`) or the resolution coefficient (`condition_on_q_resolutions`). Can also be used for setting the optimizer keyword arguments (`optim_kwargs`).\n",
    "- `callbacks` - (optional) the callback classes together with their keyword arguments.\n",
    "- `logger` - (optional) a Tensorboard logger for monitoring the progress of the training."
   ]
  },
  {
   "cell_type": "markdown",
   "metadata": {},
   "source": [
    "```yaml\n",
    "\n",
    "training:\n",
    "  trainer_cls: PointEstimatorTrainer\n",
    "  num_iterations: 100000\n",
    "  batch_size: 4096\n",
    "  lr: 1.0e-3\n",
    "  grad_accumulation_steps: 1\n",
    "  clip_grad_norm_max: null\n",
    "  update_tqdm_freq: 1\n",
    "  optimizer: AdamW\n",
    "  trainer_kwargs:\n",
    "    train_with_q_input: false\n",
    "    condition_on_q_resolutions: false\n",
    "    rescale_loss_interval_width: true\n",
    "    use_l1_loss: true\n",
    "    optim_kwargs:\n",
    "      betas: [0.9, 0.999]\n",
    "      weight_decay: 0.0005\n",
    "  callbacks:\n",
    "    save_best_model:\n",
    "      enable: true\n",
    "      freq: 500\n",
    "    lr_scheduler:\n",
    "      cls: StepLR\n",
    "      kwargs:\n",
    "        step_size: 20000\n",
    "        gamma: 0.5\n",
    "  logger:\n",
    "    cls: TensorBoardLogger\n",
    "    kwargs:\n",
    "      log_dir: \"tensorboard_runs/test_1\"\n",
    "     \n",
    "```"
   ]
  }
 ],
 "metadata": {
  "kernelspec": {
   "display_name": "Python 3 (ipykernel)",
   "language": "python",
   "name": "python3"
  },
  "language_info": {
   "codemirror_mode": {
    "name": "ipython",
    "version": 3
   },
   "file_extension": ".py",
   "mimetype": "text/x-python",
   "name": "python",
   "nbconvert_exporter": "python",
   "pygments_lexer": "ipython3",
   "version": "3.12.9"
  },
  "widgets": {
   "application/vnd.jupyter.widget-state+json": {
    "state": {},
    "version_major": 2,
    "version_minor": 0
   }
  }
 },
 "nbformat": 4,
 "nbformat_minor": 4
}
