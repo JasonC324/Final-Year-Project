{
 "cells": [
  {
   "cell_type": "markdown",
   "metadata": {},
   "source": [
    "# Training a reflectorch model"
   ]
  },
  {
   "cell_type": "markdown",
   "metadata": {},
   "source": [
    "First, we import the necessary methods from the `reflectorch` package, as well as other basic Python packages:"
   ]
  },
  {
   "cell_type": "code",
   "execution_count": 530,
   "metadata": {
    "tags": []
   },
   "outputs": [
    {
     "name": "stdout",
     "output_type": "stream",
     "text": [
      "['C:/Users/Owner/Desktop/cw/COMP60660/reflectorch', 'C:/Users/Owner/Desktop/cw/COMP60660/reflectorch', 'C:/Users/Owner/Desktop/cw/COMP60660/reflectorch', 'C:/Users/Owner/Desktop/cw/COMP60660/reflectorch', 'C:/Users/Owner/Desktop/cw/COMP60660/reflectorch', 'C:\\\\Program Files\\\\WindowsApps\\\\PythonSoftwareFoundation.Python.3.12_3.12.2544.0_x64__qbz5n2kfra8p0\\\\python312.zip', 'C:\\\\Program Files\\\\WindowsApps\\\\PythonSoftwareFoundation.Python.3.12_3.12.2544.0_x64__qbz5n2kfra8p0\\\\DLLs', 'C:\\\\Program Files\\\\WindowsApps\\\\PythonSoftwareFoundation.Python.3.12_3.12.2544.0_x64__qbz5n2kfra8p0\\\\Lib', 'C:\\\\Program Files\\\\WindowsApps\\\\PythonSoftwareFoundation.Python.3.12_3.12.2544.0_x64__qbz5n2kfra8p0', '', 'C:\\\\Users\\\\Owner\\\\AppData\\\\Local\\\\Packages\\\\PythonSoftwareFoundation.Python.3.12_qbz5n2kfra8p0\\\\LocalCache\\\\local-packages\\\\Python312\\\\site-packages', 'C:\\\\Users\\\\Owner\\\\AppData\\\\Local\\\\Packages\\\\PythonSoftwareFoundation.Python.3.12_qbz5n2kfra8p0\\\\LocalCache\\\\local-packages\\\\Python312\\\\site-packages\\\\win32', 'C:\\\\Users\\\\Owner\\\\AppData\\\\Local\\\\Packages\\\\PythonSoftwareFoundation.Python.3.12_qbz5n2kfra8p0\\\\LocalCache\\\\local-packages\\\\Python312\\\\site-packages\\\\win32\\\\lib', 'C:\\\\Users\\\\Owner\\\\AppData\\\\Local\\\\Packages\\\\PythonSoftwareFoundation.Python.3.12_qbz5n2kfra8p0\\\\LocalCache\\\\local-packages\\\\Python312\\\\site-packages\\\\Pythonwin', 'C:\\\\Program Files\\\\WindowsApps\\\\PythonSoftwareFoundation.Python.3.12_3.12.2544.0_x64__qbz5n2kfra8p0\\\\Lib\\\\site-packages']\n",
      "C:\\Users/Owner/Desktop/cw/COMP60660/reflectorch\\reflectorch\\__init__.py\n"
     ]
    }
   ],
   "source": [
    "import matplotlib.pyplot as plt\n",
    "import numpy as np\n",
    "import torch\n",
    "\n",
    "import sys\n",
    "sys.path.insert(0, r'C:/Users/Owner/Desktop/cw/COMP60660/reflectorch')\n",
    "print(sys.path)\n",
    "\n",
    "import reflectorch as reflectorch\n",
    "print(reflectorch.__file__)\n"
   ]
  },
  {
   "cell_type": "markdown",
   "metadata": {},
   "source": [
    ":::{tip}\n",
    ":class: dropdown\n",
    "\n",
    "Alternatively, we can import everything from reflectorch with\n",
    "`from reflectorch import *`\n",
    ":::"
   ]
  },
  {
   "cell_type": "markdown",
   "metadata": {
    "tags": []
   },
   "source": [
    "## The training loop"
   ]
  },
  {
   "cell_type": "markdown",
   "metadata": {},
   "source": [
    "### Loading the trainer"
   ]
  },
  {
   "cell_type": "markdown",
   "metadata": {},
   "source": [
    "For training a model we use the `Trainer` class, which contains all the components necessary for the training process such as the data generator, the neural network and the optimizer.\n",
    "\n",
    " We can initialize the trainer according to the specifications defined in a YAML configuration file using the `get_trainer_by_name` method which takes as input the name of the configuration file. If the package was installed in editable model, the configuration files are read from the `configs` directory located inside the repository, otherwise the path to the directory containing the configuration file should also be specified using the `config_dir` argument. The `load_weights` argument should be set to `False` since we want the neural network weights to be randomly initialized for a fresh training."
   ]
  },
  {
   "cell_type": "code",
   "execution_count": 539,
   "metadata": {
    "tags": []
   },
   "outputs": [
    {
     "name": "stdout",
     "output_type": "stream",
     "text": [
      "Model Test_v1 loaded. Number of parameters: 5.96 M\n"
     ]
    }
   ],
   "source": [
    "config_name = 'Test_v1'\n",
    "config_dir = \"./reflectorch/configs\"\n",
    "trainer = reflectorch.get_trainer_by_name(config_name,config_dir, load_weights=False)"
   ]
  },
  {
   "cell_type": "code",
   "execution_count": 532,
   "metadata": {},
   "outputs": [
    {
     "data": {
      "text/plain": [
       "ReflectivityDataLoader()"
      ]
     },
     "execution_count": 532,
     "metadata": {},
     "output_type": "execute_result"
    }
   ],
   "source": [
    "trainer.loader"
   ]
  },
  {
   "cell_type": "markdown",
   "metadata": {
    "tags": []
   },
   "source": [
    "The trainer contains several important attributes we can inspect:"
   ]
  },
  {
   "cell_type": "markdown",
   "metadata": {},
   "source": [
    "  1. The Pytorch optimizer. We can observe that the optimizer specified in the configuration is `AdamW`:"
   ]
  },
  {
   "cell_type": "code",
   "execution_count": 533,
   "metadata": {
    "tags": []
   },
   "outputs": [
    {
     "data": {
      "text/plain": [
       "AdamW (\n",
       "Parameter Group 0\n",
       "    amsgrad: False\n",
       "    betas: [0.9, 0.999]\n",
       "    capturable: False\n",
       "    differentiable: False\n",
       "    eps: 1e-08\n",
       "    foreach: None\n",
       "    fused: None\n",
       "    lr: 5e-05\n",
       "    maximize: False\n",
       "    weight_decay: 0.0005\n",
       ")"
      ]
     },
     "execution_count": 533,
     "metadata": {},
     "output_type": "execute_result"
    }
   ],
   "source": [
    "trainer.optim"
   ]
  },
  {
   "cell_type": "markdown",
   "metadata": {
    "tags": []
   },
   "source": [
    ":::{note}\n",
    "The learning rate can be easily changed using `trainer.set_lr(new_lr)`\n",
    ":::"
   ]
  },
  {
   "cell_type": "markdown",
   "metadata": {
    "tags": []
   },
   "source": [
    "  2. The batch size"
   ]
  },
  {
   "cell_type": "code",
   "execution_count": 534,
   "metadata": {
    "tags": []
   },
   "outputs": [
    {
     "data": {
      "text/plain": [
       "4096"
      ]
     },
     "execution_count": 534,
     "metadata": {},
     "output_type": "execute_result"
    }
   ],
   "source": [
    "trainer.batch_size"
   ]
  },
  {
   "cell_type": "markdown",
   "metadata": {},
   "source": [
    "  3. The Pytorch neural network module. We can see that the network is an instance of the class `NetworkWithPriors`. This architecture consists of a multilayer perceptron (MLP) with residual connections, batch normalization layers and GELU activations (`trainer.model.mlp`). An embedding network, here a 1D CNN (`trainer.model.embedding_net`), produces a latent embedding of the input batch of reflectivity curves which is concatenated with the prior bounds for the thin film parameters."
   ]
  },
  {
   "cell_type": "code",
   "execution_count": 535,
   "metadata": {
    "tags": [
     "scroll-output"
    ]
   },
   "outputs": [
    {
     "data": {
      "text/plain": [
       "NetworkWithPriorsConvEmb(\n",
       "  (embedding_net): ConvEncoder(\n",
       "    (core): Sequential(\n",
       "      (0): Sequential(\n",
       "        (0): Conv1d(1, 32, kernel_size=(3,), stride=(2,), padding=(1,))\n",
       "        (1): BatchNorm1d(32, eps=1e-05, momentum=0.1, affine=True, track_running_stats=True)\n",
       "        (2): GELU(approximate='none')\n",
       "      )\n",
       "      (1): Sequential(\n",
       "        (0): Conv1d(32, 64, kernel_size=(3,), stride=(2,), padding=(1,))\n",
       "        (1): BatchNorm1d(64, eps=1e-05, momentum=0.1, affine=True, track_running_stats=True)\n",
       "        (2): GELU(approximate='none')\n",
       "      )\n",
       "      (2): Sequential(\n",
       "        (0): Conv1d(64, 128, kernel_size=(3,), stride=(2,), padding=(1,))\n",
       "        (1): BatchNorm1d(128, eps=1e-05, momentum=0.1, affine=True, track_running_stats=True)\n",
       "        (2): GELU(approximate='none')\n",
       "      )\n",
       "      (3): Sequential(\n",
       "        (0): Conv1d(128, 256, kernel_size=(3,), stride=(2,), padding=(1,))\n",
       "        (1): BatchNorm1d(256, eps=1e-05, momentum=0.1, affine=True, track_running_stats=True)\n",
       "        (2): GELU(approximate='none')\n",
       "      )\n",
       "      (4): Sequential(\n",
       "        (0): Conv1d(256, 512, kernel_size=(3,), stride=(2,), padding=(1,))\n",
       "        (1): BatchNorm1d(512, eps=1e-05, momentum=0.1, affine=True, track_running_stats=True)\n",
       "        (2): GELU(approximate='none')\n",
       "      )\n",
       "    )\n",
       "    (avpool): AdaptiveAvgPool1d(output_size=1)\n",
       "    (fc): Linear(in_features=512, out_features=128, bias=True)\n",
       "  )\n",
       "  (mlp): ResidualMLP(\n",
       "    (first_layer): Linear(in_features=162, out_features=512, bias=True)\n",
       "    (blocks): ModuleList(\n",
       "      (0-9): 10 x ResidualBlock(\n",
       "        (activation): GELU(approximate='none')\n",
       "        (batch_norm_layers): ModuleList(\n",
       "          (0-1): 2 x BatchNorm1d(512, eps=0.001, momentum=0.1, affine=True, track_running_stats=True)\n",
       "        )\n",
       "        (linear_layers): ModuleList(\n",
       "          (0-1): 2 x Linear(in_features=512, out_features=512, bias=True)\n",
       "        )\n",
       "        (dropout): Dropout(p=0.05, inplace=False)\n",
       "      )\n",
       "    )\n",
       "    (last_layer): Linear(in_features=512, out_features=17, bias=True)\n",
       "  )\n",
       ")"
      ]
     },
     "execution_count": 535,
     "metadata": {},
     "output_type": "execute_result"
    }
   ],
   "source": [
    "trainer.model"
   ]
  },
  {
   "cell_type": "code",
   "execution_count": 536,
   "metadata": {},
   "outputs": [],
   "source": [
    "simulated_data = trainer.loader.get_batch(batch_size=64)"
   ]
  },
  {
   "cell_type": "markdown",
   "metadata": {},
   "source": [
    "### Defining callbacks"
   ]
  },
  {
   "cell_type": "markdown",
   "metadata": {},
   "source": [
    "We can control the training process using callback objects, such as:"
   ]
  },
  {
   "cell_type": "markdown",
   "metadata": {},
   "source": [
    "  1. `JPlotLoss` - allows the interactive visualization of the loss curve when training inside a Jupyter Notebook, the `frequency` argument setting the refresh rate of the interactive widget"
   ]
  },
  {
   "cell_type": "markdown",
   "metadata": {},
   "source": [
    "  2. `StepLR` - implements a learning rate scheduler which decreases the learning rate in steps (after a number of iterations defined by `step_size` the learning rate is multiplied by the factor `gamma`). Other types of learning rate schedulers can alternatively be used, such as `CosineAnnealingWithWarmup`, `LogCyclicLR`, `OneCycleLR` or `ReduceLROnPlateau`."
   ]
  },
  {
   "cell_type": "markdown",
   "metadata": {},
   "source": [
    "  3. `SaveBestModel` - it enables the periodic saving of the weights of the neural network during training. After a number of iterations defined by the `freq` argument, the weights of the neural network are saved at the specified `path` if the current average loss (computed over the last `average` iterations) is lower than the loss for the previous save. The history of the losses and learning rate values is also saved."
   ]
  },
  {
   "cell_type": "markdown",
   "metadata": {},
   "source": [
    "When the package is installed in editable mode, the default save path is relative to the repository directory (defined by the global variable `SAVED_MODELS_DIR`). "
   ]
  },
  {
   "cell_type": "code",
   "execution_count": 39,
   "metadata": {
    "tags": []
   },
   "outputs": [
    {
     "name": "stdout",
     "output_type": "stream",
     "text": [
      "C:/Users/Owner/Desktop/cw/COMP60660/reflectorch/model_Test_v1.pt\n"
     ]
    }
   ],
   "source": [
    "save_model_name = 'model_' + config_name + '.pt'\n",
    "#save_path = str(SAVED_MODELS_DIR / save_model_name)\n",
    "save_path = 'C:/Users/Owner/Desktop/cw/COMP60660/reflectorch/'+save_model_name\n",
    "print(save_path)"
   ]
  },
  {
   "cell_type": "code",
   "execution_count": 540,
   "metadata": {},
   "outputs": [],
   "source": [
    "callbacks = reflectorch.get_callbacks_by_name(config_name)"
   ]
  },
  {
   "cell_type": "markdown",
   "metadata": {},
   "source": [
    "We group the callback objects together in a touple:"
   ]
  },
  {
   "cell_type": "code",
   "execution_count": null,
   "metadata": {
    "tags": []
   },
   "outputs": [],
   "source": [
    "callbacks = (\n",
    "    JPlotLoss(frequency=10), \n",
    "    StepLR(step_size=5000, gamma=0.1, last_epoch=-1), \n",
    "    SaveBestModel(path=save_path, freq=100, average=10),\n",
    ")"
   ]
  },
  {
   "cell_type": "markdown",
   "metadata": {},
   "source": [
    ":::{note}\n",
    "The callbacks can also be initialized directly from the configuration file:\n",
    "`callbacks = get_callbacks_by_name(config_name)`\n",
    ":::"
   ]
  },
  {
   "cell_type": "markdown",
   "metadata": {},
   "source": [
    "### Run the training"
   ]
  },
  {
   "cell_type": "markdown",
   "metadata": {
    "tags": []
   },
   "source": [
    "The training process is initiated by calling the `train` method of the trainer. This method accepts as arguments the previously defined tuple of callbacks, as well as the number of iterations (batches). Notably, a new batch of data is generated at each iteration, the training taking place in a \"one-epoch regime\"."
   ]
  },
  {
   "cell_type": "markdown",
   "metadata": {},
   "source": [
    "```python\n",
    "trainer.train(num_batches=1000, callbacks=callbacks)\n",
    "```"
   ]
  },
  {
   "cell_type": "markdown",
   "metadata": {},
   "source": [
    "After training, the history of the losses and learning rates can be accessed via `trainer.losses` and `trainer.lrs`. We can also find them together with the model state_dict in the saved dictionary:"
   ]
  },
  {
   "cell_type": "code",
   "execution_count": 541,
   "metadata": {},
   "outputs": [
    {
     "name": "stderr",
     "output_type": "stream",
     "text": [
      "Loss = 2.46e-01: 100%|█████████████████████████████████| 1000/1000 [3:47:13<00:00, 13.63s/it, loss=0.2460, lr=5.00e-05]\n"
     ]
    }
   ],
   "source": [
    "trainer.train(num_batches=1000, callbacks=callbacks)"
   ]
  },
  {
   "cell_type": "code",
   "execution_count": 545,
   "metadata": {},
   "outputs": [],
   "source": [
    "from safetensors.torch import save_file\n",
    "\n",
    "torch.save(trainer.model.state_dict(), \"C:/Users/Owner/Desktop/cw/COMP60660/reflectorch/saved_models/Test_v1_model.pt\")\n",
    "save_file(trainer.model.state_dict(), \"C:/Users/Owner/Desktop/cw/COMP60660/reflectorch/saved_models/Test_v1_model.safetensors\")"
   ]
  },
  {
   "cell_type": "code",
   "execution_count": 32,
   "metadata": {},
   "outputs": [],
   "source": [
    "batch_size = 64\n",
    "simulated_data = trainer.loader.get_batch(batch_size=batch_size)"
   ]
  },
  {
   "cell_type": "markdown",
   "metadata": {},
   "source": [
    "UIOWQHIUPDUIADHUIWDHUIAWDHUIWDHIUAWIDUHHWUIDHUIAWDUHAIWDIU\n"
   ]
  },
  {
   "cell_type": "code",
   "execution_count": null,
   "metadata": {},
   "outputs": [
    {
     "name": "stdout",
     "output_type": "stream",
     "text": [
      "C:/Users/Owner/Desktop/cw/COMP60660/reflectorch/OneDrive_2025-08-12/ML for XRR training data/Ta_Pt_BL_training_data_500k_pickle\n",
      "Index(['Sample_structure', 'Thicknesses (Å)', 'SLDs (Å-2)', 'Roughnesses (Å)',\n",
      "       'tth (deg)', 'Q (Å-1)', 'Intensity'],\n",
      "      dtype='string')\n",
      "Sample_structure                  Si1O2/Ta(400.498413)/Pt(322.319515)\n",
      "Thicknesses (Å)                             [inf, 400.4984, 322.3195]\n",
      "SLDs (Å-2)          [(2.2723742167812018e-05+2.9357827346307825e-0...\n",
      "Roughnesses (Å)     [7.655204043107027, 40.417871652441875, 10.742...\n",
      "tth (deg)           [[0.0], [0.01335559265442404], [0.026711185308...\n",
      "Q (Å-1)             [[0.0], [0.0009506758886771876], [0.0019013517...\n",
      "Intensity           [[1.0], [0.9972760490026381], [0.9945584558856...\n",
      "Name: 0, dtype: object\n",
      "0.0\n",
      "60.0\n",
      "2.2723741e-05\n",
      "0.00016865543\n",
      "(499500, 8)\n",
      "torch.Size([16])\n",
      "0.0\n",
      "60.0\n",
      "2.2723741e-05\n",
      "0.0001616721\n",
      "(500, 8)\n",
      "torch.Size([16])\n",
      "torch.Size([499500, 600])\n",
      "(499500, 8)\n",
      "(499500, 600)\n",
      "[4.09813900e+02 1.13238400e+02 5.32098176e+00 4.44074386e+01\n",
      " 1.92118506e+01 2.27237415e-05 1.09137451e-04 1.60552896e-04]\n"
     ]
    }
   ],
   "source": [
    "from load_training_data import load_scale_data\n",
    "\n",
    "training_data,testing_data = load_scale_data(r\"C:/Users/Owner/Desktop/cw/COMP60660/reflectorch/OneDrive_2025-08-12/ML for XRR training data/Ta_Pt_BL_training_data_500k_pickle\"\n",
    "                                            ,train_split = 0.999)\n",
    "(curves, curves_scaled, params, params_scaled, q_values, num_layers,scaled_bounds, bounds) = training_data\n",
    "\n",
    "print(curves_scaled.shape)\n",
    "print(params_scaled.shape)\n",
    "print(q_values.shape)\n",
    "print(params[0])"
   ]
  },
  {
   "cell_type": "code",
   "execution_count": 323,
   "metadata": {},
   "outputs": [],
   "source": [
    "from reflectorch.data_generation.InputPreMadeDataset import InputPreMadeDataset\n",
    "dataset = InputPreMadeDataset(q_values,curves, curves_scaled, params, params_scaled,scaled_bounds)\n",
    "\n",
    "\n",
    "from reflectorch.ml.dataloaders import ReflectivityDataLoader\n",
    "from reflectorch.ml.basic_trainer import DataLoader\n",
    "#from reflectorch.ml.basic_trainer import _StackedTrainerCallbacks\n",
    "\n",
    "#dataloader = ReflectivityDataLoader(dataset, DataLoader)"
   ]
  },
  {
   "cell_type": "code",
   "execution_count": 375,
   "metadata": {},
   "outputs": [
    {
     "name": "stdout",
     "output_type": "stream",
     "text": [
      "Model b_mc_point_xray_conv_standard_L2_InputQ loaded. Number of parameters: 5.02 M\n"
     ]
    },
    {
     "data": {
      "text/plain": [
       "4096"
      ]
     },
     "execution_count": 375,
     "metadata": {},
     "output_type": "execute_result"
    }
   ],
   "source": [
    "config_name = 'b_mc_point_xray_conv_standard_L2_InputQ'\n",
    "config_dir = \"./reflectorch/configs\"\n",
    "trainer = reflectorch.get_trainer_by_name(config_name,config_dir, load_weights=False)\n",
    "trainer.model\n",
    "trainer.lr\n",
    "trainer.batch_size"
   ]
  },
  {
   "cell_type": "code",
   "execution_count": null,
   "metadata": {},
   "outputs": [],
   "source": [
    "torch.save(trainer.model.state_dict(), \"b_mc_point_xray_conv_standard_L2_InputQ.pt\")"
   ]
  },
  {
   "cell_type": "code",
   "execution_count": null,
   "metadata": {},
   "outputs": [],
   "source": [
    "print(type(trainer.loader))\n",
    "#print(type(dataloader))"
   ]
  },
  {
   "cell_type": "code",
   "execution_count": null,
   "metadata": {},
   "outputs": [
    {
     "name": "stdout",
     "output_type": "stream",
     "text": [
      "Model successfully built on cuda:\n",
      "NetworkWithPriors(\n",
      "  (embedding_net): ConvEncoder(\n",
      "    (core): Sequential(\n",
      "      (0): Sequential(\n",
      "        (0): Conv1d(2, 32, kernel_size=(3,), stride=(2,), padding=(1,))\n",
      "        (1): BatchNorm1d(32, eps=1e-05, momentum=0.1, affine=True, track_running_stats=True)\n",
      "        (2): GELU(approximate='none')\n",
      "      )\n",
      "      (1): Sequential(\n",
      "        (0): Conv1d(32, 64, kernel_size=(3,), stride=(2,), padding=(1,))\n",
      "        (1): BatchNorm1d(64, eps=1e-05, momentum=0.1, affine=True, track_running_stats=True)\n",
      "        (2): GELU(approximate='none')\n",
      "      )\n",
      "      (2): Sequential(\n",
      "        (0): Conv1d(64, 128, kernel_size=(3,), stride=(2,), padding=(1,))\n",
      "        (1): BatchNorm1d(128, eps=1e-05, momentum=0.1, affine=True, track_running_stats=True)\n",
      "        (2): GELU(approximate='none')\n",
      "      )\n",
      "      (3): Sequential(\n",
      "        (0): Conv1d(128, 256, kernel_size=(3,), stride=(2,), padding=(1,))\n",
      "        (1): BatchNorm1d(256, eps=1e-05, momentum=0.1, affine=True, track_running_stats=True)\n",
      "        (2): GELU(approximate='none')\n",
      "      )\n",
      "      (4): Sequential(\n",
      "        (0): Conv1d(256, 512, kernel_size=(3,), stride=(2,), padding=(1,))\n",
      "        (1): BatchNorm1d(512, eps=1e-05, momentum=0.1, affine=True, track_running_stats=True)\n",
      "        (2): GELU(approximate='none')\n",
      "      )\n",
      "    )\n",
      "    (avpool): AdaptiveAvgPool1d(output_size=1)\n",
      "    (fc): Linear(in_features=512, out_features=128, bias=True)\n",
      "  )\n",
      "  (mlp): ResidualMLP(\n",
      "    (first_layer): Linear(in_features=128, out_features=512, bias=True)\n",
      "    (blocks): ModuleList(\n",
      "      (0-7): 8 x ResidualBlock(\n",
      "        (activation): GELU(approximate='none')\n",
      "        (batch_norm_layers): ModuleList(\n",
      "          (0-1): 2 x BatchNorm1d(512, eps=0.001, momentum=0.1, affine=True, track_running_stats=True)\n",
      "        )\n",
      "        (condition_layer): Linear(in_features=16, out_features=1024, bias=True)\n",
      "        (linear_layers): ModuleList(\n",
      "          (0-1): 2 x Linear(in_features=512, out_features=512, bias=True)\n",
      "        )\n",
      "      )\n",
      "    )\n",
      "    (last_layer): Linear(in_features=512, out_features=8, bias=True)\n",
      "  )\n",
      ")\n"
     ]
    }
   ],
   "source": [
    "import torch\n",
    "from reflectorch.models.networks.mlp_networks import NetworkWithPriors\n",
    "\n",
    "model_cfg = {\n",
    "    \"cls\": \"NetworkWithPriors\",\n",
    "    \"device\": \"cuda\",\n",
    "    \"kwargs\": {\n",
    "        \"embedding_net_type\": \"conv\",\n",
    "        \"embedding_net_kwargs\": {\n",
    "            \"in_channels\": 2,\n",
    "            \"hidden_channels\": [32, 64, 128, 256, 512],\n",
    "            \"kernel_size\": 3,\n",
    "            \"dim_embedding\": 128,\n",
    "            \"dim_avpool\": 1,\n",
    "            \"use_batch_norm\": True,\n",
    "            \"use_se\": False,\n",
    "            \"activation\": \"gelu\",\n",
    "        },\n",
    "        \"pretrained_embedding_net\": None,\n",
    "        \"dim_out\": 8,\n",
    "        \"dim_conditioning_params\": 0,\n",
    "        \"layer_width\": 512,\n",
    "        \"num_blocks\": 8,\n",
    "        \"repeats_per_block\": 2,\n",
    "        \"residual\": True,\n",
    "        \"use_batch_norm\": True,\n",
    "        \"use_layer_norm\": False,\n",
    "        \"mlp_activation\": \"gelu\",\n",
    "        \"dropout_rate\": 0.0,\n",
    "        \"tanh_output\": False,\n",
    "        \"conditioning\": \"film\",\n",
    "        \"concat_condition_first_layer\": False,\n",
    "    }\n",
    "}\n",
    "\n",
    "# instantiate\n",
    "device = torch.device(model_cfg[\"device\"])\n",
    "net_kwargs = model_cfg[\"kwargs\"]\n",
    "\n",
    "test_model = NetworkWithPriors(\n",
    "    embedding_net_type         = net_kwargs[\"embedding_net_type\"],\n",
    "    embedding_net_kwargs       = net_kwargs[\"embedding_net_kwargs\"],\n",
    "    pretrained_embedding_net   = net_kwargs[\"pretrained_embedding_net\"],\n",
    "    dim_out                    = net_kwargs[\"dim_out\"],\n",
    "    dim_conditioning_params    = net_kwargs[\"dim_conditioning_params\"],\n",
    "    layer_width                = net_kwargs[\"layer_width\"],\n",
    "    num_blocks                 = net_kwargs[\"num_blocks\"],\n",
    "    repeats_per_block          = net_kwargs[\"repeats_per_block\"],\n",
    "    mlp_activation             = net_kwargs[\"mlp_activation\"],\n",
    "    use_batch_norm             = net_kwargs[\"use_batch_norm\"],\n",
    "    use_layer_norm             = net_kwargs[\"use_layer_norm\"],\n",
    "    dropout_rate               = net_kwargs[\"dropout_rate\"],\n",
    "    tanh_output                = net_kwargs[\"tanh_output\"],\n",
    "    residual                   = net_kwargs[\"residual\"],\n",
    "    adaptive_activation        = False,\n",
    "    conditioning                = net_kwargs[\"conditioning\"],\n",
    "    concat_condition_first_layer = net_kwargs[\"concat_condition_first_layer\"],\n",
    ").to(device)\n",
    "\n",
    "print(f\"Model successfully built on {device}:\")\n",
    "print(test_model)\n"
   ]
  },
  {
   "cell_type": "code",
   "execution_count": 397,
   "metadata": {},
   "outputs": [
    {
     "name": "stdout",
     "output_type": "stream",
     "text": [
      "NetworkWithPriors(\n",
      "  (embedding_net): ConvEncoder(\n",
      "    (core): Sequential(\n",
      "      (0): Sequential(\n",
      "        (0): Conv1d(2, 32, kernel_size=(3,), stride=(2,), padding=(1,))\n",
      "        (1): BatchNorm1d(32, eps=1e-05, momentum=0.1, affine=True, track_running_stats=True)\n",
      "        (2): GELU(approximate='none')\n",
      "      )\n",
      "      (1): Sequential(\n",
      "        (0): Conv1d(32, 64, kernel_size=(3,), stride=(2,), padding=(1,))\n",
      "        (1): BatchNorm1d(64, eps=1e-05, momentum=0.1, affine=True, track_running_stats=True)\n",
      "        (2): GELU(approximate='none')\n",
      "      )\n",
      "      (2): Sequential(\n",
      "        (0): Conv1d(64, 128, kernel_size=(3,), stride=(2,), padding=(1,))\n",
      "        (1): BatchNorm1d(128, eps=1e-05, momentum=0.1, affine=True, track_running_stats=True)\n",
      "        (2): GELU(approximate='none')\n",
      "      )\n",
      "      (3): Sequential(\n",
      "        (0): Conv1d(128, 256, kernel_size=(3,), stride=(2,), padding=(1,))\n",
      "        (1): BatchNorm1d(256, eps=1e-05, momentum=0.1, affine=True, track_running_stats=True)\n",
      "        (2): GELU(approximate='none')\n",
      "      )\n",
      "      (4): Sequential(\n",
      "        (0): Conv1d(256, 512, kernel_size=(3,), stride=(2,), padding=(1,))\n",
      "        (1): BatchNorm1d(512, eps=1e-05, momentum=0.1, affine=True, track_running_stats=True)\n",
      "        (2): GELU(approximate='none')\n",
      "      )\n",
      "    )\n",
      "    (avpool): AdaptiveAvgPool1d(output_size=1)\n",
      "    (fc): Linear(in_features=512, out_features=128, bias=True)\n",
      "  )\n",
      "  (mlp): ResidualMLP(\n",
      "    (first_layer): Linear(in_features=128, out_features=512, bias=True)\n",
      "    (blocks): ModuleList(\n",
      "      (0-7): 8 x ResidualBlock(\n",
      "        (activation): GELU(approximate='none')\n",
      "        (batch_norm_layers): ModuleList(\n",
      "          (0-1): 2 x BatchNorm1d(512, eps=0.001, momentum=0.1, affine=True, track_running_stats=True)\n",
      "        )\n",
      "        (condition_layer): Linear(in_features=16, out_features=1024, bias=True)\n",
      "        (linear_layers): ModuleList(\n",
      "          (0-1): 2 x Linear(in_features=512, out_features=512, bias=True)\n",
      "        )\n",
      "      )\n",
      "    )\n",
      "    (last_layer): Linear(in_features=512, out_features=8, bias=True)\n",
      "  )\n",
      ")\n"
     ]
    }
   ],
   "source": [
    "test_model = trainer.model\n",
    "print(test_model)"
   ]
  },
  {
   "cell_type": "code",
   "execution_count": 396,
   "metadata": {},
   "outputs": [],
   "source": [
    "from reflectorch.ml.RealDataTrainer import RealDataTrainer\n",
    "\n",
    "customtrainer = RealDataTrainer(\n",
    "    model=test_model,\n",
    "    loader=dataset,\n",
    "    lr=1.0e-4,\n",
    "    batch_size=4096,\n",
    "    optim = trainer.optim\n",
    ")\n"
   ]
  },
  {
   "cell_type": "code",
   "execution_count": 398,
   "metadata": {},
   "outputs": [
    {
     "name": "stderr",
     "output_type": "stream",
     "text": [
      "Loss = 8.32e-02: 100%|█████████████████████████████████████| 110/110 [00:08<00:00, 12.70it/s, loss=0.0817, lr=1.00e-03]\n"
     ]
    }
   ],
   "source": [
    "customtrainer.train(num_batches=110, callbacks = callbacks)"
   ]
  },
  {
   "cell_type": "code",
   "execution_count": 327,
   "metadata": {},
   "outputs": [],
   "source": [
    "torch.save(test_model.state_dict(), \"model_test_train.pt\")"
   ]
  },
  {
   "cell_type": "code",
   "execution_count": 378,
   "metadata": {},
   "outputs": [
    {
     "name": "stdout",
     "output_type": "stream",
     "text": [
      "BasicParams(batch_size=64, max_layer_num=2, device=cuda:0)\n"
     ]
    }
   ],
   "source": [
    "batch_size = 64\n",
    "\n",
    "simulated_data = trainer.loader.get_batch(batch_size=batch_size)\n",
    "print(simulated_data['params'])"
   ]
  },
  {
   "cell_type": "code",
   "execution_count": 363,
   "metadata": {},
   "outputs": [
    {
     "ename": "KeyError",
     "evalue": "'curves'",
     "output_type": "error",
     "traceback": [
      "\u001b[1;31m---------------------------------------------------------------------------\u001b[0m",
      "\u001b[1;31mKeyError\u001b[0m                                  Traceback (most recent call last)",
      "Cell \u001b[1;32mIn[363], line 4\u001b[0m\n\u001b[0;32m      1\u001b[0m q \u001b[38;5;241m=\u001b[39m simulated_data[\u001b[38;5;124m'\u001b[39m\u001b[38;5;124mq_values\u001b[39m\u001b[38;5;124m'\u001b[39m]\n\u001b[0;32m      2\u001b[0m \u001b[38;5;66;03m#scaled_noisy_curves = simulated_data['scaled_noisy_curves']\u001b[39;00m\n\u001b[0;32m      3\u001b[0m \u001b[38;5;66;03m#unscaled_noisy_curves = trainer.loader.curves_scaler.restore(scaled_noisy_curves)\u001b[39;00m\n\u001b[1;32m----> 4\u001b[0m unscaled_denoised_curve \u001b[38;5;241m=\u001b[39m \u001b[43msimulated_data\u001b[49m\u001b[43m[\u001b[49m\u001b[38;5;124;43m'\u001b[39;49m\u001b[38;5;124;43mcurves\u001b[39;49m\u001b[38;5;124;43m'\u001b[39;49m\u001b[43m]\u001b[49m\n\u001b[0;32m      6\u001b[0m \u001b[38;5;28;01mdef\u001b[39;00m \u001b[38;5;21mplot_refl_curve\u001b[39m(i\u001b[38;5;241m=\u001b[39m\u001b[38;5;241m0\u001b[39m):\n\u001b[0;32m      7\u001b[0m     fig, ax \u001b[38;5;241m=\u001b[39m plt\u001b[38;5;241m.\u001b[39msubplots(\u001b[38;5;241m1\u001b[39m,\u001b[38;5;241m1\u001b[39m,figsize\u001b[38;5;241m=\u001b[39m(\u001b[38;5;241m6\u001b[39m,\u001b[38;5;241m6\u001b[39m))\n",
      "\u001b[1;31mKeyError\u001b[0m: 'curves'"
     ]
    }
   ],
   "source": [
    "q = simulated_data['q_values']\n",
    "#scaled_noisy_curves = simulated_data['scaled_noisy_curves']\n",
    "#unscaled_noisy_curves = trainer.loader.curves_scaler.restore(scaled_noisy_curves)\n",
    "unscaled_denoised_curve = simulated_data['curves']\n",
    "\n",
    "def plot_refl_curve(i=0):\n",
    "    fig, ax = plt.subplots(1,1,figsize=(6,6))\n",
    "\n",
    "    ax.set_yscale('log')\n",
    "    ax.set_ylim(0.5e-10, 5)\n",
    "\n",
    "    ax.set_xlabel('q [$Å^{-1}$]', fontsize=20)\n",
    "    ax.set_ylabel('R(q)', fontsize=20)\n",
    "\n",
    "    ax.tick_params(axis='both', which='major', labelsize=15)\n",
    "    ax.tick_params(axis='both', which='minor', labelsize=15)\n",
    "    \n",
    "    y_tick_locations = [10**(-2*i) for i in range(6)]\n",
    "    ax.yaxis.set_major_locator(plt.FixedLocator(y_tick_locations))\n",
    "        \n",
    "    #ax.scatter(q[i].cpu().numpy(), unscaled_noisy_curves[i].cpu().numpy() + 1e-10, c='b', s=2, label='simulated curve')\n",
    "    ax.plot(q[i].cpu().numpy(), unscaled_denoised_curve[i].cpu().numpy() + 1e-10, c='g', lw=1, label='theoretical curve')\n",
    "\n",
    "    ax.legend(loc='upper right', fontsize=14)\n",
    "\n",
    "plot_refl_curve(i=0)"
   ]
  },
  {
   "cell_type": "code",
   "execution_count": 364,
   "metadata": {},
   "outputs": [
    {
     "name": "stdout",
     "output_type": "stream",
     "text": [
      "Number of layers: 2,  Number of film parameters: 8\n"
     ]
    }
   ],
   "source": [
    "n_layers = simulated_data['params'].max_layer_num\n",
    "n_params = simulated_data['params'].num_params\n",
    "\n",
    "print(f'Number of layers: {n_layers},  Number of film parameters: {n_params}')"
   ]
  },
  {
   "cell_type": "code",
   "execution_count": 390,
   "metadata": {},
   "outputs": [
    {
     "name": "stdout",
     "output_type": "stream",
     "text": [
      "tensor([-0.6679, -0.6963,  0.0162, -0.9065, -0.9201, -0.4777, -0.6661,  0.4104,\n",
      "         0.4926, -0.2229,  0.1839, -0.0368, -0.4205, -0.2881, -0.4990,  0.5862],\n",
      "       device='cuda:0', dtype=torch.float64)\n",
      "torch.Size([64, 24])\n"
     ]
    }
   ],
   "source": [
    "scaled_bounds = simulated_data['scaled_params'][..., n_params:]\n",
    "q_values = simulated_data[\"q_values\"]\n",
    "\n",
    "print(scaled_bounds[0])\n",
    "print(simulated_data['scaled_params'].shape)"
   ]
  },
  {
   "cell_type": "code",
   "execution_count": 491,
   "metadata": {},
   "outputs": [
    {
     "name": "stdout",
     "output_type": "stream",
     "text": [
      "torch.float32\n",
      "torch.Size([500, 8])\n"
     ]
    }
   ],
   "source": [
    "(testing_curves, testing_curves_scaled, testing_params, testing_params_scaled, testing_q_values, testing_num_layers,testing_scaled_bounds, testing_bounds) = testing_data\n",
    "\n",
    "device = next(customtrainer.model.parameters()).device\n",
    "dtype  = next(customtrainer.model.parameters()).dtype\n",
    "print(dtype)\n",
    "\n",
    "if not isinstance(testing_curves_scaled, torch.Tensor):\n",
    "    eval_curves = torch.tensor(testing_curves_scaled)\n",
    "else:\n",
    "    eval_curves = testing_curves_scaled\n",
    "\n",
    "if not isinstance(testing_q_values, torch.Tensor):\n",
    "    eval_q_values = torch.tensor(testing_q_values)\n",
    "else:\n",
    "    eval_q_values = testing_q_values\n",
    "\n",
    "if not isinstance(testing_scaled_bounds, torch.Tensor):\n",
    "    eval_bounds = torch.tensor(testing_scaled_bounds)\n",
    "else:\n",
    "    eval_bounds = testing_scaled_bounds\n",
    "\n",
    "\n",
    "eval_curves = eval_curves.to(device=device, dtype=dtype)\n",
    "eval_q_values = eval_q_values.to(device=device, dtype=dtype)\n",
    "eval_bounds = eval_bounds.to(device=device, dtype=dtype)\n",
    "\n",
    "with torch.no_grad():\n",
    "    customtrainer.model.eval()\n",
    "\n",
    "    scaled_predicted_params = customtrainer.model(\n",
    "    curves=eval_curves,\n",
    "    bounds=eval_bounds,\n",
    "    q_values = eval_q_values,\n",
    "    )\n",
    "\n",
    "    print(scaled_predicted_params.shape)\n",
    "\n"
   ]
  },
  {
   "cell_type": "code",
   "execution_count": 492,
   "metadata": {},
   "outputs": [
    {
     "name": "stdout",
     "output_type": "stream",
     "text": [
      "(tensor([5.0000e+02, 5.0000e+02, 6.0000e+01, 6.0000e+01, 6.0000e+01, 1.3895e-04,\n",
      "        1.3895e-04, 1.3895e-04]), tensor([0.0000e+00, 0.0000e+00, 0.0000e+00, 0.0000e+00, 0.0000e+00, 2.2724e-05,\n",
      "        2.2724e-05, 2.2724e-05]))\n",
      "tensor([-1., -1., -1., -1., -1., -1., -1., -1.,  1.,  1.,  1.,  1.,  1.,  1.,\n",
      "         1.,  1.])\n",
      "tensor([-0.3084, -0.3746, -1.0237, -0.5170,  0.0684, -1.0109,  0.1024,  0.6471],\n",
      "       device='cuda:0')\n"
     ]
    }
   ],
   "source": [
    "print(testing_bounds)\n",
    "print(testing_scaled_bounds)\n",
    "print(scaled_predicted_params[0])"
   ]
  },
  {
   "cell_type": "code",
   "execution_count": 493,
   "metadata": {},
   "outputs": [
    {
     "name": "stdout",
     "output_type": "stream",
     "text": [
      "tensor([[-1.5419e+02, -1.8729e+02, -6.1420e+01,  ..., -1.1774e-04,\n",
      "          3.6955e-05,  1.1264e-04],\n",
      "        [ 2.6357e+02,  2.8164e+02, -3.1759e+01,  ..., -1.1952e-04,\n",
      "          3.4219e-05,  1.1587e-04],\n",
      "        [ 5.3972e+01,  1.9390e+01, -4.0217e+01,  ..., -1.1166e-04,\n",
      "          3.9308e-05,  1.1102e-04],\n",
      "        ...,\n",
      "        [ 1.6371e+02,  4.3604e+01, -1.8975e+01,  ..., -1.2481e-04,\n",
      "          3.4798e-05,  1.1153e-04],\n",
      "        [ 1.4177e+02, -2.3125e+02, -6.0217e+01,  ..., -1.2508e-04,\n",
      "          4.3098e-05,  1.0121e-04],\n",
      "        [ 2.8604e+02,  2.5632e+02, -3.0813e+01,  ..., -1.2012e-04,\n",
      "          3.2012e-05,  1.1567e-04]], device='cuda:0')\n"
     ]
    }
   ],
   "source": [
    "def unscale_params(scaled, span, min_vals) -> torch.Tensor:\n",
    "    \"\"\"\n",
    "    scaled: [B, 8] tensor in [0,1]\n",
    "    returns: [B, 8] tensor in physical units\n",
    "    \"\"\"\n",
    "    temp = scaled * span[None, :] + min_vals[None, :]\n",
    "    return temp\n",
    "\n",
    "span =testing_bounds[0].to(device)\n",
    "min_val =testing_bounds[1].to(device)\n",
    "restored_predictions = unscale_params(scaled_predicted_params,span,min_val)\n",
    "restored_predictions = torch.real(restored_predictions)\n",
    "print(restored_predictions)\n",
    "\n"
   ]
  },
  {
   "cell_type": "code",
   "execution_count": 494,
   "metadata": {},
   "outputs": [
    {
     "name": "stdout",
     "output_type": "stream",
     "text": [
      "torch.Size([500, 8])\n"
     ]
    }
   ],
   "source": [
    "print(restored_predictions.shape)"
   ]
  },
  {
   "cell_type": "code",
   "execution_count": 495,
   "metadata": {},
   "outputs": [
    {
     "name": "stdout",
     "output_type": "stream",
     "text": [
      "Predicted thicknesses: tensor([[0.0000e+00, 0.0000e+00],\n",
      "        [2.6357e+02, 2.8164e+02],\n",
      "        [5.3972e+01, 1.9390e+01],\n",
      "        [1.1679e+02, 5.2828e+01],\n",
      "        [1.1341e+02, 0.0000e+00],\n",
      "        [1.6298e+02, 4.2911e+02],\n",
      "        [3.6766e+01, 0.0000e+00],\n",
      "        [8.5170e+01, 0.0000e+00],\n",
      "        [4.1333e+01, 0.0000e+00],\n",
      "        [1.3178e+02, 1.1289e+02],\n",
      "        [3.0006e+02, 8.6309e+01],\n",
      "        [2.3805e+02, 1.6628e+02],\n",
      "        [7.6790e+01, 0.0000e+00],\n",
      "        [0.0000e+00, 0.0000e+00],\n",
      "        [6.1703e+01, 0.0000e+00],\n",
      "        [2.7139e+02, 3.9260e+02],\n",
      "        [2.1729e+02, 1.4106e+02],\n",
      "        [2.4751e+02, 7.0815e+01],\n",
      "        [1.0009e+02, 2.5948e+02],\n",
      "        [0.0000e+00, 3.1630e+02],\n",
      "        [4.9003e+01, 0.0000e+00],\n",
      "        [1.5331e+02, 0.0000e+00],\n",
      "        [1.9208e+02, 2.6663e+01],\n",
      "        [2.9938e+02, 2.6813e+02],\n",
      "        [3.0646e+02, 3.8685e+01],\n",
      "        [0.0000e+00, 0.0000e+00],\n",
      "        [1.7334e+02, 0.0000e+00],\n",
      "        [2.5012e+02, 3.2208e+02],\n",
      "        [6.8999e+01, 0.0000e+00],\n",
      "        [1.7943e+02, 0.0000e+00],\n",
      "        [1.6200e+02, 0.0000e+00],\n",
      "        [1.5620e+02, 0.0000e+00],\n",
      "        [0.0000e+00, 0.0000e+00],\n",
      "        [4.6884e+01, 0.0000e+00],\n",
      "        [9.4152e+01, 0.0000e+00],\n",
      "        [2.1848e+02, 2.8715e+02],\n",
      "        [4.0439e+01, 0.0000e+00],\n",
      "        [1.7909e+02, 2.2274e+02],\n",
      "        [1.2283e+02, 9.0810e+01],\n",
      "        [0.0000e+00, 0.0000e+00],\n",
      "        [4.9577e+01, 5.0479e+01],\n",
      "        [9.5850e+01, 0.0000e+00],\n",
      "        [1.8200e+02, 1.9442e+02],\n",
      "        [9.2932e+00, 0.0000e+00],\n",
      "        [4.3162e+01, 0.0000e+00],\n",
      "        [2.1873e+02, 2.1584e+02],\n",
      "        [8.0574e+01, 0.0000e+00],\n",
      "        [0.0000e+00, 1.9259e+01],\n",
      "        [1.9671e+02, 4.5578e+02],\n",
      "        [4.9848e+01, 0.0000e+00],\n",
      "        [2.3385e+02, 2.5414e+02],\n",
      "        [2.3766e+02, 2.9002e+02],\n",
      "        [2.2962e+02, 1.9603e+02],\n",
      "        [0.0000e+00, 0.0000e+00],\n",
      "        [6.4618e+01, 0.0000e+00],\n",
      "        [3.1597e+01, 1.9888e+02],\n",
      "        [0.0000e+00, 9.6508e+00],\n",
      "        [2.5350e+02, 1.9551e+02],\n",
      "        [2.0429e+02, 0.0000e+00],\n",
      "        [5.8224e+01, 1.8686e+02],\n",
      "        [1.3056e+02, 0.0000e+00],\n",
      "        [1.4968e+02, 0.0000e+00],\n",
      "        [1.2844e+02, 0.0000e+00],\n",
      "        [2.7563e+02, 2.5098e+02],\n",
      "        [1.2591e+02, 0.0000e+00],\n",
      "        [5.5232e+01, 0.0000e+00],\n",
      "        [0.0000e+00, 2.7199e+02],\n",
      "        [6.1738e+01, 0.0000e+00],\n",
      "        [1.9717e+02, 4.4056e+02],\n",
      "        [8.7601e+01, 5.3375e+00],\n",
      "        [5.3451e+01, 0.0000e+00],\n",
      "        [5.9867e+01, 2.5505e+01],\n",
      "        [1.0716e+02, 0.0000e+00],\n",
      "        [4.8394e+01, 3.8168e+00],\n",
      "        [5.4505e+01, 0.0000e+00],\n",
      "        [2.7964e+01, 1.4155e+02],\n",
      "        [1.0174e+02, 0.0000e+00],\n",
      "        [8.9076e+01, 0.0000e+00],\n",
      "        [5.2030e+01, 1.6199e+02],\n",
      "        [0.0000e+00, 4.4892e+01],\n",
      "        [6.1310e+01, 0.0000e+00],\n",
      "        [2.2824e+02, 2.8157e+02],\n",
      "        [0.0000e+00, 0.0000e+00],\n",
      "        [2.2858e+02, 1.1387e+02],\n",
      "        [1.4837e+02, 0.0000e+00],\n",
      "        [1.7756e+02, 3.3614e+02],\n",
      "        [2.9356e+01, 0.0000e+00],\n",
      "        [5.6791e+01, 0.0000e+00],\n",
      "        [2.7323e+01, 0.0000e+00],\n",
      "        [1.4607e+01, 0.0000e+00],\n",
      "        [5.6547e+01, 0.0000e+00],\n",
      "        [3.0814e+01, 6.6792e+01],\n",
      "        [6.0429e+01, 0.0000e+00],\n",
      "        [1.3886e+02, 0.0000e+00],\n",
      "        [2.1473e+02, 0.0000e+00],\n",
      "        [1.6741e+02, 7.5048e+01],\n",
      "        [2.0039e+02, 1.4329e+02],\n",
      "        [1.2297e+02, 0.0000e+00],\n",
      "        [4.1634e+01, 1.1356e+02],\n",
      "        [3.0370e+01, 0.0000e+00],\n",
      "        [5.9098e+01, 1.9904e+02],\n",
      "        [7.8098e+01, 0.0000e+00],\n",
      "        [6.4504e+01, 0.0000e+00],\n",
      "        [4.8950e+01, 0.0000e+00],\n",
      "        [0.0000e+00, 0.0000e+00],\n",
      "        [1.3124e+02, 0.0000e+00],\n",
      "        [1.8790e+02, 4.0346e+01],\n",
      "        [3.2850e+02, 2.2053e+02],\n",
      "        [6.3065e+01, 0.0000e+00],\n",
      "        [2.5824e+01, 8.4857e+01],\n",
      "        [2.2776e+02, 4.3426e+01],\n",
      "        [1.8573e+02, 1.6356e+02],\n",
      "        [1.3774e+01, 4.6099e+01],\n",
      "        [2.9857e+02, 3.1338e+02],\n",
      "        [1.8726e+02, 1.5977e+02],\n",
      "        [6.6474e+01, 0.0000e+00],\n",
      "        [1.4945e+02, 0.0000e+00],\n",
      "        [1.5356e+02, 5.4956e+02],\n",
      "        [1.7796e+02, 3.1503e+02],\n",
      "        [2.4488e+02, 9.2299e+01],\n",
      "        [7.2477e+01, 0.0000e+00],\n",
      "        [2.9434e+02, 4.7215e+02],\n",
      "        [6.1193e+01, 6.6119e+01],\n",
      "        [2.9962e+01, 0.0000e+00],\n",
      "        [3.0195e+02, 2.7817e+02],\n",
      "        [0.0000e+00, 0.0000e+00],\n",
      "        [2.6489e+02, 3.3112e+02],\n",
      "        [2.5031e+02, 3.9396e+02],\n",
      "        [7.2635e+01, 0.0000e+00],\n",
      "        [0.0000e+00, 0.0000e+00],\n",
      "        [5.1184e+01, 0.0000e+00],\n",
      "        [8.6748e+01, 2.6034e+02],\n",
      "        [6.0106e+01, 0.0000e+00],\n",
      "        [9.7128e+01, 0.0000e+00],\n",
      "        [0.0000e+00, 0.0000e+00],\n",
      "        [1.6586e+02, 7.2845e+01],\n",
      "        [1.5152e+02, 0.0000e+00],\n",
      "        [1.9476e+02, 1.8404e+02],\n",
      "        [2.0446e+02, 1.7651e+02],\n",
      "        [0.0000e+00, 0.0000e+00],\n",
      "        [1.3009e+02, 0.0000e+00],\n",
      "        [4.1660e+01, 0.0000e+00],\n",
      "        [3.2835e+02, 1.8507e+02],\n",
      "        [2.8575e+02, 1.3255e+02],\n",
      "        [1.7255e+02, 0.0000e+00],\n",
      "        [1.9834e+02, 1.3316e+02],\n",
      "        [3.1827e+01, 0.0000e+00],\n",
      "        [5.6758e+01, 0.0000e+00],\n",
      "        [0.0000e+00, 0.0000e+00],\n",
      "        [3.1493e+02, 2.8395e+02],\n",
      "        [0.0000e+00, 0.0000e+00],\n",
      "        [0.0000e+00, 2.0067e+01],\n",
      "        [1.8477e+02, 3.1396e+02],\n",
      "        [2.0304e+02, 2.4847e+02],\n",
      "        [9.8654e+01, 0.0000e+00],\n",
      "        [1.5488e+02, 0.0000e+00],\n",
      "        [2.9785e+02, 2.4408e+02],\n",
      "        [1.2767e+02, 2.0754e+02],\n",
      "        [1.3300e+02, 0.0000e+00],\n",
      "        [7.5023e+01, 3.6887e+02],\n",
      "        [4.6273e+01, 0.0000e+00],\n",
      "        [7.6457e+01, 2.0331e+01],\n",
      "        [0.0000e+00, 0.0000e+00],\n",
      "        [4.2224e+01, 0.0000e+00],\n",
      "        [4.5127e+01, 3.0413e+02],\n",
      "        [2.6377e+02, 3.9396e+02],\n",
      "        [1.1075e+02, 0.0000e+00],\n",
      "        [5.5867e+01, 8.6617e+00],\n",
      "        [6.2911e+01, 0.0000e+00],\n",
      "        [2.2268e+02, 2.0981e+02],\n",
      "        [0.0000e+00, 1.4849e+02],\n",
      "        [9.4655e+01, 2.4627e+01],\n",
      "        [2.0698e+01, 0.0000e+00],\n",
      "        [3.2308e+02, 5.3165e+02],\n",
      "        [2.2419e+02, 2.5060e+02],\n",
      "        [6.1181e+01, 0.0000e+00],\n",
      "        [9.6509e+01, 0.0000e+00],\n",
      "        [1.1298e+02, 0.0000e+00],\n",
      "        [4.0164e+02, 4.1052e+02],\n",
      "        [0.0000e+00, 0.0000e+00],\n",
      "        [3.1985e+02, 3.3469e+02],\n",
      "        [5.6642e+01, 1.9795e+01],\n",
      "        [6.2349e+01, 0.0000e+00],\n",
      "        [0.0000e+00, 0.0000e+00],\n",
      "        [1.4160e+02, 0.0000e+00],\n",
      "        [2.0967e+02, 2.3942e+02],\n",
      "        [2.3672e+01, 2.0293e+01],\n",
      "        [2.9703e+02, 5.3503e+02],\n",
      "        [0.0000e+00, 2.3823e+02],\n",
      "        [4.6715e+01, 0.0000e+00],\n",
      "        [1.6939e+02, 0.0000e+00],\n",
      "        [5.4868e+01, 0.0000e+00],\n",
      "        [4.3100e+01, 1.6756e+01],\n",
      "        [1.2373e+02, 1.6877e+02],\n",
      "        [3.2043e+02, 5.3907e+01],\n",
      "        [3.0982e+02, 5.3625e+02],\n",
      "        [3.3331e+01, 0.0000e+00],\n",
      "        [6.6251e+01, 0.0000e+00],\n",
      "        [0.0000e+00, 7.2337e+01],\n",
      "        [1.4828e+02, 0.0000e+00],\n",
      "        [1.9012e+02, 9.2240e+01],\n",
      "        [2.1006e+02, 7.0806e+01],\n",
      "        [5.0762e+01, 0.0000e+00],\n",
      "        [2.0821e+02, 8.5137e+01],\n",
      "        [0.0000e+00, 0.0000e+00],\n",
      "        [3.1897e+02, 3.3510e+02],\n",
      "        [1.5791e+02, 3.3630e+01],\n",
      "        [2.6884e+02, 2.8553e+02],\n",
      "        [3.2529e+02, 4.8169e+02],\n",
      "        [9.8495e+01, 1.1081e+01],\n",
      "        [2.0168e+02, 2.1782e+02],\n",
      "        [1.2171e+02, 2.0184e-01],\n",
      "        [1.2740e+02, 0.0000e+00],\n",
      "        [0.0000e+00, 0.0000e+00],\n",
      "        [6.2457e+01, 0.0000e+00],\n",
      "        [1.7545e+02, 1.3460e+02],\n",
      "        [2.0538e+02, 4.0486e+02],\n",
      "        [1.1458e+02, 0.0000e+00],\n",
      "        [1.4339e+02, 1.1027e+02],\n",
      "        [1.8688e+02, 8.0692e+01],\n",
      "        [3.7275e+01, 1.1904e+02],\n",
      "        [2.0874e+02, 1.4405e+02],\n",
      "        [3.3252e+02, 3.3846e+02],\n",
      "        [1.1759e+02, 0.0000e+00],\n",
      "        [2.5485e+02, 3.0899e+02],\n",
      "        [0.0000e+00, 0.0000e+00],\n",
      "        [1.1430e+02, 0.0000e+00],\n",
      "        [1.3634e+02, 9.8728e+01],\n",
      "        [0.0000e+00, 0.0000e+00],\n",
      "        [1.1488e+02, 0.0000e+00],\n",
      "        [7.8628e+01, 0.0000e+00],\n",
      "        [2.4316e+02, 2.3371e+02],\n",
      "        [2.8052e+02, 1.4141e+02],\n",
      "        [0.0000e+00, 0.0000e+00],\n",
      "        [5.2209e+01, 0.0000e+00],\n",
      "        [6.1725e+01, 0.0000e+00],\n",
      "        [9.6032e+01, 0.0000e+00],\n",
      "        [1.9670e+02, 0.0000e+00],\n",
      "        [1.1503e+02, 0.0000e+00],\n",
      "        [5.3304e+01, 0.0000e+00],\n",
      "        [1.4277e+02, 0.0000e+00],\n",
      "        [1.0347e+02, 2.1542e+01],\n",
      "        [1.7048e+02, 0.0000e+00],\n",
      "        [5.0291e+01, 1.7836e+01],\n",
      "        [5.0121e+01, 0.0000e+00],\n",
      "        [6.1746e+01, 0.0000e+00],\n",
      "        [1.4358e+02, 0.0000e+00],\n",
      "        [1.0643e+02, 0.0000e+00],\n",
      "        [7.9221e+01, 0.0000e+00],\n",
      "        [3.1592e+02, 8.6009e+01],\n",
      "        [3.1223e+01, 8.9008e+00],\n",
      "        [1.8703e+02, 0.0000e+00],\n",
      "        [2.3916e+02, 4.7616e+02],\n",
      "        [2.2745e+02, 2.3491e+02],\n",
      "        [3.9119e+02, 1.0139e+02],\n",
      "        [3.2393e+02, 4.2656e+02],\n",
      "        [2.5913e+02, 2.5020e+02],\n",
      "        [6.4358e+01, 0.0000e+00],\n",
      "        [2.0906e+01, 0.0000e+00],\n",
      "        [1.6885e+02, 0.0000e+00],\n",
      "        [3.2663e+02, 5.0272e+02],\n",
      "        [2.2194e+02, 2.8732e+02],\n",
      "        [0.0000e+00, 0.0000e+00],\n",
      "        [2.9560e+02, 2.8408e+02],\n",
      "        [1.8361e+02, 2.4106e+01],\n",
      "        [1.1131e+01, 0.0000e+00],\n",
      "        [2.5220e+02, 2.6235e+02],\n",
      "        [6.5190e+01, 0.0000e+00],\n",
      "        [2.5982e+02, 1.9215e+02],\n",
      "        [1.4104e+02, 0.0000e+00],\n",
      "        [5.6953e+01, 0.0000e+00],\n",
      "        [6.2805e+01, 0.0000e+00],\n",
      "        [1.7952e+02, 1.3814e+02],\n",
      "        [0.0000e+00, 0.0000e+00],\n",
      "        [2.5091e+02, 0.0000e+00],\n",
      "        [3.0629e+01, 1.4642e+02],\n",
      "        [0.0000e+00, 0.0000e+00],\n",
      "        [0.0000e+00, 2.5703e+02],\n",
      "        [1.4261e+02, 0.0000e+00],\n",
      "        [0.0000e+00, 3.8885e+02],\n",
      "        [1.6867e+02, 1.2798e+02],\n",
      "        [5.5288e+01, 0.0000e+00],\n",
      "        [2.3241e+02, 5.1410e+02],\n",
      "        [5.0754e+01, 0.0000e+00],\n",
      "        [6.6918e+01, 0.0000e+00],\n",
      "        [1.1923e+02, 2.9805e+02],\n",
      "        [0.0000e+00, 0.0000e+00],\n",
      "        [2.7372e+02, 2.0761e+02],\n",
      "        [2.3000e+01, 2.2092e+01],\n",
      "        [0.0000e+00, 0.0000e+00],\n",
      "        [6.0614e+01, 0.0000e+00],\n",
      "        [1.6878e+02, 1.8938e+02],\n",
      "        [7.1645e+01, 0.0000e+00],\n",
      "        [1.2479e+02, 7.3658e+01],\n",
      "        [3.0261e+02, 5.2490e+01],\n",
      "        [0.0000e+00, 0.0000e+00],\n",
      "        [4.5332e+01, 0.0000e+00],\n",
      "        [1.2277e+02, 1.1867e+01],\n",
      "        [2.6691e+01, 0.0000e+00],\n",
      "        [4.1145e+01, 0.0000e+00],\n",
      "        [1.1817e+02, 1.8726e+02],\n",
      "        [7.0794e+01, 0.0000e+00],\n",
      "        [2.6111e+02, 2.0806e+02],\n",
      "        [1.6808e+02, 1.1145e+02],\n",
      "        [2.1144e+02, 6.9951e+01],\n",
      "        [1.2230e+02, 7.4686e+01],\n",
      "        [9.7792e+01, 0.0000e+00],\n",
      "        [1.4911e+02, 1.1540e+02],\n",
      "        [1.3343e+02, 0.0000e+00],\n",
      "        [1.8798e+02, 0.0000e+00],\n",
      "        [2.5000e+02, 0.0000e+00],\n",
      "        [3.0874e+02, 2.6014e+02],\n",
      "        [3.4685e+02, 1.6930e+02],\n",
      "        [2.2540e+02, 8.3361e+01],\n",
      "        [6.5567e+01, 0.0000e+00],\n",
      "        [1.2913e+02, 0.0000e+00],\n",
      "        [3.3830e+02, 3.1468e+02],\n",
      "        [1.0848e+02, 0.0000e+00],\n",
      "        [0.0000e+00, 0.0000e+00],\n",
      "        [9.6377e+01, 0.0000e+00],\n",
      "        [1.2976e+01, 4.9382e+02],\n",
      "        [4.3852e+01, 0.0000e+00],\n",
      "        [9.6238e+01, 0.0000e+00],\n",
      "        [6.9092e+01, 2.1057e+02],\n",
      "        [1.1200e+02, 0.0000e+00],\n",
      "        [4.1237e+01, 3.3579e+02],\n",
      "        [2.1023e+02, 4.0005e+01],\n",
      "        [0.0000e+00, 0.0000e+00],\n",
      "        [2.7434e+01, 3.0357e+01],\n",
      "        [9.6766e+01, 4.9821e+01],\n",
      "        [8.5684e+01, 4.2445e+02],\n",
      "        [9.2693e+01, 0.0000e+00],\n",
      "        [6.4214e+01, 0.0000e+00],\n",
      "        [1.5139e+02, 0.0000e+00],\n",
      "        [0.0000e+00, 2.3838e+02],\n",
      "        [1.2960e+02, 0.0000e+00],\n",
      "        [1.5500e+02, 0.0000e+00],\n",
      "        [9.8789e+01, 0.0000e+00],\n",
      "        [2.9891e+02, 1.3414e+02],\n",
      "        [2.4745e+02, 7.9847e+01],\n",
      "        [1.2414e+02, 3.1092e+02],\n",
      "        [1.1768e+02, 1.5998e+02],\n",
      "        [1.0246e+02, 1.2124e+02],\n",
      "        [8.4356e+01, 3.1629e+00],\n",
      "        [9.6481e+01, 2.3523e+02],\n",
      "        [3.7084e+01, 0.0000e+00],\n",
      "        [3.1159e+02, 3.5071e+02],\n",
      "        [1.8006e+02, 1.8603e+02],\n",
      "        [5.7565e+01, 0.0000e+00],\n",
      "        [0.0000e+00, 0.0000e+00],\n",
      "        [0.0000e+00, 0.0000e+00],\n",
      "        [2.3651e+02, 4.9128e+02],\n",
      "        [3.3927e+02, 2.9936e+02],\n",
      "        [1.0784e+02, 0.0000e+00],\n",
      "        [2.5152e+02, 0.0000e+00],\n",
      "        [2.3547e+02, 3.7936e+02],\n",
      "        [9.2391e+01, 2.0386e+02],\n",
      "        [1.4848e+02, 1.0088e+02],\n",
      "        [8.0953e+01, 0.0000e+00],\n",
      "        [7.9645e+01, 1.3314e+01],\n",
      "        [5.7881e+01, 1.0975e+02],\n",
      "        [2.8660e+02, 4.9465e+02],\n",
      "        [1.3737e+02, 0.0000e+00],\n",
      "        [9.8898e+01, 3.4511e+01],\n",
      "        [2.3048e+02, 1.2931e+01],\n",
      "        [0.0000e+00, 0.0000e+00],\n",
      "        [4.1146e+01, 0.0000e+00],\n",
      "        [2.4990e+02, 3.3078e+02],\n",
      "        [1.4625e+02, 1.1274e+01],\n",
      "        [2.9517e+02, 2.6388e+02],\n",
      "        [2.6101e+02, 0.0000e+00],\n",
      "        [2.8702e+02, 3.1017e+02],\n",
      "        [1.3022e+02, 0.0000e+00],\n",
      "        [1.3426e+02, 0.0000e+00],\n",
      "        [4.8182e+01, 0.0000e+00],\n",
      "        [0.0000e+00, 9.3832e+01],\n",
      "        [1.6957e+01, 0.0000e+00],\n",
      "        [1.7857e+02, 2.9662e+02],\n",
      "        [2.8231e+02, 3.4590e+02],\n",
      "        [4.3566e+01, 1.3028e+02],\n",
      "        [5.4805e+01, 0.0000e+00],\n",
      "        [6.0025e+01, 0.0000e+00],\n",
      "        [9.8915e+01, 0.0000e+00],\n",
      "        [2.2678e+02, 1.5845e+02],\n",
      "        [0.0000e+00, 0.0000e+00],\n",
      "        [1.7866e+02, 0.0000e+00],\n",
      "        [1.2302e+02, 0.0000e+00],\n",
      "        [7.1407e+01, 0.0000e+00],\n",
      "        [2.1201e+02, 0.0000e+00],\n",
      "        [1.4439e+02, 0.0000e+00],\n",
      "        [6.3366e+01, 0.0000e+00],\n",
      "        [2.8222e+02, 2.1839e+02],\n",
      "        [1.7541e+02, 4.8524e+02],\n",
      "        [7.4579e+01, 9.8898e+01],\n",
      "        [0.0000e+00, 0.0000e+00],\n",
      "        [2.5068e+02, 2.3851e+02],\n",
      "        [6.7985e+01, 0.0000e+00],\n",
      "        [1.7403e+02, 0.0000e+00],\n",
      "        [8.2240e+01, 0.0000e+00],\n",
      "        [6.7001e+01, 2.4435e+02],\n",
      "        [2.0267e+02, 3.0446e+02],\n",
      "        [6.4280e+01, 2.9973e+01],\n",
      "        [9.6546e+01, 0.0000e+00],\n",
      "        [4.7171e+01, 0.0000e+00],\n",
      "        [3.4940e+02, 3.6071e+02],\n",
      "        [5.9624e+01, 0.0000e+00],\n",
      "        [0.0000e+00, 0.0000e+00],\n",
      "        [6.7209e+01, 0.0000e+00],\n",
      "        [1.1277e+02, 0.0000e+00],\n",
      "        [0.0000e+00, 6.7550e+01],\n",
      "        [0.0000e+00, 2.0653e+02],\n",
      "        [1.7360e+02, 1.3656e+02],\n",
      "        [1.7169e+02, 1.6138e+02],\n",
      "        [2.2079e+02, 1.6531e+02],\n",
      "        [1.0805e+02, 0.0000e+00],\n",
      "        [1.4367e+02, 8.9090e+01],\n",
      "        [2.5060e+02, 3.4919e+02],\n",
      "        [0.0000e+00, 0.0000e+00],\n",
      "        [2.6538e+02, 2.7851e+02],\n",
      "        [5.4004e+01, 2.0100e+01],\n",
      "        [2.8384e+02, 2.6346e+02],\n",
      "        [9.5527e+01, 0.0000e+00],\n",
      "        [2.1909e+00, 0.0000e+00],\n",
      "        [1.5892e+02, 0.0000e+00],\n",
      "        [5.4060e+01, 2.0147e+01],\n",
      "        [2.2660e+02, 9.1895e+01],\n",
      "        [1.3990e+02, 0.0000e+00],\n",
      "        [0.0000e+00, 0.0000e+00],\n",
      "        [2.4229e+02, 1.8003e+02],\n",
      "        [0.0000e+00, 1.5696e+01],\n",
      "        [2.6738e+02, 1.3485e+02],\n",
      "        [2.0741e+02, 2.3229e+02],\n",
      "        [5.4392e+01, 0.0000e+00],\n",
      "        [4.2118e+01, 0.0000e+00],\n",
      "        [5.1744e+01, 0.0000e+00],\n",
      "        [3.4374e+02, 4.2374e+02],\n",
      "        [2.2689e+01, 0.0000e+00],\n",
      "        [6.3117e+01, 0.0000e+00],\n",
      "        [2.1309e+02, 0.0000e+00],\n",
      "        [2.8677e+02, 3.2266e+02],\n",
      "        [5.2769e+01, 2.0711e+01],\n",
      "        [7.5163e+01, 0.0000e+00],\n",
      "        [1.0561e+02, 9.2771e+01],\n",
      "        [1.4085e+02, 0.0000e+00],\n",
      "        [1.7408e+02, 1.5005e+02],\n",
      "        [1.4987e+02, 0.0000e+00],\n",
      "        [1.9659e+02, 4.9720e+01],\n",
      "        [2.1464e+02, 4.1726e+01],\n",
      "        [5.4831e+01, 0.0000e+00],\n",
      "        [1.7503e+02, 1.8868e+02],\n",
      "        [0.0000e+00, 2.6862e+02],\n",
      "        [2.6499e+02, 4.4027e+02],\n",
      "        [0.0000e+00, 0.0000e+00],\n",
      "        [5.9684e+01, 0.0000e+00],\n",
      "        [3.0130e+02, 1.4481e+02],\n",
      "        [2.6860e+02, 3.7581e+02],\n",
      "        [6.5041e+01, 5.1346e+01],\n",
      "        [2.5254e+01, 1.7080e+01],\n",
      "        [1.3737e+02, 0.0000e+00],\n",
      "        [5.7002e+01, 0.0000e+00],\n",
      "        [3.1662e+02, 2.2270e+02],\n",
      "        [4.2429e+01, 0.0000e+00],\n",
      "        [6.2075e+01, 0.0000e+00],\n",
      "        [1.2041e+02, 3.0013e+02],\n",
      "        [1.1496e+02, 0.0000e+00],\n",
      "        [1.3896e+02, 6.8239e+01],\n",
      "        [1.8550e+02, 0.0000e+00],\n",
      "        [1.5553e+02, 0.0000e+00],\n",
      "        [0.0000e+00, 0.0000e+00],\n",
      "        [5.7189e+01, 0.0000e+00],\n",
      "        [1.1705e+02, 0.0000e+00],\n",
      "        [5.0057e+00, 0.0000e+00],\n",
      "        [2.7076e+02, 2.9560e+02],\n",
      "        [0.0000e+00, 0.0000e+00],\n",
      "        [1.7828e+02, 8.7876e+01],\n",
      "        [2.9121e+02, 3.1870e+02],\n",
      "        [1.8289e+02, 0.0000e+00],\n",
      "        [1.2452e+02, 0.0000e+00],\n",
      "        [1.4365e+02, 0.0000e+00],\n",
      "        [5.7476e+01, 0.0000e+00],\n",
      "        [6.2513e+01, 0.0000e+00],\n",
      "        [5.8307e+01, 0.0000e+00],\n",
      "        [2.0303e+02, 7.7682e+01],\n",
      "        [1.3272e+02, 0.0000e+00],\n",
      "        [0.0000e+00, 4.3423e+00],\n",
      "        [1.3693e+02, 5.3042e+01],\n",
      "        [2.1815e+01, 1.9447e+01],\n",
      "        [3.5540e+01, 0.0000e+00],\n",
      "        [2.4633e+02, 2.8909e+02],\n",
      "        [3.9990e+01, 0.0000e+00],\n",
      "        [1.2698e+02, 4.1694e+02],\n",
      "        [1.6323e+02, 3.2521e+02],\n",
      "        [1.5866e+02, 0.0000e+00],\n",
      "        [1.4243e+02, 0.0000e+00],\n",
      "        [0.0000e+00, 0.0000e+00],\n",
      "        [2.2229e+02, 5.7758e+01],\n",
      "        [1.6288e+01, 1.6118e+02],\n",
      "        [1.6371e+02, 4.3604e+01],\n",
      "        [1.4177e+02, 0.0000e+00],\n",
      "        [2.8604e+02, 2.5632e+02]], device='cuda:0')\n",
      "Predicted roughnesses: tensor([[ 0.0000,  0.0000,  4.1055],\n",
      "        [ 0.0000, 11.4017,  4.0658],\n",
      "        [ 0.0000,  2.7798,  0.0000],\n",
      "        ...,\n",
      "        [ 0.0000, 12.2004,  0.0000],\n",
      "        [ 0.0000,  9.4851,  0.0000],\n",
      "        [ 0.0000, 15.5055,  0.0000]], device='cuda:0')\n",
      "Predicted layer SLDs: tensor([[-1.1774e-04,  3.6955e-05,  1.1264e-04],\n",
      "        [-1.1952e-04,  3.4219e-05,  1.1587e-04],\n",
      "        [-1.1166e-04,  3.9308e-05,  1.1102e-04],\n",
      "        ...,\n",
      "        [-1.2481e-04,  3.4798e-05,  1.1153e-04],\n",
      "        [-1.2508e-04,  4.3098e-05,  1.0121e-04],\n",
      "        [-1.2012e-04,  3.2012e-05,  1.1567e-04]], device='cuda:0')\n",
      "torch.Size([500, 2])\n",
      "torch.Size([500, 3])\n"
     ]
    }
   ],
   "source": [
    "pred_idx = restored_predictions.shape[0]\n",
    "\n",
    "restored_predictions[:,:num_layers] = torch.clamp(restored_predictions[:,:num_layers], min=0.0)\n",
    "restored_predictions[:,num_layers:num_layers*2+1] = torch.clamp(restored_predictions[:,num_layers:num_layers*2+1], min=0.0)\n",
    "\n",
    "eval_thicknesses = restored_predictions[:pred_idx,:num_layers]\n",
    "eval_roughnesses = restored_predictions[:pred_idx,num_layers:num_layers*2+1]\n",
    "eval_slds = restored_predictions[:pred_idx,num_layers*2+1:]\n",
    "\n",
    "print(f'Predicted thicknesses: {eval_thicknesses}')\n",
    "print(f'Predicted roughnesses: {eval_roughnesses}')\n",
    "print(f'Predicted layer SLDs: {eval_slds}')\n",
    "\n",
    "print(eval_thicknesses.shape)\n",
    "print(eval_slds.shape)"
   ]
  },
  {
   "cell_type": "code",
   "execution_count": 496,
   "metadata": {},
   "outputs": [],
   "source": [
    "# -*- coding: utf-8 -*-\n",
    "\n",
    "import torch\n",
    "from torch import Tensor\n",
    "\n",
    "from reflectorch.data_generation.reflectivity.abeles import abeles_compiled, abeles\n",
    "from reflectorch.data_generation.reflectivity.memory_eff import abeles_memory_eff\n",
    "from reflectorch.data_generation.reflectivity.numpy_implementations import (\n",
    "    kinematical_approximation_np,\n",
    "    abeles_np,\n",
    ")\n",
    "from reflectorch.data_generation.reflectivity.smearing import abeles_constant_smearing\n",
    "from reflectorch.data_generation.reflectivity.smearing_pointwise import abeles_pointwise_smearing\n",
    "from reflectorch.data_generation.reflectivity.kinematical import kinematical_approximation\n",
    "\n",
    "\n",
    "def custom_reflectivity(\n",
    "        q: Tensor,\n",
    "        thickness: Tensor,\n",
    "        roughness: Tensor,\n",
    "        sld: Tensor,\n",
    "        dq: Tensor = None,\n",
    "        gauss_num: int = 51,\n",
    "        constant_dq: bool = False,\n",
    "        log: bool = False,\n",
    "        q_shift: Tensor = 0.0,\n",
    "        r_scale: Tensor = 1.0,\n",
    "        background: Tensor = 0.0,\n",
    "        solvent_vf = None,\n",
    "        solvent_mode = 'fronting',\n",
    "        abeles_func = None,\n",
    "        **abeles_kwargs\n",
    "):\n",
    "    \"\"\"Function which computes the reflectivity curves from thin film parameters. \n",
    "    By default it uses the fast implementation of the Abeles matrix formalism.\n",
    "\n",
    "    Args:\n",
    "        q (Tensor): tensor of momentum transfer (q) values with shape [batch_size, n_points] or [n_points]\n",
    "        thickness (Tensor): tensor containing the layer thicknesses (ordered from top to bottom) with shape [batch_size, n_layers]\n",
    "        roughness (Tensor): tensor containing the interlayer roughnesses (ordered from top to bottom) with shape [batch_size, n_layers + 1]\n",
    "        sld (Tensor): tensor containing the layer SLDs (real or complex; ordered from top to bottom) with shape \n",
    "            [batch_size, n_layers + 1] (excluding ambient SLD which is assumed to be 0)  or [batch_size, n_layers + 2] (including ambient SLD; only for the default ``abeles_func='abeles'``) \n",
    "        dq (Tensor, optional): tensor of resolutions used for curve smearing with shape [batch_size, 1].\n",
    "                            Either dq if ``constant_dq`` is ``True`` or dq/q if ``constant_dq`` is ``False``. Defaults to None.\n",
    "        gauss_num (int, optional): the number of gaussians for curve smearing. Defaults to 51.\n",
    "        constant_dq (bool, optional): if ``True`` the smearing is constant (constant dq at each point in the curve) \n",
    "                                    otherwise the smearing is linear (constant dq/q at each point in the curve). Defaults to False.\n",
    "        log (bool, optional): if True the base 10 logarithm of the reflectivity curves is returned. Defaults to False.\n",
    "        q_shift (float or Tensor, optional): misalignment in q.\n",
    "        r_scale (float or Tensor, optional): normalization factor (scales reflectivity).\n",
    "        background (float or Tensor, optional): background intensity.\n",
    "        abeles_func (Callable, optional): a function implementing the simulation of the reflectivity curves, if different than the default Abeles matrix implementation ('abeles'). Defaults to None.\n",
    "        abeles_kwargs: Additional arguments specific to the chosen `abeles_func`.\n",
    "    Returns:\n",
    "        Tensor: the computed reflectivity curves\n",
    "    \"\"\"\n",
    "    abeles_func = abeles_func or abeles\n",
    "    q = torch.atleast_2d(q) + q_shift\n",
    "    q = torch.clamp(q, min=0.0)\n",
    "    \n",
    "    if solvent_vf is not None:\n",
    "        num_layers = thickness.shape[-1]\n",
    "        if solvent_mode == 'fronting':\n",
    "            assert sld.shape[-1] == num_layers + 2\n",
    "            assert solvent_vf.shape[-1] == num_layers\n",
    "            solvent_sld = sld[..., [0]]\n",
    "            idx = slice(1, num_layers)\n",
    "            sld[..., idx] = solvent_vf * solvent_sld + (1.0 - solvent_vf) * sld[..., idx]\n",
    "        elif solvent_mode == 'backing':\n",
    "            solvent_sld = sld[..., [-1]]\n",
    "            idx = slice(1, num_layers) if sld.shape[-1] == num_layers + 2 else slice(0, num_layers)\n",
    "            sld[..., idx] = solvent_vf * solvent_sld + (1.0 - solvent_vf) * sld[..., idx]\n",
    "        else:\n",
    "            raise NotImplementedError\n",
    "\n",
    "    if dq is None:\n",
    "        reflectivity_curves = abeles_func(q, thickness, roughness, sld, **abeles_kwargs)\n",
    "    else:\n",
    "        if dq.shape[-1] > 1:\n",
    "            reflectivity_curves = abeles_pointwise_smearing(\n",
    "                    q=q, dq=dq, thickness=thickness, roughness=roughness, sld=sld, \n",
    "                    abeles_func=abeles_func, gauss_num=gauss_num,\n",
    "                    **abeles_kwargs,\n",
    "            )\n",
    "        else:\n",
    "            reflectivity_curves = abeles_constant_smearing(\n",
    "                q, thickness, roughness, sld,\n",
    "                dq=dq, gauss_num=gauss_num, constant_dq=constant_dq, abeles_func=abeles_func,\n",
    "                **abeles_kwargs,\n",
    "            )\n",
    "\n",
    "    if isinstance(r_scale, Tensor):\n",
    "        r_scale = r_scale.view(-1, *[1] * (reflectivity_curves.dim() - 1))\n",
    "    if isinstance(background, Tensor):\n",
    "        background = background.view(-1, *[1] * (reflectivity_curves.dim() - 1))\n",
    "\n",
    "    reflectivity_curves = reflectivity_curves * r_scale + background\n",
    "\n",
    "    if log:\n",
    "        reflectivity_curves = torch.log10(reflectivity_curves)\n",
    "\n",
    "    return reflectivity_curves\n",
    "\n",
    "# -*- coding: utf-8 -*-\n",
    "import math\n",
    "from functools import reduce\n",
    "\n",
    "import torch\n",
    "from torch import Tensor\n",
    "\n",
    "\n",
    "def abeles(\n",
    "        q: Tensor,\n",
    "        thickness: Tensor,\n",
    "        roughness: Tensor,\n",
    "        sld: Tensor,\n",
    "):\n",
    "    \"\"\"Simulates reflectivity curves for SLD profiles with box model parameterization using the Abeles matrix method\n",
    "\n",
    "    Args:\n",
    "        q (Tensor): tensor of momentum transfer (q) values with shape [batch_size, n_points] or [n_points]\n",
    "        thickness (Tensor): tensor containing the layer thicknesses (ordered from top to bottom) with shape [batch_size, n_layers]\n",
    "        roughness (Tensor): tensor containing the interlayer roughnesses (ordered from top to bottom) with shape [batch_size, n_layers + 1]\n",
    "        sld (Tensor): tensor containing the layer SLDs (real or complex; ordered from top to bottom). The tensor shape should be one of the following:\n",
    "            - [batch_size, n_layers + 1]: in this case, the ambient SLD is not included but assumed to be 0\n",
    "            - [batch_size, n_layers + 2]: this shape includes the ambient SLD as the first element in the tensor\n",
    "\n",
    "    Returns:\n",
    "        Tensor: tensor containing the simulated reflectivity curves with shape [batch_size, n_points]\n",
    "    \"\"\"\n",
    "    c_dtype = torch.complex128 if q.dtype is torch.float64 else torch.complex64\n",
    "\n",
    "    batch_size, num_layers = thickness.shape\n",
    "\n",
    "    if sld.shape[-1] == num_layers + 1:\n",
    "        # add zero ambient sld\n",
    "        sld = torch.cat([torch.zeros(batch_size, 1).to(sld), sld], -1)\n",
    "    if sld.shape[-1] != num_layers + 2:\n",
    "        raise ValueError(\n",
    "            \"Number of SLD values does not equal to num_layers + 2 (substrate + ambient).\"\n",
    "        )\n",
    "\n",
    "    sld = sld[:, None]\n",
    "\n",
    "    # add zero thickness for ambient layer:\n",
    "    thickness = torch.cat([torch.zeros(batch_size, 1).to(thickness), thickness], -1)[\n",
    "        :, None\n",
    "    ]\n",
    "\n",
    "    roughness = roughness[:, None] ** 2\n",
    "\n",
    "    sld = (sld - sld[..., :1]) * 1e-6 + 1e-36j\n",
    "\n",
    "    k_z0 = (q / 2).to(c_dtype)\n",
    "\n",
    "    if k_z0.dim() == 1:\n",
    "        k_z0.unsqueeze_(0)\n",
    "\n",
    "    if k_z0.dim() == 2:\n",
    "        k_z0.unsqueeze_(-1)\n",
    "\n",
    "    k_n = torch.sqrt(k_z0**2 - 4 * math.pi * sld)\n",
    "\n",
    "    # k_n.shape - (batch, q, layers)\n",
    "\n",
    "    k_n, k_np1 = k_n[..., :-1], k_n[..., 1:]\n",
    "\n",
    "    beta = 1j * thickness * k_n\n",
    "\n",
    "    exp_beta = torch.exp(beta)\n",
    "    exp_m_beta = torch.exp(-beta)\n",
    "\n",
    "    rn = (k_n - k_np1) / (k_n + k_np1) * torch.exp(-2 * k_n * k_np1 * roughness)\n",
    "\n",
    "    c_matrices = torch.stack(\n",
    "        [\n",
    "            torch.stack([exp_beta, rn * exp_m_beta], -1),\n",
    "            torch.stack([rn * exp_beta, exp_m_beta], -1),\n",
    "        ],\n",
    "        -1,\n",
    "    )\n",
    "\n",
    "    c_matrices = [c.squeeze(-3) for c in c_matrices.split(1, -3)]\n",
    "\n",
    "    m = reduce(torch.matmul, c_matrices)\n",
    "\n",
    "    r = (m[..., 1, 0] / m[..., 0, 0]).abs() ** 2\n",
    "    r = torch.clamp_max_(r, 1.0)\n",
    "\n",
    "    return r\n",
    "\n",
    "\n",
    "# @torch.jit.script # commented so far due to complex numbers issue\n",
    "def abeles_compiled(\n",
    "        q: Tensor,\n",
    "        thickness: Tensor,\n",
    "        roughness: Tensor,\n",
    "        sld: Tensor,\n",
    "):\n",
    "    return abeles(q, thickness, roughness, sld)\n",
    "\n"
   ]
  },
  {
   "cell_type": "code",
   "execution_count": 497,
   "metadata": {},
   "outputs": [],
   "source": [
    "predicted_curves = custom_reflectivity(eval_q_values,eval_thicknesses , eval_roughnesses, eval_slds)"
   ]
  },
  {
   "cell_type": "code",
   "execution_count": 498,
   "metadata": {},
   "outputs": [],
   "source": [
    "from reflectorch import get_param_labels, get_density_profiles\n",
    "\n",
    "#@interact(i=(0, batch_size-1, 1))\n",
    "def plot_refl_curve(testing_params,predictions,i=0):\n",
    "     fig, ax = plt.subplots(1,2,figsize=(12,6))\n",
    "\n",
    "     ax[0].set_yscale('log')\n",
    "     ax[0].set_ylim(0.5e-10, 5)\n",
    "\n",
    "     ax[0].set_xlabel('q [$Å^{-1}$]', fontsize=20)\n",
    "     ax[0].set_ylabel('R(q)', fontsize=20)\n",
    "\n",
    "     ax[0].tick_params(axis='both', which='major', labelsize=15)\n",
    "     ax[0].tick_params(axis='both', which='minor', labelsize=15)\n",
    "\n",
    "     y_tick_locations = [10**(-2*i) for i in range(6)]\n",
    "     ax[0].yaxis.set_major_locator(plt.FixedLocator(y_tick_locations))\n",
    "          \n",
    "     #ax[0].plot(q[i].cpu().numpy(), predicted_curves[i].cpu().numpy() + 1e-10, c='r', lw=1, label='prediction')\n",
    "     #ax[0].scatter(q[i].cpu().numpy(), unscaled_denoised_curve[i].cpu().numpy() + 1e-10, facecolors='none', edgecolors='blue', s=8, label='input sim. curve')\n",
    "\n",
    "     ax[0].legend(loc='upper right', fontsize=14)\n",
    "\n",
    "     z_axis = torch.linspace(-200, 1000, 1000, device='cuda')\n",
    "     _, sld_profile_gt, _ = get_density_profiles(\n",
    "          testing_params[:,:num_layers], \n",
    "          testing_params[:,num_layers:num_layers*2+1],\n",
    "          testing_params[:,num_layers*2+1:],\n",
    "          z_axis=z_axis)\n",
    "\n",
    "     _, sld_profile_pred, _ = get_density_profiles(\n",
    "          predictions[:,:num_layers], \n",
    "          predictions[:,num_layers:num_layers*2+1],\n",
    "          predictions[:,num_layers*2+1:],\n",
    "          z_axis=z_axis)\n",
    "\n",
    "     ax[1].plot(z_axis.cpu().numpy(), sld_profile_pred[i].cpu().numpy(), c='r', label='prediction')\n",
    "     ax[1].plot(z_axis.cpu().numpy(), sld_profile_gt[i].cpu().numpy(), c='b', label='ground truth')\n",
    "\n",
    "     ax[1].set_xlabel('z [$Å$]', fontsize=20)\n",
    "     ax[1].set_ylabel('SLD [$10^{-6} Å^{-2}$]', fontsize=20)\n",
    "     ax[1].tick_params(axis='both', which='major', labelsize=15)\n",
    "     ax[1].tick_params(axis='both', which='minor', labelsize=15)\n",
    "\n",
    "     ax[1].legend(loc='lower right', fontsize=14)\n",
    "\n",
    "     plt.tight_layout()\n",
    "\n",
    "    #for l, t, p, min_b, max_b in zip(\n",
    "     #     get_param_labels(num_layers),\n",
    "     #     params.parameters[i], \n",
    "     #     restored_predictions.parameters[i], \n",
    "     #     restored_predictions.min_bounds[i], \n",
    "     #     restored_predictions.max_bounds[i]\n",
    "     #     ):\n",
    "     #    print(f'{l.ljust(14)} --> True: {t:.2f} Predicted: {p:.2f}  Input prior bounds: ({min_b:.2f}, {max_b:.2f})')"
   ]
  },
  {
   "cell_type": "code",
   "execution_count": 506,
   "metadata": {},
   "outputs": [
    {
     "name": "stderr",
     "output_type": "stream",
     "text": [
      "C:\\Users\\Owner\\AppData\\Local\\Temp\\ipykernel_25916\\1024054041.py:22: UserWarning: No artists with labels found to put in legend.  Note that artists whose label start with an underscore are ignored when legend() is called with no argument.\n",
      "  ax[0].legend(loc='upper right', fontsize=14)\n"
     ]
    },
    {
     "name": "stdout",
     "output_type": "stream",
     "text": [
      "Actual thickness  tensor([310.8995, 283.2826], device='cuda:0', dtype=torch.float64)\n",
      "Prediction thickness  tensor([162.9769, 429.1067], device='cuda:0')\n",
      "Actual SLD  tensor([2.2724e-05, 1.1277e-04, 1.3373e-04], device='cuda:0',\n",
      "       dtype=torch.float64)\n",
      "Prediction SLD  tensor([-1.2005e-04,  3.8963e-05,  1.1310e-04], device='cuda:0')\n"
     ]
    },
    {
     "data": {
      "image/png": "[encoded data removed]",
      "text/plain": [
       "<Figure size 1200x600 with 2 Axes>"
      ]
     },
     "metadata": {},
     "output_type": "display_data"
    }
   ],
   "source": [
    "testing_params_cuda = torch.tensor(testing_params).to('cuda')  # move to GPU\n",
    "testing_params_cuda = torch.real(testing_params_cuda)\n",
    "i = 5\n",
    "plot_refl_curve(testing_params_cuda,restored_predictions, i)\n",
    "print(\"Actual thickness \", testing_params_cuda[i,:num_layers])\n",
    "print(\"Prediction thickness \", restored_predictions[i,:num_layers])\n",
    "print(\"Actual SLD \", testing_params_cuda[i,num_layers*2+1:])\n",
    "print(\"Prediction SLD \", restored_predictions[i,num_layers*2+1:])"
   ]
  },
  {
   "cell_type": "code",
   "execution_count": 507,
   "metadata": {},
   "outputs": [
    {
     "name": "stdout",
     "output_type": "stream",
     "text": [
      "Actual thicknesses: tensor([310.8995, 283.2826], device='cuda:0', dtype=torch.float64)\n",
      "Actual roughnesses: tensor([29.9660,  2.3792, 45.0874], device='cuda:0', dtype=torch.float64)\n",
      "Actual layer SLDs: tensor([2.2724e-05, 1.1277e-04, 1.3373e-04], device='cuda:0',\n",
      "       dtype=torch.float64)\n",
      "Predicted thicknesses: tensor([162.9769, 429.1067], device='cuda:0')\n",
      "Predicted roughnesses: tensor([ 0.0000,  0.0000, 20.5718], device='cuda:0')\n",
      "Predicted layer SLDs: tensor([-1.2005e-04,  3.8963e-05,  1.1310e-04], device='cuda:0')\n",
      "Thickness loss: 98.175096\n",
      "Roughness loss: 87.823847\n",
      "SLD loss: 236.345694\n",
      "Total loss: 422.344637\n"
     ]
    }
   ],
   "source": [
    "pred_idx = 5\n",
    "print(f'Actual thicknesses: {testing_params_cuda[pred_idx,:num_layers]}')\n",
    "print(f'Actual roughnesses: {testing_params_cuda[pred_idx,num_layers:num_layers*2+1]}')\n",
    "print(f'Actual layer SLDs: {testing_params_cuda[pred_idx,num_layers*2+1:]}')\n",
    "\n",
    "print(f'Predicted thicknesses: {eval_thicknesses[pred_idx]}')\n",
    "print(f'Predicted roughnesses: {eval_roughnesses[pred_idx]}')\n",
    "print(f'Predicted layer SLDs: {eval_slds[pred_idx]}')\n",
    "\n",
    "def loss(pred, true):\n",
    "    percentage_error = torch.abs((true - pred) / (true + 1e-8))\n",
    "    return torch.mean(percentage_error) * 100\n",
    "\n",
    "\n",
    "def evaluate_model(pred_thickness, true_thickness,\n",
    "                   pred_roughness, true_roughness,\n",
    "                   pred_sld, true_sld):\n",
    "    loss_thickness = loss(pred_thickness, true_thickness)\n",
    "    loss_roughness = loss(pred_roughness, true_roughness)\n",
    "    loss_sld = loss(pred_sld, true_sld)\n",
    "\n",
    "    print(f\"Thickness loss: {loss_thickness:.6f}\")\n",
    "    print(f\"Roughness loss: {loss_roughness:.6f}\")\n",
    "    print(f\"SLD loss: {loss_sld:.6f}\")\n",
    "\n",
    "    return loss_thickness, loss_roughness, loss_sld\n",
    "\n",
    "loss_t, loss_r, loss_s = evaluate_model(\n",
    "    eval_thicknesses, testing_params_cuda[:,:num_layers],\n",
    "    eval_roughnesses, testing_params_cuda[:,num_layers:num_layers*2+1],\n",
    "    eval_slds, testing_params_cuda[:,num_layers*2+1:]\n",
    ")\n",
    "\n",
    "total_loss = loss_t+ loss_r+ loss_s\n",
    "print(f\"Total loss: {total_loss:.6f}\")"
   ]
  },
  {
   "cell_type": "markdown",
   "metadata": {},
   "source": [
    ":::{tip}\n",
    ":class: dropdown\n",
    "\n",
    "The saved weights can be loaded into a compatible neural network (`net`) as:\n",
    "\n",
    "```python\n",
    "saved_dict = torch.load(save_path)\n",
    "model_state_dict = saved_dict['model']\n",
    "net.load_state_dict(model_state_dict)\n",
    "```\n",
    "\n",
    ":::"
   ]
  },
  {
   "cell_type": "markdown",
   "metadata": {},
   "source": [
    "The model state dictionaries of all the saved '.pt' files in a directory can be further converted to the '.safetensors' format for exporting to Huggingface using the `convert_pt_to_safetensors` method."
   ]
  },
  {
   "cell_type": "markdown",
   "metadata": {},
   "source": [
    "### Training from the terminal"
   ]
  },
  {
   "cell_type": "markdown",
   "metadata": {},
   "source": [
    "Above we described the workflow for training a model in a Jupyter Notebook, where we loaded the trainer from the configuration file but defined the callbacks manually. Alternatively, one can train a model from the terminal (in this case the callbacks defined in the configuration file are used):\n",
    "\n",
    "```bash\n",
    "python -m reflectorch.train config_name\n",
    "``` \n"
   ]
  },
  {
   "cell_type": "markdown",
   "metadata": {},
   "source": [
    "## Customizing the YAML configuration for training"
   ]
  },
  {
   "cell_type": "markdown",
   "metadata": {
    "tags": []
   },
   "source": [
    "In the following we show how the YAML configuration file can be customized."
   ]
  },
  {
   "cell_type": "markdown",
   "metadata": {},
   "source": [
    "```{dropdown} Sample YAML configuration\n",
    "```yaml\n",
    "\n",
    "general:\n",
    "  name: a_base_point_xray_conv_standard\n",
    "  root_dir: null\n",
    "  \n",
    "dset:\n",
    "  cls: ReflectivityDataLoader\n",
    "  prior_sampler:\n",
    "    cls: SubpriorParametricSampler\n",
    "    kwargs:\n",
    "      param_ranges:\n",
    "        thicknesses: [1., 500.]\n",
    "        roughnesses: [0., 60.]\n",
    "        slds: [0., 50.]\n",
    "      bound_width_ranges:\n",
    "        thicknesses: [1.0e-2, 500.]\n",
    "        roughnesses: [1.0e-2, 60.]\n",
    "        slds: [1.0e-2, 5.]\n",
    "      model_name: standard_model\n",
    "      max_num_layers: 2\n",
    "      constrained_roughness: true\n",
    "      max_thickness_share: 0.5\n",
    "      logdist: false\n",
    "      scale_params_by_ranges: false\n",
    "      scaled_range: [-1., 1.]\n",
    "      device: 'cuda'\n",
    "      \n",
    "  q_generator:\n",
    "    cls: ConstantQ\n",
    "    kwargs:\n",
    "      q: [0.02, 0.15, 128]\n",
    "      device: 'cuda'\n",
    "      \n",
    "  intensity_noise:\n",
    "    cls: GaussianExpIntensityNoise\n",
    "    kwargs:\n",
    "      relative_errors: [0.01, 0.3]\n",
    "      consistent_rel_err: false\n",
    "      apply_shift: true\n",
    "      shift_range: [-0.3, 0.3]\n",
    "      add_to_context: true\n",
    "\n",
    "  curves_scaler:\n",
    "    cls: LogAffineCurvesScaler\n",
    "    kwargs:\n",
    "      weight: 0.2\n",
    "      bias: 1.0\n",
    "      eps: 1.0e-10\n",
    "\n",
    "model:\n",
    "  network:\n",
    "    cls: NetworkWithPriors\n",
    "    pretrained_name: null\n",
    "    device: 'cuda'\n",
    "    kwargs:\n",
    "      embedding_net_type: 'conv'\n",
    "      embedding_net_kwargs:\n",
    "        in_channels: 1\n",
    "        hidden_channels: [32, 64, 128, 256, 512]\n",
    "        kernel_size: 3\n",
    "        dim_embedding: 128\n",
    "        dim_avpool: 1\n",
    "        use_batch_norm: true\n",
    "        use_se: false\n",
    "        activation: 'gelu'\n",
    "      pretrained_embedding_net: null\n",
    "      dim_out: 8\n",
    "      dim_conditioning_params: 0\n",
    "      layer_width: 512\n",
    "      num_blocks: 8\n",
    "      repeats_per_block: 2\n",
    "      residual: true\n",
    "      use_batch_norm: true\n",
    "      use_layer_norm: false\n",
    "      mlp_activation: 'gelu'\n",
    "      dropout_rate: 0.0 \n",
    "      conditioning: 'film'\n",
    "      concat_condition_first_layer: false\n",
    "       \n",
    "training:\n",
    "  trainer_cls: PointEstimatorTrainer\n",
    "  num_iterations: 10000\n",
    "  batch_size: 4096\n",
    "  lr: 1.0e-3\n",
    "  grad_accumulation_steps: 1\n",
    "  clip_grad_norm_max: null\n",
    "  update_tqdm_freq: 1\n",
    "  optimizer: AdamW\n",
    "  trainer_kwargs:\n",
    "    train_with_q_input: false\n",
    "    condition_on_q_resolutions: false\n",
    "    rescale_loss_interval_width: true\n",
    "    use_l1_loss: true\n",
    "    optim_kwargs:\n",
    "      betas: [0.9, 0.999]\n",
    "      weight_decay: 0.0005\n",
    "  callbacks:\n",
    "    save_best_model:\n",
    "      enable: true\n",
    "      freq: 500\n",
    "    lr_scheduler:\n",
    "      cls: CosineAnnealingWithWarmup\n",
    "      kwargs:\n",
    "        min_lr: 1.0e-6\n",
    "        warmup_iters: 500\n",
    "        total_iters: 10000\n",
    "\n",
    "  logger:\n",
    "    cls: TensorBoardLogger\n",
    "    kwargs:\n",
    "      log_dir: \"tensorboard_runs/test_1\"\n",
    "```"
   ]
  },
  {
   "cell_type": "markdown",
   "metadata": {},
   "source": [
    "The `general` key, contains the following subkeys:\n",
    "\n",
    "- `name` - name used for saving the model\n",
    "- `root` - path to the root directory, defaults to the package directory"
   ]
  },
  {
   "cell_type": "markdown",
   "metadata": {
    "tags": []
   },
   "source": [
    "```yaml\n",
    "general:\n",
    "  name: a_base_point_xray_conv_standard\n",
    "  root_dir: null\n",
    "```"
   ]
  },
  {
   "cell_type": "markdown",
   "metadata": {},
   "source": [
    "The `dset` key defines the settings pertaining to the data generation (i.e. the SLD profile parameterization, the ranges of the thin film parameters, the q values, the noise added to the reflectivity curves and the scaling of the reflectivity curves). It has the following subkeys:"
   ]
  },
  {
   "cell_type": "markdown",
   "metadata": {},
   "source": [
    "1. `cls` (*optional*) - the class of the data loader. If not provided, the default class `ReflectivityDataLoader` is used."
   ]
  },
  {
   "cell_type": "markdown",
   "metadata": {},
   "source": [
    "2. `prior_sampler` - responsible for defining the type of SLD parameterization, the ranges from which the thin film parameters are sampled and the ranges from which the widths of the prior bounds are sampled. The `SubpriorParametricSampler` class first samples a center (**C**) from the parameter ranges and a width (**W**) from the bound width ranges. This defines a subinterval delimited by the minimum prior bound **B_min** = **C** - **W**/2 and the maximum prior bound **B_max** = **C** + **W**/2. Then, the values of the parameters (to be used for simulating the reflectivity curves and as ground truth) are uniformly sampled within the interval [**B_min**, **B_max**]. It has the following keyword arguments:\n",
    "- `model_name` - name associated with the type of SLD parameterization. Here, `standard_model` represents the standard box model parameterization of the SLD with the parameters thickness, roughness and real layer SLD.\n",
    "- `max_num_layers` - the number of layers in the thin film (in addition to the substrate)\n",
    "- `param_ranges` - the ranges from which the values of each type of thin film parameter are uniformly sampled (for the standard model `thicknesses`, `roughnesses` and `slds`) \n",
    "- `bound_width_ranges` - the ranges from which the prior bound widths of each type of thin film parameter are uniformly sampled. If the argument `logdist` is set to `true`, the prior bound widths are sampled uniformly on a logarithmic scale instead, biasing the training towards smaller prior bound widths.\n",
    "- `constrained_roughness` - if `true` the sampling of the roughness parameters is constrained such that the roughness of an interface between two layers does not exceed a fraction (defined by the argument `max_thickness_share`) of the thickness of either one of those layers.\n",
    "- `max_total_thickness` (optional) - if provided, the sampling is performed such that the sum of the sampled layer thicknesses does not exceed this value\n",
    "- `scale_params_by_ranges` - if `true` the parameters are scaled with respect to their ranges, otherwise they are scaled with respect to their subprior bound interval. The default is `false`.\n",
    "- `scaled_range` - the ML-friendly range to which the parameters (and prior bounds) are scaled to, the default is [-1, 1]\n",
    "- `device` - default is `'cuda'` for GPU use, can be changed to `'cpu'` for CPU use"
   ]
  },
  {
   "cell_type": "markdown",
   "metadata": {},
   "source": [
    "```{figure} FigureReflectometryNetwork.png\n",
    ":scale: 25\n",
    ":align: center\n",
    ":name: figure_reflectometry_network\n",
    "(a) Parameter sampling process (b) Neural network architecture\n",
    "```"
   ]
  },
  {
   "cell_type": "markdown",
   "metadata": {},
   "source": [
    "```yaml\n",
    "dset:\n",
    "  cls: ReflectivityDataLoader\n",
    "  prior_sampler:\n",
    "    cls: SubpriorParametricSampler\n",
    "    kwargs:\n",
    "      param_ranges:\n",
    "        thicknesses: [1., 500.]\n",
    "        roughnesses: [0., 60.]\n",
    "        slds: [0., 50.]\n",
    "      bound_width_ranges:\n",
    "        thicknesses: [1.0e-2, 500.]\n",
    "        roughnesses: [1.0e-2, 60.]\n",
    "        slds: [1.0e-2, 5.]\n",
    "      model_name: standard_model\n",
    "      max_num_layers: 2\n",
    "      constrained_roughness: true\n",
    "      max_thickness_share: 0.5\n",
    "      logdist: false\n",
    "      scale_params_by_ranges: false\n",
    "      scaled_range: [-1., 1.]\n",
    "      device: 'cuda'\n",
    "```"
   ]
  },
  {
   "cell_type": "markdown",
   "metadata": {},
   "source": [
    "3. `q_generator` - responsible for generating the transfer vector (q) values at which the reflectivity is to be simulated. We must first specifiy its class. The `ConstantQ` class generates a fixed discretization for all the reflectivity curves in the batch. Its `q` keyword argument is a tuple formatted as *[q_min, q_max, num_q_points]*, which defines the minimum q value, the maximum q value as well as the number of points (including the interval boundaries) to be equidistantly sampled. Other q generator classes are available such as `VariableQ` (equidistant grid with variable *q_min*, *q_max* and *num_q_points*, further described in the *Advanced functionality* section) and `ConstantAngle` which generates the grid of q values based on equidistantlly sampled scattering angles and the wavelength of the beam. The `device` argument can be changed to `'cpu'` for CPU use (default is `'cuda'` for GPU use)."
   ]
  },
  {
   "cell_type": "markdown",
   "metadata": {},
   "source": [
    "```yaml\n",
    "\n",
    "dset:\n",
    "  q_generator:\n",
    "    cls: ConstantQ\n",
    "    kwargs:\n",
    "      q: [0.02, 0.15, 128]\n",
    "      device: 'cuda'\n",
    "      \n",
    "```      "
   ]
  },
  {
   "cell_type": "markdown",
   "metadata": {},
   "source": [
    "4. `q_noise` (*optional*) - responsible for adding noise to the generated q values, which emulates possible measurement errors due to sample misalignment. The `BasicQNoiseGenerator` class can add both systematic q shifts (the same change applied to all q points of a curve) and random noise (different changes applied to each q point of a curve) to the q values of the batch of curves, it has the following arguments:\n",
    "- `shift_std` - the standard deviation of the normal distribution for sampling the systematic q shifts (one value sampled per curve in the batch)\n",
    "- `noise_std` - the standard deviation of the normal distribution for sampling the random q noise (one value sampled per point in the curve). The standard deviation is the same for all curves in the batch if provided as a float, or uniformly sampled from a range for each curve in the batch if provided as a tuple."
   ]
  },
  {
   "cell_type": "markdown",
   "metadata": {},
   "source": [
    "```yaml\n",
    "dset:\n",
    "  q_noise:\n",
    "    cls: BasicQNoiseGenerator\n",
    "    kwargs:\n",
    "      shift_std: 1.0e-3\n",
    "      noise_std: [0., 1.0e-3]\n",
    "```"
   ]
  },
  {
   "cell_type": "markdown",
   "metadata": {},
   "source": [
    "5. `intensity_noise` - responsible for adding noise to the intensity values of the reflectivity curves.\n",
    "\n",
    "    The `GaussianExpIntensityNoise` combines three types of noise:\n",
    "    - Gaussian noise: Applies Gaussian noise to account for count-based Poisson noise as well as other sources of error.\n",
    "    - Shift noise: Applies a multiplicative scaling to the curves, equivalent to a vertical shift in logarithmic space.\n",
    "    - Background noise: Adds a constant background to the curves.\n",
    "\n",
    "    It has the following arguments:\n",
    "    - `relative_errors` - range of relative errors for Gaussian noise.\n",
    "    - `consistent_rel_err` - if `true`, uses a consistent relative error for Gaussian noise across all points in a curve.\n",
    "    - `apply_shift` - if `true`, applies shift noise to the curves.\n",
    "    - `shift_range` - range of shift factors for shift noise.\n",
    "    - `apply_background` - if `true`, applies background noise to the curves.\n",
    "    - `background_range` - range for background values."
   ]
  },
  {
   "cell_type": "markdown",
   "metadata": {},
   "source": [
    "```yaml\n",
    "intensity_noise:\n",
    "  cls: GaussianExpIntensityNoise\n",
    "  kwargs:\n",
    "    relative_errors: [0.01, 0.3]\n",
    "    consistent_rel_err: false\n",
    "    apply_shift: true\n",
    "    shift_range: [-0.3, 0.3]\n",
    "    apply_background: false\n",
    "    background_range: [1.0e-10, 1.0e-4]\n",
    "    add_to_context: true\n",
    "```"
   ]
  },
  {
   "cell_type": "markdown",
   "metadata": {},
   "source": [
    "6. `smearing` (*optional*) - responsible for adding resolution smearing to the curves (which can occur in neutron experiments due to uncertainties in incident angle  or wavelength). The intensity at a q point will be the average of the intensities of neighbouring q points, weighted by a gaussian profile. The arguments of the `Smearing` class are:\n",
    "- `sigma_range` - the range for sampling the resolutions\n",
    "- `constant_dq` - if `True` the smearing is constant (the resolution is given by the constant dq at each point in the curve, i.e. x-ray variant), otherwise the smearing is linear (the resolution is given by the constant dq/q at each point in the curve, i.e. neutron variant)\n",
    "- `gauss_num` - the number of points used to define the Gaussian smearing kernel. A higher number increases precision at the cost of computational efficiency.\n",
    "- `share_smeared` - the share of curves in the batch for which the resolution smearing is applied"
   ]
  },
  {
   "cell_type": "markdown",
   "metadata": {},
   "source": [
    "```yaml\n",
    "dset:   \n",
    "  smearing:\n",
    "    cls: Smearing\n",
    "    kwargs:\n",
    "      sigma_range: [0.01, 0.08]\n",
    "      constant_dq: False\n",
    "      gauss_num: 17\n",
    "      share_smeared: 0.8\n",
    "```"
   ]
  },
  {
   "cell_type": "markdown",
   "metadata": {},
   "source": [
    "7. `curves_scaler` - responsible for scaling the reflectivity curves to a ML-friendly range. The `LogAffineCurvesScaler` class scales the reflectivity curves (R) accoring to the formula: \n",
    "\n",
    "$R_{scaled} = log_{10}(R + eps) \\times weight + bias$\n",
    "\n",
    "The argument `eps` sets the minimum intensity value of the reflectivity curves which is considered. The default values of 1.0e-10 for `eps`, 0.2 for `weight` and 1.0 for `bias` results in the interval [-1, 1] for the scaled reflectivity curves. "
   ]
  },
  {
   "cell_type": "markdown",
   "metadata": {},
   "source": [
    "```yaml\n",
    "dset:    \n",
    "  curves_scaler:\n",
    "    cls: LogAffineCurvesScaler\n",
    "    kwargs:\n",
    "      weight: 0.2\n",
    "      bias: 1.0\n",
    "      eps: 1.0e-10\n",
    "```"
   ]
  },
  {
   "cell_type": "markdown",
   "metadata": {},
   "source": [
    "The `model` key defines the neural network architecture. Its `network` subkey contains the following subkeys:\n",
    "\n",
    "- `cls` - the class of the neural network\n",
    "- `pretrained_name` - the name of a pretrained model used to initialize the weights (optional)\n",
    "- `device` - the Pytorch device (either `cuda` or `cpu`)\n",
    "- `kwargs` - the keyword arguments for the provided class"
   ]
  },
  {
   "cell_type": "markdown",
   "metadata": {},
   "source": [
    "The `NetworkWithPriors` class has the following keyword arguments:\n",
    "- `embedding_net_type` - the type of embedding network (e.g. `'conv'` for a 1D CNN, `'fno'` for a FNO)\n",
    "- `embedding_net_kwargs` - the keyword arguments corresponding to the chosen embedding network (e.g. for the 1D CNN: `in_channels` - the number of input channels of the 1D CNN, `hidden_channels` - list with the number of channels for each layer of the 1D CNN, `dim_embedding` - the dimension of the embedding produced by the 1D CNN, `dim_avpool` - the output size of the adaptive average pooling layer, `activation` - the type of activation function in the 1D CNN)\n",
    "- `pretrained_embedding_net` - the path to the weights of a pretrained embedding network (optional)\n",
    "- `dim_out` - the dimension of the output produced by the MLP (i.e. the number of thin film parameters to be predicted)\n",
    "- `dim_conditioning_params` - the dimension of extra parameters used as input to the network in specific training scenarios (such as the resolution coefficient dq/q), defaults to 0.\n",
    "- `layer_width` - the width (i.e. number of neurons) of a linear layer in the MLP\n",
    "- `num_blocks` - the number of residual blocks in the MLP\n",
    "- `repeats_per_block` - the number of normalization/activation/linear repeats in a block\n",
    "- `use_batch_norm` - whether to use batch normalization in the MLP\n",
    "- `use_layer_norm` - whether to use layer normalization in the MLP (if batch normalization is not used)\n",
    "- `mlp_activation` - the type of activation function in the MLP\n",
    "- `dropout_rate` - dropout rate for each block\n",
    "- `conditioning` - the modality in which the prior bounds are provided to the network, either by concatenating the prior bounds to the data embedding ( `'concat'`) before the MLP or by modulating the intermediated features in each block of the MLP via [FiLM](https://arxiv.org/abs/1709.07871) layers (`'film'`) or [GLU](https://pytorch.org/docs/stable/generated/torch.nn.GLU.html) layers (`'glu'`). If `concat_condition_first_layer` is `true`, the concatenation is performed even when `'film'` or `'glu'` are used.\n"
   ]
  },
  {
   "cell_type": "markdown",
   "metadata": {
    "tags": []
   },
   "source": [
    "```yaml\n",
    "\n",
    "model:\n",
    "  network:\n",
    "    cls: NetworkWithPriors\n",
    "    pretrained_name: null\n",
    "    device: 'cuda'\n",
    "    kwargs:\n",
    "      embedding_net_type: 'conv'\n",
    "      embedding_net_kwargs:\n",
    "        in_channels: 1\n",
    "        hidden_channels: [32, 64, 128, 256, 512]\n",
    "        kernel_size: 3\n",
    "        dim_embedding: 128\n",
    "        dim_avpool: 1\n",
    "        use_batch_norm: true\n",
    "        activation: 'gelu'\n",
    "      pretrained_embedding_net: null\n",
    "      dim_out: 8\n",
    "      dim_conditioning_params: 0\n",
    "      layer_width: 512\n",
    "      num_blocks: 8\n",
    "      repeats_per_block: 2\n",
    "      residual: true\n",
    "      use_batch_norm: true\n",
    "      use_layer_norm: false\n",
    "      mlp_activation: 'gelu'\n",
    "      dropout_rate: 0.0 \n",
    "      conditioning: 'film' # 'concat', 'glu', 'film'\n",
    "      concat_condition_first_layer: false\n",
    "  \n",
    "```"
   ]
  },
  {
   "cell_type": "markdown",
   "metadata": {},
   "source": [
    "The `training` key can be used to customize the training settings:\n",
    "\n",
    "- `trainer_cls` - the class of the trainer (by default `PointEstimatorTrainer`)\n",
    "- `num_iterations` - the total number of training iterations\n",
    "- `batch_size` - the batch size (number of curves generated at each iteration)\n",
    "- `lr` - the initial learning rate\n",
    "- `grad_accumulation_steps` - if larger than 1, training is performed using gradient accumulation with the chosen number of steps\n",
    "- `clip_grad_norm_max` - the maximum norm for gradient clipping (optional)\n",
    "- `update_tqdm_freq` - the frequency for updating the [tqdm progress bar](https://tqdm.github.io/)\n",
    "- `optimizer` - the used [Pytorch optimizer](https://pytorch.org/docs/stable/optim). Default is `AdamW`\n",
    "- `trainer_kwargs` - additional trainer keyword arguments. Can be used to specify optional inputs to the network, such as the q values (`train_with_q_input`) or the resolution coefficient (`condition_on_q_resolutions`). Can also be used for setting the optimizer keyword arguments (`optim_kwargs`).\n",
    "- `callbacks` - (optional) the callback classes together with their keyword arguments.\n",
    "- `logger` - (optional) a Tensorboard logger for monitoring the progress of the training."
   ]
  },
  {
   "cell_type": "markdown",
   "metadata": {},
   "source": [
    "```yaml\n",
    "\n",
    "training:\n",
    "  trainer_cls: PointEstimatorTrainer\n",
    "  num_iterations: 100000\n",
    "  batch_size: 4096\n",
    "  lr: 1.0e-3\n",
    "  grad_accumulation_steps: 1\n",
    "  clip_grad_norm_max: null\n",
    "  update_tqdm_freq: 1\n",
    "  optimizer: AdamW\n",
    "  trainer_kwargs:\n",
    "    train_with_q_input: false\n",
    "    condition_on_q_resolutions: false\n",
    "    rescale_loss_interval_width: true\n",
    "    use_l1_loss: true\n",
    "    optim_kwargs:\n",
    "      betas: [0.9, 0.999]\n",
    "      weight_decay: 0.0005\n",
    "  callbacks:\n",
    "    save_best_model:\n",
    "      enable: true\n",
    "      freq: 500\n",
    "    lr_scheduler:\n",
    "      cls: StepLR\n",
    "      kwargs:\n",
    "        step_size: 20000\n",
    "        gamma: 0.5\n",
    "  logger:\n",
    "    cls: TensorBoardLogger\n",
    "    kwargs:\n",
    "      log_dir: \"tensorboard_runs/test_1\"\n",
    "     \n",
    "```"
   ]
  }
 ],
 "metadata": {
  "kernelspec": {
   "display_name": "Python 3 (ipykernel)",
   "language": "python",
   "name": "python3"
  },
  "widgets": {
   "application/vnd.jupyter.widget-state+json": {
    "state": {},
    "version_major": 2,
    "version_minor": 0
   }
  }
 },
 "nbformat": 4,
 "nbformat_minor": 4
}
